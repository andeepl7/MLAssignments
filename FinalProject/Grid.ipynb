{
 "cells": [
  {
   "cell_type": "code",
   "execution_count": null,
   "id": "faa5a1e5",
   "metadata": {},
   "outputs": [],
   "source": [
    "import os\n",
    "import pandas as pd\n",
    "import numpy as np\n",
    "import librosa\n",
    "import soundfile as sf\n",
    "from tensorflow.keras.models import Sequential\n",
    "from tensorflow.keras.layers import Dense, Dropout, Activation, Flatten\n",
    "from tensorflow.keras.optimizers import Adam\n",
    "from sklearn.preprocessing import LabelEncoder\n",
    "from tensorflow.keras.utils import to_categorical\n",
    "from sklearn.model_selection import train_test_split, GridSearchCV\n",
    "from tensorflow.keras.wrappers.scikit_learn import KerasClassifier"
   ]
  },
  {
   "cell_type": "code",
   "execution_count": null,
   "id": "3c1dd1c4",
   "metadata": {},
   "outputs": [],
   "source": [
    "#Global parameters\n",
    "language_dic = {\"it\" : \"Italian\", \"es\" : \"Spanish\"}\n",
    "analysis_window_length = 0.01  # 10 ms in seconds\n",
    "language_mp3_path = \"/Users/Andee/Documents/CBS - Data Science/Second Semester/Machine Learning/Assignments/MLAssignments/FinalProject/languages\"\n",
    "min_clip = 1.3035\n",
    "x_seconds = 5\n",
    "num_reps = int(np.ceil(x_seconds / min_clip))"
   ]
  },
  {
   "cell_type": "code",
   "execution_count": null,
   "id": "38fbcf7e",
   "metadata": {},
   "outputs": [],
   "source": [
    "# Function to repeat the audio for a fixed length\n",
    "def repeat_audio_x_seconds(track, dur, num_repeats=10, fs=16000):\n",
    "    num_samples_xs = int(fs * dur)\n",
    "    track = np.concatenate([track]*num_repeats, axis=0)\n",
    "    track = track[0:num_samples_xs]\n",
    "    return track"
   ]
  },
  {
   "cell_type": "code",
   "execution_count": null,
   "id": "fb7bb5d7",
   "metadata": {},
   "outputs": [],
   "source": [
    "# Data Loading and Feature Extraction\n",
    "data = {\"filename\": [], \"language\": [], \"tracks\": [], \"mfccs\": []}\n",
    "language_list = os.listdir(language_mp3_path)\n",
    "\n",
    "for language in language_list:\n",
    "    language_path = os.path.join(language_mp3_path, language)\n",
    "    if not os.path.isdir(language_path):\n",
    "        continue\n",
    "\n",
    "    language_name = language_dic.get(language, \"Unknown language!\")\n",
    "    clips_path = os.path.join(language_path, \"clips\")\n",
    "\n",
    "    if not os.path.isdir(clips_path):\n",
    "        print(f\"No 'clips' directory found in {language_path}\")\n",
    "        continue\n",
    "\n",
    "    mp3_list = os.listdir(clips_path)[:200]  # limit the number of mp3 files processed\n",
    "\n",
    "    for mp3 in mp3_list:\n",
    "        data[\"filename\"].append(mp3)\n",
    "        data[\"language\"].append(language_name)\n",
    "\n",
    "        audio_path = os.path.join(clips_path, mp3)\n",
    "        audio_samples, fs = sf.read(audio_path)\n",
    "        audio_samples = repeat_audio_x_seconds(audio_samples, x_seconds, num_repeats=num_reps, fs=fs)\n",
    "        data[\"tracks\"].append(audio_samples)\n",
    "\n",
    "        y = audio_samples\n",
    "        sr = fs\n",
    "        hop_length = int(analysis_window_length * sr)\n",
    "        mfcc = librosa.feature.mfcc(y=y, sr=sr, n_mfcc=128, hop_length=hop_length)\n",
    "        mfccs_scaled_features = np.mean(mfcc.T,axis=0)\n",
    "        data[\"mfccs\"].append(mfccs_scaled_features)\n",
    "\n",
    "df = pd.DataFrame(data)"
   ]
  },
  {
   "cell_type": "code",
   "execution_count": null,
   "id": "6e78e868",
   "metadata": {},
   "outputs": [],
   "source": [
    "# Prepare data for model\n",
    "X = np.array(df['mfccs'].tolist())\n",
    "y = to_categorical(LabelEncoder().fit_transform(np.array(df['language'].tolist())))\n",
    "\n",
    "# Split data into train and test sets\n",
    "X_train, X_test, y_train, y_test = train_test_split(X, y, random_state=42, train_size=0.8)"
   ]
  },
  {
   "cell_type": "code",
   "execution_count": null,
   "id": "8e2aa06c",
   "metadata": {},
   "outputs": [],
   "source": [
    "# Define the model architecture\n",
    "def create_model():\n",
    "    model = Sequential()\n",
    "    model.add(Dense(100,input_shape=(128,)))\n",
    "    model.add(Activation('relu'))\n",
    "    model.add(Dropout(0.5))\n",
    "    model.add(Dense(200))\n",
    "    model.add(Activation('relu'))\n",
    "    model.add(Dropout(0.5))\n",
    "    model.add(Dense(100))\n",
    "    model.add(Activation('relu'))\n",
    "    model.add(Dropout(0.5))\n",
    "    model.add(Dense(y.shape[1]))  # number of classes\n",
    "    model.add(Activation('softmax'))\n",
    "\n",
    "    model.compile(loss='categorical_crossentropy', metrics=['accuracy'], optimizer='Adam')\n",
    "    return model"
   ]
  },
  {
   "cell_type": "code",
   "execution_count": null,
   "id": "f696f9e3",
   "metadata": {},
   "outputs": [],
   "source": [
    "# Create the Keras classifier\n",
    "model = KerasClassifier(build_fn=create_model, verbose=0)\n",
    "\n",
    "# Define the grid search parameters\n",
    "param_grid = {'batch_size': [10, 20, 30, 40, 50, 60, 70, 80, 90, 100],\n",
    "              'epochs': [10, 20, 30, 40, 50, 60, 70, 80, 90, 100],\n",
    "              'optimizer': ['SGD', 'RMSprop', 'Adagrad', 'Adadelta', 'Adam', 'Adamax', 'Nadam']}\n",
    "\n",
    "# Create Grid Search\n",
    "grid = GridSearchCV(estimator=model, param_grid=param_grid, n_jobs=-1, cv=3)\n",
    "grid_result = grid.fit(X_train, y_train)"
   ]
  },
  {
   "cell_type": "code",
   "execution_count": null,
   "id": "ced8be13",
   "metadata": {},
   "outputs": [],
   "source": [
    "# Summarize results\n",
    "print(\"Best: %f using %s\" % (grid_result.best_score_, grid_result.best_params_))\n",
    "\n",
    "# Evaluate the model with the test data\n",
    "test_accuracy = grid.score(X_test, y_test)\n",
    "print(\"Test accuracy: \", test_accuracy)"
   ]
  }
 ],
 "metadata": {
  "kernelspec": {
   "display_name": "Python 3 (ipykernel)",
   "language": "python",
   "name": "python3"
  },
  "language_info": {
   "codemirror_mode": {
    "name": "ipython",
    "version": 3
   },
   "file_extension": ".py",
   "mimetype": "text/x-python",
   "name": "python",
   "nbconvert_exporter": "python",
   "pygments_lexer": "ipython3",
   "version": "3.9.13"
  }
 },
 "nbformat": 4,
 "nbformat_minor": 5
}
