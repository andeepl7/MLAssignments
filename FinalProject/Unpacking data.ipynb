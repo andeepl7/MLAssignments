{
 "cells": [
  {
   "cell_type": "markdown",
   "source": [
    "# STEP 1 Decompress data"
   ],
   "metadata": {
    "collapsed": false
   }
  },
  {
   "cell_type": "markdown",
   "source": [
    "### In this section, we are unpacking the files downloaded in Commonvoice\n",
    "https://commonvoice.mozilla.org/"
   ],
   "metadata": {
    "collapsed": false
   }
  },
  {
   "cell_type": "code",
   "execution_count": 30,
   "outputs": [],
   "source": [
    "import tarfile\n",
    "import os"
   ],
   "metadata": {
    "collapsed": false
   }
  },
  {
   "cell_type": "code",
   "execution_count": 31,
   "outputs": [],
   "source": [
    " \"\"\"\n",
    "    This function decompresses '.tar' and '.tar.gz' files from a specified directory.\n",
    "    Each file is extracted to a new directory named after the file.\n",
    " \"\"\"\n",
    "\n",
    "def decompress_files(path):\n",
    "\n",
    "    files = os.listdir(path)\n",
    "\n",
    "    for file in files:\n",
    "        if file.endswith('.tar') or file.endswith('.tar.gz'):\n",
    "            print(f'Processing {file}')\n",
    "            dir_name = file.split(\".\")[0]\n",
    "            dest_path = os.path.join(path, dir_name)\n",
    "            os.makedirs(dest_path, exist_ok=True)\n",
    "            print(f'DEST PATH: {dest_path}')\n",
    "            with tarfile.open(os.path.join(path, file), 'r:gz' if file.endswith('.tar.gz') else 'r:') as tar_file:\n",
    "                # extracting file\n",
    "                tar_file.extractall(path=dest_path)\n",
    "                print(f'Extracted {file} in {dest_path}')\n",
    "        else:\n",
    "            print(f\"Skipping {file} because it's not a .tar or .tar.gz file.\")"
   ],
   "metadata": {
    "collapsed": false
   }
  },
  {
   "cell_type": "code",
   "execution_count": 32,
   "outputs": [],
   "source": [
    "#Change this path to your files directory\n",
    "path_todecompress = \"/Users/Andee/Documents/CBS - Data Science/Second Semester/Machine Learning/Assignments/MLAssignments/FinalProject\""
   ],
   "metadata": {
    "collapsed": false
   }
  },
  {
   "cell_type": "code",
   "execution_count": 28,
   "outputs": [],
   "source": [
    "# Uncommented if it is needed to decompress the files\n",
    "#decompress_files(path_todecompress)"
   ],
   "metadata": {
    "collapsed": false
   }
  }
 ],
 "metadata": {
  "kernelspec": {
   "display_name": "Python 3",
   "language": "python",
   "name": "python3"
  },
  "language_info": {
   "codemirror_mode": {
    "name": "ipython",
    "version": 2
   },
   "file_extension": ".py",
   "mimetype": "text/x-python",
   "name": "python",
   "nbconvert_exporter": "python",
   "pygments_lexer": "ipython2",
   "version": "2.7.6"
  }
 },
 "nbformat": 4,
 "nbformat_minor": 0
}
