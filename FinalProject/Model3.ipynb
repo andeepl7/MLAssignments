{
 "cells": [
  {
   "cell_type": "markdown",
   "id": "b8be734c",
   "metadata": {},
   "source": [
    "# STEP 3 Audio Preparation and Model\n"
   ]
  },
  {
   "cell_type": "code",
   "execution_count": 1,
   "id": "a611495d",
   "metadata": {
    "scrolled": true,
    "tags": []
   },
   "outputs": [],
   "source": [
    "import os\n",
    "import pandas as pd\n",
    "import numpy as np\n",
    "import librosa\n",
    "import soundfile as sf\n",
    "from tqdm.notebook import tqdm\n",
    "from scipy.stats import kurtosis"
   ]
  },
  {
   "cell_type": "code",
   "execution_count": 2,
   "id": "30d3d9cb",
   "metadata": {
    "collapsed": false,
    "jupyter": {
     "outputs_hidden": false
    },
    "tags": []
   },
   "outputs": [],
   "source": [
    "#Global parameters\n",
    "language_dic = {\"it\" : \"Italian\", \"es\" : \"Spanish\" , \"pt\": \"Portuguese\", \"ca\": \"Catalan\", \"fr\": \"French\", \"ro\": \"Romanian\"}\n",
    "analysis_window_length = 0.01  # 10 ms in seconds\n",
    "# language_mp3_path = \"/Users/Andee/Documents/CBS - Data Science/Second Semester/Machine Learning/Assignments/MLAssignments/FinalProject/languages\"\n",
    "language_mp3_path = \"/language_detector/languages\""
   ]
  },
  {
   "cell_type": "code",
   "execution_count": 3,
   "id": "d462bfa8",
   "metadata": {
    "collapsed": false,
    "is_executing": true,
    "jupyter": {
     "outputs_hidden": false
    },
    "tags": []
   },
   "outputs": [],
   "source": [
    "def get_mp3_filenames_under_duration(threshold: float) -> list:\n",
    "    mp3_list_under_duration = []\n",
    "    # get a list of all files in the folder\n",
    "    language_list = os.listdir(language_mp3_path)\n",
    "    for language in tqdm(language_list):\n",
    "        language_path = os.path.join(language_mp3_path, language)\n",
    "    clips_path = os.path.join(language_path, \"clips\")\n",
    "\n",
    "    mp3_list = os.listdir(clips_path)\n",
    "    mp3_list = mp3_list\n",
    "\n",
    "    for mp3 in tqdm(mp3_list):\n",
    "        audio_path = os.path.join(clips_path, mp3)\n",
    "        audio_samples, fs = sf.read(audio_path)\n",
    "        clip_duration = len(audio_samples)/fs\n",
    "        if clip_duration < threshold:\n",
    "            mp3_list_under_duration.append(mp3)\n",
    "    return mp3_list_under_duration\n"
   ]
  },
  {
   "cell_type": "code",
   "execution_count": 4,
   "id": "e1221022",
   "metadata": {
    "collapsed": false,
    "jupyter": {
     "outputs_hidden": false
    },
    "tags": []
   },
   "outputs": [],
   "source": [
    "# number of repeats defined by minimum duration: ceil(10 seconds / min duration)\n",
    "min_clip = 0.10115625\n",
    "x_seconds = 5\n",
    "num_reps = int(np.ceil(x_seconds / min_clip))\n",
    "def repeat_audio_x_seconds(track, dur, num_repeats=10, fs=16000):\n",
    "    num_samples_xs = int(fs * dur)\n",
    "    track = np.concatenate([track]*num_repeats, axis=0)\n",
    "    track = track[0:num_samples_xs]\n",
    "    return track"
   ]
  },
  {
   "cell_type": "code",
   "execution_count": 5,
   "id": "873f5a05",
   "metadata": {
    "collapsed": false,
    "jupyter": {
     "outputs_hidden": false
    },
    "pycharm": {
     "is_executing": true
    },
    "tags": []
   },
   "outputs": [
    {
     "data": {
      "application/vnd.jupyter.widget-view+json": {
       "model_id": "9a6f45f7d7644969947fe6cacf74a11a",
       "version_major": 2,
       "version_minor": 0
      },
      "text/plain": [
       "  0%|          | 0/6 [00:00<?, ?it/s]"
      ]
     },
     "metadata": {},
     "output_type": "display_data"
    },
    {
     "data": {
      "application/vnd.jupyter.widget-view+json": {
       "model_id": "3f26066a72524a5ba244adf1efaac7f4",
       "version_major": 2,
       "version_minor": 0
      },
      "text/plain": [
       "  0%|          | 0/8202 [00:00<?, ?it/s]"
      ]
     },
     "metadata": {},
     "output_type": "display_data"
    },
    {
     "data": {
      "application/vnd.jupyter.widget-view+json": {
       "model_id": "d301be293e1145eba7114ea27f0b29f4",
       "version_major": 2,
       "version_minor": 0
      },
      "text/plain": [
       "  0%|          | 0/15033 [00:00<?, ?it/s]"
      ]
     },
     "metadata": {},
     "output_type": "display_data"
    },
    {
     "data": {
      "application/vnd.jupyter.widget-view+json": {
       "model_id": "8461674e5f9f4386bcf3edf8e388d38c",
       "version_major": 2,
       "version_minor": 0
      },
      "text/plain": [
       "  0%|          | 0/37939 [00:00<?, ?it/s]"
      ]
     },
     "metadata": {},
     "output_type": "display_data"
    },
    {
     "data": {
      "application/vnd.jupyter.widget-view+json": {
       "model_id": "285e0cfa2377473b8d1c556f5fa04032",
       "version_major": 2,
       "version_minor": 0
      },
      "text/plain": [
       "  0%|          | 0/7477 [00:00<?, ?it/s]"
      ]
     },
     "metadata": {},
     "output_type": "display_data"
    },
    {
     "data": {
      "application/vnd.jupyter.widget-view+json": {
       "model_id": "1b830fc0875149b8a8cc2c691a06df85",
       "version_major": 2,
       "version_minor": 0
      },
      "text/plain": [
       "  0%|          | 0/17619 [00:00<?, ?it/s]"
      ]
     },
     "metadata": {},
     "output_type": "display_data"
    },
    {
     "data": {
      "application/vnd.jupyter.widget-view+json": {
       "model_id": "2518779934d64cb08bfe656e68cbafd9",
       "version_major": 2,
       "version_minor": 0
      },
      "text/plain": [
       "  0%|          | 0/120955 [00:00<?, ?it/s]"
      ]
     },
     "metadata": {},
     "output_type": "display_data"
    }
   ],
   "source": [
    "# data = {\"filename\": [],\"language\": [], \"mfccs\": [], \"mfccs_std_dev\": [], \"mfccs_kurtosis\": []}\n",
    "data = {\"filename\": [],\"language\": [], \"mfccs\": []}\n",
    "\n",
    "language_list = os.listdir(language_mp3_path)\n",
    "\n",
    "for language in tqdm(language_list):\n",
    "    language_path = os.path.join(language_mp3_path, language)\n",
    "\n",
    "    # Skip non-directory items\n",
    "    if not os.path.isdir(language_path):\n",
    "        continue\n",
    "\n",
    "    if language in language_dic:\n",
    "        language_name = language_dic[language]\n",
    "    else:\n",
    "        print(\"Unknown language!\")\n",
    "        language_name = language\n",
    "\n",
    "    clips_path = os.path.join(language_path, \"clips\")\n",
    "\n",
    "    # Check if the clips directory exists\n",
    "    if not os.path.isdir(clips_path):\n",
    "        print(f\"No 'clips' directory found in {language_path}\")\n",
    "        continue\n",
    "\n",
    "    # get a list of all files in the folder\n",
    "    mp3_list = os.listdir(clips_path)\n",
    "    mp3_list = mp3_list\n",
    "    len(mp3_list)\n",
    "    # looping through all mp3s in one language\n",
    "    for mp3 in tqdm(mp3_list):\n",
    "        # adding the filename as key\n",
    "        data[\"filename\"].append(mp3)\n",
    "        # adding the label/language\n",
    "        data[\"language\"].append(language_name)\n",
    "        # adding the clip\n",
    "        audio_path = os.path.join(clips_path, mp3)\n",
    "        audio_samples, fs = sf.read(audio_path)\n",
    "        audio_samples = repeat_audio_x_seconds(audio_samples, x_seconds, num_repeats=num_reps, fs=fs)\n",
    "        y = audio_samples\n",
    "        sr = fs\n",
    "        hop_length = int(analysis_window_length * sr)\n",
    "        mfcc = librosa.feature.mfcc(y=y, sr=sr, n_mfcc=128, hop_length=hop_length)\n",
    "        mfccs_scaled_features = np.mean(mfcc.T,axis=0)\n",
    "        data[\"mfccs\"].append(mfccs_scaled_features)\n",
    "        # mfccs_std_dev = np.std(mfcc.T, axis=0)\n",
    "        # mfccs_kurtosis = kurtosis(mfcc.T, fisher=False)\n",
    "        # data[\"mfccs_std_dev\"].append(mfccs_std_dev)\n",
    "        # data[\"mfccs_kurtosis\"].append(mfccs_kurtosis)"
   ]
  },
  {
   "cell_type": "code",
   "execution_count": 38,
   "id": "1803434b",
   "metadata": {
    "collapsed": false,
    "jupyter": {
     "outputs_hidden": false
    },
    "tags": []
   },
   "outputs": [
    {
     "name": "stdout",
     "output_type": "stream",
     "text": [
      "                       filename language  \\\n",
      "0  common_voice_it_35774121.mp3  Italian   \n",
      "1  common_voice_it_35270712.mp3  Italian   \n",
      "2  common_voice_it_35189998.mp3  Italian   \n",
      "3  common_voice_it_35109606.mp3  Italian   \n",
      "4  common_voice_it_36101669.mp3  Italian   \n",
      "\n",
      "                                               mfccs  \n",
      "0  [-554.3122417744288, 81.54106470066321, -1.879...  \n",
      "1  [-423.42635913453483, 80.7660700838481, 14.695...  \n",
      "2  [-285.1317102023066, 130.41032356911083, 26.76...  \n",
      "3  [-424.2795894411651, 165.94168126622026, 2.404...  \n",
      "4  [-392.3644450061149, 113.08899634524744, -35.5...  \n"
     ]
    },
    {
     "data": {
      "text/plain": [
       "(128,)"
      ]
     },
     "execution_count": 38,
     "metadata": {},
     "output_type": "execute_result"
    }
   ],
   "source": [
    "df = pd.DataFrame(data)\n",
    "print(df.head())\n",
    "df.mfccs[50].shape"
   ]
  },
  {
   "cell_type": "code",
   "execution_count": 39,
   "id": "bf358dcb",
   "metadata": {
    "collapsed": false,
    "jupyter": {
     "outputs_hidden": false
    },
    "tags": []
   },
   "outputs": [
    {
     "name": "stdout",
     "output_type": "stream",
     "text": [
      "The number of files loaded is: 207225, in 6 languages\n"
     ]
    }
   ],
   "source": [
    "#Check-point to see if all data was correctly loaded\n",
    "print(f'The number of files loaded is: {len(df[\"filename\"])}, in {df[\"language\"].nunique()} languages')"
   ]
  },
  {
   "cell_type": "code",
   "execution_count": 45,
   "id": "8fde0fb2",
   "metadata": {
    "collapsed": false,
    "jupyter": {
     "outputs_hidden": false
    },
    "tags": []
   },
   "outputs": [
    {
     "name": "stdout",
     "output_type": "stream",
     "text": [
      "(207225,)\n"
     ]
    }
   ],
   "source": [
    "print(df[\"mfccs\"].shape)\n",
    "X=np.array(df['mfccs'].tolist())\n",
    "y=np.array(df['language'].tolist())"
   ]
  },
  {
   "cell_type": "code",
   "execution_count": 46,
   "id": "6e1e8864",
   "metadata": {
    "collapsed": false,
    "jupyter": {
     "outputs_hidden": false
    },
    "tags": []
   },
   "outputs": [],
   "source": [
    "from sklearn.model_selection import train_test_split\n",
    "from sklearn.preprocessing import LabelEncoder\n",
    "from tensorflow.keras.utils import to_categorical\n",
    "labelencoder=LabelEncoder()\n",
    "y=to_categorical(labelencoder.fit_transform(y))"
   ]
  },
  {
   "cell_type": "code",
   "execution_count": 47,
   "id": "f5d2c195",
   "metadata": {
    "collapsed": false,
    "jupyter": {
     "outputs_hidden": false
    },
    "tags": []
   },
   "outputs": [
    {
     "name": "stdout",
     "output_type": "stream",
     "text": [
      "(165780, 128)\n",
      "(41445, 128)\n",
      "(165780, 6)\n",
      "(41445, 6)\n"
     ]
    }
   ],
   "source": [
    "# using the train test split function\n",
    "X_train, X_test, y_train, y_test = train_test_split(X,y ,\n",
    "                                                    random_state=42,\n",
    "                                                    train_size=0.8)\n",
    "print(X_train.shape)\n",
    "print(X_test.shape)\n",
    "print(y_train.shape)\n",
    "print(y_test.shape)"
   ]
  },
  {
   "cell_type": "markdown",
   "id": "df8e46fa",
   "metadata": {},
   "source": [
    "Model Creation"
   ]
  },
  {
   "cell_type": "code",
   "execution_count": 48,
   "id": "c67c1da1",
   "metadata": {
    "collapsed": false,
    "jupyter": {
     "outputs_hidden": false
    },
    "tags": []
   },
   "outputs": [],
   "source": [
    "import tensorflow as tf\n",
    "from tensorflow.keras.models import Sequential\n",
    "from tensorflow.keras.layers import Dense,Dropout,Activation,Flatten\n",
    "from tensorflow.keras.optimizers import Adam\n",
    "from sklearn import metrics"
   ]
  },
  {
   "cell_type": "code",
   "execution_count": 49,
   "id": "bdfea655",
   "metadata": {
    "collapsed": false,
    "jupyter": {
     "outputs_hidden": false
    },
    "tags": []
   },
   "outputs": [],
   "source": [
    "### No of classes\n",
    "num_labels=y.shape[1]"
   ]
  },
  {
   "cell_type": "code",
   "execution_count": 50,
   "id": "387e4a30",
   "metadata": {
    "collapsed": false,
    "jupyter": {
     "outputs_hidden": false
    },
    "tags": []
   },
   "outputs": [],
   "source": [
    "model=Sequential()\n",
    "###first layer\n",
    "model.add(Dense(100,input_shape=(128,)))\n",
    "model.add(Activation('relu'))\n",
    "model.add(Dropout(0.5))\n",
    "###second layer\n",
    "model.add(Dense(200))\n",
    "model.add(Activation('relu'))\n",
    "model.add(Dropout(0.5))\n",
    "###third layer\n",
    "model.add(Dense(100))\n",
    "model.add(Activation('relu'))\n",
    "model.add(Dropout(0.5))\n",
    "\n",
    "###final layer\n",
    "model.add(Dense(num_labels))\n",
    "model.add(Activation('softmax'))"
   ]
  },
  {
   "cell_type": "code",
   "execution_count": 51,
   "id": "74e84396",
   "metadata": {
    "collapsed": false,
    "jupyter": {
     "outputs_hidden": false
    },
    "tags": []
   },
   "outputs": [
    {
     "name": "stdout",
     "output_type": "stream",
     "text": [
      "Model: \"sequential_1\"\n",
      "_________________________________________________________________\n",
      " Layer (type)                Output Shape              Param #   \n",
      "=================================================================\n",
      " dense_4 (Dense)             (None, 100)               12900     \n",
      "                                                                 \n",
      " activation_4 (Activation)   (None, 100)               0         \n",
      "                                                                 \n",
      " dropout_3 (Dropout)         (None, 100)               0         \n",
      "                                                                 \n",
      " dense_5 (Dense)             (None, 200)               20200     \n",
      "                                                                 \n",
      " activation_5 (Activation)   (None, 200)               0         \n",
      "                                                                 \n",
      " dropout_4 (Dropout)         (None, 200)               0         \n",
      "                                                                 \n",
      " dense_6 (Dense)             (None, 100)               20100     \n",
      "                                                                 \n",
      " activation_6 (Activation)   (None, 100)               0         \n",
      "                                                                 \n",
      " dropout_5 (Dropout)         (None, 100)               0         \n",
      "                                                                 \n",
      " dense_7 (Dense)             (None, 6)                 606       \n",
      "                                                                 \n",
      " activation_7 (Activation)   (None, 6)                 0         \n",
      "                                                                 \n",
      "=================================================================\n",
      "Total params: 53,806\n",
      "Trainable params: 53,806\n",
      "Non-trainable params: 0\n",
      "_________________________________________________________________\n"
     ]
    }
   ],
   "source": [
    "model.summary()"
   ]
  },
  {
   "cell_type": "code",
   "execution_count": 52,
   "id": "7fcc9fb0",
   "metadata": {
    "collapsed": false,
    "jupyter": {
     "outputs_hidden": false
    },
    "tags": []
   },
   "outputs": [],
   "source": [
    "model.compile(loss='categorical_crossentropy',metrics=['accuracy'],optimizer='adam')"
   ]
  },
  {
   "cell_type": "code",
   "execution_count": 53,
   "id": "593b37d1",
   "metadata": {
    "collapsed": false,
    "jupyter": {
     "outputs_hidden": false
    },
    "tags": []
   },
   "outputs": [
    {
     "name": "stdout",
     "output_type": "stream",
     "text": [
      "Epoch 1/100\n"
     ]
    },
    {
     "name": "stderr",
     "output_type": "stream",
     "text": [
      "2023-05-16 21:13:54.353729: W tensorflow/tsl/framework/cpu_allocator_impl.cc:83] Allocation of 84879360 exceeds 10% of free system memory.\n"
     ]
    },
    {
     "name": "stdout",
     "output_type": "stream",
     "text": [
      "5159/5181 [============================>.] - ETA: 0s - loss: 1.3244 - accuracy: 0.6380\n",
      "Epoch 1: val_loss improved from inf to 0.67077, saving model to saved_models/audio_classification.hdf5\n",
      "5181/5181 [==============================] - 8s 1ms/step - loss: 1.3220 - accuracy: 0.6384 - val_loss: 0.6708 - val_accuracy: 0.7782\n",
      "Epoch 2/100\n",
      "5145/5181 [============================>.] - ETA: 0s - loss: 0.7380 - accuracy: 0.7493\n",
      "Epoch 2: val_loss improved from 0.67077 to 0.60091, saving model to saved_models/audio_classification.hdf5\n",
      "5181/5181 [==============================] - 7s 1ms/step - loss: 0.7376 - accuracy: 0.7494 - val_loss: 0.6009 - val_accuracy: 0.8095\n",
      "Epoch 3/100\n",
      "5178/5181 [============================>.] - ETA: 0s - loss: 0.6841 - accuracy: 0.7698\n",
      "Epoch 3: val_loss improved from 0.60091 to 0.57606, saving model to saved_models/audio_classification.hdf5\n",
      "5181/5181 [==============================] - 7s 1ms/step - loss: 0.6840 - accuracy: 0.7698 - val_loss: 0.5761 - val_accuracy: 0.8102\n",
      "Epoch 4/100\n",
      "5181/5181 [==============================] - ETA: 0s - loss: 0.6587 - accuracy: 0.7785\n",
      "Epoch 4: val_loss did not improve from 0.57606\n",
      "5181/5181 [==============================] - 7s 1ms/step - loss: 0.6587 - accuracy: 0.7785 - val_loss: 0.5769 - val_accuracy: 0.8180\n",
      "Epoch 5/100\n",
      "5167/5181 [============================>.] - ETA: 0s - loss: 0.6478 - accuracy: 0.7818\n",
      "Epoch 5: val_loss improved from 0.57606 to 0.55177, saving model to saved_models/audio_classification.hdf5\n",
      "5181/5181 [==============================] - 7s 1ms/step - loss: 0.6479 - accuracy: 0.7818 - val_loss: 0.5518 - val_accuracy: 0.8226\n",
      "Epoch 6/100\n",
      "5178/5181 [============================>.] - ETA: 0s - loss: 0.6378 - accuracy: 0.7842\n",
      "Epoch 6: val_loss improved from 0.55177 to 0.54512, saving model to saved_models/audio_classification.hdf5\n",
      "5181/5181 [==============================] - 7s 1ms/step - loss: 0.6379 - accuracy: 0.7841 - val_loss: 0.5451 - val_accuracy: 0.8274\n",
      "Epoch 7/100\n",
      "5163/5181 [============================>.] - ETA: 0s - loss: 0.6286 - accuracy: 0.7886\n",
      "Epoch 7: val_loss improved from 0.54512 to 0.53031, saving model to saved_models/audio_classification.hdf5\n",
      "5181/5181 [==============================] - 7s 1ms/step - loss: 0.6288 - accuracy: 0.7886 - val_loss: 0.5303 - val_accuracy: 0.8367\n",
      "Epoch 8/100\n",
      "5155/5181 [============================>.] - ETA: 0s - loss: 0.6231 - accuracy: 0.7922\n",
      "Epoch 8: val_loss improved from 0.53031 to 0.52406, saving model to saved_models/audio_classification.hdf5\n",
      "5181/5181 [==============================] - 7s 1ms/step - loss: 0.6229 - accuracy: 0.7923 - val_loss: 0.5241 - val_accuracy: 0.8356\n",
      "Epoch 9/100\n",
      "5179/5181 [============================>.] - ETA: 0s - loss: 0.6183 - accuracy: 0.7921\n",
      "Epoch 9: val_loss did not improve from 0.52406\n",
      "5181/5181 [==============================] - 7s 1ms/step - loss: 0.6182 - accuracy: 0.7921 - val_loss: 0.5376 - val_accuracy: 0.8289\n",
      "Epoch 10/100\n",
      "5156/5181 [============================>.] - ETA: 0s - loss: 0.6138 - accuracy: 0.7949\n",
      "Epoch 10: val_loss improved from 0.52406 to 0.51921, saving model to saved_models/audio_classification.hdf5\n",
      "5181/5181 [==============================] - 7s 1ms/step - loss: 0.6135 - accuracy: 0.7950 - val_loss: 0.5192 - val_accuracy: 0.8269\n",
      "Epoch 11/100\n",
      "5175/5181 [============================>.] - ETA: 0s - loss: 0.6087 - accuracy: 0.7958\n",
      "Epoch 11: val_loss improved from 0.51921 to 0.51489, saving model to saved_models/audio_classification.hdf5\n",
      "5181/5181 [==============================] - 7s 1ms/step - loss: 0.6088 - accuracy: 0.7958 - val_loss: 0.5149 - val_accuracy: 0.8354\n",
      "Epoch 12/100\n",
      "5138/5181 [============================>.] - ETA: 0s - loss: 0.6077 - accuracy: 0.7965\n",
      "Epoch 12: val_loss did not improve from 0.51489\n",
      "5181/5181 [==============================] - 7s 1ms/step - loss: 0.6085 - accuracy: 0.7963 - val_loss: 0.5351 - val_accuracy: 0.8399\n",
      "Epoch 13/100\n",
      "5166/5181 [============================>.] - ETA: 0s - loss: 0.6048 - accuracy: 0.7966\n",
      "Epoch 13: val_loss improved from 0.51489 to 0.50091, saving model to saved_models/audio_classification.hdf5\n",
      "5181/5181 [==============================] - 7s 1ms/step - loss: 0.6045 - accuracy: 0.7967 - val_loss: 0.5009 - val_accuracy: 0.8465\n",
      "Epoch 14/100\n",
      "5170/5181 [============================>.] - ETA: 0s - loss: 0.6039 - accuracy: 0.7971\n",
      "Epoch 14: val_loss improved from 0.50091 to 0.50027, saving model to saved_models/audio_classification.hdf5\n",
      "5181/5181 [==============================] - 7s 1ms/step - loss: 0.6040 - accuracy: 0.7971 - val_loss: 0.5003 - val_accuracy: 0.8436\n",
      "Epoch 15/100\n",
      "5153/5181 [============================>.] - ETA: 0s - loss: 0.6039 - accuracy: 0.7966\n",
      "Epoch 15: val_loss did not improve from 0.50027\n",
      "5181/5181 [==============================] - 7s 1ms/step - loss: 0.6040 - accuracy: 0.7966 - val_loss: 0.5387 - val_accuracy: 0.8362\n",
      "Epoch 16/100\n",
      "5156/5181 [============================>.] - ETA: 0s - loss: 0.6021 - accuracy: 0.7982\n",
      "Epoch 16: val_loss did not improve from 0.50027\n",
      "5181/5181 [==============================] - 7s 1ms/step - loss: 0.6023 - accuracy: 0.7981 - val_loss: 0.5227 - val_accuracy: 0.8305\n",
      "Epoch 17/100\n",
      "5154/5181 [============================>.] - ETA: 0s - loss: 0.5986 - accuracy: 0.7986\n",
      "Epoch 17: val_loss improved from 0.50027 to 0.49811, saving model to saved_models/audio_classification.hdf5\n",
      "5181/5181 [==============================] - 7s 1ms/step - loss: 0.5986 - accuracy: 0.7987 - val_loss: 0.4981 - val_accuracy: 0.8455\n",
      "Epoch 18/100\n",
      "5141/5181 [============================>.] - ETA: 0s - loss: 0.5977 - accuracy: 0.7981\n",
      "Epoch 18: val_loss improved from 0.49811 to 0.48522, saving model to saved_models/audio_classification.hdf5\n",
      "5181/5181 [==============================] - 7s 1ms/step - loss: 0.5975 - accuracy: 0.7981 - val_loss: 0.4852 - val_accuracy: 0.8492\n",
      "Epoch 19/100\n",
      "5159/5181 [============================>.] - ETA: 0s - loss: 0.6016 - accuracy: 0.7981\n",
      "Epoch 19: val_loss did not improve from 0.48522\n",
      "5181/5181 [==============================] - 7s 1ms/step - loss: 0.6016 - accuracy: 0.7981 - val_loss: 0.5442 - val_accuracy: 0.8336\n",
      "Epoch 20/100\n",
      "5180/5181 [============================>.] - ETA: 0s - loss: 0.5986 - accuracy: 0.7975\n",
      "Epoch 20: val_loss did not improve from 0.48522\n",
      "5181/5181 [==============================] - 7s 1ms/step - loss: 0.5986 - accuracy: 0.7975 - val_loss: 0.5135 - val_accuracy: 0.8344\n",
      "Epoch 21/100\n",
      "5181/5181 [==============================] - ETA: 0s - loss: 0.5985 - accuracy: 0.7981\n",
      "Epoch 21: val_loss did not improve from 0.48522\n",
      "5181/5181 [==============================] - 7s 1ms/step - loss: 0.5985 - accuracy: 0.7981 - val_loss: 0.5008 - val_accuracy: 0.8473\n",
      "Epoch 22/100\n",
      "5164/5181 [============================>.] - ETA: 0s - loss: 0.5975 - accuracy: 0.7978\n",
      "Epoch 22: val_loss did not improve from 0.48522\n",
      "5181/5181 [==============================] - 7s 1ms/step - loss: 0.5976 - accuracy: 0.7978 - val_loss: 0.5075 - val_accuracy: 0.8484\n",
      "Epoch 23/100\n",
      "5162/5181 [============================>.] - ETA: 0s - loss: 0.5975 - accuracy: 0.7994\n",
      "Epoch 23: val_loss did not improve from 0.48522\n",
      "5181/5181 [==============================] - 7s 1ms/step - loss: 0.5975 - accuracy: 0.7994 - val_loss: 0.4962 - val_accuracy: 0.8484\n",
      "Epoch 24/100\n",
      "5171/5181 [============================>.] - ETA: 0s - loss: 0.5954 - accuracy: 0.8002\n",
      "Epoch 24: val_loss did not improve from 0.48522\n",
      "5181/5181 [==============================] - 7s 1ms/step - loss: 0.5955 - accuracy: 0.8001 - val_loss: 0.4982 - val_accuracy: 0.8511\n",
      "Epoch 25/100\n",
      "5161/5181 [============================>.] - ETA: 0s - loss: 0.5995 - accuracy: 0.7989\n",
      "Epoch 25: val_loss did not improve from 0.48522\n",
      "5181/5181 [==============================] - 7s 1ms/step - loss: 0.5994 - accuracy: 0.7989 - val_loss: 0.5161 - val_accuracy: 0.8433\n",
      "Epoch 26/100\n",
      "5180/5181 [============================>.] - ETA: 0s - loss: 0.5960 - accuracy: 0.7993\n",
      "Epoch 26: val_loss did not improve from 0.48522\n",
      "5181/5181 [==============================] - 7s 1ms/step - loss: 0.5959 - accuracy: 0.7993 - val_loss: 0.5046 - val_accuracy: 0.8356\n",
      "Epoch 27/100\n",
      "5175/5181 [============================>.] - ETA: 0s - loss: 0.5962 - accuracy: 0.8007\n",
      "Epoch 27: val_loss did not improve from 0.48522\n",
      "5181/5181 [==============================] - 7s 1ms/step - loss: 0.5962 - accuracy: 0.8007 - val_loss: 0.4991 - val_accuracy: 0.8455\n",
      "Epoch 28/100\n",
      "5178/5181 [============================>.] - ETA: 0s - loss: 0.5938 - accuracy: 0.7995\n",
      "Epoch 28: val_loss did not improve from 0.48522\n",
      "5181/5181 [==============================] - 7s 1ms/step - loss: 0.5937 - accuracy: 0.7995 - val_loss: 0.4936 - val_accuracy: 0.8453\n",
      "Epoch 29/100\n",
      "5166/5181 [============================>.] - ETA: 0s - loss: 0.5958 - accuracy: 0.7982\n",
      "Epoch 29: val_loss did not improve from 0.48522\n",
      "5181/5181 [==============================] - 7s 1ms/step - loss: 0.5958 - accuracy: 0.7982 - val_loss: 0.5054 - val_accuracy: 0.8454\n",
      "Epoch 30/100\n",
      "5165/5181 [============================>.] - ETA: 0s - loss: 0.5965 - accuracy: 0.7992\n",
      "Epoch 30: val_loss did not improve from 0.48522\n",
      "5181/5181 [==============================] - 7s 1ms/step - loss: 0.5966 - accuracy: 0.7991 - val_loss: 0.4865 - val_accuracy: 0.8440\n",
      "Epoch 31/100\n",
      "5161/5181 [============================>.] - ETA: 0s - loss: 0.5953 - accuracy: 0.8002\n",
      "Epoch 31: val_loss did not improve from 0.48522\n",
      "5181/5181 [==============================] - 7s 1ms/step - loss: 0.5953 - accuracy: 0.8002 - val_loss: 0.4955 - val_accuracy: 0.8512\n",
      "Epoch 32/100\n",
      "5159/5181 [============================>.] - ETA: 0s - loss: 0.5923 - accuracy: 0.7986\n",
      "Epoch 32: val_loss did not improve from 0.48522\n",
      "5181/5181 [==============================] - 7s 1ms/step - loss: 0.5923 - accuracy: 0.7985 - val_loss: 0.4910 - val_accuracy: 0.8458\n",
      "Epoch 33/100\n",
      "5171/5181 [============================>.] - ETA: 0s - loss: 0.5939 - accuracy: 0.7986\n",
      "Epoch 33: val_loss did not improve from 0.48522\n",
      "5181/5181 [==============================] - 7s 1ms/step - loss: 0.5940 - accuracy: 0.7985 - val_loss: 0.4956 - val_accuracy: 0.8483\n",
      "Epoch 34/100\n",
      "5151/5181 [============================>.] - ETA: 0s - loss: 0.5936 - accuracy: 0.7989\n",
      "Epoch 34: val_loss did not improve from 0.48522\n",
      "5181/5181 [==============================] - 7s 1ms/step - loss: 0.5938 - accuracy: 0.7989 - val_loss: 0.5058 - val_accuracy: 0.8374\n",
      "Epoch 35/100\n",
      "5160/5181 [============================>.] - ETA: 0s - loss: 0.5952 - accuracy: 0.7976\n",
      "Epoch 35: val_loss did not improve from 0.48522\n",
      "5181/5181 [==============================] - 7s 1ms/step - loss: 0.5951 - accuracy: 0.7976 - val_loss: 0.5158 - val_accuracy: 0.8464\n",
      "Epoch 36/100\n",
      "5151/5181 [============================>.] - ETA: 0s - loss: 0.5946 - accuracy: 0.7976\n",
      "Epoch 36: val_loss did not improve from 0.48522\n",
      "5181/5181 [==============================] - 7s 1ms/step - loss: 0.5943 - accuracy: 0.7976 - val_loss: 0.5005 - val_accuracy: 0.8389\n",
      "Epoch 37/100\n",
      "5163/5181 [============================>.] - ETA: 0s - loss: 0.5924 - accuracy: 0.8022\n",
      "Epoch 37: val_loss did not improve from 0.48522\n",
      "5181/5181 [==============================] - 7s 1ms/step - loss: 0.5924 - accuracy: 0.8023 - val_loss: 0.4926 - val_accuracy: 0.8489\n",
      "Epoch 38/100\n",
      "5152/5181 [============================>.] - ETA: 0s - loss: 0.5904 - accuracy: 0.8016\n",
      "Epoch 38: val_loss did not improve from 0.48522\n",
      "5181/5181 [==============================] - 7s 1ms/step - loss: 0.5906 - accuracy: 0.8016 - val_loss: 0.5101 - val_accuracy: 0.8401\n",
      "Epoch 39/100\n",
      "5158/5181 [============================>.] - ETA: 0s - loss: 0.5902 - accuracy: 0.7976\n",
      "Epoch 39: val_loss did not improve from 0.48522\n",
      "5181/5181 [==============================] - 7s 1ms/step - loss: 0.5902 - accuracy: 0.7976 - val_loss: 0.5051 - val_accuracy: 0.8484\n",
      "Epoch 40/100\n",
      "5178/5181 [============================>.] - ETA: 0s - loss: 0.5924 - accuracy: 0.7997\n",
      "Epoch 40: val_loss did not improve from 0.48522\n",
      "5181/5181 [==============================] - 7s 1ms/step - loss: 0.5925 - accuracy: 0.7997 - val_loss: 0.4858 - val_accuracy: 0.8458\n",
      "Epoch 41/100\n",
      "5150/5181 [============================>.] - ETA: 0s - loss: 0.5949 - accuracy: 0.7970\n",
      "Epoch 41: val_loss did not improve from 0.48522\n",
      "5181/5181 [==============================] - 7s 1ms/step - loss: 0.5946 - accuracy: 0.7971 - val_loss: 0.5163 - val_accuracy: 0.8416\n",
      "Epoch 42/100\n",
      "5159/5181 [============================>.] - ETA: 0s - loss: 0.5877 - accuracy: 0.8003\n",
      "Epoch 42: val_loss improved from 0.48522 to 0.48399, saving model to saved_models/audio_classification.hdf5\n",
      "5181/5181 [==============================] - 7s 1ms/step - loss: 0.5876 - accuracy: 0.8003 - val_loss: 0.4840 - val_accuracy: 0.8519\n",
      "Epoch 43/100\n",
      "5157/5181 [============================>.] - ETA: 0s - loss: 0.5900 - accuracy: 0.7982\n",
      "Epoch 43: val_loss did not improve from 0.48399\n",
      "5181/5181 [==============================] - 7s 1ms/step - loss: 0.5901 - accuracy: 0.7982 - val_loss: 0.4937 - val_accuracy: 0.8497\n",
      "Epoch 44/100\n",
      "5170/5181 [============================>.] - ETA: 0s - loss: 0.5872 - accuracy: 0.8002\n",
      "Epoch 44: val_loss did not improve from 0.48399\n",
      "5181/5181 [==============================] - 7s 1ms/step - loss: 0.5872 - accuracy: 0.8002 - val_loss: 0.4847 - val_accuracy: 0.8433\n",
      "Epoch 45/100\n",
      "5170/5181 [============================>.] - ETA: 0s - loss: 0.5866 - accuracy: 0.8009\n",
      "Epoch 45: val_loss did not improve from 0.48399\n",
      "5181/5181 [==============================] - 7s 1ms/step - loss: 0.5866 - accuracy: 0.8009 - val_loss: 0.4932 - val_accuracy: 0.8440\n",
      "Epoch 46/100\n",
      "5141/5181 [============================>.] - ETA: 0s - loss: 0.5875 - accuracy: 0.8008\n",
      "Epoch 46: val_loss did not improve from 0.48399\n",
      "5181/5181 [==============================] - 7s 1ms/step - loss: 0.5872 - accuracy: 0.8009 - val_loss: 0.4887 - val_accuracy: 0.8455\n",
      "Epoch 47/100\n",
      "5144/5181 [============================>.] - ETA: 0s - loss: 0.5843 - accuracy: 0.8017\n",
      "Epoch 47: val_loss did not improve from 0.48399\n",
      "5181/5181 [==============================] - 7s 1ms/step - loss: 0.5846 - accuracy: 0.8016 - val_loss: 0.5075 - val_accuracy: 0.8378\n",
      "Epoch 48/100\n",
      "5160/5181 [============================>.] - ETA: 0s - loss: 0.5862 - accuracy: 0.8012\n",
      "Epoch 48: val_loss did not improve from 0.48399\n",
      "5181/5181 [==============================] - 7s 1ms/step - loss: 0.5862 - accuracy: 0.8012 - val_loss: 0.5080 - val_accuracy: 0.8456\n",
      "Epoch 49/100\n",
      "5144/5181 [============================>.] - ETA: 0s - loss: 0.5876 - accuracy: 0.8018\n",
      "Epoch 49: val_loss did not improve from 0.48399\n",
      "5181/5181 [==============================] - 7s 1ms/step - loss: 0.5877 - accuracy: 0.8018 - val_loss: 0.4854 - val_accuracy: 0.8492\n",
      "Epoch 50/100\n",
      "5153/5181 [============================>.] - ETA: 0s - loss: 0.5874 - accuracy: 0.7997\n",
      "Epoch 50: val_loss did not improve from 0.48399\n",
      "5181/5181 [==============================] - 7s 1ms/step - loss: 0.5875 - accuracy: 0.7997 - val_loss: 0.5086 - val_accuracy: 0.8437\n",
      "Epoch 51/100\n",
      "5151/5181 [============================>.] - ETA: 0s - loss: 0.5848 - accuracy: 0.8020\n",
      "Epoch 51: val_loss did not improve from 0.48399\n",
      "5181/5181 [==============================] - 7s 1ms/step - loss: 0.5851 - accuracy: 0.8019 - val_loss: 0.5179 - val_accuracy: 0.8465\n",
      "Epoch 52/100\n",
      "5148/5181 [============================>.] - ETA: 0s - loss: 0.5842 - accuracy: 0.8037\n",
      "Epoch 52: val_loss did not improve from 0.48399\n",
      "5181/5181 [==============================] - 7s 1ms/step - loss: 0.5841 - accuracy: 0.8037 - val_loss: 0.4904 - val_accuracy: 0.8440\n",
      "Epoch 53/100\n",
      "5172/5181 [============================>.] - ETA: 0s - loss: 0.5848 - accuracy: 0.8015\n",
      "Epoch 53: val_loss did not improve from 0.48399\n",
      "5181/5181 [==============================] - 7s 1ms/step - loss: 0.5851 - accuracy: 0.8015 - val_loss: 0.5025 - val_accuracy: 0.8483\n",
      "Epoch 54/100\n",
      "5150/5181 [============================>.] - ETA: 0s - loss: 0.5832 - accuracy: 0.8017\n",
      "Epoch 54: val_loss improved from 0.48399 to 0.48367, saving model to saved_models/audio_classification.hdf5\n",
      "5181/5181 [==============================] - 7s 1ms/step - loss: 0.5831 - accuracy: 0.8018 - val_loss: 0.4837 - val_accuracy: 0.8477\n",
      "Epoch 55/100\n",
      "5171/5181 [============================>.] - ETA: 0s - loss: 0.5851 - accuracy: 0.8003\n",
      "Epoch 55: val_loss did not improve from 0.48367\n",
      "5181/5181 [==============================] - 7s 1ms/step - loss: 0.5851 - accuracy: 0.8003 - val_loss: 0.5140 - val_accuracy: 0.8415\n",
      "Epoch 56/100\n",
      "5137/5181 [============================>.] - ETA: 0s - loss: 0.5861 - accuracy: 0.8004\n",
      "Epoch 56: val_loss did not improve from 0.48367\n",
      "5181/5181 [==============================] - 7s 1ms/step - loss: 0.5860 - accuracy: 0.8005 - val_loss: 0.5108 - val_accuracy: 0.8410\n",
      "Epoch 57/100\n",
      "5141/5181 [============================>.] - ETA: 0s - loss: 0.5862 - accuracy: 0.7999\n",
      "Epoch 57: val_loss did not improve from 0.48367\n",
      "5181/5181 [==============================] - 7s 1ms/step - loss: 0.5858 - accuracy: 0.8001 - val_loss: 0.4910 - val_accuracy: 0.8481\n",
      "Epoch 58/100\n",
      "5144/5181 [============================>.] - ETA: 0s - loss: 0.5855 - accuracy: 0.8005\n",
      "Epoch 58: val_loss did not improve from 0.48367\n",
      "5181/5181 [==============================] - 7s 1ms/step - loss: 0.5855 - accuracy: 0.8004 - val_loss: 0.5018 - val_accuracy: 0.8488\n",
      "Epoch 59/100\n",
      "5149/5181 [============================>.] - ETA: 0s - loss: 0.5882 - accuracy: 0.8004\n",
      "Epoch 59: val_loss improved from 0.48367 to 0.48296, saving model to saved_models/audio_classification.hdf5\n",
      "5181/5181 [==============================] - 7s 1ms/step - loss: 0.5880 - accuracy: 0.8005 - val_loss: 0.4830 - val_accuracy: 0.8482\n",
      "Epoch 60/100\n",
      "5164/5181 [============================>.] - ETA: 0s - loss: 0.5867 - accuracy: 0.7988\n",
      "Epoch 60: val_loss did not improve from 0.48296\n",
      "5181/5181 [==============================] - 7s 1ms/step - loss: 0.5864 - accuracy: 0.7989 - val_loss: 0.4856 - val_accuracy: 0.8431\n",
      "Epoch 61/100\n",
      "5165/5181 [============================>.] - ETA: 0s - loss: 0.5848 - accuracy: 0.8009\n",
      "Epoch 61: val_loss improved from 0.48296 to 0.47514, saving model to saved_models/audio_classification.hdf5\n",
      "5181/5181 [==============================] - 7s 1ms/step - loss: 0.5847 - accuracy: 0.8009 - val_loss: 0.4751 - val_accuracy: 0.8496\n",
      "Epoch 62/100\n",
      "5158/5181 [============================>.] - ETA: 0s - loss: 0.5829 - accuracy: 0.8025\n",
      "Epoch 62: val_loss did not improve from 0.47514\n",
      "5181/5181 [==============================] - 7s 1ms/step - loss: 0.5831 - accuracy: 0.8025 - val_loss: 0.5014 - val_accuracy: 0.8419\n",
      "Epoch 63/100\n",
      "5146/5181 [============================>.] - ETA: 0s - loss: 0.5830 - accuracy: 0.8014\n",
      "Epoch 63: val_loss did not improve from 0.47514\n",
      "5181/5181 [==============================] - 7s 1ms/step - loss: 0.5828 - accuracy: 0.8014 - val_loss: 0.4876 - val_accuracy: 0.8433\n",
      "Epoch 64/100\n",
      "5168/5181 [============================>.] - ETA: 0s - loss: 0.5837 - accuracy: 0.8011\n",
      "Epoch 64: val_loss did not improve from 0.47514\n",
      "5181/5181 [==============================] - 7s 1ms/step - loss: 0.5838 - accuracy: 0.8010 - val_loss: 0.4907 - val_accuracy: 0.8469\n",
      "Epoch 65/100\n",
      "5158/5181 [============================>.] - ETA: 0s - loss: 0.5878 - accuracy: 0.8004\n",
      "Epoch 65: val_loss did not improve from 0.47514\n",
      "5181/5181 [==============================] - 7s 1ms/step - loss: 0.5880 - accuracy: 0.8003 - val_loss: 0.5150 - val_accuracy: 0.8423\n",
      "Epoch 66/100\n",
      "5147/5181 [============================>.] - ETA: 0s - loss: 0.5862 - accuracy: 0.7997\n",
      "Epoch 66: val_loss did not improve from 0.47514\n",
      "5181/5181 [==============================] - 7s 1ms/step - loss: 0.5864 - accuracy: 0.7997 - val_loss: 0.5004 - val_accuracy: 0.8486\n",
      "Epoch 67/100\n",
      "5154/5181 [============================>.] - ETA: 0s - loss: 0.5843 - accuracy: 0.8029\n",
      "Epoch 67: val_loss did not improve from 0.47514\n",
      "5181/5181 [==============================] - 7s 1ms/step - loss: 0.5843 - accuracy: 0.8028 - val_loss: 0.4884 - val_accuracy: 0.8498\n",
      "Epoch 68/100\n",
      "5152/5181 [============================>.] - ETA: 0s - loss: 0.5845 - accuracy: 0.8012\n",
      "Epoch 68: val_loss did not improve from 0.47514\n",
      "5181/5181 [==============================] - 7s 1ms/step - loss: 0.5849 - accuracy: 0.8011 - val_loss: 0.5031 - val_accuracy: 0.8425\n",
      "Epoch 69/100\n",
      "5176/5181 [============================>.] - ETA: 0s - loss: 0.5834 - accuracy: 0.8014\n",
      "Epoch 69: val_loss did not improve from 0.47514\n",
      "5181/5181 [==============================] - 7s 1ms/step - loss: 0.5833 - accuracy: 0.8014 - val_loss: 0.5015 - val_accuracy: 0.8443\n",
      "Epoch 70/100\n",
      "5142/5181 [============================>.] - ETA: 0s - loss: 0.5831 - accuracy: 0.8036\n",
      "Epoch 70: val_loss did not improve from 0.47514\n",
      "5181/5181 [==============================] - 7s 1ms/step - loss: 0.5831 - accuracy: 0.8036 - val_loss: 0.4812 - val_accuracy: 0.8479\n",
      "Epoch 71/100\n",
      "5149/5181 [============================>.] - ETA: 0s - loss: 0.5867 - accuracy: 0.7982\n",
      "Epoch 71: val_loss did not improve from 0.47514\n",
      "5181/5181 [==============================] - 7s 1ms/step - loss: 0.5863 - accuracy: 0.7983 - val_loss: 0.4901 - val_accuracy: 0.8391\n",
      "Epoch 72/100\n",
      "5150/5181 [============================>.] - ETA: 0s - loss: 0.5857 - accuracy: 0.7997\n",
      "Epoch 72: val_loss did not improve from 0.47514\n",
      "5181/5181 [==============================] - 7s 1ms/step - loss: 0.5857 - accuracy: 0.7997 - val_loss: 0.5281 - val_accuracy: 0.8344\n",
      "Epoch 73/100\n",
      "5161/5181 [============================>.] - ETA: 0s - loss: 0.5800 - accuracy: 0.8026\n",
      "Epoch 73: val_loss did not improve from 0.47514\n",
      "5181/5181 [==============================] - 7s 1ms/step - loss: 0.5800 - accuracy: 0.8025 - val_loss: 0.4919 - val_accuracy: 0.8417\n",
      "Epoch 74/100\n",
      "5155/5181 [============================>.] - ETA: 0s - loss: 0.5824 - accuracy: 0.8024\n",
      "Epoch 74: val_loss did not improve from 0.47514\n",
      "5181/5181 [==============================] - 7s 1ms/step - loss: 0.5822 - accuracy: 0.8025 - val_loss: 0.4795 - val_accuracy: 0.8543\n",
      "Epoch 75/100\n",
      "5174/5181 [============================>.] - ETA: 0s - loss: 0.5841 - accuracy: 0.8008\n",
      "Epoch 75: val_loss did not improve from 0.47514\n",
      "5181/5181 [==============================] - 7s 1ms/step - loss: 0.5841 - accuracy: 0.8009 - val_loss: 0.4898 - val_accuracy: 0.8402\n",
      "Epoch 76/100\n",
      "5166/5181 [============================>.] - ETA: 0s - loss: 0.5870 - accuracy: 0.7994\n",
      "Epoch 76: val_loss did not improve from 0.47514\n",
      "5181/5181 [==============================] - 7s 1ms/step - loss: 0.5870 - accuracy: 0.7994 - val_loss: 0.4852 - val_accuracy: 0.8462\n",
      "Epoch 77/100\n",
      "5157/5181 [============================>.] - ETA: 0s - loss: 0.5833 - accuracy: 0.7997\n",
      "Epoch 77: val_loss did not improve from 0.47514\n",
      "5181/5181 [==============================] - 7s 1ms/step - loss: 0.5836 - accuracy: 0.7996 - val_loss: 0.5002 - val_accuracy: 0.8385\n",
      "Epoch 78/100\n",
      "5158/5181 [============================>.] - ETA: 0s - loss: 0.5858 - accuracy: 0.7993\n",
      "Epoch 78: val_loss did not improve from 0.47514\n",
      "5181/5181 [==============================] - 7s 1ms/step - loss: 0.5859 - accuracy: 0.7994 - val_loss: 0.4982 - val_accuracy: 0.8355\n",
      "Epoch 79/100\n",
      "5158/5181 [============================>.] - ETA: 0s - loss: 0.5844 - accuracy: 0.8016\n",
      "Epoch 79: val_loss did not improve from 0.47514\n",
      "5181/5181 [==============================] - 7s 1ms/step - loss: 0.5844 - accuracy: 0.8015 - val_loss: 0.4893 - val_accuracy: 0.8449\n",
      "Epoch 80/100\n",
      "5167/5181 [============================>.] - ETA: 0s - loss: 0.5856 - accuracy: 0.8003\n",
      "Epoch 80: val_loss did not improve from 0.47514\n",
      "5181/5181 [==============================] - 7s 1ms/step - loss: 0.5855 - accuracy: 0.8003 - val_loss: 0.4796 - val_accuracy: 0.8491\n",
      "Epoch 81/100\n",
      "5172/5181 [============================>.] - ETA: 0s - loss: 0.5839 - accuracy: 0.8001\n",
      "Epoch 81: val_loss did not improve from 0.47514\n",
      "5181/5181 [==============================] - 7s 1ms/step - loss: 0.5838 - accuracy: 0.8001 - val_loss: 0.5005 - val_accuracy: 0.8482\n",
      "Epoch 82/100\n",
      "5143/5181 [============================>.] - ETA: 0s - loss: 0.5822 - accuracy: 0.8030\n",
      "Epoch 82: val_loss did not improve from 0.47514\n",
      "5181/5181 [==============================] - 7s 1ms/step - loss: 0.5821 - accuracy: 0.8030 - val_loss: 0.4911 - val_accuracy: 0.8371\n",
      "Epoch 83/100\n",
      "5179/5181 [============================>.] - ETA: 0s - loss: 0.5819 - accuracy: 0.8011\n",
      "Epoch 83: val_loss did not improve from 0.47514\n",
      "5181/5181 [==============================] - 7s 1ms/step - loss: 0.5819 - accuracy: 0.8011 - val_loss: 0.5012 - val_accuracy: 0.8403\n",
      "Epoch 84/100\n",
      "5153/5181 [============================>.] - ETA: 0s - loss: 0.5847 - accuracy: 0.8022\n",
      "Epoch 84: val_loss did not improve from 0.47514\n",
      "5181/5181 [==============================] - 7s 1ms/step - loss: 0.5845 - accuracy: 0.8023 - val_loss: 0.4988 - val_accuracy: 0.8425\n",
      "Epoch 85/100\n",
      "5177/5181 [============================>.] - ETA: 0s - loss: 0.5800 - accuracy: 0.8021\n",
      "Epoch 85: val_loss did not improve from 0.47514\n",
      "5181/5181 [==============================] - 7s 1ms/step - loss: 0.5800 - accuracy: 0.8021 - val_loss: 0.4859 - val_accuracy: 0.8452\n",
      "Epoch 86/100\n",
      "5139/5181 [============================>.] - ETA: 0s - loss: 0.5836 - accuracy: 0.8008\n",
      "Epoch 86: val_loss did not improve from 0.47514\n",
      "5181/5181 [==============================] - 7s 1ms/step - loss: 0.5839 - accuracy: 0.8008 - val_loss: 0.5009 - val_accuracy: 0.8453\n",
      "Epoch 87/100\n",
      "5144/5181 [============================>.] - ETA: 0s - loss: 0.5843 - accuracy: 0.8021\n",
      "Epoch 87: val_loss did not improve from 0.47514\n",
      "5181/5181 [==============================] - 7s 1ms/step - loss: 0.5841 - accuracy: 0.8021 - val_loss: 0.4869 - val_accuracy: 0.8500\n",
      "Epoch 88/100\n",
      "5175/5181 [============================>.] - ETA: 0s - loss: 0.5841 - accuracy: 0.7995\n",
      "Epoch 88: val_loss did not improve from 0.47514\n",
      "5181/5181 [==============================] - 7s 1ms/step - loss: 0.5842 - accuracy: 0.7994 - val_loss: 0.5057 - val_accuracy: 0.8392\n",
      "Epoch 89/100\n",
      "5151/5181 [============================>.] - ETA: 0s - loss: 0.5824 - accuracy: 0.7982\n",
      "Epoch 89: val_loss did not improve from 0.47514\n",
      "5181/5181 [==============================] - 7s 1ms/step - loss: 0.5822 - accuracy: 0.7982 - val_loss: 0.4861 - val_accuracy: 0.8313\n",
      "Epoch 90/100\n",
      "5159/5181 [============================>.] - ETA: 0s - loss: 0.5833 - accuracy: 0.7985\n",
      "Epoch 90: val_loss did not improve from 0.47514\n",
      "5181/5181 [==============================] - 7s 1ms/step - loss: 0.5834 - accuracy: 0.7985 - val_loss: 0.4805 - val_accuracy: 0.8448\n",
      "Epoch 91/100\n",
      "5167/5181 [============================>.] - ETA: 0s - loss: 0.5841 - accuracy: 0.8008\n",
      "Epoch 91: val_loss did not improve from 0.47514\n",
      "5181/5181 [==============================] - 7s 1ms/step - loss: 0.5841 - accuracy: 0.8008 - val_loss: 0.4927 - val_accuracy: 0.8465\n",
      "Epoch 92/100\n",
      "5172/5181 [============================>.] - ETA: 0s - loss: 0.5819 - accuracy: 0.8016\n",
      "Epoch 92: val_loss did not improve from 0.47514\n",
      "5181/5181 [==============================] - 7s 1ms/step - loss: 0.5820 - accuracy: 0.8016 - val_loss: 0.4864 - val_accuracy: 0.8408\n",
      "Epoch 93/100\n",
      "5168/5181 [============================>.] - ETA: 0s - loss: 0.5805 - accuracy: 0.8004\n",
      "Epoch 93: val_loss did not improve from 0.47514\n",
      "5181/5181 [==============================] - 7s 1ms/step - loss: 0.5804 - accuracy: 0.8004 - val_loss: 0.4953 - val_accuracy: 0.8396\n",
      "Epoch 94/100\n",
      "5179/5181 [============================>.] - ETA: 0s - loss: 0.5818 - accuracy: 0.8025\n",
      "Epoch 94: val_loss did not improve from 0.47514\n",
      "5181/5181 [==============================] - 7s 1ms/step - loss: 0.5817 - accuracy: 0.8025 - val_loss: 0.5014 - val_accuracy: 0.8407\n",
      "Epoch 95/100\n",
      "5155/5181 [============================>.] - ETA: 0s - loss: 0.5825 - accuracy: 0.7995\n",
      "Epoch 95: val_loss did not improve from 0.47514\n",
      "5181/5181 [==============================] - 7s 1ms/step - loss: 0.5827 - accuracy: 0.7994 - val_loss: 0.5075 - val_accuracy: 0.8366\n",
      "Epoch 96/100\n",
      "5165/5181 [============================>.] - ETA: 0s - loss: 0.5858 - accuracy: 0.7983\n",
      "Epoch 96: val_loss did not improve from 0.47514\n",
      "5181/5181 [==============================] - 7s 1ms/step - loss: 0.5859 - accuracy: 0.7983 - val_loss: 0.4818 - val_accuracy: 0.8457\n",
      "Epoch 97/100\n",
      "5161/5181 [============================>.] - ETA: 0s - loss: 0.5825 - accuracy: 0.7994\n",
      "Epoch 97: val_loss did not improve from 0.47514\n",
      "5181/5181 [==============================] - 7s 1ms/step - loss: 0.5827 - accuracy: 0.7994 - val_loss: 0.5035 - val_accuracy: 0.8390\n",
      "Epoch 98/100\n",
      "5150/5181 [============================>.] - ETA: 0s - loss: 0.5805 - accuracy: 0.8003\n",
      "Epoch 98: val_loss did not improve from 0.47514\n",
      "5181/5181 [==============================] - 7s 1ms/step - loss: 0.5804 - accuracy: 0.8002 - val_loss: 0.4984 - val_accuracy: 0.8425\n",
      "Epoch 99/100\n",
      "5173/5181 [============================>.] - ETA: 0s - loss: 0.5844 - accuracy: 0.7991\n",
      "Epoch 99: val_loss did not improve from 0.47514\n",
      "5181/5181 [==============================] - 7s 1ms/step - loss: 0.5843 - accuracy: 0.7992 - val_loss: 0.5051 - val_accuracy: 0.8360\n",
      "Epoch 100/100\n",
      "5158/5181 [============================>.] - ETA: 0s - loss: 0.5821 - accuracy: 0.7982\n",
      "Epoch 100: val_loss did not improve from 0.47514\n",
      "5181/5181 [==============================] - 7s 1ms/step - loss: 0.5822 - accuracy: 0.7982 - val_loss: 0.5028 - val_accuracy: 0.8412\n",
      "Training completed in time:  0:11:12.433298\n"
     ]
    }
   ],
   "source": [
    "## Training model\n",
    "from tensorflow.keras.callbacks import ModelCheckpoint\n",
    "from datetime import datetime\n",
    "\n",
    "num_epochs = 100\n",
    "num_batch_size = 32\n",
    "\n",
    "checkpointer = ModelCheckpoint(filepath='saved_models/audio_classification.hdf5',\n",
    "                               verbose=1, save_best_only=True)\n",
    "start = datetime.now()\n",
    "\n",
    "model.fit(X_train, y_train, batch_size=num_batch_size, epochs=num_epochs, validation_data=(X_test, y_test), callbacks=[checkpointer], verbose=1)\n",
    "\n",
    "\n",
    "duration = datetime.now() - start\n",
    "print(\"Training completed in time: \", duration)"
   ]
  },
  {
   "cell_type": "code",
   "execution_count": 54,
   "id": "56665242",
   "metadata": {
    "collapsed": false,
    "jupyter": {
     "outputs_hidden": false
    },
    "tags": []
   },
   "outputs": [
    {
     "name": "stdout",
     "output_type": "stream",
     "text": [
      "0.8411629796028137\n"
     ]
    }
   ],
   "source": [
    "test_accuracy=model.evaluate(X_test,y_test,verbose=0)\n",
    "print(test_accuracy[1])"
   ]
  },
  {
   "cell_type": "code",
   "execution_count": 55,
   "id": "035f1bfd-315b-4fd5-9fb8-4c1870301712",
   "metadata": {
    "tags": []
   },
   "outputs": [
    {
     "name": "stdout",
     "output_type": "stream",
     "text": [
      "1296/1296 [==============================] - 1s 585us/step\n"
     ]
    }
   ],
   "source": [
    "y_pred = model.predict(X_test)\n",
    "y_pred=np.argmax(y_pred, axis=1)\n",
    "y_test=np.argmax(y_test, axis=1)"
   ]
  },
  {
   "cell_type": "code",
   "execution_count": 56,
   "id": "3ed8192f-4e4b-41f6-bf5f-17d35cee95f5",
   "metadata": {
    "tags": []
   },
   "outputs": [
    {
     "name": "stdout",
     "output_type": "stream",
     "text": [
      "              precision    recall  f1-score   support\n",
      "\n",
      "     Catalan       0.85      0.96      0.90     24247\n",
      "      French       0.98      0.21      0.35      1487\n",
      "     Italian       0.99      0.55      0.71      1587\n",
      "  Portuguese       0.98      0.63      0.77      2942\n",
      "    Romanian       0.73      0.80      0.77      7632\n",
      "     Spanish       1.00      0.66      0.79      3550\n",
      "\n",
      "    accuracy                           0.84     41445\n",
      "   macro avg       0.92      0.64      0.71     41445\n",
      "weighted avg       0.86      0.84      0.83     41445\n",
      "\n"
     ]
    }
   ],
   "source": [
    "from sklearn.metrics import classification_report\n",
    "target_names = sorted(df.language.unique())\n",
    "print(classification_report(y_test, y_pred, target_names=target_names))"
   ]
  },
  {
   "cell_type": "code",
   "execution_count": 57,
   "id": "cd333bce-efa1-4227-9f8e-2317f3f66942",
   "metadata": {
    "tags": []
   },
   "outputs": [
    {
     "data": {
      "image/png": "[encoded data removed]",
      "text/plain": [
       "<Figure size 648x648 with 2 Axes>"
      ]
     },
     "metadata": {
      "needs_background": "light"
     },
     "output_type": "display_data"
    }
   ],
   "source": [
    "from sklearn.metrics import classification_report, confusion_matrix\n",
    "import seaborn as sns\n",
    "import matplotlib.pyplot as plt\n",
    "\n",
    "\n",
    "\n",
    "# Plotting the results:\n",
    "plt.figure(figsize=(9,9))\n",
    "sns.heatmap(metrics.confusion_matrix(y_test, y_pred), annot=True, fmt=\"d\", linewidths=.5, square = True, cmap = 'Blues_r', xticklabels=target_names, yticklabels=target_names);\n",
    "plt.ylabel('Actual label');\n",
    "plt.xlabel('Predicted label');\n",
    "all_sample_title = 'Accuracy Score: {0}'.format(test_accuracy[1])\n",
    "plt.title(all_sample_title, size = 15);"
   ]
  },
  {
   "cell_type": "code",
   "execution_count": null,
   "id": "f933f2c2-b454-4a33-85ff-0ca86373e543",
   "metadata": {},
   "outputs": [],
   "source": []
  }
 ],
 "metadata": {
  "kernelspec": {
   "display_name": "Python 3 (ipykernel)",
   "language": "python",
   "name": "python3"
  },
  "language_info": {
   "codemirror_mode": {
    "name": "ipython",
    "version": 3
   },
   "file_extension": ".py",
   "mimetype": "text/x-python",
   "name": "python",
   "nbconvert_exporter": "python",
   "pygments_lexer": "ipython3",
   "version": "3.10.6"
  }
 },
 "nbformat": 4,
 "nbformat_minor": 5
}
