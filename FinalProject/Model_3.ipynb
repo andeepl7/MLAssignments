{
 "cells": [
  {
   "cell_type": "markdown",
   "id": "b8be734c",
   "metadata": {},
   "source": [
    "# STEP 3 Audio Preparation and Model\n"
   ]
  },
  {
   "cell_type": "code",
   "execution_count": 1,
   "id": "a611495d",
   "metadata": {
    "scrolled": true,
    "tags": []
   },
   "outputs": [],
   "source": [
    "import os\n",
    "import pandas as pd\n",
    "import numpy as np\n",
    "import librosa\n",
    "import soundfile as sf\n",
    "from tqdm.notebook import tqdm"
   ]
  },
  {
   "cell_type": "code",
   "execution_count": 2,
   "id": "4c61050a-108b-41af-9fee-98105fee0a64",
   "metadata": {
    "collapsed": false,
    "jupyter": {
     "outputs_hidden": false
    },
    "tags": []
   },
   "outputs": [],
   "source": [
    "#Global parameters\n",
    "language_dic = {\"es\" : \"Spanish\" , \"pt\": \"Portuguese\", \"it\": \"Italian\", \"fr\": \"French\", \"ca\": \"Catalan\", \"ro\": \"Romanian\" }\n",
    "analysis_window_length = 0.01  # 10 ms in seconds\n",
    "language_mp3_path = \"/language_detector/languages\""
   ]
  },
  {
   "cell_type": "code",
   "execution_count": 3,
   "id": "e1221022",
   "metadata": {
    "collapsed": false,
    "jupyter": {
     "outputs_hidden": false
    },
    "tags": []
   },
   "outputs": [],
   "source": [
    "# number of repeats defined by minimum duration: ceil(10 seconds / min duration)\n",
    "min_clip = 0.10115625\n",
    "x_seconds = 5\n",
    "num_reps = int(np.ceil(x_seconds / min_clip))\n",
    "def repeat_audio_x_seconds(track, dur, num_repeats=10, fs=16000):\n",
    "    num_samples_xs = int(fs * dur)\n",
    "    track = np.concatenate([track]*num_repeats, axis=0)\n",
    "    track = track[0:num_samples_xs]\n",
    "    return track"
   ]
  },
  {
   "cell_type": "code",
   "execution_count": 8,
   "id": "0920bf4c-4d7b-4232-9663-1238da89b35d",
   "metadata": {
    "tags": []
   },
   "outputs": [],
   "source": [
    "def processing_audio(language_mp3_path, analysis_window_length, language_dic):\n",
    "    \"\"\"\n",
    "    This function samples mp3 files, analyzes the dataset content, and builds a dictionary of features.\n",
    "    \"\"\"\n",
    "    data = {\"filename\": [], \"language\": [], \"mfccs\": []}  # Initialize data dictionary here\n",
    "   \n",
    "    language_list = os.listdir(language_mp3_path)\n",
    "\n",
    "    for language in language_list:\n",
    "        language_path = os.path.join(language_mp3_path, language)\n",
    "\n",
    "        if language not in language_dic:\n",
    "            print(f\"Skipping language {language} because it is not in language_dic\")\n",
    "            continue\n",
    "\n",
    "        language_name = language_dic.get(language, \"Unknown language!\")\n",
    "\n",
    "        clips_path = os.path.join(language_path, \"clips\")\n",
    "        # Check if the clips directory exists\n",
    "        if not os.path.isdir(clips_path):\n",
    "            print(f\"No 'clips' directory found in {language_path}\")\n",
    "            continue\n",
    "\n",
    "        # get a list of all files in the folder\n",
    "        mp3_list = os.listdir(clips_path)\n",
    "        mp3_list = mp3_list[:15000]\n",
    "       \n",
    "        # looping through all mp3s in one language\n",
    "        for mp3 in tqdm(mp3_list):\n",
    "            # adding the filename as key\n",
    "            data[\"filename\"].append(mp3)\n",
    "            # adding the label/language\n",
    "            data[\"language\"].append(language_name)\n",
    "            # adding the clip\n",
    "            audio_path = os.path.join(clips_path, mp3)\n",
    "            audio_samples, fs = sf.read(audio_path)\n",
    "            audio_samples = repeat_audio_x_seconds(audio_samples, x_seconds, num_repeats=num_reps, fs=fs)\n",
    "\n",
    "            # Check if the length of repeated audio_samples is greater than n_fft\n",
    "            n_fft_value = 2048\n",
    "            if len(audio_samples) < n_fft_value:\n",
    "                print(f\"Skipping {mp3} because its length is less than n_fft even after repeating\")\n",
    "                continue\n",
    "\n",
    "            y = audio_samples\n",
    "            sr = fs\n",
    "            hop_length = int(analysis_window_length * sr)\n",
    "            mfcc = librosa.feature.mfcc(y=y, sr=sr, n_mfcc=128, hop_length=hop_length, n_fft=n_fft_value)\n",
    "            mfccs_scaled_features = np.mean(mfcc.T,axis=0)\n",
    "            data[\"mfccs\"].append(mfccs_scaled_features)\n",
    "\n",
    "    return data\n"
   ]
  },
  {
   "cell_type": "code",
   "execution_count": 9,
   "id": "3dde3f61-f962-4f14-89b9-dd17dd5339aa",
   "metadata": {
    "tags": []
   },
   "outputs": [
    {
     "data": {
      "application/vnd.jupyter.widget-view+json": {
       "model_id": "c758f6b35047408392a7cb547318cb7b",
       "version_major": 2,
       "version_minor": 0
      },
      "text/plain": [
       "  0%|          | 0/15000 [00:00<?, ?it/s]"
      ]
     },
     "metadata": {},
     "output_type": "display_data"
    },
    {
     "name": "stdout",
     "output_type": "stream",
     "text": [
      "Skipping language ja because it is not in language_dic\n"
     ]
    },
    {
     "data": {
      "application/vnd.jupyter.widget-view+json": {
       "model_id": "39b08437644e4c2fb0da13171abd4db0",
       "version_major": 2,
       "version_minor": 0
      },
      "text/plain": [
       "  0%|          | 0/15000 [00:00<?, ?it/s]"
      ]
     },
     "metadata": {},
     "output_type": "display_data"
    },
    {
     "data": {
      "application/vnd.jupyter.widget-view+json": {
       "model_id": "c391cca4dd5c4ccf86156aa94c199ac9",
       "version_major": 2,
       "version_minor": 0
      },
      "text/plain": [
       "  0%|          | 0/15000 [00:00<?, ?it/s]"
      ]
     },
     "metadata": {},
     "output_type": "display_data"
    },
    {
     "data": {
      "application/vnd.jupyter.widget-view+json": {
       "model_id": "6906f5bca31b4e268d1e894e689097c3",
       "version_major": 2,
       "version_minor": 0
      },
      "text/plain": [
       "  0%|          | 0/15000 [00:00<?, ?it/s]"
      ]
     },
     "metadata": {},
     "output_type": "display_data"
    },
    {
     "name": "stdout",
     "output_type": "stream",
     "text": [
      "Skipping language de because it is not in language_dic\n"
     ]
    },
    {
     "data": {
      "application/vnd.jupyter.widget-view+json": {
       "model_id": "a021f87e2a454e4ca4f1867db40cc56e",
       "version_major": 2,
       "version_minor": 0
      },
      "text/plain": [
       "  0%|          | 0/15000 [00:00<?, ?it/s]"
      ]
     },
     "metadata": {},
     "output_type": "display_data"
    },
    {
     "data": {
      "application/vnd.jupyter.widget-view+json": {
       "model_id": "0eebb2ab68b3403ebe3d9beff50c4c24",
       "version_major": 2,
       "version_minor": 0
      },
      "text/plain": [
       "  0%|          | 0/15000 [00:00<?, ?it/s]"
      ]
     },
     "metadata": {},
     "output_type": "display_data"
    }
   ],
   "source": [
    "data = processing_audio(language_mp3_path, analysis_window_length, language_dic)"
   ]
  },
  {
   "cell_type": "code",
   "execution_count": 10,
   "id": "1803434b",
   "metadata": {
    "collapsed": false,
    "jupyter": {
     "outputs_hidden": false
    },
    "tags": []
   },
   "outputs": [
    {
     "name": "stdout",
     "output_type": "stream",
     "text": [
      "                       filename language  \\\n",
      "0  common_voice_it_20088702.mp3  Italian   \n",
      "1  common_voice_it_19551854.mp3  Italian   \n",
      "2  common_voice_it_18743170.mp3  Italian   \n",
      "3  common_voice_it_17435298.mp3  Italian   \n",
      "4  common_voice_it_17643038.mp3  Italian   \n",
      "\n",
      "                                               mfccs  \n",
      "0  [-509.47060362868444, 141.85304069517989, -21....  \n",
      "1  [-462.48287206723944, 123.8630827591188, 5.182...  \n",
      "2  [-555.0763167749433, 118.43354473531377, 15.84...  \n",
      "3  [-375.62301620292976, 110.90526244896759, -22....  \n",
      "4  [-357.23725544830376, 163.21737813118395, -27....  \n"
     ]
    },
    {
     "data": {
      "text/plain": [
       "(128,)"
      ]
     },
     "execution_count": 10,
     "metadata": {},
     "output_type": "execute_result"
    }
   ],
   "source": [
    "# Printing shape to confirm the input to the model \n",
    "df = pd.DataFrame(data)\n",
    "print(df.head())\n",
    "df.mfccs[50].shape"
   ]
  },
  {
   "cell_type": "code",
   "execution_count": 11,
   "id": "2d2b27ac-cab4-4253-a30e-bccd8978838f",
   "metadata": {
    "tags": []
   },
   "outputs": [
    {
     "name": "stdout",
     "output_type": "stream",
     "text": [
      "                           filename language  \\\n",
      "10693  common_voice_it_21431109.mp3  Italian   \n",
      "\n",
      "                                                   mfccs  \n",
      "10693  [[-1131.370849898476, -1131.370849898476, -113...  \n"
     ]
    }
   ],
   "source": [
    "# Generate a boolean mask where True indicates the mfccs is not of size 128\n",
    "mask = [item.shape == (128, 220500) for item in df['mfccs']]\n",
    "\n",
    "# Apply the mask to the dataframe\n",
    "non_conforming_rows = df[mask]\n",
    "\n",
    "# Print rows where the size of the mfccs array is not 128\n",
    "print(non_conforming_rows)"
   ]
  },
  {
   "cell_type": "code",
   "execution_count": 12,
   "id": "71426847-6cc5-438b-983e-7e7ba5ec9978",
   "metadata": {
    "tags": []
   },
   "outputs": [],
   "source": [
    "mask = [item.shape != (128, 220500) for item in df['mfccs']]\n",
    "\n",
    "# Filter the dataframe using the mask\n",
    "df = df[mask]"
   ]
  },
  {
   "cell_type": "code",
   "execution_count": 13,
   "id": "bf358dcb",
   "metadata": {
    "collapsed": false,
    "jupyter": {
     "outputs_hidden": false
    },
    "tags": []
   },
   "outputs": [
    {
     "name": "stdout",
     "output_type": "stream",
     "text": [
      "The number of files loaded is: 89999, in 6 languages\n"
     ]
    }
   ],
   "source": [
    "#Check-point to see if all data was correctly loaded\n",
    "print(f'The number of files loaded is: {len(df[\"filename\"])}, in {df[\"language\"].nunique()} languages')"
   ]
  },
  {
   "cell_type": "code",
   "execution_count": 14,
   "id": "8fde0fb2",
   "metadata": {
    "collapsed": false,
    "jupyter": {
     "outputs_hidden": false
    },
    "tags": []
   },
   "outputs": [],
   "source": [
    "X = np.array(df['mfccs'].tolist())\n",
    "y=np.array(df['language'].tolist())"
   ]
  },
  {
   "cell_type": "code",
   "execution_count": 15,
   "id": "6e1e8864",
   "metadata": {
    "collapsed": false,
    "jupyter": {
     "outputs_hidden": false
    },
    "tags": []
   },
   "outputs": [
    {
     "name": "stderr",
     "output_type": "stream",
     "text": [
      "2023-05-18 00:48:24.090916: I tensorflow/tsl/cuda/cudart_stub.cc:28] Could not find cuda drivers on your machine, GPU will not be used.\n",
      "2023-05-18 00:48:24.170578: I tensorflow/tsl/cuda/cudart_stub.cc:28] Could not find cuda drivers on your machine, GPU will not be used.\n",
      "2023-05-18 00:48:24.172434: I tensorflow/core/platform/cpu_feature_guard.cc:182] This TensorFlow binary is optimized to use available CPU instructions in performance-critical operations.\n",
      "To enable the following instructions: AVX2 FMA, in other operations, rebuild TensorFlow with the appropriate compiler flags.\n",
      "2023-05-18 00:48:25.203594: W tensorflow/compiler/tf2tensorrt/utils/py_utils.cc:38] TF-TRT Warning: Could not find TensorRT\n"
     ]
    }
   ],
   "source": [
    "from sklearn.model_selection import train_test_split\n",
    "from sklearn.preprocessing import LabelEncoder\n",
    "from tensorflow.keras.utils import to_categorical\n",
    "labelencoder=LabelEncoder()\n",
    "y=to_categorical(labelencoder.fit_transform(y))"
   ]
  },
  {
   "cell_type": "code",
   "execution_count": 16,
   "id": "f5d2c195",
   "metadata": {
    "collapsed": false,
    "jupyter": {
     "outputs_hidden": false
    },
    "tags": []
   },
   "outputs": [],
   "source": [
    "# using the train test split function\n",
    "X_train, X_test, y_train, y_test = train_test_split(X,y ,\n",
    "                                                    random_state=42,\n",
    "                                                    train_size=0.8)"
   ]
  },
  {
   "cell_type": "code",
   "execution_count": 17,
   "id": "f5c35258-141a-432c-8dc8-73fe90f04825",
   "metadata": {
    "tags": []
   },
   "outputs": [
    {
     "name": "stdout",
     "output_type": "stream",
     "text": [
      "(71999, 128) (18000, 128) (71999, 6) (18000, 6)\n"
     ]
    }
   ],
   "source": [
    "#Checking point\n",
    "print(X_train.shape, X_test.shape, y_train.shape, y_test.shape)"
   ]
  },
  {
   "cell_type": "markdown",
   "id": "df8e46fa",
   "metadata": {},
   "source": [
    "Model Creation"
   ]
  },
  {
   "cell_type": "code",
   "execution_count": 18,
   "id": "c67c1da1",
   "metadata": {
    "collapsed": false,
    "jupyter": {
     "outputs_hidden": false
    },
    "tags": []
   },
   "outputs": [],
   "source": [
    "import tensorflow as tf\n",
    "import visualkeras \n",
    "from tensorflow.keras.models import Sequential\n",
    "from tensorflow.keras.layers import Dense,Dropout,Activation,Flatten\n",
    "from tensorflow.keras.optimizers import Adam\n",
    "from sklearn import metrics"
   ]
  },
  {
   "cell_type": "code",
   "execution_count": 19,
   "id": "bdfea655",
   "metadata": {
    "collapsed": false,
    "jupyter": {
     "outputs_hidden": false
    },
    "tags": []
   },
   "outputs": [],
   "source": [
    "### No of classes\n",
    "num_labels=y.shape[1]"
   ]
  },
  {
   "cell_type": "code",
   "execution_count": 20,
   "id": "387e4a30",
   "metadata": {
    "collapsed": false,
    "jupyter": {
     "outputs_hidden": false
    },
    "tags": []
   },
   "outputs": [
    {
     "name": "stderr",
     "output_type": "stream",
     "text": [
      "2023-05-18 00:48:45.519174: I tensorflow/compiler/xla/stream_executor/cuda/cuda_gpu_executor.cc:982] could not open file to read NUMA node: /sys/bus/pci/devices/0000:0a:00.0/numa_node\n",
      "Your kernel may have been built without NUMA support.\n",
      "2023-05-18 00:48:45.519808: W tensorflow/core/common_runtime/gpu/gpu_device.cc:1956] Cannot dlopen some GPU libraries. Please make sure the missing libraries mentioned above are installed properly if you would like to use GPU. Follow the guide at https://www.tensorflow.org/install/gpu for how to download and setup the required libraries for your platform.\n",
      "Skipping registering GPU devices...\n"
     ]
    }
   ],
   "source": [
    "model=Sequential()\n",
    "###first layer\n",
    "model.add(Dense(100,input_shape=(128,)))\n",
    "model.add(Activation('relu'))\n",
    "model.add(Dropout(0.5))\n",
    "###second layer\n",
    "model.add(Dense(200))\n",
    "model.add(Activation('relu'))\n",
    "model.add(Dropout(0.5))\n",
    "###third layer\n",
    "model.add(Dense(100))\n",
    "model.add(Activation('relu'))\n",
    "model.add(Dropout(0.5))\n",
    "\n",
    "###final layer\n",
    "model.add(Dense(num_labels))\n",
    "model.add(Activation('softmax'))"
   ]
  },
  {
   "cell_type": "code",
   "execution_count": 21,
   "id": "74e84396",
   "metadata": {
    "collapsed": false,
    "jupyter": {
     "outputs_hidden": false
    },
    "tags": []
   },
   "outputs": [
    {
     "name": "stdout",
     "output_type": "stream",
     "text": [
      "Model: \"sequential\"\n",
      "_________________________________________________________________\n",
      " Layer (type)                Output Shape              Param #   \n",
      "=================================================================\n",
      " dense (Dense)               (None, 100)               12900     \n",
      "                                                                 \n",
      " activation (Activation)     (None, 100)               0         \n",
      "                                                                 \n",
      " dropout (Dropout)           (None, 100)               0         \n",
      "                                                                 \n",
      " dense_1 (Dense)             (None, 200)               20200     \n",
      "                                                                 \n",
      " activation_1 (Activation)   (None, 200)               0         \n",
      "                                                                 \n",
      " dropout_1 (Dropout)         (None, 200)               0         \n",
      "                                                                 \n",
      " dense_2 (Dense)             (None, 100)               20100     \n",
      "                                                                 \n",
      " activation_2 (Activation)   (None, 100)               0         \n",
      "                                                                 \n",
      " dropout_2 (Dropout)         (None, 100)               0         \n",
      "                                                                 \n",
      " dense_3 (Dense)             (None, 6)                 606       \n",
      "                                                                 \n",
      " activation_3 (Activation)   (None, 6)                 0         \n",
      "                                                                 \n",
      "=================================================================\n",
      "Total params: 53,806\n",
      "Trainable params: 53,806\n",
      "Non-trainable params: 0\n",
      "_________________________________________________________________\n"
     ]
    }
   ],
   "source": [
    "model.summary()"
   ]
  },
  {
   "cell_type": "code",
   "execution_count": 22,
   "id": "7fcc9fb0",
   "metadata": {
    "collapsed": false,
    "jupyter": {
     "outputs_hidden": false
    },
    "tags": []
   },
   "outputs": [],
   "source": [
    "model.compile(loss='categorical_crossentropy',metrics=['accuracy'],optimizer='adam')"
   ]
  },
  {
   "cell_type": "code",
   "execution_count": 23,
   "id": "593b37d1",
   "metadata": {
    "collapsed": false,
    "jupyter": {
     "outputs_hidden": false
    },
    "tags": []
   },
   "outputs": [
    {
     "name": "stdout",
     "output_type": "stream",
     "text": [
      "Epoch 1/100\n",
      "2220/2250 [============================>.] - ETA: 0s - loss: 2.6100 - accuracy: 0.1971\n",
      "Epoch 1: val_loss improved from inf to 1.69304, saving model to saved_models/audio_classification.hdf5\n",
      "2250/2250 [==============================] - 4s 1ms/step - loss: 2.5984 - accuracy: 0.1976 - val_loss: 1.6930 - val_accuracy: 0.2220\n",
      "Epoch 2/100\n",
      "2226/2250 [============================>.] - ETA: 0s - loss: 1.4895 - accuracy: 0.3288\n",
      "Epoch 2: val_loss improved from 1.69304 to 0.96172, saving model to saved_models/audio_classification.hdf5\n",
      "2250/2250 [==============================] - 3s 1ms/step - loss: 1.4852 - accuracy: 0.3305 - val_loss: 0.9617 - val_accuracy: 0.5241\n",
      "Epoch 3/100\n",
      "2211/2250 [============================>.] - ETA: 0s - loss: 1.0272 - accuracy: 0.5233\n",
      "Epoch 3: val_loss improved from 0.96172 to 0.82129, saving model to saved_models/audio_classification.hdf5\n",
      "2250/2250 [==============================] - 3s 1ms/step - loss: 1.0261 - accuracy: 0.5237 - val_loss: 0.8213 - val_accuracy: 0.6603\n",
      "Epoch 4/100\n",
      "2214/2250 [============================>.] - ETA: 0s - loss: 0.9279 - accuracy: 0.5771\n",
      "Epoch 4: val_loss improved from 0.82129 to 0.75709, saving model to saved_models/audio_classification.hdf5\n",
      "2250/2250 [==============================] - 3s 1ms/step - loss: 0.9276 - accuracy: 0.5772 - val_loss: 0.7571 - val_accuracy: 0.6894\n",
      "Epoch 5/100\n",
      "2241/2250 [============================>.] - ETA: 0s - loss: 0.8947 - accuracy: 0.6007\n",
      "Epoch 5: val_loss improved from 0.75709 to 0.74876, saving model to saved_models/audio_classification.hdf5\n",
      "2250/2250 [==============================] - 3s 1ms/step - loss: 0.8947 - accuracy: 0.6007 - val_loss: 0.7488 - val_accuracy: 0.7041\n",
      "Epoch 6/100\n",
      "2220/2250 [============================>.] - ETA: 0s - loss: 0.8724 - accuracy: 0.6143\n",
      "Epoch 6: val_loss did not improve from 0.74876\n",
      "2250/2250 [==============================] - 3s 1ms/step - loss: 0.8718 - accuracy: 0.6146 - val_loss: 0.7605 - val_accuracy: 0.6901\n",
      "Epoch 7/100\n",
      "2206/2250 [============================>.] - ETA: 0s - loss: 0.8554 - accuracy: 0.6236\n",
      "Epoch 7: val_loss improved from 0.74876 to 0.72883, saving model to saved_models/audio_classification.hdf5\n",
      "2250/2250 [==============================] - 3s 1ms/step - loss: 0.8553 - accuracy: 0.6235 - val_loss: 0.7288 - val_accuracy: 0.7137\n",
      "Epoch 8/100\n",
      "2234/2250 [============================>.] - ETA: 0s - loss: 0.8405 - accuracy: 0.6273\n",
      "Epoch 8: val_loss improved from 0.72883 to 0.71183, saving model to saved_models/audio_classification.hdf5\n",
      "2250/2250 [==============================] - 3s 1ms/step - loss: 0.8400 - accuracy: 0.6278 - val_loss: 0.7118 - val_accuracy: 0.7091\n",
      "Epoch 9/100\n",
      "2213/2250 [============================>.] - ETA: 0s - loss: 0.8346 - accuracy: 0.6340\n",
      "Epoch 9: val_loss did not improve from 0.71183\n",
      "2250/2250 [==============================] - 3s 1ms/step - loss: 0.8350 - accuracy: 0.6342 - val_loss: 0.7468 - val_accuracy: 0.6936\n",
      "Epoch 10/100\n",
      "2219/2250 [============================>.] - ETA: 0s - loss: 0.8260 - accuracy: 0.6372\n",
      "Epoch 10: val_loss did not improve from 0.71183\n",
      "2250/2250 [==============================] - 3s 1ms/step - loss: 0.8265 - accuracy: 0.6370 - val_loss: 0.7348 - val_accuracy: 0.7169\n",
      "Epoch 11/100\n",
      "2238/2250 [============================>.] - ETA: 0s - loss: 0.8231 - accuracy: 0.6373\n",
      "Epoch 11: val_loss did not improve from 0.71183\n",
      "2250/2250 [==============================] - 3s 1ms/step - loss: 0.8231 - accuracy: 0.6374 - val_loss: 0.7263 - val_accuracy: 0.7111\n",
      "Epoch 12/100\n",
      "2223/2250 [============================>.] - ETA: 0s - loss: 0.8186 - accuracy: 0.6421\n",
      "Epoch 12: val_loss improved from 0.71183 to 0.69966, saving model to saved_models/audio_classification.hdf5\n",
      "2250/2250 [==============================] - 3s 1ms/step - loss: 0.8184 - accuracy: 0.6421 - val_loss: 0.6997 - val_accuracy: 0.7192\n",
      "Epoch 13/100\n",
      "2215/2250 [============================>.] - ETA: 0s - loss: 0.8132 - accuracy: 0.6420\n",
      "Epoch 13: val_loss did not improve from 0.69966\n",
      "2250/2250 [==============================] - 3s 1ms/step - loss: 0.8134 - accuracy: 0.6416 - val_loss: 0.7087 - val_accuracy: 0.7083\n",
      "Epoch 14/100\n",
      "2221/2250 [============================>.] - ETA: 0s - loss: 0.8112 - accuracy: 0.6435\n",
      "Epoch 14: val_loss improved from 0.69966 to 0.68196, saving model to saved_models/audio_classification.hdf5\n",
      "2250/2250 [==============================] - 3s 1ms/step - loss: 0.8105 - accuracy: 0.6439 - val_loss: 0.6820 - val_accuracy: 0.7181\n",
      "Epoch 15/100\n",
      "2219/2250 [============================>.] - ETA: 0s - loss: 0.8096 - accuracy: 0.6446\n",
      "Epoch 15: val_loss did not improve from 0.68196\n",
      "2250/2250 [==============================] - 3s 1ms/step - loss: 0.8095 - accuracy: 0.6446 - val_loss: 0.6918 - val_accuracy: 0.7224\n",
      "Epoch 16/100\n",
      "2217/2250 [============================>.] - ETA: 0s - loss: 0.8091 - accuracy: 0.6474\n",
      "Epoch 16: val_loss did not improve from 0.68196\n",
      "2250/2250 [==============================] - 3s 1ms/step - loss: 0.8088 - accuracy: 0.6473 - val_loss: 0.6952 - val_accuracy: 0.7267\n",
      "Epoch 17/100\n",
      "2235/2250 [============================>.] - ETA: 0s - loss: 0.8052 - accuracy: 0.6484\n",
      "Epoch 17: val_loss did not improve from 0.68196\n",
      "2250/2250 [==============================] - 3s 1ms/step - loss: 0.8049 - accuracy: 0.6486 - val_loss: 0.6982 - val_accuracy: 0.7244\n",
      "Epoch 18/100\n",
      "2250/2250 [==============================] - ETA: 0s - loss: 0.8004 - accuracy: 0.6495\n",
      "Epoch 18: val_loss did not improve from 0.68196\n",
      "2250/2250 [==============================] - 3s 1ms/step - loss: 0.8004 - accuracy: 0.6495 - val_loss: 0.6890 - val_accuracy: 0.7242\n",
      "Epoch 19/100\n",
      "2214/2250 [============================>.] - ETA: 0s - loss: 0.8016 - accuracy: 0.6479\n",
      "Epoch 19: val_loss did not improve from 0.68196\n",
      "2250/2250 [==============================] - 3s 1ms/step - loss: 0.8011 - accuracy: 0.6480 - val_loss: 0.7032 - val_accuracy: 0.7209\n",
      "Epoch 20/100\n",
      "2213/2250 [============================>.] - ETA: 0s - loss: 0.8037 - accuracy: 0.6501\n",
      "Epoch 20: val_loss improved from 0.68196 to 0.67311, saving model to saved_models/audio_classification.hdf5\n",
      "2250/2250 [==============================] - 3s 1ms/step - loss: 0.8029 - accuracy: 0.6502 - val_loss: 0.6731 - val_accuracy: 0.7318\n",
      "Epoch 21/100\n",
      "2234/2250 [============================>.] - ETA: 0s - loss: 0.7980 - accuracy: 0.6506\n",
      "Epoch 21: val_loss did not improve from 0.67311\n",
      "2250/2250 [==============================] - 3s 1ms/step - loss: 0.7978 - accuracy: 0.6507 - val_loss: 0.6774 - val_accuracy: 0.7214\n",
      "Epoch 22/100\n",
      "2231/2250 [============================>.] - ETA: 0s - loss: 0.7953 - accuracy: 0.6542\n",
      "Epoch 22: val_loss did not improve from 0.67311\n",
      "2250/2250 [==============================] - 3s 1ms/step - loss: 0.7953 - accuracy: 0.6542 - val_loss: 0.7019 - val_accuracy: 0.7223\n",
      "Epoch 23/100\n",
      "2221/2250 [============================>.] - ETA: 0s - loss: 0.7953 - accuracy: 0.6533\n",
      "Epoch 23: val_loss did not improve from 0.67311\n",
      "2250/2250 [==============================] - 3s 1ms/step - loss: 0.7950 - accuracy: 0.6535 - val_loss: 0.6912 - val_accuracy: 0.7220\n",
      "Epoch 24/100\n",
      "2230/2250 [============================>.] - ETA: 0s - loss: 0.7919 - accuracy: 0.6557\n",
      "Epoch 24: val_loss improved from 0.67311 to 0.66422, saving model to saved_models/audio_classification.hdf5\n",
      "2250/2250 [==============================] - 3s 1ms/step - loss: 0.7917 - accuracy: 0.6556 - val_loss: 0.6642 - val_accuracy: 0.7364\n",
      "Epoch 25/100\n",
      "2233/2250 [============================>.] - ETA: 0s - loss: 0.7880 - accuracy: 0.6559\n",
      "Epoch 25: val_loss did not improve from 0.66422\n",
      "2250/2250 [==============================] - 3s 1ms/step - loss: 0.7883 - accuracy: 0.6558 - val_loss: 0.6827 - val_accuracy: 0.7279\n",
      "Epoch 26/100\n",
      "2208/2250 [============================>.] - ETA: 0s - loss: 0.7895 - accuracy: 0.6571\n",
      "Epoch 26: val_loss did not improve from 0.66422\n",
      "2250/2250 [==============================] - 3s 1ms/step - loss: 0.7887 - accuracy: 0.6572 - val_loss: 0.6650 - val_accuracy: 0.7263\n",
      "Epoch 27/100\n",
      "2233/2250 [============================>.] - ETA: 0s - loss: 0.7887 - accuracy: 0.6580\n",
      "Epoch 27: val_loss did not improve from 0.66422\n",
      "2250/2250 [==============================] - 3s 1ms/step - loss: 0.7886 - accuracy: 0.6581 - val_loss: 0.6859 - val_accuracy: 0.7307\n",
      "Epoch 28/100\n",
      "2246/2250 [============================>.] - ETA: 0s - loss: 0.7871 - accuracy: 0.6600\n",
      "Epoch 28: val_loss did not improve from 0.66422\n",
      "2250/2250 [==============================] - 3s 1ms/step - loss: 0.7871 - accuracy: 0.6600 - val_loss: 0.6701 - val_accuracy: 0.7302\n",
      "Epoch 29/100\n",
      "2224/2250 [============================>.] - ETA: 0s - loss: 0.7863 - accuracy: 0.6600\n",
      "Epoch 29: val_loss improved from 0.66422 to 0.66393, saving model to saved_models/audio_classification.hdf5\n",
      "2250/2250 [==============================] - 3s 1ms/step - loss: 0.7864 - accuracy: 0.6597 - val_loss: 0.6639 - val_accuracy: 0.7325\n",
      "Epoch 30/100\n",
      "2247/2250 [============================>.] - ETA: 0s - loss: 0.7871 - accuracy: 0.6582\n",
      "Epoch 30: val_loss did not improve from 0.66393\n",
      "2250/2250 [==============================] - 3s 1ms/step - loss: 0.7872 - accuracy: 0.6582 - val_loss: 0.6646 - val_accuracy: 0.7337\n",
      "Epoch 31/100\n",
      "2236/2250 [============================>.] - ETA: 0s - loss: 0.7808 - accuracy: 0.6602\n",
      "Epoch 31: val_loss did not improve from 0.66393\n",
      "2250/2250 [==============================] - 3s 1ms/step - loss: 0.7807 - accuracy: 0.6602 - val_loss: 0.6847 - val_accuracy: 0.7274\n",
      "Epoch 32/100\n",
      "2221/2250 [============================>.] - ETA: 0s - loss: 0.7810 - accuracy: 0.6585\n",
      "Epoch 32: val_loss did not improve from 0.66393\n",
      "2250/2250 [==============================] - 3s 1ms/step - loss: 0.7818 - accuracy: 0.6581 - val_loss: 0.6855 - val_accuracy: 0.7324\n",
      "Epoch 33/100\n",
      "2242/2250 [============================>.] - ETA: 0s - loss: 0.7798 - accuracy: 0.6622\n",
      "Epoch 33: val_loss did not improve from 0.66393\n",
      "2250/2250 [==============================] - 3s 1ms/step - loss: 0.7798 - accuracy: 0.6622 - val_loss: 0.6750 - val_accuracy: 0.7275\n",
      "Epoch 34/100\n",
      "2237/2250 [============================>.] - ETA: 0s - loss: 0.7761 - accuracy: 0.6625\n",
      "Epoch 34: val_loss improved from 0.66393 to 0.66326, saving model to saved_models/audio_classification.hdf5\n",
      "2250/2250 [==============================] - 3s 1ms/step - loss: 0.7758 - accuracy: 0.6626 - val_loss: 0.6633 - val_accuracy: 0.7305\n",
      "Epoch 35/100\n",
      "2206/2250 [============================>.] - ETA: 0s - loss: 0.7815 - accuracy: 0.6604\n",
      "Epoch 35: val_loss did not improve from 0.66326\n",
      "2250/2250 [==============================] - 3s 1ms/step - loss: 0.7815 - accuracy: 0.6602 - val_loss: 0.6669 - val_accuracy: 0.7197\n",
      "Epoch 36/100\n",
      "2245/2250 [============================>.] - ETA: 0s - loss: 0.7766 - accuracy: 0.6617\n",
      "Epoch 36: val_loss improved from 0.66326 to 0.65444, saving model to saved_models/audio_classification.hdf5\n",
      "2250/2250 [==============================] - 3s 1ms/step - loss: 0.7766 - accuracy: 0.6617 - val_loss: 0.6544 - val_accuracy: 0.7369\n",
      "Epoch 37/100\n",
      "2243/2250 [============================>.] - ETA: 0s - loss: 0.7826 - accuracy: 0.6595\n",
      "Epoch 37: val_loss improved from 0.65444 to 0.65416, saving model to saved_models/audio_classification.hdf5\n",
      "2250/2250 [==============================] - 3s 1ms/step - loss: 0.7829 - accuracy: 0.6593 - val_loss: 0.6542 - val_accuracy: 0.7357\n",
      "Epoch 38/100\n",
      "2235/2250 [============================>.] - ETA: 0s - loss: 0.7785 - accuracy: 0.6651\n",
      "Epoch 38: val_loss did not improve from 0.65416\n",
      "2250/2250 [==============================] - 3s 1ms/step - loss: 0.7787 - accuracy: 0.6651 - val_loss: 0.6738 - val_accuracy: 0.7237\n",
      "Epoch 39/100\n",
      "2226/2250 [============================>.] - ETA: 0s - loss: 0.7734 - accuracy: 0.6649\n",
      "Epoch 39: val_loss did not improve from 0.65416\n",
      "2250/2250 [==============================] - 3s 1ms/step - loss: 0.7738 - accuracy: 0.6646 - val_loss: 0.6703 - val_accuracy: 0.7298\n",
      "Epoch 40/100\n",
      "2220/2250 [============================>.] - ETA: 0s - loss: 0.7737 - accuracy: 0.6613\n",
      "Epoch 40: val_loss did not improve from 0.65416\n",
      "2250/2250 [==============================] - 3s 1ms/step - loss: 0.7740 - accuracy: 0.6611 - val_loss: 0.6719 - val_accuracy: 0.7253\n",
      "Epoch 41/100\n",
      "2241/2250 [============================>.] - ETA: 0s - loss: 0.7737 - accuracy: 0.6654\n",
      "Epoch 41: val_loss did not improve from 0.65416\n",
      "2250/2250 [==============================] - 3s 1ms/step - loss: 0.7736 - accuracy: 0.6656 - val_loss: 0.6656 - val_accuracy: 0.7263\n",
      "Epoch 42/100\n",
      "2220/2250 [============================>.] - ETA: 0s - loss: 0.7755 - accuracy: 0.6634\n",
      "Epoch 42: val_loss improved from 0.65416 to 0.65331, saving model to saved_models/audio_classification.hdf5\n",
      "2250/2250 [==============================] - 3s 1ms/step - loss: 0.7756 - accuracy: 0.6635 - val_loss: 0.6533 - val_accuracy: 0.7321\n",
      "Epoch 43/100\n",
      "2232/2250 [============================>.] - ETA: 0s - loss: 0.7733 - accuracy: 0.6622\n",
      "Epoch 43: val_loss did not improve from 0.65331\n",
      "2250/2250 [==============================] - 3s 1ms/step - loss: 0.7736 - accuracy: 0.6620 - val_loss: 0.6583 - val_accuracy: 0.7280\n",
      "Epoch 44/100\n",
      "2233/2250 [============================>.] - ETA: 0s - loss: 0.7757 - accuracy: 0.6650\n",
      "Epoch 44: val_loss improved from 0.65331 to 0.64532, saving model to saved_models/audio_classification.hdf5\n",
      "2250/2250 [==============================] - 3s 1ms/step - loss: 0.7754 - accuracy: 0.6650 - val_loss: 0.6453 - val_accuracy: 0.7313\n",
      "Epoch 45/100\n",
      "2247/2250 [============================>.] - ETA: 0s - loss: 0.7752 - accuracy: 0.6653\n",
      "Epoch 45: val_loss did not improve from 0.64532\n",
      "2250/2250 [==============================] - 3s 1ms/step - loss: 0.7755 - accuracy: 0.6653 - val_loss: 0.6733 - val_accuracy: 0.7283\n",
      "Epoch 46/100\n",
      "2206/2250 [============================>.] - ETA: 0s - loss: 0.7756 - accuracy: 0.6639\n",
      "Epoch 46: val_loss did not improve from 0.64532\n",
      "2250/2250 [==============================] - 3s 1ms/step - loss: 0.7759 - accuracy: 0.6638 - val_loss: 0.6641 - val_accuracy: 0.7354\n",
      "Epoch 47/100\n",
      "2228/2250 [============================>.] - ETA: 0s - loss: 0.7750 - accuracy: 0.6639\n",
      "Epoch 47: val_loss did not improve from 0.64532\n",
      "2250/2250 [==============================] - 3s 1ms/step - loss: 0.7754 - accuracy: 0.6639 - val_loss: 0.6579 - val_accuracy: 0.7308\n",
      "Epoch 48/100\n",
      "2228/2250 [============================>.] - ETA: 0s - loss: 0.7704 - accuracy: 0.6652\n",
      "Epoch 48: val_loss did not improve from 0.64532\n",
      "2250/2250 [==============================] - 3s 1ms/step - loss: 0.7700 - accuracy: 0.6653 - val_loss: 0.6538 - val_accuracy: 0.7346\n",
      "Epoch 49/100\n",
      "2222/2250 [============================>.] - ETA: 0s - loss: 0.7702 - accuracy: 0.6646\n",
      "Epoch 49: val_loss did not improve from 0.64532\n",
      "2250/2250 [==============================] - 3s 1ms/step - loss: 0.7703 - accuracy: 0.6646 - val_loss: 0.6569 - val_accuracy: 0.7314\n",
      "Epoch 50/100\n",
      "2221/2250 [============================>.] - ETA: 0s - loss: 0.7648 - accuracy: 0.6655\n",
      "Epoch 50: val_loss improved from 0.64532 to 0.64410, saving model to saved_models/audio_classification.hdf5\n",
      "2250/2250 [==============================] - 3s 1ms/step - loss: 0.7649 - accuracy: 0.6657 - val_loss: 0.6441 - val_accuracy: 0.7394\n",
      "Epoch 51/100\n",
      "2218/2250 [============================>.] - ETA: 0s - loss: 0.7743 - accuracy: 0.6650\n",
      "Epoch 51: val_loss did not improve from 0.64410\n",
      "2250/2250 [==============================] - 3s 1ms/step - loss: 0.7740 - accuracy: 0.6650 - val_loss: 0.6578 - val_accuracy: 0.7333\n",
      "Epoch 52/100\n",
      "2221/2250 [============================>.] - ETA: 0s - loss: 0.7744 - accuracy: 0.6655\n",
      "Epoch 52: val_loss did not improve from 0.64410\n",
      "2250/2250 [==============================] - 3s 1ms/step - loss: 0.7735 - accuracy: 0.6659 - val_loss: 0.6476 - val_accuracy: 0.7393\n",
      "Epoch 53/100\n",
      "2238/2250 [============================>.] - ETA: 0s - loss: 0.7648 - accuracy: 0.6680\n",
      "Epoch 53: val_loss did not improve from 0.64410\n",
      "2250/2250 [==============================] - 3s 1ms/step - loss: 0.7646 - accuracy: 0.6679 - val_loss: 0.6701 - val_accuracy: 0.7370\n",
      "Epoch 54/100\n",
      "2220/2250 [============================>.] - ETA: 0s - loss: 0.7717 - accuracy: 0.6660\n",
      "Epoch 54: val_loss did not improve from 0.64410\n",
      "2250/2250 [==============================] - 3s 1ms/step - loss: 0.7712 - accuracy: 0.6663 - val_loss: 0.6588 - val_accuracy: 0.7326\n",
      "Epoch 55/100\n",
      "2230/2250 [============================>.] - ETA: 0s - loss: 0.7681 - accuracy: 0.6634\n",
      "Epoch 55: val_loss did not improve from 0.64410\n",
      "2250/2250 [==============================] - 3s 2ms/step - loss: 0.7680 - accuracy: 0.6634 - val_loss: 0.6555 - val_accuracy: 0.7366\n",
      "Epoch 56/100\n",
      "2212/2250 [============================>.] - ETA: 0s - loss: 0.7647 - accuracy: 0.6689\n",
      "Epoch 56: val_loss did not improve from 0.64410\n",
      "2250/2250 [==============================] - 3s 1ms/step - loss: 0.7658 - accuracy: 0.6682 - val_loss: 0.6707 - val_accuracy: 0.7353\n",
      "Epoch 57/100\n",
      "2228/2250 [============================>.] - ETA: 0s - loss: 0.7696 - accuracy: 0.6658\n",
      "Epoch 57: val_loss did not improve from 0.64410\n",
      "2250/2250 [==============================] - 3s 1ms/step - loss: 0.7695 - accuracy: 0.6659 - val_loss: 0.6473 - val_accuracy: 0.7387\n",
      "Epoch 58/100\n",
      "2228/2250 [============================>.] - ETA: 0s - loss: 0.7654 - accuracy: 0.6668\n",
      "Epoch 58: val_loss did not improve from 0.64410\n",
      "2250/2250 [==============================] - 3s 1ms/step - loss: 0.7654 - accuracy: 0.6667 - val_loss: 0.6564 - val_accuracy: 0.7319\n",
      "Epoch 59/100\n",
      "2220/2250 [============================>.] - ETA: 0s - loss: 0.7682 - accuracy: 0.6668\n",
      "Epoch 59: val_loss did not improve from 0.64410\n",
      "2250/2250 [==============================] - 3s 1ms/step - loss: 0.7683 - accuracy: 0.6669 - val_loss: 0.6488 - val_accuracy: 0.7358\n",
      "Epoch 60/100\n",
      "2239/2250 [============================>.] - ETA: 0s - loss: 0.7685 - accuracy: 0.6630\n",
      "Epoch 60: val_loss improved from 0.64410 to 0.64253, saving model to saved_models/audio_classification.hdf5\n",
      "2250/2250 [==============================] - 3s 1ms/step - loss: 0.7686 - accuracy: 0.6631 - val_loss: 0.6425 - val_accuracy: 0.7342\n",
      "Epoch 61/100\n",
      "2224/2250 [============================>.] - ETA: 0s - loss: 0.7723 - accuracy: 0.6645\n",
      "Epoch 61: val_loss did not improve from 0.64253\n",
      "2250/2250 [==============================] - 3s 1ms/step - loss: 0.7725 - accuracy: 0.6645 - val_loss: 0.6525 - val_accuracy: 0.7388\n",
      "Epoch 62/100\n",
      "2234/2250 [============================>.] - ETA: 0s - loss: 0.7643 - accuracy: 0.6690\n",
      "Epoch 62: val_loss did not improve from 0.64253\n",
      "2250/2250 [==============================] - 3s 1ms/step - loss: 0.7640 - accuracy: 0.6690 - val_loss: 0.6508 - val_accuracy: 0.7372\n",
      "Epoch 63/100\n",
      "2240/2250 [============================>.] - ETA: 0s - loss: 0.7694 - accuracy: 0.6673\n",
      "Epoch 63: val_loss did not improve from 0.64253\n",
      "2250/2250 [==============================] - 3s 1ms/step - loss: 0.7693 - accuracy: 0.6674 - val_loss: 0.6610 - val_accuracy: 0.7348\n",
      "Epoch 64/100\n",
      "2212/2250 [============================>.] - ETA: 0s - loss: 0.7666 - accuracy: 0.6670\n",
      "Epoch 64: val_loss did not improve from 0.64253\n",
      "2250/2250 [==============================] - 3s 1ms/step - loss: 0.7668 - accuracy: 0.6671 - val_loss: 0.6768 - val_accuracy: 0.7248\n",
      "Epoch 65/100\n",
      "2237/2250 [============================>.] - ETA: 0s - loss: 0.7646 - accuracy: 0.6677\n",
      "Epoch 65: val_loss did not improve from 0.64253\n",
      "2250/2250 [==============================] - 3s 1ms/step - loss: 0.7645 - accuracy: 0.6678 - val_loss: 0.6725 - val_accuracy: 0.7372\n",
      "Epoch 66/100\n",
      "2233/2250 [============================>.] - ETA: 0s - loss: 0.7627 - accuracy: 0.6683\n",
      "Epoch 66: val_loss did not improve from 0.64253\n",
      "2250/2250 [==============================] - 3s 1ms/step - loss: 0.7629 - accuracy: 0.6683 - val_loss: 0.6634 - val_accuracy: 0.7374\n",
      "Epoch 67/100\n",
      "2213/2250 [============================>.] - ETA: 0s - loss: 0.7640 - accuracy: 0.6713\n",
      "Epoch 67: val_loss did not improve from 0.64253\n",
      "2250/2250 [==============================] - 3s 1ms/step - loss: 0.7639 - accuracy: 0.6711 - val_loss: 0.6586 - val_accuracy: 0.7361\n",
      "Epoch 68/100\n",
      "2221/2250 [============================>.] - ETA: 0s - loss: 0.7710 - accuracy: 0.6696\n",
      "Epoch 68: val_loss did not improve from 0.64253\n",
      "2250/2250 [==============================] - 3s 1ms/step - loss: 0.7708 - accuracy: 0.6698 - val_loss: 0.6692 - val_accuracy: 0.7373\n",
      "Epoch 69/100\n",
      "2220/2250 [============================>.] - ETA: 0s - loss: 0.7663 - accuracy: 0.6689\n",
      "Epoch 69: val_loss did not improve from 0.64253\n",
      "2250/2250 [==============================] - 3s 1ms/step - loss: 0.7661 - accuracy: 0.6690 - val_loss: 0.6496 - val_accuracy: 0.7296\n",
      "Epoch 70/100\n",
      "2243/2250 [============================>.] - ETA: 0s - loss: 0.7609 - accuracy: 0.6694\n",
      "Epoch 70: val_loss did not improve from 0.64253\n",
      "2250/2250 [==============================] - 3s 1ms/step - loss: 0.7607 - accuracy: 0.6694 - val_loss: 0.6569 - val_accuracy: 0.7324\n",
      "Epoch 71/100\n",
      "2228/2250 [============================>.] - ETA: 0s - loss: 0.7653 - accuracy: 0.6713\n",
      "Epoch 71: val_loss did not improve from 0.64253\n",
      "2250/2250 [==============================] - 3s 1ms/step - loss: 0.7655 - accuracy: 0.6714 - val_loss: 0.6579 - val_accuracy: 0.7326\n",
      "Epoch 72/100\n",
      "2241/2250 [============================>.] - ETA: 0s - loss: 0.7591 - accuracy: 0.6707\n",
      "Epoch 72: val_loss did not improve from 0.64253\n",
      "2250/2250 [==============================] - 3s 1ms/step - loss: 0.7589 - accuracy: 0.6707 - val_loss: 0.6573 - val_accuracy: 0.7347\n",
      "Epoch 73/100\n",
      "2228/2250 [============================>.] - ETA: 0s - loss: 0.7634 - accuracy: 0.6729\n",
      "Epoch 73: val_loss did not improve from 0.64253\n",
      "2250/2250 [==============================] - 3s 1ms/step - loss: 0.7630 - accuracy: 0.6730 - val_loss: 0.6507 - val_accuracy: 0.7327\n",
      "Epoch 74/100\n",
      "2249/2250 [============================>.] - ETA: 0s - loss: 0.7612 - accuracy: 0.6750\n",
      "Epoch 74: val_loss did not improve from 0.64253\n",
      "2250/2250 [==============================] - 3s 1ms/step - loss: 0.7612 - accuracy: 0.6750 - val_loss: 0.6679 - val_accuracy: 0.7210\n",
      "Epoch 75/100\n",
      "2230/2250 [============================>.] - ETA: 0s - loss: 0.7618 - accuracy: 0.6727\n",
      "Epoch 75: val_loss did not improve from 0.64253\n",
      "2250/2250 [==============================] - 3s 1ms/step - loss: 0.7622 - accuracy: 0.6724 - val_loss: 0.6457 - val_accuracy: 0.7393\n",
      "Epoch 76/100\n",
      "2239/2250 [============================>.] - ETA: 0s - loss: 0.7588 - accuracy: 0.6727\n",
      "Epoch 76: val_loss did not improve from 0.64253\n",
      "2250/2250 [==============================] - 3s 1ms/step - loss: 0.7589 - accuracy: 0.6726 - val_loss: 0.6453 - val_accuracy: 0.7357\n",
      "Epoch 77/100\n",
      "2215/2250 [============================>.] - ETA: 0s - loss: 0.7529 - accuracy: 0.6753\n",
      "Epoch 77: val_loss did not improve from 0.64253\n",
      "2250/2250 [==============================] - 3s 1ms/step - loss: 0.7527 - accuracy: 0.6755 - val_loss: 0.6639 - val_accuracy: 0.7354\n",
      "Epoch 78/100\n",
      "2226/2250 [============================>.] - ETA: 0s - loss: 0.7554 - accuracy: 0.6760\n",
      "Epoch 78: val_loss did not improve from 0.64253\n",
      "2250/2250 [==============================] - 3s 1ms/step - loss: 0.7559 - accuracy: 0.6757 - val_loss: 0.6600 - val_accuracy: 0.7298\n",
      "Epoch 79/100\n",
      "2213/2250 [============================>.] - ETA: 0s - loss: 0.7562 - accuracy: 0.6744\n",
      "Epoch 79: val_loss did not improve from 0.64253\n",
      "2250/2250 [==============================] - 3s 1ms/step - loss: 0.7566 - accuracy: 0.6743 - val_loss: 0.6694 - val_accuracy: 0.7238\n",
      "Epoch 80/100\n",
      "2213/2250 [============================>.] - ETA: 0s - loss: 0.7573 - accuracy: 0.6753\n",
      "Epoch 80: val_loss did not improve from 0.64253\n",
      "2250/2250 [==============================] - 3s 1ms/step - loss: 0.7575 - accuracy: 0.6754 - val_loss: 0.6542 - val_accuracy: 0.7404\n",
      "Epoch 81/100\n",
      "2227/2250 [============================>.] - ETA: 0s - loss: 0.7556 - accuracy: 0.6745\n",
      "Epoch 81: val_loss did not improve from 0.64253\n",
      "2250/2250 [==============================] - 3s 1ms/step - loss: 0.7558 - accuracy: 0.6744 - val_loss: 0.6629 - val_accuracy: 0.7277\n",
      "Epoch 82/100\n",
      "2211/2250 [============================>.] - ETA: 0s - loss: 0.7570 - accuracy: 0.6759\n",
      "Epoch 82: val_loss did not improve from 0.64253\n",
      "2250/2250 [==============================] - 3s 1ms/step - loss: 0.7573 - accuracy: 0.6759 - val_loss: 0.6624 - val_accuracy: 0.7400\n",
      "Epoch 83/100\n",
      "2221/2250 [============================>.] - ETA: 0s - loss: 0.7539 - accuracy: 0.6753\n",
      "Epoch 83: val_loss did not improve from 0.64253\n",
      "2250/2250 [==============================] - 3s 1ms/step - loss: 0.7541 - accuracy: 0.6753 - val_loss: 0.6445 - val_accuracy: 0.7443\n",
      "Epoch 84/100\n",
      "2243/2250 [============================>.] - ETA: 0s - loss: 0.7591 - accuracy: 0.6715\n",
      "Epoch 84: val_loss did not improve from 0.64253\n",
      "2250/2250 [==============================] - 3s 1ms/step - loss: 0.7596 - accuracy: 0.6713 - val_loss: 0.6809 - val_accuracy: 0.7322\n",
      "Epoch 85/100\n",
      "2241/2250 [============================>.] - ETA: 0s - loss: 0.7569 - accuracy: 0.6738\n",
      "Epoch 85: val_loss did not improve from 0.64253\n",
      "2250/2250 [==============================] - 3s 1ms/step - loss: 0.7570 - accuracy: 0.6737 - val_loss: 0.6534 - val_accuracy: 0.7355\n",
      "Epoch 86/100\n",
      "2214/2250 [============================>.] - ETA: 0s - loss: 0.7572 - accuracy: 0.6735\n",
      "Epoch 86: val_loss did not improve from 0.64253\n",
      "2250/2250 [==============================] - 3s 1ms/step - loss: 0.7575 - accuracy: 0.6735 - val_loss: 0.6690 - val_accuracy: 0.7351\n",
      "Epoch 87/100\n",
      "2248/2250 [============================>.] - ETA: 0s - loss: 0.7525 - accuracy: 0.6755\n",
      "Epoch 87: val_loss did not improve from 0.64253\n",
      "2250/2250 [==============================] - 3s 1ms/step - loss: 0.7526 - accuracy: 0.6754 - val_loss: 0.6541 - val_accuracy: 0.7362\n",
      "Epoch 88/100\n",
      "2208/2250 [============================>.] - ETA: 0s - loss: 0.7595 - accuracy: 0.6743\n",
      "Epoch 88: val_loss did not improve from 0.64253\n",
      "2250/2250 [==============================] - 3s 1ms/step - loss: 0.7592 - accuracy: 0.6743 - val_loss: 0.6436 - val_accuracy: 0.7419\n",
      "Epoch 89/100\n",
      "2235/2250 [============================>.] - ETA: 0s - loss: 0.7467 - accuracy: 0.6771\n",
      "Epoch 89: val_loss did not improve from 0.64253\n",
      "2250/2250 [==============================] - 3s 1ms/step - loss: 0.7470 - accuracy: 0.6771 - val_loss: 0.6532 - val_accuracy: 0.7392\n",
      "Epoch 90/100\n",
      "2238/2250 [============================>.] - ETA: 0s - loss: 0.7512 - accuracy: 0.6765\n",
      "Epoch 90: val_loss did not improve from 0.64253\n",
      "2250/2250 [==============================] - 3s 1ms/step - loss: 0.7516 - accuracy: 0.6763 - val_loss: 0.6504 - val_accuracy: 0.7368\n",
      "Epoch 91/100\n",
      "2230/2250 [============================>.] - ETA: 0s - loss: 0.7527 - accuracy: 0.6772\n",
      "Epoch 91: val_loss did not improve from 0.64253\n",
      "2250/2250 [==============================] - 3s 1ms/step - loss: 0.7526 - accuracy: 0.6774 - val_loss: 0.6518 - val_accuracy: 0.7421\n",
      "Epoch 92/100\n",
      "2221/2250 [============================>.] - ETA: 0s - loss: 0.7537 - accuracy: 0.6802\n",
      "Epoch 92: val_loss did not improve from 0.64253\n",
      "2250/2250 [==============================] - 3s 1ms/step - loss: 0.7539 - accuracy: 0.6800 - val_loss: 0.6437 - val_accuracy: 0.7403\n",
      "Epoch 93/100\n",
      "2235/2250 [============================>.] - ETA: 0s - loss: 0.7556 - accuracy: 0.6724\n",
      "Epoch 93: val_loss did not improve from 0.64253\n",
      "2250/2250 [==============================] - 3s 1ms/step - loss: 0.7553 - accuracy: 0.6726 - val_loss: 0.6522 - val_accuracy: 0.7354\n",
      "Epoch 94/100\n",
      "2222/2250 [============================>.] - ETA: 0s - loss: 0.7537 - accuracy: 0.6760\n",
      "Epoch 94: val_loss did not improve from 0.64253\n",
      "2250/2250 [==============================] - 3s 1ms/step - loss: 0.7536 - accuracy: 0.6761 - val_loss: 0.6593 - val_accuracy: 0.7362\n",
      "Epoch 95/100\n",
      "2237/2250 [============================>.] - ETA: 0s - loss: 0.7577 - accuracy: 0.6747\n",
      "Epoch 95: val_loss did not improve from 0.64253\n",
      "2250/2250 [==============================] - 3s 1ms/step - loss: 0.7577 - accuracy: 0.6746 - val_loss: 0.6562 - val_accuracy: 0.7367\n",
      "Epoch 96/100\n",
      "2212/2250 [============================>.] - ETA: 0s - loss: 0.7506 - accuracy: 0.6755\n",
      "Epoch 96: val_loss improved from 0.64253 to 0.63609, saving model to saved_models/audio_classification.hdf5\n",
      "2250/2250 [==============================] - 3s 1ms/step - loss: 0.7499 - accuracy: 0.6758 - val_loss: 0.6361 - val_accuracy: 0.7448\n",
      "Epoch 97/100\n",
      "2224/2250 [============================>.] - ETA: 0s - loss: 0.7508 - accuracy: 0.6772\n",
      "Epoch 97: val_loss did not improve from 0.63609\n",
      "2250/2250 [==============================] - 3s 1ms/step - loss: 0.7506 - accuracy: 0.6772 - val_loss: 0.6447 - val_accuracy: 0.7411\n",
      "Epoch 98/100\n",
      "2249/2250 [============================>.] - ETA: 0s - loss: 0.7555 - accuracy: 0.6745\n",
      "Epoch 98: val_loss did not improve from 0.63609\n",
      "2250/2250 [==============================] - 3s 1ms/step - loss: 0.7554 - accuracy: 0.6746 - val_loss: 0.6650 - val_accuracy: 0.7388\n",
      "Epoch 99/100\n",
      "2246/2250 [============================>.] - ETA: 0s - loss: 0.7578 - accuracy: 0.6781\n",
      "Epoch 99: val_loss did not improve from 0.63609\n",
      "2250/2250 [==============================] - 3s 1ms/step - loss: 0.7578 - accuracy: 0.6781 - val_loss: 0.6555 - val_accuracy: 0.7402\n",
      "Epoch 100/100\n",
      "2234/2250 [============================>.] - ETA: 0s - loss: 0.7503 - accuracy: 0.6762\n",
      "Epoch 100: val_loss did not improve from 0.63609\n",
      "2250/2250 [==============================] - 3s 1ms/step - loss: 0.7498 - accuracy: 0.6765 - val_loss: 0.6520 - val_accuracy: 0.7316\n",
      "Training completed in time:  0:05:02.222222\n"
     ]
    }
   ],
   "source": [
    "## Training model\n",
    "from tensorflow.keras.callbacks import ModelCheckpoint\n",
    "from datetime import datetime\n",
    "\n",
    "num_epochs = 100\n",
    "num_batch_size = 32\n",
    "\n",
    "checkpointer = ModelCheckpoint(filepath='saved_models/audio_classification.hdf5',\n",
    "                               verbose=1, save_best_only=True)\n",
    "start = datetime.now()\n",
    "\n",
    "history = model.fit(X_train, y_train, batch_size=num_batch_size, epochs=num_epochs, validation_data=(X_test, y_test), callbacks=[checkpointer], verbose=1)\n",
    "\n",
    "\n",
    "duration = datetime.now() - start\n",
    "print(\"Training completed in time: \", duration)"
   ]
  },
  {
   "cell_type": "code",
   "execution_count": 24,
   "id": "f59e33c1-4aa7-43d0-a5c5-0e5b49e4987b",
   "metadata": {
    "tags": []
   },
   "outputs": [
    {
     "data": {
      "image/png": "[encoded data removed]",
      "text/plain": [
       "<PIL.Image.Image image mode=RGBA size=347x63 at 0x7FCA7C437BE0>"
      ]
     },
     "execution_count": 24,
     "metadata": {},
     "output_type": "execute_result"
    }
   ],
   "source": [
    "visualkeras.layered_view(model,legend=True, draw_volume=True)"
   ]
  },
  {
   "cell_type": "code",
   "execution_count": 25,
   "id": "a6e09e02-3601-4b69-9810-ffece74b74af",
   "metadata": {
    "tags": []
   },
   "outputs": [
    {
     "data": {
      "image/png": "[encoded data removed]",
      "text/plain": [
       "<Figure size 432x288 with 1 Axes>"
      ]
     },
     "metadata": {
      "needs_background": "light"
     },
     "output_type": "display_data"
    }
   ],
   "source": [
    "import matplotlib.pyplot as plt\n",
    "plt.plot(history.history['accuracy'])\n",
    "plt.plot(history.history['val_accuracy'])\n",
    "plt.title('Model accuracy')\n",
    "plt.ylabel('Accuracy')\n",
    "plt.xlabel('Epoch')\n",
    "plt.legend(['Train', 'Test'], loc='upper left')\n",
    "plt.show()"
   ]
  },
  {
   "cell_type": "code",
   "execution_count": 26,
   "id": "48410f8a-e2f0-41d6-b964-33a4ea994b7c",
   "metadata": {
    "tags": []
   },
   "outputs": [
    {
     "data": {
      "image/png": "[encoded data removed]",
      "text/plain": [
       "<Figure size 432x288 with 1 Axes>"
      ]
     },
     "metadata": {
      "needs_background": "light"
     },
     "output_type": "display_data"
    }
   ],
   "source": [
    "plt.plot(history.history['loss']) \n",
    "plt.plot(history.history['val_loss']) \n",
    "plt.title('Model loss') \n",
    "plt.ylabel('Loss') \n",
    "plt.xlabel('Epoch') \n",
    "plt.legend(['Train', 'Test'], loc='upper left') \n",
    "plt.show()"
   ]
  },
  {
   "cell_type": "code",
   "execution_count": 27,
   "id": "56665242",
   "metadata": {
    "collapsed": false,
    "jupyter": {
     "outputs_hidden": false
    },
    "tags": []
   },
   "outputs": [
    {
     "name": "stdout",
     "output_type": "stream",
     "text": [
      "0.7316111326217651\n"
     ]
    }
   ],
   "source": [
    "test_accuracy=model.evaluate(X_test,y_test,verbose=0)\n",
    "print(test_accuracy[1])"
   ]
  },
  {
   "cell_type": "code",
   "execution_count": 28,
   "id": "035f1bfd-315b-4fd5-9fb8-4c1870301712",
   "metadata": {
    "tags": []
   },
   "outputs": [
    {
     "name": "stdout",
     "output_type": "stream",
     "text": [
      "563/563 [==============================] - 0s 615us/step\n"
     ]
    }
   ],
   "source": [
    "y_pred = model.predict(X_test)\n",
    "y_pred=np.argmax(y_pred, axis=1)\n",
    "y_test=np.argmax(y_test, axis=1)"
   ]
  },
  {
   "cell_type": "code",
   "execution_count": 29,
   "id": "3ed8192f-4e4b-41f6-bf5f-17d35cee95f5",
   "metadata": {
    "tags": []
   },
   "outputs": [
    {
     "name": "stdout",
     "output_type": "stream",
     "text": [
      "              precision    recall  f1-score   support\n",
      "\n",
      "     Catalan       0.78      0.84      0.81      2932\n",
      "      French       0.56      0.87      0.68      3003\n",
      "     Italian       0.75      0.46      0.57      2989\n",
      "  Portuguese       0.86      0.81      0.83      2953\n",
      "    Romanian       0.64      0.70      0.67      3062\n",
      "     Spanish       0.98      0.71      0.83      3061\n",
      "\n",
      "    accuracy                           0.73     18000\n",
      "   macro avg       0.76      0.73      0.73     18000\n",
      "weighted avg       0.76      0.73      0.73     18000\n",
      "\n"
     ]
    }
   ],
   "source": [
    "from sklearn.metrics import classification_report\n",
    "target_names = sorted(df.language.unique())\n",
    "print(classification_report(y_test, y_pred, target_names=target_names))"
   ]
  },
  {
   "cell_type": "code",
   "execution_count": 30,
   "id": "cd333bce-efa1-4227-9f8e-2317f3f66942",
   "metadata": {
    "tags": []
   },
   "outputs": [
    {
     "data": {
      "image/png": "[encoded data removed]",
      "text/plain": [
       "<Figure size 648x648 with 2 Axes>"
      ]
     },
     "metadata": {
      "needs_background": "light"
     },
     "output_type": "display_data"
    }
   ],
   "source": [
    "from sklearn.metrics import classification_report, confusion_matrix\n",
    "import seaborn as sns\n",
    "\n",
    "# Plotting the results:\n",
    "plt.figure(figsize=(9,9))\n",
    "sns.heatmap(metrics.confusion_matrix(y_test, y_pred), annot=True, fmt=\"d\", linewidths=.5, square = True, cmap = 'Blues_r', xticklabels=target_names, yticklabels=target_names);\n",
    "plt.ylabel('Actual label');\n",
    "plt.xlabel('Predicted label');\n",
    "all_sample_title = 'Accuracy Score: {0}'.format(test_accuracy[1])\n",
    "plt.title(all_sample_title, size = 15);"
   ]
  }
 ],
 "metadata": {
  "kernelspec": {
   "display_name": "Python 3 (ipykernel)",
   "language": "python",
   "name": "python3"
  },
  "language_info": {
   "codemirror_mode": {
    "name": "ipython",
    "version": 3
   },
   "file_extension": ".py",
   "mimetype": "text/x-python",
   "name": "python",
   "nbconvert_exporter": "python",
   "pygments_lexer": "ipython3",
   "version": "3.10.6"
  }
 },
 "nbformat": 4,
 "nbformat_minor": 5
}
