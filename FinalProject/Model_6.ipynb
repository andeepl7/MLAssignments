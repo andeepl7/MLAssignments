{
 "cells": [
  {
   "cell_type": "markdown",
   "id": "b8be734c",
   "metadata": {},
   "source": [
    "# STEP 3 Audio Preparation and Model\n"
   ]
  },
  {
   "cell_type": "code",
   "execution_count": 1,
   "id": "a611495d",
   "metadata": {
    "scrolled": true,
    "tags": []
   },
   "outputs": [],
   "source": [
    "import os\n",
    "import pandas as pd\n",
    "import numpy as np\n",
    "import librosa\n",
    "import soundfile as sf\n",
    "from tqdm.notebook import tqdm"
   ]
  },
  {
   "cell_type": "code",
   "execution_count": 2,
   "id": "4c61050a-108b-41af-9fee-98105fee0a64",
   "metadata": {
    "collapsed": false,
    "jupyter": {
     "outputs_hidden": false
    },
    "tags": []
   },
   "outputs": [],
   "source": [
    "#Global parameters\n",
    "language_dic = {\"es\" : \"Spanish\" , \"pt\": \"Portuguese\", \"it\": \"Italian\" }\n",
    "analysis_window_length = 0.01  # 10 ms in seconds\n",
    "language_mp3_path = \"/language_detector/languages\""
   ]
  },
  {
   "cell_type": "code",
   "execution_count": 3,
   "id": "e1221022",
   "metadata": {
    "collapsed": false,
    "jupyter": {
     "outputs_hidden": false
    },
    "tags": []
   },
   "outputs": [],
   "source": [
    "# number of repeats defined by minimum duration: ceil(10 seconds / min duration)\n",
    "min_clip = 0.10115625\n",
    "x_seconds = 5\n",
    "num_reps = int(np.ceil(x_seconds / min_clip))\n",
    "def repeat_audio_x_seconds(track, dur, num_repeats=10, fs=16000):\n",
    "    num_samples_xs = int(fs * dur)\n",
    "    track = np.concatenate([track]*num_repeats, axis=0)\n",
    "    track = track[0:num_samples_xs]\n",
    "    return track"
   ]
  },
  {
   "cell_type": "code",
   "execution_count": 6,
   "id": "0920bf4c-4d7b-4232-9663-1238da89b35d",
   "metadata": {
    "tags": []
   },
   "outputs": [],
   "source": [
    "def processing_audio(language_mp3_path, analysis_window_length, language_dic):\n",
    "    \"\"\"\n",
    "    This function samples mp3 files, analyzes the dataset content, and builds a dictionary of features.\n",
    "    \"\"\"\n",
    "    data = {\"filename\": [], \"language\": [], \"mfccs\": []}  # Initialize data dictionary here\n",
    "   \n",
    "    language_list = os.listdir(language_mp3_path)\n",
    "\n",
    "    for language in language_list:\n",
    "        language_path = os.path.join(language_mp3_path, language)\n",
    "\n",
    "        if language not in language_dic:\n",
    "            print(f\"Skipping language {language} because it is not in language_dic\")\n",
    "            continue\n",
    "\n",
    "        language_name = language_dic.get(language, \"Unknown language!\")\n",
    "\n",
    "        clips_path = os.path.join(language_path, \"clips\")\n",
    "        # Check if the clips directory exists\n",
    "        if not os.path.isdir(clips_path):\n",
    "            print(f\"No 'clips' directory found in {language_path}\")\n",
    "            continue\n",
    "\n",
    "        # get a list of all files in the folder\n",
    "        mp3_list = os.listdir(clips_path)\n",
    "        mp3_list = mp3_list[:15000]\n",
    "\n",
    "        # looping through all mp3s in one language\n",
    "        for mp3 in tqdm(mp3_list):\n",
    "            # adding the filename as key\n",
    "            data[\"filename\"].append(mp3)\n",
    "            # adding the label/language\n",
    "            data[\"language\"].append(language_name)\n",
    "            # adding the clip\n",
    "            audio_path = os.path.join(clips_path, mp3)\n",
    "            audio_samples, fs = sf.read(audio_path)\n",
    "            \n",
    "            # Ensure mono audio\n",
    "            if audio_samples.ndim > 1:\n",
    "                audio_samples = audio_samples.mean(axis=1)\n",
    "            \n",
    "            audio_samples = repeat_audio_x_seconds(audio_samples, x_seconds, num_repeats=num_reps, fs=fs)\n",
    "            y = audio_samples\n",
    "            sr = fs\n",
    "            hop_length = int(analysis_window_length * sr)\n",
    "            mfcc = librosa.feature.mfcc(y=y, sr=sr, n_mfcc=128, hop_length=hop_length)\n",
    "            mfccs_scaled_features = np.mean(mfcc.T,axis=0)\n",
    "            data[\"mfccs\"].append(mfccs_scaled_features)\n",
    "\n",
    "    return data\n"
   ]
  },
  {
   "cell_type": "code",
   "execution_count": 7,
   "id": "3dde3f61-f962-4f14-89b9-dd17dd5339aa",
   "metadata": {
    "tags": []
   },
   "outputs": [
    {
     "data": {
      "application/vnd.jupyter.widget-view+json": {
       "model_id": "5f59fb5cf11840da984c9e0d201d2c8c",
       "version_major": 2,
       "version_minor": 0
      },
      "text/plain": [
       "  0%|          | 0/15000 [00:00<?, ?it/s]"
      ]
     },
     "metadata": {},
     "output_type": "display_data"
    },
    {
     "name": "stdout",
     "output_type": "stream",
     "text": [
      "Skipping language ja because it is not in language_dic\n"
     ]
    },
    {
     "data": {
      "application/vnd.jupyter.widget-view+json": {
       "model_id": "86b079fe923b48329ea5000f2e7f5eb7",
       "version_major": 2,
       "version_minor": 0
      },
      "text/plain": [
       "  0%|          | 0/15000 [00:00<?, ?it/s]"
      ]
     },
     "metadata": {},
     "output_type": "display_data"
    },
    {
     "name": "stdout",
     "output_type": "stream",
     "text": [
      "Skipping language ro because it is not in language_dic\n",
      "Skipping language fr because it is not in language_dic\n",
      "Skipping language de because it is not in language_dic\n"
     ]
    },
    {
     "data": {
      "application/vnd.jupyter.widget-view+json": {
       "model_id": "02cf69df05ae479d91c0304dbc5de334",
       "version_major": 2,
       "version_minor": 0
      },
      "text/plain": [
       "  0%|          | 0/15000 [00:00<?, ?it/s]"
      ]
     },
     "metadata": {},
     "output_type": "display_data"
    },
    {
     "name": "stdout",
     "output_type": "stream",
     "text": [
      "Skipping language ca because it is not in language_dic\n"
     ]
    }
   ],
   "source": [
    "data = processing_audio(language_mp3_path, analysis_window_length, language_dic)"
   ]
  },
  {
   "cell_type": "code",
   "execution_count": 8,
   "id": "1803434b",
   "metadata": {
    "collapsed": false,
    "jupyter": {
     "outputs_hidden": false
    },
    "tags": []
   },
   "outputs": [
    {
     "name": "stdout",
     "output_type": "stream",
     "text": [
      "                       filename language  \\\n",
      "0  common_voice_it_20088702.mp3  Italian   \n",
      "1  common_voice_it_19551854.mp3  Italian   \n",
      "2  common_voice_it_18743170.mp3  Italian   \n",
      "3  common_voice_it_17435298.mp3  Italian   \n",
      "4  common_voice_it_17643038.mp3  Italian   \n",
      "\n",
      "                                               mfccs  \n",
      "0  [-509.42637693604524, 141.87227205184433, -21....  \n",
      "1  [-462.44217324521424, 123.85223618273513, 5.16...  \n",
      "2  [-555.3603803671399, 118.59406760712736, 15.93...  \n",
      "3  [-375.5775081671995, 110.9326861183273, -22.42...  \n",
      "4  [-357.521159412376, 163.38730732810754, -27.20...  \n"
     ]
    },
    {
     "data": {
      "text/plain": [
       "(128,)"
      ]
     },
     "execution_count": 8,
     "metadata": {},
     "output_type": "execute_result"
    }
   ],
   "source": [
    "# Printing shape to confirm the input to the model \n",
    "df = pd.DataFrame(data)\n",
    "print(df.head())\n",
    "df.mfccs[50].shape"
   ]
  },
  {
   "cell_type": "code",
   "execution_count": 13,
   "id": "bf358dcb",
   "metadata": {
    "collapsed": false,
    "jupyter": {
     "outputs_hidden": false
    },
    "tags": []
   },
   "outputs": [
    {
     "name": "stdout",
     "output_type": "stream",
     "text": [
      "The number of files loaded is: 45000, in 3 languages\n"
     ]
    }
   ],
   "source": [
    "#Check-point to see if all data was correctly loaded\n",
    "print(f'The number of files loaded is: {len(df[\"filename\"])}, in {df[\"language\"].nunique()} languages')"
   ]
  },
  {
   "cell_type": "code",
   "execution_count": 14,
   "id": "8fde0fb2",
   "metadata": {
    "collapsed": false,
    "jupyter": {
     "outputs_hidden": false
    },
    "tags": []
   },
   "outputs": [],
   "source": [
    "X = np.array(df['mfccs'].tolist())\n",
    "y=np.array(df['language'].tolist())"
   ]
  },
  {
   "cell_type": "code",
   "execution_count": 15,
   "id": "6e1e8864",
   "metadata": {
    "collapsed": false,
    "jupyter": {
     "outputs_hidden": false
    },
    "tags": []
   },
   "outputs": [
    {
     "name": "stderr",
     "output_type": "stream",
     "text": [
      "2023-05-18 16:36:22.163495: I tensorflow/tsl/cuda/cudart_stub.cc:28] Could not find cuda drivers on your machine, GPU will not be used.\n",
      "2023-05-18 16:36:22.249918: I tensorflow/tsl/cuda/cudart_stub.cc:28] Could not find cuda drivers on your machine, GPU will not be used.\n",
      "2023-05-18 16:36:22.251150: I tensorflow/core/platform/cpu_feature_guard.cc:182] This TensorFlow binary is optimized to use available CPU instructions in performance-critical operations.\n",
      "To enable the following instructions: AVX2 FMA, in other operations, rebuild TensorFlow with the appropriate compiler flags.\n",
      "2023-05-18 16:36:23.086644: W tensorflow/compiler/tf2tensorrt/utils/py_utils.cc:38] TF-TRT Warning: Could not find TensorRT\n"
     ]
    }
   ],
   "source": [
    "from sklearn.model_selection import train_test_split\n",
    "from sklearn.preprocessing import LabelEncoder\n",
    "from tensorflow.keras.utils import to_categorical\n",
    "labelencoder=LabelEncoder()\n",
    "y=to_categorical(labelencoder.fit_transform(y))"
   ]
  },
  {
   "cell_type": "code",
   "execution_count": 16,
   "id": "f5d2c195",
   "metadata": {
    "collapsed": false,
    "jupyter": {
     "outputs_hidden": false
    },
    "tags": []
   },
   "outputs": [],
   "source": [
    "# using the train test split function\n",
    "X_train, X_test, y_train, y_test = train_test_split(X,y ,\n",
    "                                                    random_state=42,\n",
    "                                                    train_size=0.8)"
   ]
  },
  {
   "cell_type": "code",
   "execution_count": 17,
   "id": "f5c35258-141a-432c-8dc8-73fe90f04825",
   "metadata": {
    "tags": []
   },
   "outputs": [
    {
     "name": "stdout",
     "output_type": "stream",
     "text": [
      "(36000, 128) (9000, 128) (36000, 3) (9000, 3)\n"
     ]
    }
   ],
   "source": [
    "#Checking point\n",
    "print(X_train.shape, X_test.shape, y_train.shape, y_test.shape)"
   ]
  },
  {
   "cell_type": "markdown",
   "id": "df8e46fa",
   "metadata": {},
   "source": [
    "Model Creation"
   ]
  },
  {
   "cell_type": "code",
   "execution_count": 18,
   "id": "c67c1da1",
   "metadata": {
    "collapsed": false,
    "jupyter": {
     "outputs_hidden": false
    },
    "tags": []
   },
   "outputs": [],
   "source": [
    "import tensorflow as tf\n",
    "import visualkeras \n",
    "from tensorflow.keras.models import Sequential\n",
    "from tensorflow.keras.layers import Dense,Dropout,Activation,Flatten\n",
    "from tensorflow.keras.optimizers import Adam\n",
    "from sklearn import metrics"
   ]
  },
  {
   "cell_type": "code",
   "execution_count": 19,
   "id": "bdfea655",
   "metadata": {
    "collapsed": false,
    "jupyter": {
     "outputs_hidden": false
    },
    "tags": []
   },
   "outputs": [],
   "source": [
    "### No of classes\n",
    "num_labels=y.shape[1]"
   ]
  },
  {
   "cell_type": "code",
   "execution_count": 20,
   "id": "387e4a30",
   "metadata": {
    "collapsed": false,
    "jupyter": {
     "outputs_hidden": false
    },
    "tags": []
   },
   "outputs": [
    {
     "name": "stderr",
     "output_type": "stream",
     "text": [
      "2023-05-18 16:36:32.896795: I tensorflow/compiler/xla/stream_executor/cuda/cuda_gpu_executor.cc:982] could not open file to read NUMA node: /sys/bus/pci/devices/0000:0a:00.0/numa_node\n",
      "Your kernel may have been built without NUMA support.\n",
      "2023-05-18 16:36:32.897369: W tensorflow/core/common_runtime/gpu/gpu_device.cc:1956] Cannot dlopen some GPU libraries. Please make sure the missing libraries mentioned above are installed properly if you would like to use GPU. Follow the guide at https://www.tensorflow.org/install/gpu for how to download and setup the required libraries for your platform.\n",
      "Skipping registering GPU devices...\n"
     ]
    }
   ],
   "source": [
    "model=Sequential()\n",
    "###first layer\n",
    "model.add(Dense(100,input_shape=(128,)))\n",
    "model.add(Activation('relu'))\n",
    "model.add(Dropout(0.5))\n",
    "###second layer\n",
    "model.add(Dense(200))\n",
    "model.add(Activation('relu'))\n",
    "model.add(Dropout(0.5))\n",
    "###third layer\n",
    "model.add(Dense(100))\n",
    "model.add(Activation('relu'))\n",
    "model.add(Dropout(0.5))\n",
    "\n",
    "###final layer\n",
    "model.add(Dense(num_labels))\n",
    "model.add(Activation('softmax'))"
   ]
  },
  {
   "cell_type": "code",
   "execution_count": 21,
   "id": "74e84396",
   "metadata": {
    "collapsed": false,
    "jupyter": {
     "outputs_hidden": false
    },
    "tags": []
   },
   "outputs": [
    {
     "name": "stdout",
     "output_type": "stream",
     "text": [
      "Model: \"sequential\"\n",
      "_________________________________________________________________\n",
      " Layer (type)                Output Shape              Param #   \n",
      "=================================================================\n",
      " dense (Dense)               (None, 100)               12900     \n",
      "                                                                 \n",
      " activation (Activation)     (None, 100)               0         \n",
      "                                                                 \n",
      " dropout (Dropout)           (None, 100)               0         \n",
      "                                                                 \n",
      " dense_1 (Dense)             (None, 200)               20200     \n",
      "                                                                 \n",
      " activation_1 (Activation)   (None, 200)               0         \n",
      "                                                                 \n",
      " dropout_1 (Dropout)         (None, 200)               0         \n",
      "                                                                 \n",
      " dense_2 (Dense)             (None, 100)               20100     \n",
      "                                                                 \n",
      " activation_2 (Activation)   (None, 100)               0         \n",
      "                                                                 \n",
      " dropout_2 (Dropout)         (None, 100)               0         \n",
      "                                                                 \n",
      " dense_3 (Dense)             (None, 3)                 303       \n",
      "                                                                 \n",
      " activation_3 (Activation)   (None, 3)                 0         \n",
      "                                                                 \n",
      "=================================================================\n",
      "Total params: 53,503\n",
      "Trainable params: 53,503\n",
      "Non-trainable params: 0\n",
      "_________________________________________________________________\n"
     ]
    }
   ],
   "source": [
    "model.summary()"
   ]
  },
  {
   "cell_type": "code",
   "execution_count": 22,
   "id": "7fcc9fb0",
   "metadata": {
    "collapsed": false,
    "jupyter": {
     "outputs_hidden": false
    },
    "tags": []
   },
   "outputs": [],
   "source": [
    "model.compile(loss='categorical_crossentropy',metrics=['accuracy'],optimizer='adam')"
   ]
  },
  {
   "cell_type": "code",
   "execution_count": 23,
   "id": "593b37d1",
   "metadata": {
    "collapsed": false,
    "jupyter": {
     "outputs_hidden": false
    },
    "tags": []
   },
   "outputs": [
    {
     "name": "stdout",
     "output_type": "stream",
     "text": [
      "Epoch 1/100\n",
      "1094/1125 [============================>.] - ETA: 0s - loss: 2.3484 - accuracy: 0.5243\n",
      "Epoch 1: val_loss improved from inf to 0.51890, saving model to saved_models/audio_classification.hdf5\n",
      "1125/1125 [==============================] - 2s 1ms/step - loss: 2.3027 - accuracy: 0.5299 - val_loss: 0.5189 - val_accuracy: 0.8352\n",
      "Epoch 2/100\n",
      "1099/1125 [============================>.] - ETA: 0s - loss: 0.4037 - accuracy: 0.8466\n",
      "Epoch 2: val_loss improved from 0.51890 to 0.20484, saving model to saved_models/audio_classification.hdf5\n",
      "1125/1125 [==============================] - 1s 1ms/step - loss: 0.4011 - accuracy: 0.8473 - val_loss: 0.2048 - val_accuracy: 0.9216\n",
      "Epoch 3/100\n",
      "1096/1125 [============================>.] - ETA: 0s - loss: 0.2545 - accuracy: 0.9037\n",
      "Epoch 3: val_loss improved from 0.20484 to 0.15952, saving model to saved_models/audio_classification.hdf5\n",
      "1125/1125 [==============================] - 1s 1ms/step - loss: 0.2529 - accuracy: 0.9043 - val_loss: 0.1595 - val_accuracy: 0.9394\n",
      "Epoch 4/100\n",
      "1118/1125 [============================>.] - ETA: 0s - loss: 0.2105 - accuracy: 0.9204\n",
      "Epoch 4: val_loss improved from 0.15952 to 0.15004, saving model to saved_models/audio_classification.hdf5\n",
      "1125/1125 [==============================] - 1s 1ms/step - loss: 0.2103 - accuracy: 0.9203 - val_loss: 0.1500 - val_accuracy: 0.9381\n",
      "Epoch 5/100\n",
      "1082/1125 [===========================>..] - ETA: 0s - loss: 0.1861 - accuracy: 0.9272\n",
      "Epoch 5: val_loss improved from 0.15004 to 0.14543, saving model to saved_models/audio_classification.hdf5\n",
      "1125/1125 [==============================] - 1s 1ms/step - loss: 0.1866 - accuracy: 0.9270 - val_loss: 0.1454 - val_accuracy: 0.9477\n",
      "Epoch 6/100\n",
      "1089/1125 [============================>.] - ETA: 0s - loss: 0.1734 - accuracy: 0.9341\n",
      "Epoch 6: val_loss did not improve from 0.14543\n",
      "1125/1125 [==============================] - 1s 1ms/step - loss: 0.1748 - accuracy: 0.9335 - val_loss: 0.1457 - val_accuracy: 0.9483\n",
      "Epoch 7/100\n",
      "1091/1125 [============================>.] - ETA: 0s - loss: 0.1683 - accuracy: 0.9364\n",
      "Epoch 7: val_loss improved from 0.14543 to 0.11879, saving model to saved_models/audio_classification.hdf5\n",
      "1125/1125 [==============================] - 2s 1ms/step - loss: 0.1678 - accuracy: 0.9362 - val_loss: 0.1188 - val_accuracy: 0.9560\n",
      "Epoch 8/100\n",
      "1081/1125 [===========================>..] - ETA: 0s - loss: 0.1572 - accuracy: 0.9392\n",
      "Epoch 8: val_loss improved from 0.11879 to 0.11495, saving model to saved_models/audio_classification.hdf5\n",
      "1125/1125 [==============================] - 1s 1ms/step - loss: 0.1568 - accuracy: 0.9397 - val_loss: 0.1150 - val_accuracy: 0.9620\n",
      "Epoch 9/100\n",
      "1085/1125 [===========================>..] - ETA: 0s - loss: 0.1565 - accuracy: 0.9427\n",
      "Epoch 9: val_loss improved from 0.11495 to 0.10947, saving model to saved_models/audio_classification.hdf5\n",
      "1125/1125 [==============================] - 1s 1ms/step - loss: 0.1561 - accuracy: 0.9429 - val_loss: 0.1095 - val_accuracy: 0.9624\n",
      "Epoch 10/100\n",
      "1094/1125 [============================>.] - ETA: 0s - loss: 0.1466 - accuracy: 0.9441\n",
      "Epoch 10: val_loss improved from 0.10947 to 0.10730, saving model to saved_models/audio_classification.hdf5\n",
      "1125/1125 [==============================] - 1s 1ms/step - loss: 0.1471 - accuracy: 0.9440 - val_loss: 0.1073 - val_accuracy: 0.9633\n",
      "Epoch 11/100\n",
      "1111/1125 [============================>.] - ETA: 0s - loss: 0.1426 - accuracy: 0.9470\n",
      "Epoch 11: val_loss improved from 0.10730 to 0.10634, saving model to saved_models/audio_classification.hdf5\n",
      "1125/1125 [==============================] - 1s 1ms/step - loss: 0.1424 - accuracy: 0.9469 - val_loss: 0.1063 - val_accuracy: 0.9586\n",
      "Epoch 12/100\n",
      "1083/1125 [===========================>..] - ETA: 0s - loss: 0.1357 - accuracy: 0.9485\n",
      "Epoch 12: val_loss improved from 0.10634 to 0.10188, saving model to saved_models/audio_classification.hdf5\n",
      "1125/1125 [==============================] - 1s 1ms/step - loss: 0.1364 - accuracy: 0.9484 - val_loss: 0.1019 - val_accuracy: 0.9656\n",
      "Epoch 13/100\n",
      "1094/1125 [============================>.] - ETA: 0s - loss: 0.1365 - accuracy: 0.9487\n",
      "Epoch 13: val_loss improved from 0.10188 to 0.10185, saving model to saved_models/audio_classification.hdf5\n",
      "1125/1125 [==============================] - 1s 1ms/step - loss: 0.1365 - accuracy: 0.9489 - val_loss: 0.1019 - val_accuracy: 0.9617\n",
      "Epoch 14/100\n",
      "1086/1125 [===========================>..] - ETA: 0s - loss: 0.1359 - accuracy: 0.9489\n",
      "Epoch 14: val_loss did not improve from 0.10185\n",
      "1125/1125 [==============================] - 2s 1ms/step - loss: 0.1368 - accuracy: 0.9489 - val_loss: 0.1087 - val_accuracy: 0.9663\n",
      "Epoch 15/100\n",
      "1081/1125 [===========================>..] - ETA: 0s - loss: 0.1287 - accuracy: 0.9523\n",
      "Epoch 15: val_loss did not improve from 0.10185\n",
      "1125/1125 [==============================] - 1s 1ms/step - loss: 0.1291 - accuracy: 0.9520 - val_loss: 0.1051 - val_accuracy: 0.9613\n",
      "Epoch 16/100\n",
      "1091/1125 [============================>.] - ETA: 0s - loss: 0.1278 - accuracy: 0.9514\n",
      "Epoch 16: val_loss improved from 0.10185 to 0.09779, saving model to saved_models/audio_classification.hdf5\n",
      "1125/1125 [==============================] - 1s 1ms/step - loss: 0.1274 - accuracy: 0.9515 - val_loss: 0.0978 - val_accuracy: 0.9653\n",
      "Epoch 17/100\n",
      "1098/1125 [============================>.] - ETA: 0s - loss: 0.1313 - accuracy: 0.9519\n",
      "Epoch 17: val_loss improved from 0.09779 to 0.09226, saving model to saved_models/audio_classification.hdf5\n",
      "1125/1125 [==============================] - 2s 1ms/step - loss: 0.1310 - accuracy: 0.9518 - val_loss: 0.0923 - val_accuracy: 0.9699\n",
      "Epoch 18/100\n",
      "1112/1125 [============================>.] - ETA: 0s - loss: 0.1223 - accuracy: 0.9549\n",
      "Epoch 18: val_loss did not improve from 0.09226\n",
      "1125/1125 [==============================] - 1s 1ms/step - loss: 0.1224 - accuracy: 0.9548 - val_loss: 0.1074 - val_accuracy: 0.9684\n",
      "Epoch 19/100\n",
      "1081/1125 [===========================>..] - ETA: 0s - loss: 0.1214 - accuracy: 0.9551\n",
      "Epoch 19: val_loss improved from 0.09226 to 0.08834, saving model to saved_models/audio_classification.hdf5\n",
      "1125/1125 [==============================] - 1s 1ms/step - loss: 0.1206 - accuracy: 0.9556 - val_loss: 0.0883 - val_accuracy: 0.9672\n",
      "Epoch 20/100\n",
      "1093/1125 [============================>.] - ETA: 0s - loss: 0.1247 - accuracy: 0.9537\n",
      "Epoch 20: val_loss improved from 0.08834 to 0.08709, saving model to saved_models/audio_classification.hdf5\n",
      "1125/1125 [==============================] - 1s 1ms/step - loss: 0.1250 - accuracy: 0.9536 - val_loss: 0.0871 - val_accuracy: 0.9722\n",
      "Epoch 21/100\n",
      "1123/1125 [============================>.] - ETA: 0s - loss: 0.1188 - accuracy: 0.9558\n",
      "Epoch 21: val_loss improved from 0.08709 to 0.08619, saving model to saved_models/audio_classification.hdf5\n",
      "1125/1125 [==============================] - 1s 1ms/step - loss: 0.1187 - accuracy: 0.9558 - val_loss: 0.0862 - val_accuracy: 0.9717\n",
      "Epoch 22/100\n",
      "1085/1125 [===========================>..] - ETA: 0s - loss: 0.1176 - accuracy: 0.9573\n",
      "Epoch 22: val_loss did not improve from 0.08619\n",
      "1125/1125 [==============================] - 1s 1ms/step - loss: 0.1169 - accuracy: 0.9573 - val_loss: 0.0914 - val_accuracy: 0.9683\n",
      "Epoch 23/100\n",
      "1088/1125 [============================>.] - ETA: 0s - loss: 0.1210 - accuracy: 0.9563\n",
      "Epoch 23: val_loss did not improve from 0.08619\n",
      "1125/1125 [==============================] - 1s 1ms/step - loss: 0.1206 - accuracy: 0.9562 - val_loss: 0.0876 - val_accuracy: 0.9741\n",
      "Epoch 24/100\n",
      "1095/1125 [============================>.] - ETA: 0s - loss: 0.1195 - accuracy: 0.9563\n",
      "Epoch 24: val_loss did not improve from 0.08619\n",
      "1125/1125 [==============================] - 1s 1ms/step - loss: 0.1189 - accuracy: 0.9567 - val_loss: 0.0918 - val_accuracy: 0.9694\n",
      "Epoch 25/100\n",
      "1101/1125 [============================>.] - ETA: 0s - loss: 0.1155 - accuracy: 0.9577\n",
      "Epoch 25: val_loss did not improve from 0.08619\n",
      "1125/1125 [==============================] - 1s 1ms/step - loss: 0.1160 - accuracy: 0.9575 - val_loss: 0.1136 - val_accuracy: 0.9690\n",
      "Epoch 26/100\n",
      "1103/1125 [============================>.] - ETA: 0s - loss: 0.1168 - accuracy: 0.9574\n",
      "Epoch 26: val_loss did not improve from 0.08619\n",
      "1125/1125 [==============================] - 1s 1ms/step - loss: 0.1164 - accuracy: 0.9576 - val_loss: 0.0878 - val_accuracy: 0.9740\n",
      "Epoch 27/100\n",
      "1109/1125 [============================>.] - ETA: 0s - loss: 0.1180 - accuracy: 0.9577\n",
      "Epoch 27: val_loss improved from 0.08619 to 0.08322, saving model to saved_models/audio_classification.hdf5\n",
      "1125/1125 [==============================] - 1s 1ms/step - loss: 0.1179 - accuracy: 0.9578 - val_loss: 0.0832 - val_accuracy: 0.9740\n",
      "Epoch 28/100\n",
      "1086/1125 [===========================>..] - ETA: 0s - loss: 0.1098 - accuracy: 0.9605\n",
      "Epoch 28: val_loss did not improve from 0.08322\n",
      "1125/1125 [==============================] - 2s 1ms/step - loss: 0.1098 - accuracy: 0.9603 - val_loss: 0.0905 - val_accuracy: 0.9744\n",
      "Epoch 29/100\n",
      "1103/1125 [============================>.] - ETA: 0s - loss: 0.1103 - accuracy: 0.9589\n",
      "Epoch 29: val_loss improved from 0.08322 to 0.08098, saving model to saved_models/audio_classification.hdf5\n",
      "1125/1125 [==============================] - 2s 1ms/step - loss: 0.1101 - accuracy: 0.9590 - val_loss: 0.0810 - val_accuracy: 0.9739\n",
      "Epoch 30/100\n",
      "1100/1125 [============================>.] - ETA: 0s - loss: 0.1118 - accuracy: 0.9602\n",
      "Epoch 30: val_loss did not improve from 0.08098\n",
      "1125/1125 [==============================] - 1s 1ms/step - loss: 0.1124 - accuracy: 0.9598 - val_loss: 0.0866 - val_accuracy: 0.9752\n",
      "Epoch 31/100\n",
      "1088/1125 [============================>.] - ETA: 0s - loss: 0.1141 - accuracy: 0.9589\n",
      "Epoch 31: val_loss did not improve from 0.08098\n",
      "1125/1125 [==============================] - 2s 1ms/step - loss: 0.1148 - accuracy: 0.9585 - val_loss: 0.0948 - val_accuracy: 0.9739\n",
      "Epoch 32/100\n",
      "1101/1125 [============================>.] - ETA: 0s - loss: 0.1137 - accuracy: 0.9584\n",
      "Epoch 32: val_loss did not improve from 0.08098\n",
      "1125/1125 [==============================] - 2s 1ms/step - loss: 0.1141 - accuracy: 0.9583 - val_loss: 0.0842 - val_accuracy: 0.9729\n",
      "Epoch 33/100\n",
      "1125/1125 [==============================] - ETA: 0s - loss: 0.1118 - accuracy: 0.9587\n",
      "Epoch 33: val_loss improved from 0.08098 to 0.07325, saving model to saved_models/audio_classification.hdf5\n",
      "1125/1125 [==============================] - 1s 1ms/step - loss: 0.1118 - accuracy: 0.9587 - val_loss: 0.0732 - val_accuracy: 0.9740\n",
      "Epoch 34/100\n",
      "1086/1125 [===========================>..] - ETA: 0s - loss: 0.1131 - accuracy: 0.9596\n",
      "Epoch 34: val_loss did not improve from 0.07325\n",
      "1125/1125 [==============================] - 1s 1ms/step - loss: 0.1123 - accuracy: 0.9598 - val_loss: 0.0733 - val_accuracy: 0.9752\n",
      "Epoch 35/100\n",
      "1081/1125 [===========================>..] - ETA: 0s - loss: 0.1106 - accuracy: 0.9599\n",
      "Epoch 35: val_loss did not improve from 0.07325\n",
      "1125/1125 [==============================] - 1s 1ms/step - loss: 0.1108 - accuracy: 0.9597 - val_loss: 0.0855 - val_accuracy: 0.9768\n",
      "Epoch 36/100\n",
      "1084/1125 [===========================>..] - ETA: 0s - loss: 0.1087 - accuracy: 0.9606\n",
      "Epoch 36: val_loss did not improve from 0.07325\n",
      "1125/1125 [==============================] - 1s 1ms/step - loss: 0.1090 - accuracy: 0.9607 - val_loss: 0.0736 - val_accuracy: 0.9767\n",
      "Epoch 37/100\n",
      "1086/1125 [===========================>..] - ETA: 0s - loss: 0.1077 - accuracy: 0.9612\n",
      "Epoch 37: val_loss did not improve from 0.07325\n",
      "1125/1125 [==============================] - 1s 1ms/step - loss: 0.1068 - accuracy: 0.9613 - val_loss: 0.0782 - val_accuracy: 0.9736\n",
      "Epoch 38/100\n",
      "1118/1125 [============================>.] - ETA: 0s - loss: 0.1092 - accuracy: 0.9612\n",
      "Epoch 38: val_loss did not improve from 0.07325\n",
      "1125/1125 [==============================] - 1s 1ms/step - loss: 0.1096 - accuracy: 0.9609 - val_loss: 0.0842 - val_accuracy: 0.9749\n",
      "Epoch 39/100\n",
      "1081/1125 [===========================>..] - ETA: 0s - loss: 0.1103 - accuracy: 0.9610\n",
      "Epoch 39: val_loss did not improve from 0.07325\n",
      "1125/1125 [==============================] - 1s 1ms/step - loss: 0.1096 - accuracy: 0.9613 - val_loss: 0.0779 - val_accuracy: 0.9774\n",
      "Epoch 40/100\n",
      "1089/1125 [============================>.] - ETA: 0s - loss: 0.1094 - accuracy: 0.9603\n",
      "Epoch 40: val_loss did not improve from 0.07325\n",
      "1125/1125 [==============================] - 1s 1ms/step - loss: 0.1089 - accuracy: 0.9605 - val_loss: 0.0827 - val_accuracy: 0.9754\n",
      "Epoch 41/100\n",
      "1121/1125 [============================>.] - ETA: 0s - loss: 0.1088 - accuracy: 0.9620\n",
      "Epoch 41: val_loss did not improve from 0.07325\n",
      "1125/1125 [==============================] - 1s 1ms/step - loss: 0.1089 - accuracy: 0.9620 - val_loss: 0.1007 - val_accuracy: 0.9694\n",
      "Epoch 42/100\n",
      "1092/1125 [============================>.] - ETA: 0s - loss: 0.1120 - accuracy: 0.9602\n",
      "Epoch 42: val_loss did not improve from 0.07325\n",
      "1125/1125 [==============================] - 1s 1ms/step - loss: 0.1114 - accuracy: 0.9604 - val_loss: 0.0774 - val_accuracy: 0.9738\n",
      "Epoch 43/100\n",
      "1100/1125 [============================>.] - ETA: 0s - loss: 0.1030 - accuracy: 0.9626\n",
      "Epoch 43: val_loss did not improve from 0.07325\n",
      "1125/1125 [==============================] - 1s 1ms/step - loss: 0.1030 - accuracy: 0.9627 - val_loss: 0.0778 - val_accuracy: 0.9754\n",
      "Epoch 44/100\n",
      "1096/1125 [============================>.] - ETA: 0s - loss: 0.1111 - accuracy: 0.9602\n",
      "Epoch 44: val_loss did not improve from 0.07325\n",
      "1125/1125 [==============================] - 1s 1ms/step - loss: 0.1131 - accuracy: 0.9598 - val_loss: 0.0792 - val_accuracy: 0.9742\n",
      "Epoch 45/100\n",
      "1084/1125 [===========================>..] - ETA: 0s - loss: 0.1063 - accuracy: 0.9615\n",
      "Epoch 45: val_loss did not improve from 0.07325\n",
      "1125/1125 [==============================] - 1s 1ms/step - loss: 0.1052 - accuracy: 0.9618 - val_loss: 0.0755 - val_accuracy: 0.9748\n",
      "Epoch 46/100\n",
      "1095/1125 [============================>.] - ETA: 0s - loss: 0.1042 - accuracy: 0.9628\n",
      "Epoch 46: val_loss did not improve from 0.07325\n",
      "1125/1125 [==============================] - 1s 1ms/step - loss: 0.1051 - accuracy: 0.9625 - val_loss: 0.0830 - val_accuracy: 0.9759\n",
      "Epoch 47/100\n",
      "1093/1125 [============================>.] - ETA: 0s - loss: 0.1027 - accuracy: 0.9631\n",
      "Epoch 47: val_loss did not improve from 0.07325\n",
      "1125/1125 [==============================] - 1s 1ms/step - loss: 0.1037 - accuracy: 0.9626 - val_loss: 0.0924 - val_accuracy: 0.9682\n",
      "Epoch 48/100\n",
      "1081/1125 [===========================>..] - ETA: 0s - loss: 0.1057 - accuracy: 0.9620\n",
      "Epoch 48: val_loss did not improve from 0.07325\n",
      "1125/1125 [==============================] - 1s 1ms/step - loss: 0.1063 - accuracy: 0.9619 - val_loss: 0.0965 - val_accuracy: 0.9762\n",
      "Epoch 49/100\n",
      "1092/1125 [============================>.] - ETA: 0s - loss: 0.1012 - accuracy: 0.9641\n",
      "Epoch 49: val_loss did not improve from 0.07325\n",
      "1125/1125 [==============================] - 1s 1ms/step - loss: 0.1005 - accuracy: 0.9646 - val_loss: 0.0754 - val_accuracy: 0.9734\n",
      "Epoch 50/100\n",
      "1088/1125 [============================>.] - ETA: 0s - loss: 0.1061 - accuracy: 0.9618\n",
      "Epoch 50: val_loss did not improve from 0.07325\n",
      "1125/1125 [==============================] - 1s 1ms/step - loss: 0.1059 - accuracy: 0.9619 - val_loss: 0.0838 - val_accuracy: 0.9722\n",
      "Epoch 51/100\n",
      "1098/1125 [============================>.] - ETA: 0s - loss: 0.1020 - accuracy: 0.9630\n",
      "Epoch 51: val_loss did not improve from 0.07325\n",
      "1125/1125 [==============================] - 1s 1ms/step - loss: 0.1020 - accuracy: 0.9630 - val_loss: 0.0805 - val_accuracy: 0.9766\n",
      "Epoch 52/100\n",
      "1088/1125 [============================>.] - ETA: 0s - loss: 0.1066 - accuracy: 0.9633\n",
      "Epoch 52: val_loss improved from 0.07325 to 0.07250, saving model to saved_models/audio_classification.hdf5\n",
      "1125/1125 [==============================] - 1s 1ms/step - loss: 0.1067 - accuracy: 0.9635 - val_loss: 0.0725 - val_accuracy: 0.9766\n",
      "Epoch 53/100\n",
      "1097/1125 [============================>.] - ETA: 0s - loss: 0.1016 - accuracy: 0.9639\n",
      "Epoch 53: val_loss improved from 0.07250 to 0.07022, saving model to saved_models/audio_classification.hdf5\n",
      "1125/1125 [==============================] - 1s 1ms/step - loss: 0.1013 - accuracy: 0.9637 - val_loss: 0.0702 - val_accuracy: 0.9759\n",
      "Epoch 54/100\n",
      "1095/1125 [============================>.] - ETA: 0s - loss: 0.1095 - accuracy: 0.9620\n",
      "Epoch 54: val_loss did not improve from 0.07022\n",
      "1125/1125 [==============================] - 1s 1ms/step - loss: 0.1106 - accuracy: 0.9619 - val_loss: 0.0813 - val_accuracy: 0.9740\n",
      "Epoch 55/100\n",
      "1091/1125 [============================>.] - ETA: 0s - loss: 0.1026 - accuracy: 0.9625\n",
      "Epoch 55: val_loss did not improve from 0.07022\n",
      "1125/1125 [==============================] - 1s 1ms/step - loss: 0.1023 - accuracy: 0.9627 - val_loss: 0.0787 - val_accuracy: 0.9757\n",
      "Epoch 56/100\n",
      "1086/1125 [===========================>..] - ETA: 0s - loss: 0.1034 - accuracy: 0.9624\n",
      "Epoch 56: val_loss did not improve from 0.07022\n",
      "1125/1125 [==============================] - 1s 1ms/step - loss: 0.1035 - accuracy: 0.9625 - val_loss: 0.0724 - val_accuracy: 0.9767\n",
      "Epoch 57/100\n",
      "1092/1125 [============================>.] - ETA: 0s - loss: 0.1046 - accuracy: 0.9633\n",
      "Epoch 57: val_loss improved from 0.07022 to 0.06886, saving model to saved_models/audio_classification.hdf5\n",
      "1125/1125 [==============================] - 1s 1ms/step - loss: 0.1044 - accuracy: 0.9632 - val_loss: 0.0689 - val_accuracy: 0.9780\n",
      "Epoch 58/100\n",
      "1121/1125 [============================>.] - ETA: 0s - loss: 0.1030 - accuracy: 0.9629\n",
      "Epoch 58: val_loss did not improve from 0.06886\n",
      "1125/1125 [==============================] - 1s 1ms/step - loss: 0.1031 - accuracy: 0.9629 - val_loss: 0.0790 - val_accuracy: 0.9742\n",
      "Epoch 59/100\n",
      "1082/1125 [===========================>..] - ETA: 0s - loss: 0.1064 - accuracy: 0.9622\n",
      "Epoch 59: val_loss did not improve from 0.06886\n",
      "1125/1125 [==============================] - 1s 1ms/step - loss: 0.1055 - accuracy: 0.9625 - val_loss: 0.0700 - val_accuracy: 0.9782\n",
      "Epoch 60/100\n",
      "1095/1125 [============================>.] - ETA: 0s - loss: 0.0986 - accuracy: 0.9640\n",
      "Epoch 60: val_loss did not improve from 0.06886\n",
      "1125/1125 [==============================] - 1s 1ms/step - loss: 0.0983 - accuracy: 0.9641 - val_loss: 0.0750 - val_accuracy: 0.9767\n",
      "Epoch 61/100\n",
      "1090/1125 [============================>.] - ETA: 0s - loss: 0.1002 - accuracy: 0.9631\n",
      "Epoch 61: val_loss did not improve from 0.06886\n",
      "1125/1125 [==============================] - 2s 1ms/step - loss: 0.1003 - accuracy: 0.9631 - val_loss: 0.0701 - val_accuracy: 0.9767\n",
      "Epoch 62/100\n",
      "1108/1125 [============================>.] - ETA: 0s - loss: 0.1016 - accuracy: 0.9632\n",
      "Epoch 62: val_loss did not improve from 0.06886\n",
      "1125/1125 [==============================] - 1s 1ms/step - loss: 0.1015 - accuracy: 0.9634 - val_loss: 0.0740 - val_accuracy: 0.9781\n",
      "Epoch 63/100\n",
      "1088/1125 [============================>.] - ETA: 0s - loss: 0.1037 - accuracy: 0.9631\n",
      "Epoch 63: val_loss did not improve from 0.06886\n",
      "1125/1125 [==============================] - 1s 1ms/step - loss: 0.1038 - accuracy: 0.9631 - val_loss: 0.0768 - val_accuracy: 0.9752\n",
      "Epoch 64/100\n",
      "1090/1125 [============================>.] - ETA: 0s - loss: 0.0983 - accuracy: 0.9641\n",
      "Epoch 64: val_loss did not improve from 0.06886\n",
      "1125/1125 [==============================] - 1s 1ms/step - loss: 0.0994 - accuracy: 0.9639 - val_loss: 0.0758 - val_accuracy: 0.9761\n",
      "Epoch 65/100\n",
      "1123/1125 [============================>.] - ETA: 0s - loss: 0.0997 - accuracy: 0.9630\n",
      "Epoch 65: val_loss did not improve from 0.06886\n",
      "1125/1125 [==============================] - 1s 1ms/step - loss: 0.0997 - accuracy: 0.9630 - val_loss: 0.0805 - val_accuracy: 0.9746\n",
      "Epoch 66/100\n",
      "1090/1125 [============================>.] - ETA: 0s - loss: 0.0955 - accuracy: 0.9645\n",
      "Epoch 66: val_loss did not improve from 0.06886\n",
      "1125/1125 [==============================] - 1s 1ms/step - loss: 0.0953 - accuracy: 0.9645 - val_loss: 0.0774 - val_accuracy: 0.9777\n",
      "Epoch 67/100\n",
      "1091/1125 [============================>.] - ETA: 0s - loss: 0.1020 - accuracy: 0.9640\n",
      "Epoch 67: val_loss did not improve from 0.06886\n",
      "1125/1125 [==============================] - 1s 1ms/step - loss: 0.1017 - accuracy: 0.9640 - val_loss: 0.0800 - val_accuracy: 0.9747\n",
      "Epoch 68/100\n",
      "1098/1125 [============================>.] - ETA: 0s - loss: 0.1015 - accuracy: 0.9643\n",
      "Epoch 68: val_loss did not improve from 0.06886\n",
      "1125/1125 [==============================] - 1s 1ms/step - loss: 0.1008 - accuracy: 0.9645 - val_loss: 0.0712 - val_accuracy: 0.9757\n",
      "Epoch 69/100\n",
      "1117/1125 [============================>.] - ETA: 0s - loss: 0.1015 - accuracy: 0.9642\n",
      "Epoch 69: val_loss did not improve from 0.06886\n",
      "1125/1125 [==============================] - 1s 1ms/step - loss: 0.1014 - accuracy: 0.9643 - val_loss: 0.0721 - val_accuracy: 0.9767\n",
      "Epoch 70/100\n",
      "1092/1125 [============================>.] - ETA: 0s - loss: 0.0994 - accuracy: 0.9637\n",
      "Epoch 70: val_loss did not improve from 0.06886\n",
      "1125/1125 [==============================] - 1s 1ms/step - loss: 0.0996 - accuracy: 0.9635 - val_loss: 0.0792 - val_accuracy: 0.9778\n",
      "Epoch 71/100\n",
      "1093/1125 [============================>.] - ETA: 0s - loss: 0.0962 - accuracy: 0.9648\n",
      "Epoch 71: val_loss did not improve from 0.06886\n",
      "1125/1125 [==============================] - 1s 1ms/step - loss: 0.0960 - accuracy: 0.9650 - val_loss: 0.0785 - val_accuracy: 0.9777\n",
      "Epoch 72/100\n",
      "1112/1125 [============================>.] - ETA: 0s - loss: 0.1020 - accuracy: 0.9645\n",
      "Epoch 72: val_loss did not improve from 0.06886\n",
      "1125/1125 [==============================] - 1s 1ms/step - loss: 0.1024 - accuracy: 0.9644 - val_loss: 0.0994 - val_accuracy: 0.9738\n",
      "Epoch 73/100\n",
      "1090/1125 [============================>.] - ETA: 0s - loss: 0.0980 - accuracy: 0.9646\n",
      "Epoch 73: val_loss did not improve from 0.06886\n",
      "1125/1125 [==============================] - 1s 1ms/step - loss: 0.0977 - accuracy: 0.9645 - val_loss: 0.0766 - val_accuracy: 0.9786\n",
      "Epoch 74/100\n",
      "1101/1125 [============================>.] - ETA: 0s - loss: 0.0993 - accuracy: 0.9647\n",
      "Epoch 74: val_loss did not improve from 0.06886\n",
      "1125/1125 [==============================] - 1s 1ms/step - loss: 0.1001 - accuracy: 0.9646 - val_loss: 0.0802 - val_accuracy: 0.9769\n",
      "Epoch 75/100\n",
      "1099/1125 [============================>.] - ETA: 0s - loss: 0.1019 - accuracy: 0.9637\n",
      "Epoch 75: val_loss did not improve from 0.06886\n",
      "1125/1125 [==============================] - 1s 1ms/step - loss: 0.1019 - accuracy: 0.9637 - val_loss: 0.0864 - val_accuracy: 0.9734\n",
      "Epoch 76/100\n",
      "1118/1125 [============================>.] - ETA: 0s - loss: 0.0972 - accuracy: 0.9653\n",
      "Epoch 76: val_loss did not improve from 0.06886\n",
      "1125/1125 [==============================] - 1s 1ms/step - loss: 0.0971 - accuracy: 0.9652 - val_loss: 0.0823 - val_accuracy: 0.9771\n",
      "Epoch 77/100\n",
      "1099/1125 [============================>.] - ETA: 0s - loss: 0.1066 - accuracy: 0.9626\n",
      "Epoch 77: val_loss did not improve from 0.06886\n",
      "1125/1125 [==============================] - 1s 1ms/step - loss: 0.1061 - accuracy: 0.9628 - val_loss: 0.0714 - val_accuracy: 0.9764\n",
      "Epoch 78/100\n",
      "1089/1125 [============================>.] - ETA: 0s - loss: 0.0996 - accuracy: 0.9644\n",
      "Epoch 78: val_loss did not improve from 0.06886\n",
      "1125/1125 [==============================] - 1s 1ms/step - loss: 0.0996 - accuracy: 0.9644 - val_loss: 0.0763 - val_accuracy: 0.9766\n",
      "Epoch 79/100\n",
      "1121/1125 [============================>.] - ETA: 0s - loss: 0.1007 - accuracy: 0.9638\n",
      "Epoch 79: val_loss did not improve from 0.06886\n",
      "1125/1125 [==============================] - 1s 1ms/step - loss: 0.1005 - accuracy: 0.9639 - val_loss: 0.0761 - val_accuracy: 0.9788\n",
      "Epoch 80/100\n",
      "1113/1125 [============================>.] - ETA: 0s - loss: 0.1004 - accuracy: 0.9647\n",
      "Epoch 80: val_loss did not improve from 0.06886\n",
      "1125/1125 [==============================] - 1s 1ms/step - loss: 0.1015 - accuracy: 0.9644 - val_loss: 0.0735 - val_accuracy: 0.9753\n",
      "Epoch 81/100\n",
      "1097/1125 [============================>.] - ETA: 0s - loss: 0.0975 - accuracy: 0.9651\n",
      "Epoch 81: val_loss did not improve from 0.06886\n",
      "1125/1125 [==============================] - 1s 1ms/step - loss: 0.0977 - accuracy: 0.9650 - val_loss: 0.0836 - val_accuracy: 0.9756\n",
      "Epoch 82/100\n",
      "1089/1125 [============================>.] - ETA: 0s - loss: 0.0996 - accuracy: 0.9638\n",
      "Epoch 82: val_loss did not improve from 0.06886\n",
      "1125/1125 [==============================] - 1s 1ms/step - loss: 0.0991 - accuracy: 0.9639 - val_loss: 0.0808 - val_accuracy: 0.9700\n",
      "Epoch 83/100\n",
      "1084/1125 [===========================>..] - ETA: 0s - loss: 0.1045 - accuracy: 0.9634\n",
      "Epoch 83: val_loss did not improve from 0.06886\n",
      "1125/1125 [==============================] - 1s 1ms/step - loss: 0.1035 - accuracy: 0.9636 - val_loss: 0.0850 - val_accuracy: 0.9737\n",
      "Epoch 84/100\n",
      "1098/1125 [============================>.] - ETA: 0s - loss: 0.1001 - accuracy: 0.9638\n",
      "Epoch 84: val_loss did not improve from 0.06886\n",
      "1125/1125 [==============================] - 1s 1ms/step - loss: 0.1001 - accuracy: 0.9639 - val_loss: 0.0784 - val_accuracy: 0.9771\n",
      "Epoch 85/100\n",
      "1088/1125 [============================>.] - ETA: 0s - loss: 0.0975 - accuracy: 0.9657\n",
      "Epoch 85: val_loss did not improve from 0.06886\n",
      "1125/1125 [==============================] - 1s 1ms/step - loss: 0.0979 - accuracy: 0.9656 - val_loss: 0.0843 - val_accuracy: 0.9779\n",
      "Epoch 86/100\n",
      "1125/1125 [==============================] - ETA: 0s - loss: 0.0968 - accuracy: 0.9654\n",
      "Epoch 86: val_loss did not improve from 0.06886\n",
      "1125/1125 [==============================] - 1s 1ms/step - loss: 0.0968 - accuracy: 0.9654 - val_loss: 0.0698 - val_accuracy: 0.9790\n",
      "Epoch 87/100\n",
      "1090/1125 [============================>.] - ETA: 0s - loss: 0.0972 - accuracy: 0.9655\n",
      "Epoch 87: val_loss did not improve from 0.06886\n",
      "1125/1125 [==============================] - 1s 1ms/step - loss: 0.0972 - accuracy: 0.9655 - val_loss: 0.0719 - val_accuracy: 0.9783\n",
      "Epoch 88/100\n",
      "1094/1125 [============================>.] - ETA: 0s - loss: 0.0980 - accuracy: 0.9654\n",
      "Epoch 88: val_loss did not improve from 0.06886\n",
      "1125/1125 [==============================] - 1s 1ms/step - loss: 0.0981 - accuracy: 0.9654 - val_loss: 0.0792 - val_accuracy: 0.9739\n",
      "Epoch 89/100\n",
      "1114/1125 [============================>.] - ETA: 0s - loss: 0.0990 - accuracy: 0.9648\n",
      "Epoch 89: val_loss improved from 0.06886 to 0.06600, saving model to saved_models/audio_classification.hdf5\n",
      "1125/1125 [==============================] - 1s 1ms/step - loss: 0.0992 - accuracy: 0.9647 - val_loss: 0.0660 - val_accuracy: 0.9792\n",
      "Epoch 90/100\n",
      "1125/1125 [==============================] - ETA: 0s - loss: 0.0952 - accuracy: 0.9663\n",
      "Epoch 90: val_loss did not improve from 0.06600\n",
      "1125/1125 [==============================] - 1s 1ms/step - loss: 0.0952 - accuracy: 0.9663 - val_loss: 0.0750 - val_accuracy: 0.9781\n",
      "Epoch 91/100\n",
      "1091/1125 [============================>.] - ETA: 0s - loss: 0.0978 - accuracy: 0.9665\n",
      "Epoch 91: val_loss did not improve from 0.06600\n",
      "1125/1125 [==============================] - 1s 1ms/step - loss: 0.0979 - accuracy: 0.9665 - val_loss: 0.0752 - val_accuracy: 0.9776\n",
      "Epoch 92/100\n",
      "1086/1125 [===========================>..] - ETA: 0s - loss: 0.0977 - accuracy: 0.9651\n",
      "Epoch 92: val_loss did not improve from 0.06600\n",
      "1125/1125 [==============================] - 1s 1ms/step - loss: 0.0981 - accuracy: 0.9649 - val_loss: 0.0826 - val_accuracy: 0.9773\n",
      "Epoch 93/100\n",
      "1080/1125 [===========================>..] - ETA: 0s - loss: 0.0945 - accuracy: 0.9665\n",
      "Epoch 93: val_loss did not improve from 0.06600\n",
      "1125/1125 [==============================] - 1s 1ms/step - loss: 0.0940 - accuracy: 0.9666 - val_loss: 0.0842 - val_accuracy: 0.9742\n",
      "Epoch 94/100\n",
      "1107/1125 [============================>.] - ETA: 0s - loss: 0.0965 - accuracy: 0.9659\n",
      "Epoch 94: val_loss did not improve from 0.06600\n",
      "1125/1125 [==============================] - 1s 1ms/step - loss: 0.0966 - accuracy: 0.9658 - val_loss: 0.0788 - val_accuracy: 0.9791\n",
      "Epoch 95/100\n",
      "1121/1125 [============================>.] - ETA: 0s - loss: 0.0927 - accuracy: 0.9662\n",
      "Epoch 95: val_loss did not improve from 0.06600\n",
      "1125/1125 [==============================] - 1s 1ms/step - loss: 0.0934 - accuracy: 0.9661 - val_loss: 0.0745 - val_accuracy: 0.9761\n",
      "Epoch 96/100\n",
      "1089/1125 [============================>.] - ETA: 0s - loss: 0.0950 - accuracy: 0.9661\n",
      "Epoch 96: val_loss did not improve from 0.06600\n",
      "1125/1125 [==============================] - 2s 1ms/step - loss: 0.0960 - accuracy: 0.9658 - val_loss: 0.0903 - val_accuracy: 0.9756\n",
      "Epoch 97/100\n",
      "1120/1125 [============================>.] - ETA: 0s - loss: 0.1004 - accuracy: 0.9638\n",
      "Epoch 97: val_loss did not improve from 0.06600\n",
      "1125/1125 [==============================] - 1s 1ms/step - loss: 0.1003 - accuracy: 0.9639 - val_loss: 0.0737 - val_accuracy: 0.9780\n",
      "Epoch 98/100\n",
      "1093/1125 [============================>.] - ETA: 0s - loss: 0.0984 - accuracy: 0.9642\n",
      "Epoch 98: val_loss did not improve from 0.06600\n",
      "1125/1125 [==============================] - 1s 1ms/step - loss: 0.0985 - accuracy: 0.9642 - val_loss: 0.0773 - val_accuracy: 0.9757\n",
      "Epoch 99/100\n",
      "1088/1125 [============================>.] - ETA: 0s - loss: 0.0961 - accuracy: 0.9662\n",
      "Epoch 99: val_loss did not improve from 0.06600\n",
      "1125/1125 [==============================] - 1s 1ms/step - loss: 0.0971 - accuracy: 0.9659 - val_loss: 0.0763 - val_accuracy: 0.9781\n",
      "Epoch 100/100\n",
      "1089/1125 [============================>.] - ETA: 0s - loss: 0.0993 - accuracy: 0.9642\n",
      "Epoch 100: val_loss did not improve from 0.06600\n",
      "1125/1125 [==============================] - 1s 1ms/step - loss: 0.0991 - accuracy: 0.9643 - val_loss: 0.0740 - val_accuracy: 0.9772\n",
      "Training completed in time:  0:02:27.638707\n"
     ]
    }
   ],
   "source": [
    "## Training model\n",
    "from tensorflow.keras.callbacks import ModelCheckpoint\n",
    "from datetime import datetime\n",
    "\n",
    "num_epochs = 100\n",
    "num_batch_size = 32\n",
    "\n",
    "checkpointer = ModelCheckpoint(filepath='saved_models/audio_classification.hdf5',\n",
    "                               verbose=1, save_best_only=True)\n",
    "start = datetime.now()\n",
    "\n",
    "history = model.fit(X_train, y_train, batch_size=num_batch_size, epochs=num_epochs, validation_data=(X_test, y_test), callbacks=[checkpointer], verbose=1)\n",
    "\n",
    "\n",
    "duration = datetime.now() - start\n",
    "print(\"Training completed in time: \", duration)"
   ]
  },
  {
   "cell_type": "code",
   "execution_count": 24,
   "id": "f59e33c1-4aa7-43d0-a5c5-0e5b49e4987b",
   "metadata": {
    "tags": []
   },
   "outputs": [
    {
     "data": {
      "image/png": "[encoded data removed]",
      "text/plain": [
       "<PIL.Image.Image image mode=RGBA size=347x63 at 0x7F4B721C6050>"
      ]
     },
     "execution_count": 24,
     "metadata": {},
     "output_type": "execute_result"
    }
   ],
   "source": [
    "visualkeras.layered_view(model,legend=True, draw_volume=True)"
   ]
  },
  {
   "cell_type": "code",
   "execution_count": 25,
   "id": "a6e09e02-3601-4b69-9810-ffece74b74af",
   "metadata": {
    "tags": []
   },
   "outputs": [
    {
     "data": {
      "image/png": "[encoded data removed]",
      "text/plain": [
       "<Figure size 432x288 with 1 Axes>"
      ]
     },
     "metadata": {
      "needs_background": "light"
     },
     "output_type": "display_data"
    }
   ],
   "source": [
    "import matplotlib.pyplot as plt\n",
    "plt.plot(history.history['accuracy'])\n",
    "plt.plot(history.history['val_accuracy'])\n",
    "plt.title('Model accuracy')\n",
    "plt.ylabel('Accuracy')\n",
    "plt.xlabel('Epoch')\n",
    "plt.legend(['Train', 'Test'], loc='upper left')\n",
    "plt.show()"
   ]
  },
  {
   "cell_type": "code",
   "execution_count": 26,
   "id": "48410f8a-e2f0-41d6-b964-33a4ea994b7c",
   "metadata": {
    "tags": []
   },
   "outputs": [
    {
     "data": {
      "image/png": "[encoded data removed]",
      "text/plain": [
       "<Figure size 432x288 with 1 Axes>"
      ]
     },
     "metadata": {
      "needs_background": "light"
     },
     "output_type": "display_data"
    }
   ],
   "source": [
    "plt.plot(history.history['loss']) \n",
    "plt.plot(history.history['val_loss']) \n",
    "plt.title('Model loss') \n",
    "plt.ylabel('Loss') \n",
    "plt.xlabel('Epoch') \n",
    "plt.legend(['Train', 'Test'], loc='upper left') \n",
    "plt.show()"
   ]
  },
  {
   "cell_type": "code",
   "execution_count": 27,
   "id": "56665242",
   "metadata": {
    "collapsed": false,
    "jupyter": {
     "outputs_hidden": false
    },
    "tags": []
   },
   "outputs": [
    {
     "name": "stdout",
     "output_type": "stream",
     "text": [
      "0.977222204208374\n"
     ]
    }
   ],
   "source": [
    "test_accuracy=model.evaluate(X_test,y_test,verbose=0)\n",
    "print(test_accuracy[1])"
   ]
  },
  {
   "cell_type": "code",
   "execution_count": 28,
   "id": "035f1bfd-315b-4fd5-9fb8-4c1870301712",
   "metadata": {
    "tags": []
   },
   "outputs": [
    {
     "name": "stdout",
     "output_type": "stream",
     "text": [
      "282/282 [==============================] - 0s 626us/step\n"
     ]
    }
   ],
   "source": [
    "y_pred = model.predict(X_test)\n",
    "y_pred=np.argmax(y_pred, axis=1)\n",
    "y_test=np.argmax(y_test, axis=1)"
   ]
  },
  {
   "cell_type": "code",
   "execution_count": 29,
   "id": "3ed8192f-4e4b-41f6-bf5f-17d35cee95f5",
   "metadata": {
    "tags": []
   },
   "outputs": [
    {
     "name": "stdout",
     "output_type": "stream",
     "text": [
      "              precision    recall  f1-score   support\n",
      "\n",
      "     Italian       1.00      1.00      1.00      3006\n",
      "  Portuguese       0.96      0.97      0.97      2988\n",
      "     Spanish       0.98      0.96      0.97      3006\n",
      "\n",
      "    accuracy                           0.98      9000\n",
      "   macro avg       0.98      0.98      0.98      9000\n",
      "weighted avg       0.98      0.98      0.98      9000\n",
      "\n"
     ]
    }
   ],
   "source": [
    "from sklearn.metrics import classification_report\n",
    "target_names = sorted(df.language.unique())\n",
    "print(classification_report(y_test, y_pred, target_names=target_names))"
   ]
  },
  {
   "cell_type": "code",
   "execution_count": 30,
   "id": "cd333bce-efa1-4227-9f8e-2317f3f66942",
   "metadata": {
    "tags": []
   },
   "outputs": [
    {
     "data": {
      "image/png": "[encoded data removed]",
      "text/plain": [
       "<Figure size 648x648 with 2 Axes>"
      ]
     },
     "metadata": {
      "needs_background": "light"
     },
     "output_type": "display_data"
    }
   ],
   "source": [
    "from sklearn.metrics import classification_report, confusion_matrix\n",
    "import seaborn as sns\n",
    "\n",
    "# Plotting the results:\n",
    "plt.figure(figsize=(9,9))\n",
    "sns.heatmap(metrics.confusion_matrix(y_test, y_pred), annot=True, fmt=\"d\", linewidths=.5, square = True, cmap = 'Blues_r', xticklabels=target_names, yticklabels=target_names);\n",
    "plt.ylabel('Actual label');\n",
    "plt.xlabel('Predicted label');\n",
    "all_sample_title = 'Accuracy Score: {0}'.format(test_accuracy[1])\n",
    "plt.title(all_sample_title, size = 15);"
   ]
  }
 ],
 "metadata": {
  "kernelspec": {
   "display_name": "Python 3 (ipykernel)",
   "language": "python",
   "name": "python3"
  },
  "language_info": {
   "codemirror_mode": {
    "name": "ipython",
    "version": 3
   },
   "file_extension": ".py",
   "mimetype": "text/x-python",
   "name": "python",
   "nbconvert_exporter": "python",
   "pygments_lexer": "ipython3",
   "version": "3.10.6"
  }
 },
 "nbformat": 4,
 "nbformat_minor": 5
}
