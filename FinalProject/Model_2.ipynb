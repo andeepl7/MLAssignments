{
 "cells": [
  {
   "cell_type": "markdown",
   "id": "b8be734c",
   "metadata": {},
   "source": [
    "# STEP 3 Audio Preparation and Model\n"
   ]
  },
  {
   "cell_type": "code",
   "execution_count": 35,
   "id": "a611495d",
   "metadata": {
    "scrolled": true,
    "tags": []
   },
   "outputs": [],
   "source": [
    "import os\n",
    "import pandas as pd\n",
    "import numpy as np\n",
    "import librosa\n",
    "import soundfile as sf\n",
    "from tqdm.notebook import tqdm"
   ]
  },
  {
   "cell_type": "code",
   "execution_count": 2,
   "id": "4c61050a-108b-41af-9fee-98105fee0a64",
   "metadata": {
    "collapsed": false,
    "jupyter": {
     "outputs_hidden": false
    },
    "tags": []
   },
   "outputs": [],
   "source": [
    "#Global parameters\n",
    "language_dic = {\"es\" : \"Spanish\" , \"pt\": \"Portuguese\", \"it\": \"Italian\", \"fr\": \"French\" }\n",
    "analysis_window_length = 0.01  # 10 ms in seconds\n",
    "language_mp3_path = \"/language_detector/languages\""
   ]
  },
  {
   "cell_type": "code",
   "execution_count": 36,
   "id": "e1221022",
   "metadata": {
    "collapsed": false,
    "jupyter": {
     "outputs_hidden": false
    },
    "tags": []
   },
   "outputs": [],
   "source": [
    "# number of repeats defined by minimum duration: ceil(10 seconds / min duration)\n",
    "min_clip = 0.10115625\n",
    "x_seconds = 5\n",
    "num_reps = int(np.ceil(x_seconds / min_clip))\n",
    "def repeat_audio_x_seconds(track, dur, num_repeats=10, fs=16000):\n",
    "    num_samples_xs = int(fs * dur)\n",
    "    track = np.concatenate([track]*num_repeats, axis=0)\n",
    "    track = track[0:num_samples_xs]\n",
    "    return track"
   ]
  },
  {
   "cell_type": "code",
   "execution_count": 44,
   "id": "0920bf4c-4d7b-4232-9663-1238da89b35d",
   "metadata": {
    "tags": []
   },
   "outputs": [],
   "source": [
    "def processing_audio(language_mp3_path, analysis_window_length, language_dic):\n",
    "    \"\"\"\n",
    "    This function samples mp3 files, analyzes the dataset content, and builds a dictionary of features.\n",
    "    \"\"\"\n",
    "    data = {\"filename\": [], \"language\": [], \"mfccs\": []}  # Initialize data dictionary here\n",
    "   \n",
    "    language_list = os.listdir(language_mp3_path)\n",
    "\n",
    "    for language in language_list:\n",
    "        language_path = os.path.join(language_mp3_path, language)\n",
    "\n",
    "        if language not in language_dic:\n",
    "            print(f\"Skipping language {language} because it is not in language_dic\")\n",
    "            continue\n",
    "\n",
    "        language_name = language_dic.get(language, \"Unknown language!\")\n",
    "\n",
    "        clips_path = os.path.join(language_path, \"clips\")\n",
    "        # Check if the clips directory exists\n",
    "        if not os.path.isdir(clips_path):\n",
    "            print(f\"No 'clips' directory found in {language_path}\")\n",
    "            continue\n",
    "\n",
    "        # get a list of all files in the folder\n",
    "        mp3_list = os.listdir(clips_path)\n",
    "        mp3_list = mp3_list[:15000]\n",
    "       \n",
    "        # looping through all mp3s in one language\n",
    "        for mp3 in tqdm(mp3_list):\n",
    "            # adding the filename as key\n",
    "            data[\"filename\"].append(mp3)\n",
    "            # adding the label/language\n",
    "            data[\"language\"].append(language_name)\n",
    "            # adding the clip\n",
    "            audio_path = os.path.join(clips_path, mp3)\n",
    "            audio_samples, fs = sf.read(audio_path)\n",
    "            audio_samples = repeat_audio_x_seconds(audio_samples, x_seconds, num_repeats=num_reps, fs=fs)\n",
    "            y = audio_samples\n",
    "            sr = fs\n",
    "            hop_length = int(analysis_window_length * sr)\n",
    "\n",
    "            # Check if the length of audio_samples is greater than n_fft\n",
    "            n_fft_value = 2048\n",
    "            if len(y) < n_fft_value:\n",
    "                print(f\"Skipping {mp3} because its length is less than n_fft\")\n",
    "                continue\n",
    "\n",
    "            mfcc = librosa.feature.mfcc(y=y, sr=sr, n_mfcc=128, hop_length=hop_length, n_fft=n_fft_value)\n",
    "            mfccs_scaled_features = np.mean(mfcc.T,axis=0)\n",
    "            data[\"mfccs\"].append(mfccs_scaled_features)\n",
    "\n",
    "    return data\n"
   ]
  },
  {
   "cell_type": "code",
   "execution_count": 45,
   "id": "3dde3f61-f962-4f14-89b9-dd17dd5339aa",
   "metadata": {
    "tags": []
   },
   "outputs": [
    {
     "data": {
      "application/vnd.jupyter.widget-view+json": {
       "model_id": "abcccbdd28454aabb9e15628ba786d59",
       "version_major": 2,
       "version_minor": 0
      },
      "text/plain": [
       "  0%|          | 0/15000 [00:00<?, ?it/s]"
      ]
     },
     "metadata": {},
     "output_type": "display_data"
    },
    {
     "name": "stdout",
     "output_type": "stream",
     "text": [
      "Skipping language ja because it is not in language_dic\n"
     ]
    },
    {
     "data": {
      "application/vnd.jupyter.widget-view+json": {
       "model_id": "73e95f6c6de64d9ba556cac494c5e1a6",
       "version_major": 2,
       "version_minor": 0
      },
      "text/plain": [
       "  0%|          | 0/15000 [00:00<?, ?it/s]"
      ]
     },
     "metadata": {},
     "output_type": "display_data"
    },
    {
     "name": "stdout",
     "output_type": "stream",
     "text": [
      "Skipping language ro because it is not in language_dic\n"
     ]
    },
    {
     "data": {
      "application/vnd.jupyter.widget-view+json": {
       "model_id": "4d9dcaa5b7a0480086bb575e0cf58b5a",
       "version_major": 2,
       "version_minor": 0
      },
      "text/plain": [
       "  0%|          | 0/15000 [00:00<?, ?it/s]"
      ]
     },
     "metadata": {},
     "output_type": "display_data"
    },
    {
     "name": "stdout",
     "output_type": "stream",
     "text": [
      "Skipping language de because it is not in language_dic\n"
     ]
    },
    {
     "data": {
      "application/vnd.jupyter.widget-view+json": {
       "model_id": "e82cae9a89314d97a5dfbed26e09b024",
       "version_major": 2,
       "version_minor": 0
      },
      "text/plain": [
       "  0%|          | 0/15000 [00:00<?, ?it/s]"
      ]
     },
     "metadata": {},
     "output_type": "display_data"
    },
    {
     "name": "stdout",
     "output_type": "stream",
     "text": [
      "Skipping language ca because it is not in language_dic\n"
     ]
    }
   ],
   "source": [
    "data = processing_audio(language_mp3_path, analysis_window_length, language_dic)"
   ]
  },
  {
   "cell_type": "code",
   "execution_count": 57,
   "id": "1803434b",
   "metadata": {
    "collapsed": false,
    "jupyter": {
     "outputs_hidden": false
    },
    "tags": []
   },
   "outputs": [
    {
     "name": "stdout",
     "output_type": "stream",
     "text": [
      "                       filename language  \\\n",
      "0  common_voice_it_20088702.mp3  Italian   \n",
      "1  common_voice_it_19551854.mp3  Italian   \n",
      "2  common_voice_it_18743170.mp3  Italian   \n",
      "3  common_voice_it_17435298.mp3  Italian   \n",
      "4  common_voice_it_17643038.mp3  Italian   \n",
      "\n",
      "                                               mfccs  \n",
      "0  [-509.47060362868444, 141.85304069517989, -21....  \n",
      "1  [-462.48287206723944, 123.8630827591188, 5.182...  \n",
      "2  [-555.0763167749433, 118.43354473531377, 15.84...  \n",
      "3  [-375.62301620292976, 110.90526244896759, -22....  \n",
      "4  [-357.23725544830376, 163.21737813118395, -27....  \n"
     ]
    },
    {
     "data": {
      "text/plain": [
       "(128,)"
      ]
     },
     "execution_count": 57,
     "metadata": {},
     "output_type": "execute_result"
    }
   ],
   "source": [
    "# Printing shape to confirm the input to the model \n",
    "df = pd.DataFrame(data)\n",
    "print(df.head())\n",
    "df.mfccs[50].shape"
   ]
  },
  {
   "cell_type": "code",
   "execution_count": 62,
   "id": "2d2b27ac-cab4-4253-a30e-bccd8978838f",
   "metadata": {
    "tags": []
   },
   "outputs": [
    {
     "name": "stdout",
     "output_type": "stream",
     "text": [
      "                           filename language  \\\n",
      "10693  common_voice_it_21431109.mp3  Italian   \n",
      "\n",
      "                                                   mfccs  \n",
      "10693  [[-1131.370849898476, -1131.370849898476, -113...  \n"
     ]
    }
   ],
   "source": [
    "# Generate a boolean mask where True indicates the mfccs is not of size 128\n",
    "mask = [item.shape == (128, 220500) for item in df['mfccs']]\n",
    "\n",
    "# Apply the mask to the dataframe\n",
    "non_conforming_rows = df[mask]\n",
    "\n",
    "# Print rows where the size of the mfccs array is not 128\n",
    "print(non_conforming_rows)"
   ]
  },
  {
   "cell_type": "code",
   "execution_count": 63,
   "id": "71426847-6cc5-438b-983e-7e7ba5ec9978",
   "metadata": {
    "tags": []
   },
   "outputs": [],
   "source": [
    "mask = [item.shape != (128, 220500) for item in df['mfccs']]\n",
    "\n",
    "# Filter the dataframe using the mask\n",
    "df = df[mask]"
   ]
  },
  {
   "cell_type": "code",
   "execution_count": 64,
   "id": "bf358dcb",
   "metadata": {
    "collapsed": false,
    "jupyter": {
     "outputs_hidden": false
    },
    "tags": []
   },
   "outputs": [
    {
     "name": "stdout",
     "output_type": "stream",
     "text": [
      "The number of files loaded is: 59999, in 4 languages\n"
     ]
    }
   ],
   "source": [
    "#Check-point to see if all data was correctly loaded\n",
    "print(f'The number of files loaded is: {len(df[\"filename\"])}, in {df[\"language\"].nunique()} languages')"
   ]
  },
  {
   "cell_type": "code",
   "execution_count": 65,
   "id": "8fde0fb2",
   "metadata": {
    "collapsed": false,
    "jupyter": {
     "outputs_hidden": false
    },
    "tags": []
   },
   "outputs": [],
   "source": [
    "X = np.array(df['mfccs'].tolist())\n",
    "y=np.array(df['language'].tolist())"
   ]
  },
  {
   "cell_type": "code",
   "execution_count": 66,
   "id": "6e1e8864",
   "metadata": {
    "collapsed": false,
    "jupyter": {
     "outputs_hidden": false
    },
    "tags": []
   },
   "outputs": [],
   "source": [
    "from sklearn.model_selection import train_test_split\n",
    "from sklearn.preprocessing import LabelEncoder\n",
    "from tensorflow.keras.utils import to_categorical\n",
    "labelencoder=LabelEncoder()\n",
    "y=to_categorical(labelencoder.fit_transform(y))"
   ]
  },
  {
   "cell_type": "code",
   "execution_count": 67,
   "id": "f5d2c195",
   "metadata": {
    "collapsed": false,
    "jupyter": {
     "outputs_hidden": false
    },
    "tags": []
   },
   "outputs": [],
   "source": [
    "# using the train test split function\n",
    "X_train, X_test, y_train, y_test = train_test_split(X,y ,\n",
    "                                                    random_state=42,\n",
    "                                                    train_size=0.8)"
   ]
  },
  {
   "cell_type": "code",
   "execution_count": 68,
   "id": "f5c35258-141a-432c-8dc8-73fe90f04825",
   "metadata": {
    "tags": []
   },
   "outputs": [
    {
     "name": "stdout",
     "output_type": "stream",
     "text": [
      "(47999, 128) (12000, 128) (47999, 4) (12000, 4)\n"
     ]
    }
   ],
   "source": [
    "#Checking point\n",
    "print(X_train.shape, X_test.shape, y_train.shape, y_test.shape)"
   ]
  },
  {
   "cell_type": "markdown",
   "id": "df8e46fa",
   "metadata": {},
   "source": [
    "Model Creation"
   ]
  },
  {
   "cell_type": "code",
   "execution_count": 69,
   "id": "c67c1da1",
   "metadata": {
    "collapsed": false,
    "jupyter": {
     "outputs_hidden": false
    },
    "tags": []
   },
   "outputs": [],
   "source": [
    "import tensorflow as tf\n",
    "import visualkeras \n",
    "from tensorflow.keras.models import Sequential\n",
    "from tensorflow.keras.layers import Dense,Dropout,Activation,Flatten\n",
    "from tensorflow.keras.optimizers import Adam\n",
    "from sklearn import metrics"
   ]
  },
  {
   "cell_type": "code",
   "execution_count": 70,
   "id": "bdfea655",
   "metadata": {
    "collapsed": false,
    "jupyter": {
     "outputs_hidden": false
    },
    "tags": []
   },
   "outputs": [],
   "source": [
    "### No of classes\n",
    "num_labels=y.shape[1]"
   ]
  },
  {
   "cell_type": "code",
   "execution_count": 71,
   "id": "387e4a30",
   "metadata": {
    "collapsed": false,
    "jupyter": {
     "outputs_hidden": false
    },
    "tags": []
   },
   "outputs": [],
   "source": [
    "model=Sequential()\n",
    "###first layer\n",
    "model.add(Dense(100,input_shape=(128,)))\n",
    "model.add(Activation('relu'))\n",
    "model.add(Dropout(0.5))\n",
    "###second layer\n",
    "model.add(Dense(200))\n",
    "model.add(Activation('relu'))\n",
    "model.add(Dropout(0.5))\n",
    "###third layer\n",
    "model.add(Dense(100))\n",
    "model.add(Activation('relu'))\n",
    "model.add(Dropout(0.5))\n",
    "\n",
    "###final layer\n",
    "model.add(Dense(num_labels))\n",
    "model.add(Activation('softmax'))"
   ]
  },
  {
   "cell_type": "code",
   "execution_count": 72,
   "id": "74e84396",
   "metadata": {
    "collapsed": false,
    "jupyter": {
     "outputs_hidden": false
    },
    "tags": []
   },
   "outputs": [
    {
     "name": "stdout",
     "output_type": "stream",
     "text": [
      "Model: \"sequential_2\"\n",
      "_________________________________________________________________\n",
      " Layer (type)                Output Shape              Param #   \n",
      "=================================================================\n",
      " dense_8 (Dense)             (None, 100)               12900     \n",
      "                                                                 \n",
      " activation_8 (Activation)   (None, 100)               0         \n",
      "                                                                 \n",
      " dropout_6 (Dropout)         (None, 100)               0         \n",
      "                                                                 \n",
      " dense_9 (Dense)             (None, 200)               20200     \n",
      "                                                                 \n",
      " activation_9 (Activation)   (None, 200)               0         \n",
      "                                                                 \n",
      " dropout_7 (Dropout)         (None, 200)               0         \n",
      "                                                                 \n",
      " dense_10 (Dense)            (None, 100)               20100     \n",
      "                                                                 \n",
      " activation_10 (Activation)  (None, 100)               0         \n",
      "                                                                 \n",
      " dropout_8 (Dropout)         (None, 100)               0         \n",
      "                                                                 \n",
      " dense_11 (Dense)            (None, 4)                 404       \n",
      "                                                                 \n",
      " activation_11 (Activation)  (None, 4)                 0         \n",
      "                                                                 \n",
      "=================================================================\n",
      "Total params: 53,604\n",
      "Trainable params: 53,604\n",
      "Non-trainable params: 0\n",
      "_________________________________________________________________\n"
     ]
    }
   ],
   "source": [
    "model.summary()"
   ]
  },
  {
   "cell_type": "code",
   "execution_count": 73,
   "id": "7fcc9fb0",
   "metadata": {
    "collapsed": false,
    "jupyter": {
     "outputs_hidden": false
    },
    "tags": []
   },
   "outputs": [],
   "source": [
    "model.compile(loss='categorical_crossentropy',metrics=['accuracy'],optimizer='adam')"
   ]
  },
  {
   "cell_type": "code",
   "execution_count": 74,
   "id": "593b37d1",
   "metadata": {
    "collapsed": false,
    "jupyter": {
     "outputs_hidden": false
    },
    "tags": []
   },
   "outputs": [
    {
     "name": "stdout",
     "output_type": "stream",
     "text": [
      "Epoch 1/100\n",
      "1466/1500 [============================>.] - ETA: 0s - loss: 2.2557 - accuracy: 0.4455\n",
      "Epoch 1: val_loss improved from inf to 0.61339, saving model to saved_models/audio_classification.hdf5\n",
      "1500/1500 [==============================] - 3s 2ms/step - loss: 2.2219 - accuracy: 0.4495 - val_loss: 0.6134 - val_accuracy: 0.7028\n",
      "Epoch 2/100\n",
      "1477/1500 [============================>.] - ETA: 0s - loss: 0.6368 - accuracy: 0.6698\n",
      "Epoch 2: val_loss improved from 0.61339 to 0.47341, saving model to saved_models/audio_classification.hdf5\n",
      "1500/1500 [==============================] - 3s 2ms/step - loss: 0.6359 - accuracy: 0.6701 - val_loss: 0.4734 - val_accuracy: 0.7633\n",
      "Epoch 3/100\n",
      "1495/1500 [============================>.] - ETA: 0s - loss: 0.5387 - accuracy: 0.7130\n",
      "Epoch 3: val_loss improved from 0.47341 to 0.44848, saving model to saved_models/audio_classification.hdf5\n",
      "1500/1500 [==============================] - 3s 2ms/step - loss: 0.5388 - accuracy: 0.7131 - val_loss: 0.4485 - val_accuracy: 0.7662\n",
      "Epoch 4/100\n",
      "1485/1500 [============================>.] - ETA: 0s - loss: 0.5083 - accuracy: 0.7289\n",
      "Epoch 4: val_loss improved from 0.44848 to 0.43174, saving model to saved_models/audio_classification.hdf5\n",
      "1500/1500 [==============================] - 3s 2ms/step - loss: 0.5085 - accuracy: 0.7289 - val_loss: 0.4317 - val_accuracy: 0.7883\n",
      "Epoch 5/100\n",
      "1496/1500 [============================>.] - ETA: 0s - loss: 0.4849 - accuracy: 0.7496\n",
      "Epoch 5: val_loss improved from 0.43174 to 0.42385, saving model to saved_models/audio_classification.hdf5\n",
      "1500/1500 [==============================] - 3s 2ms/step - loss: 0.4849 - accuracy: 0.7495 - val_loss: 0.4239 - val_accuracy: 0.7986\n",
      "Epoch 6/100\n",
      "1484/1500 [============================>.] - ETA: 0s - loss: 0.4714 - accuracy: 0.7559\n",
      "Epoch 6: val_loss improved from 0.42385 to 0.40903, saving model to saved_models/audio_classification.hdf5\n",
      "1500/1500 [==============================] - 3s 2ms/step - loss: 0.4713 - accuracy: 0.7559 - val_loss: 0.4090 - val_accuracy: 0.8053\n",
      "Epoch 7/100\n",
      "1487/1500 [============================>.] - ETA: 0s - loss: 0.4665 - accuracy: 0.7607\n",
      "Epoch 7: val_loss improved from 0.40903 to 0.40625, saving model to saved_models/audio_classification.hdf5\n",
      "1500/1500 [==============================] - 2s 2ms/step - loss: 0.4660 - accuracy: 0.7611 - val_loss: 0.4063 - val_accuracy: 0.8062\n",
      "Epoch 8/100\n",
      "1490/1500 [============================>.] - ETA: 0s - loss: 0.4610 - accuracy: 0.7621\n",
      "Epoch 8: val_loss did not improve from 0.40625\n",
      "1500/1500 [==============================] - 2s 2ms/step - loss: 0.4615 - accuracy: 0.7619 - val_loss: 0.4130 - val_accuracy: 0.8147\n",
      "Epoch 9/100\n",
      "1498/1500 [============================>.] - ETA: 0s - loss: 0.4524 - accuracy: 0.7727\n",
      "Epoch 9: val_loss did not improve from 0.40625\n",
      "1500/1500 [==============================] - 2s 2ms/step - loss: 0.4524 - accuracy: 0.7727 - val_loss: 0.4082 - val_accuracy: 0.8022\n",
      "Epoch 10/100\n",
      "1465/1500 [============================>.] - ETA: 0s - loss: 0.4443 - accuracy: 0.7781\n",
      "Epoch 10: val_loss improved from 0.40625 to 0.39437, saving model to saved_models/audio_classification.hdf5\n",
      "1500/1500 [==============================] - 2s 2ms/step - loss: 0.4446 - accuracy: 0.7777 - val_loss: 0.3944 - val_accuracy: 0.8092\n",
      "Epoch 11/100\n",
      "1499/1500 [============================>.] - ETA: 0s - loss: 0.4404 - accuracy: 0.7811\n",
      "Epoch 11: val_loss improved from 0.39437 to 0.39379, saving model to saved_models/audio_classification.hdf5\n",
      "1500/1500 [==============================] - 2s 2ms/step - loss: 0.4403 - accuracy: 0.7811 - val_loss: 0.3938 - val_accuracy: 0.8186\n",
      "Epoch 12/100\n",
      "1475/1500 [============================>.] - ETA: 0s - loss: 0.4367 - accuracy: 0.7838\n",
      "Epoch 12: val_loss improved from 0.39379 to 0.38936, saving model to saved_models/audio_classification.hdf5\n",
      "1500/1500 [==============================] - 2s 2ms/step - loss: 0.4372 - accuracy: 0.7835 - val_loss: 0.3894 - val_accuracy: 0.8240\n",
      "Epoch 13/100\n",
      "1497/1500 [============================>.] - ETA: 0s - loss: 0.4343 - accuracy: 0.7821\n",
      "Epoch 13: val_loss did not improve from 0.38936\n",
      "1500/1500 [==============================] - 2s 1ms/step - loss: 0.4343 - accuracy: 0.7820 - val_loss: 0.3930 - val_accuracy: 0.8246\n",
      "Epoch 14/100\n",
      "1473/1500 [============================>.] - ETA: 0s - loss: 0.4368 - accuracy: 0.7823\n",
      "Epoch 14: val_loss did not improve from 0.38936\n",
      "1500/1500 [==============================] - 2s 2ms/step - loss: 0.4369 - accuracy: 0.7824 - val_loss: 0.3958 - val_accuracy: 0.8151\n",
      "Epoch 15/100\n",
      "1493/1500 [============================>.] - ETA: 0s - loss: 0.4297 - accuracy: 0.7849\n",
      "Epoch 15: val_loss improved from 0.38936 to 0.37293, saving model to saved_models/audio_classification.hdf5\n",
      "1500/1500 [==============================] - 2s 2ms/step - loss: 0.4294 - accuracy: 0.7850 - val_loss: 0.3729 - val_accuracy: 0.8295\n",
      "Epoch 16/100\n",
      "1481/1500 [============================>.] - ETA: 0s - loss: 0.4263 - accuracy: 0.7878\n",
      "Epoch 16: val_loss did not improve from 0.37293\n",
      "1500/1500 [==============================] - 2s 2ms/step - loss: 0.4265 - accuracy: 0.7877 - val_loss: 0.3824 - val_accuracy: 0.8217\n",
      "Epoch 17/100\n",
      "1480/1500 [============================>.] - ETA: 0s - loss: 0.4273 - accuracy: 0.7910\n",
      "Epoch 17: val_loss did not improve from 0.37293\n",
      "1500/1500 [==============================] - 2s 2ms/step - loss: 0.4272 - accuracy: 0.7911 - val_loss: 0.3747 - val_accuracy: 0.8337\n",
      "Epoch 18/100\n",
      "1487/1500 [============================>.] - ETA: 0s - loss: 0.4211 - accuracy: 0.7865\n",
      "Epoch 18: val_loss did not improve from 0.37293\n",
      "1500/1500 [==============================] - 2s 1ms/step - loss: 0.4210 - accuracy: 0.7866 - val_loss: 0.3792 - val_accuracy: 0.8223\n",
      "Epoch 19/100\n",
      "1470/1500 [============================>.] - ETA: 0s - loss: 0.4164 - accuracy: 0.7912\n",
      "Epoch 19: val_loss improved from 0.37293 to 0.36996, saving model to saved_models/audio_classification.hdf5\n",
      "1500/1500 [==============================] - 2s 2ms/step - loss: 0.4173 - accuracy: 0.7907 - val_loss: 0.3700 - val_accuracy: 0.8345\n",
      "Epoch 20/100\n",
      "1496/1500 [============================>.] - ETA: 0s - loss: 0.4211 - accuracy: 0.7881\n",
      "Epoch 20: val_loss did not improve from 0.36996\n",
      "1500/1500 [==============================] - 2s 1ms/step - loss: 0.4211 - accuracy: 0.7881 - val_loss: 0.3740 - val_accuracy: 0.8304\n",
      "Epoch 21/100\n",
      "1483/1500 [============================>.] - ETA: 0s - loss: 0.4170 - accuracy: 0.7933\n",
      "Epoch 21: val_loss improved from 0.36996 to 0.36718, saving model to saved_models/audio_classification.hdf5\n",
      "1500/1500 [==============================] - 2s 2ms/step - loss: 0.4162 - accuracy: 0.7936 - val_loss: 0.3672 - val_accuracy: 0.8312\n",
      "Epoch 22/100\n",
      "1485/1500 [============================>.] - ETA: 0s - loss: 0.4176 - accuracy: 0.7894\n",
      "Epoch 22: val_loss improved from 0.36718 to 0.35711, saving model to saved_models/audio_classification.hdf5\n",
      "1500/1500 [==============================] - 2s 1ms/step - loss: 0.4172 - accuracy: 0.7898 - val_loss: 0.3571 - val_accuracy: 0.8298\n",
      "Epoch 23/100\n",
      "1468/1500 [============================>.] - ETA: 0s - loss: 0.4112 - accuracy: 0.7955\n",
      "Epoch 23: val_loss did not improve from 0.35711\n",
      "1500/1500 [==============================] - 2s 1ms/step - loss: 0.4111 - accuracy: 0.7955 - val_loss: 0.3611 - val_accuracy: 0.8378\n",
      "Epoch 24/100\n",
      "1494/1500 [============================>.] - ETA: 0s - loss: 0.4163 - accuracy: 0.7934\n",
      "Epoch 24: val_loss improved from 0.35711 to 0.35656, saving model to saved_models/audio_classification.hdf5\n",
      "1500/1500 [==============================] - 2s 2ms/step - loss: 0.4161 - accuracy: 0.7935 - val_loss: 0.3566 - val_accuracy: 0.8428\n",
      "Epoch 25/100\n",
      "1488/1500 [============================>.] - ETA: 0s - loss: 0.4137 - accuracy: 0.7932\n",
      "Epoch 25: val_loss did not improve from 0.35656\n",
      "1500/1500 [==============================] - 2s 2ms/step - loss: 0.4134 - accuracy: 0.7936 - val_loss: 0.3673 - val_accuracy: 0.8314\n",
      "Epoch 26/100\n",
      "1487/1500 [============================>.] - ETA: 0s - loss: 0.4068 - accuracy: 0.7962\n",
      "Epoch 26: val_loss did not improve from 0.35656\n",
      "1500/1500 [==============================] - 2s 2ms/step - loss: 0.4065 - accuracy: 0.7962 - val_loss: 0.3583 - val_accuracy: 0.8387\n",
      "Epoch 27/100\n",
      "1486/1500 [============================>.] - ETA: 0s - loss: 0.4077 - accuracy: 0.7959\n",
      "Epoch 27: val_loss did not improve from 0.35656\n",
      "1500/1500 [==============================] - 2s 1ms/step - loss: 0.4078 - accuracy: 0.7958 - val_loss: 0.3661 - val_accuracy: 0.8418\n",
      "Epoch 28/100\n",
      "1493/1500 [============================>.] - ETA: 0s - loss: 0.4116 - accuracy: 0.7978\n",
      "Epoch 28: val_loss did not improve from 0.35656\n",
      "1500/1500 [==============================] - 2s 2ms/step - loss: 0.4119 - accuracy: 0.7978 - val_loss: 0.3673 - val_accuracy: 0.8330\n",
      "Epoch 29/100\n",
      "1485/1500 [============================>.] - ETA: 0s - loss: 0.4099 - accuracy: 0.7977\n",
      "Epoch 29: val_loss did not improve from 0.35656\n",
      "1500/1500 [==============================] - 2s 1ms/step - loss: 0.4099 - accuracy: 0.7973 - val_loss: 0.3686 - val_accuracy: 0.8163\n",
      "Epoch 30/100\n",
      "1490/1500 [============================>.] - ETA: 0s - loss: 0.4099 - accuracy: 0.7939\n",
      "Epoch 30: val_loss did not improve from 0.35656\n",
      "1500/1500 [==============================] - 2s 2ms/step - loss: 0.4098 - accuracy: 0.7937 - val_loss: 0.3622 - val_accuracy: 0.8334\n",
      "Epoch 31/100\n",
      "1485/1500 [============================>.] - ETA: 0s - loss: 0.4115 - accuracy: 0.7969\n",
      "Epoch 31: val_loss did not improve from 0.35656\n",
      "1500/1500 [==============================] - 2s 1ms/step - loss: 0.4116 - accuracy: 0.7967 - val_loss: 0.3578 - val_accuracy: 0.8394\n",
      "Epoch 32/100\n",
      "1496/1500 [============================>.] - ETA: 0s - loss: 0.4128 - accuracy: 0.7919\n",
      "Epoch 32: val_loss did not improve from 0.35656\n",
      "1500/1500 [==============================] - 2s 2ms/step - loss: 0.4128 - accuracy: 0.7920 - val_loss: 0.3616 - val_accuracy: 0.8309\n",
      "Epoch 33/100\n",
      "1477/1500 [============================>.] - ETA: 0s - loss: 0.4062 - accuracy: 0.7975\n",
      "Epoch 33: val_loss did not improve from 0.35656\n",
      "1500/1500 [==============================] - 2s 1ms/step - loss: 0.4068 - accuracy: 0.7975 - val_loss: 0.3741 - val_accuracy: 0.8418\n",
      "Epoch 34/100\n",
      "1475/1500 [============================>.] - ETA: 0s - loss: 0.4041 - accuracy: 0.8013\n",
      "Epoch 34: val_loss did not improve from 0.35656\n",
      "1500/1500 [==============================] - 2s 2ms/step - loss: 0.4054 - accuracy: 0.8012 - val_loss: 0.3849 - val_accuracy: 0.8318\n",
      "Epoch 35/100\n",
      "1488/1500 [============================>.] - ETA: 0s - loss: 0.4034 - accuracy: 0.8020\n",
      "Epoch 35: val_loss improved from 0.35656 to 0.35523, saving model to saved_models/audio_classification.hdf5\n",
      "1500/1500 [==============================] - 2s 2ms/step - loss: 0.4037 - accuracy: 0.8017 - val_loss: 0.3552 - val_accuracy: 0.8380\n",
      "Epoch 36/100\n",
      "1493/1500 [============================>.] - ETA: 0s - loss: 0.4070 - accuracy: 0.7987\n",
      "Epoch 36: val_loss did not improve from 0.35523\n",
      "1500/1500 [==============================] - 2s 2ms/step - loss: 0.4073 - accuracy: 0.7985 - val_loss: 0.3621 - val_accuracy: 0.8403\n",
      "Epoch 37/100\n",
      "1493/1500 [============================>.] - ETA: 0s - loss: 0.4046 - accuracy: 0.7994\n",
      "Epoch 37: val_loss improved from 0.35523 to 0.35033, saving model to saved_models/audio_classification.hdf5\n",
      "1500/1500 [==============================] - 2s 2ms/step - loss: 0.4047 - accuracy: 0.7994 - val_loss: 0.3503 - val_accuracy: 0.8329\n",
      "Epoch 38/100\n",
      "1497/1500 [============================>.] - ETA: 0s - loss: 0.4019 - accuracy: 0.7993\n",
      "Epoch 38: val_loss did not improve from 0.35033\n",
      "1500/1500 [==============================] - 2s 2ms/step - loss: 0.4017 - accuracy: 0.7994 - val_loss: 0.3633 - val_accuracy: 0.8427\n",
      "Epoch 39/100\n",
      "1490/1500 [============================>.] - ETA: 0s - loss: 0.4056 - accuracy: 0.7991\n",
      "Epoch 39: val_loss did not improve from 0.35033\n",
      "1500/1500 [==============================] - 2s 2ms/step - loss: 0.4057 - accuracy: 0.7991 - val_loss: 0.3558 - val_accuracy: 0.8364\n",
      "Epoch 40/100\n",
      "1484/1500 [============================>.] - ETA: 0s - loss: 0.4106 - accuracy: 0.7939\n",
      "Epoch 40: val_loss did not improve from 0.35033\n",
      "1500/1500 [==============================] - 2s 1ms/step - loss: 0.4105 - accuracy: 0.7937 - val_loss: 0.3526 - val_accuracy: 0.8407\n",
      "Epoch 41/100\n",
      "1485/1500 [============================>.] - ETA: 0s - loss: 0.3980 - accuracy: 0.8020\n",
      "Epoch 41: val_loss improved from 0.35033 to 0.34563, saving model to saved_models/audio_classification.hdf5\n",
      "1500/1500 [==============================] - 2s 2ms/step - loss: 0.3979 - accuracy: 0.8020 - val_loss: 0.3456 - val_accuracy: 0.8404\n",
      "Epoch 42/100\n",
      "1496/1500 [============================>.] - ETA: 0s - loss: 0.4065 - accuracy: 0.7985\n",
      "Epoch 42: val_loss did not improve from 0.34563\n",
      "1500/1500 [==============================] - 2s 2ms/step - loss: 0.4062 - accuracy: 0.7986 - val_loss: 0.3513 - val_accuracy: 0.8427\n",
      "Epoch 43/100\n",
      "1468/1500 [============================>.] - ETA: 0s - loss: 0.4063 - accuracy: 0.7982\n",
      "Epoch 43: val_loss did not improve from 0.34563\n",
      "1500/1500 [==============================] - 2s 2ms/step - loss: 0.4066 - accuracy: 0.7980 - val_loss: 0.3743 - val_accuracy: 0.8407\n",
      "Epoch 44/100\n",
      "1465/1500 [============================>.] - ETA: 0s - loss: 0.4058 - accuracy: 0.8002\n",
      "Epoch 44: val_loss did not improve from 0.34563\n",
      "1500/1500 [==============================] - 2s 1ms/step - loss: 0.4056 - accuracy: 0.8000 - val_loss: 0.3670 - val_accuracy: 0.8255\n",
      "Epoch 45/100\n",
      "1488/1500 [============================>.] - ETA: 0s - loss: 0.4046 - accuracy: 0.8008\n",
      "Epoch 45: val_loss did not improve from 0.34563\n",
      "1500/1500 [==============================] - 2s 2ms/step - loss: 0.4045 - accuracy: 0.8008 - val_loss: 0.3515 - val_accuracy: 0.8410\n",
      "Epoch 46/100\n",
      "1461/1500 [============================>.] - ETA: 0s - loss: 0.3978 - accuracy: 0.8036\n",
      "Epoch 46: val_loss did not improve from 0.34563\n",
      "1500/1500 [==============================] - 2s 2ms/step - loss: 0.3980 - accuracy: 0.8032 - val_loss: 0.3516 - val_accuracy: 0.8416\n",
      "Epoch 47/100\n",
      "1481/1500 [============================>.] - ETA: 0s - loss: 0.3984 - accuracy: 0.8010\n",
      "Epoch 47: val_loss improved from 0.34563 to 0.34395, saving model to saved_models/audio_classification.hdf5\n",
      "1500/1500 [==============================] - 2s 2ms/step - loss: 0.3987 - accuracy: 0.8007 - val_loss: 0.3440 - val_accuracy: 0.8428\n",
      "Epoch 48/100\n",
      "1489/1500 [============================>.] - ETA: 0s - loss: 0.4000 - accuracy: 0.8007\n",
      "Epoch 48: val_loss did not improve from 0.34395\n",
      "1500/1500 [==============================] - 2s 2ms/step - loss: 0.3995 - accuracy: 0.8010 - val_loss: 0.3442 - val_accuracy: 0.8400\n",
      "Epoch 49/100\n",
      "1488/1500 [============================>.] - ETA: 0s - loss: 0.4014 - accuracy: 0.8041\n",
      "Epoch 49: val_loss did not improve from 0.34395\n",
      "1500/1500 [==============================] - 2s 1ms/step - loss: 0.4017 - accuracy: 0.8037 - val_loss: 0.3578 - val_accuracy: 0.8413\n",
      "Epoch 50/100\n",
      "1467/1500 [============================>.] - ETA: 0s - loss: 0.4005 - accuracy: 0.7979\n",
      "Epoch 50: val_loss did not improve from 0.34395\n",
      "1500/1500 [==============================] - 2s 2ms/step - loss: 0.4003 - accuracy: 0.7982 - val_loss: 0.3651 - val_accuracy: 0.8325\n",
      "Epoch 51/100\n",
      "1474/1500 [============================>.] - ETA: 0s - loss: 0.4040 - accuracy: 0.7991\n",
      "Epoch 51: val_loss did not improve from 0.34395\n",
      "1500/1500 [==============================] - 2s 1ms/step - loss: 0.4040 - accuracy: 0.7987 - val_loss: 0.3491 - val_accuracy: 0.8418\n",
      "Epoch 52/100\n",
      "1493/1500 [============================>.] - ETA: 0s - loss: 0.4028 - accuracy: 0.8007\n",
      "Epoch 52: val_loss did not improve from 0.34395\n",
      "1500/1500 [==============================] - 2s 2ms/step - loss: 0.4023 - accuracy: 0.8011 - val_loss: 0.3604 - val_accuracy: 0.8389\n",
      "Epoch 53/100\n",
      "1479/1500 [============================>.] - ETA: 0s - loss: 0.3992 - accuracy: 0.8022\n",
      "Epoch 53: val_loss did not improve from 0.34395\n",
      "1500/1500 [==============================] - 2s 1ms/step - loss: 0.3991 - accuracy: 0.8022 - val_loss: 0.3552 - val_accuracy: 0.8387\n",
      "Epoch 54/100\n",
      "1486/1500 [============================>.] - ETA: 0s - loss: 0.4040 - accuracy: 0.7987\n",
      "Epoch 54: val_loss did not improve from 0.34395\n",
      "1500/1500 [==============================] - 2s 2ms/step - loss: 0.4038 - accuracy: 0.7989 - val_loss: 0.3650 - val_accuracy: 0.8407\n",
      "Epoch 55/100\n",
      "1478/1500 [============================>.] - ETA: 0s - loss: 0.3999 - accuracy: 0.8052\n",
      "Epoch 55: val_loss did not improve from 0.34395\n",
      "1500/1500 [==============================] - 2s 1ms/step - loss: 0.3997 - accuracy: 0.8050 - val_loss: 0.3627 - val_accuracy: 0.8397\n",
      "Epoch 56/100\n",
      "1498/1500 [============================>.] - ETA: 0s - loss: 0.3999 - accuracy: 0.8021\n",
      "Epoch 56: val_loss did not improve from 0.34395\n",
      "1500/1500 [==============================] - 2s 2ms/step - loss: 0.4001 - accuracy: 0.8021 - val_loss: 0.3673 - val_accuracy: 0.8351\n",
      "Epoch 57/100\n",
      "1499/1500 [============================>.] - ETA: 0s - loss: 0.4015 - accuracy: 0.8007\n",
      "Epoch 57: val_loss did not improve from 0.34395\n",
      "1500/1500 [==============================] - 2s 2ms/step - loss: 0.4014 - accuracy: 0.8007 - val_loss: 0.3574 - val_accuracy: 0.8343\n",
      "Epoch 58/100\n",
      "1466/1500 [============================>.] - ETA: 0s - loss: 0.4012 - accuracy: 0.8044\n",
      "Epoch 58: val_loss did not improve from 0.34395\n",
      "1500/1500 [==============================] - 2s 1ms/step - loss: 0.4015 - accuracy: 0.8042 - val_loss: 0.3506 - val_accuracy: 0.8378\n",
      "Epoch 59/100\n",
      "1483/1500 [============================>.] - ETA: 0s - loss: 0.3999 - accuracy: 0.8050\n",
      "Epoch 59: val_loss did not improve from 0.34395\n",
      "1500/1500 [==============================] - 2s 1ms/step - loss: 0.4002 - accuracy: 0.8050 - val_loss: 0.3535 - val_accuracy: 0.8405\n",
      "Epoch 60/100\n",
      "1482/1500 [============================>.] - ETA: 0s - loss: 0.3980 - accuracy: 0.8063\n",
      "Epoch 60: val_loss did not improve from 0.34395\n",
      "1500/1500 [==============================] - 2s 1ms/step - loss: 0.3978 - accuracy: 0.8061 - val_loss: 0.3444 - val_accuracy: 0.8439\n",
      "Epoch 61/100\n",
      "1490/1500 [============================>.] - ETA: 0s - loss: 0.3977 - accuracy: 0.8051\n",
      "Epoch 61: val_loss improved from 0.34395 to 0.34339, saving model to saved_models/audio_classification.hdf5\n",
      "1500/1500 [==============================] - 2s 2ms/step - loss: 0.3974 - accuracy: 0.8050 - val_loss: 0.3434 - val_accuracy: 0.8439\n",
      "Epoch 62/100\n",
      "1490/1500 [============================>.] - ETA: 0s - loss: 0.3991 - accuracy: 0.8029\n",
      "Epoch 62: val_loss did not improve from 0.34339\n",
      "1500/1500 [==============================] - 2s 2ms/step - loss: 0.3989 - accuracy: 0.8030 - val_loss: 0.3477 - val_accuracy: 0.8445\n",
      "Epoch 63/100\n",
      "1475/1500 [============================>.] - ETA: 0s - loss: 0.3930 - accuracy: 0.8093\n",
      "Epoch 63: val_loss did not improve from 0.34339\n",
      "1500/1500 [==============================] - 2s 2ms/step - loss: 0.3934 - accuracy: 0.8091 - val_loss: 0.3619 - val_accuracy: 0.8432\n",
      "Epoch 64/100\n",
      "1477/1500 [============================>.] - ETA: 0s - loss: 0.3958 - accuracy: 0.8053\n",
      "Epoch 64: val_loss improved from 0.34339 to 0.33896, saving model to saved_models/audio_classification.hdf5\n",
      "1500/1500 [==============================] - 2s 1ms/step - loss: 0.3957 - accuracy: 0.8052 - val_loss: 0.3390 - val_accuracy: 0.8453\n",
      "Epoch 65/100\n",
      "1493/1500 [============================>.] - ETA: 0s - loss: 0.3942 - accuracy: 0.8020\n",
      "Epoch 65: val_loss did not improve from 0.33896\n",
      "1500/1500 [==============================] - 2s 2ms/step - loss: 0.3941 - accuracy: 0.8021 - val_loss: 0.3480 - val_accuracy: 0.8487\n",
      "Epoch 66/100\n",
      "1482/1500 [============================>.] - ETA: 0s - loss: 0.3981 - accuracy: 0.8056\n",
      "Epoch 66: val_loss did not improve from 0.33896\n",
      "1500/1500 [==============================] - 2s 1ms/step - loss: 0.3978 - accuracy: 0.8055 - val_loss: 0.3557 - val_accuracy: 0.8468\n",
      "Epoch 67/100\n",
      "1473/1500 [============================>.] - ETA: 0s - loss: 0.3977 - accuracy: 0.8066\n",
      "Epoch 67: val_loss did not improve from 0.33896\n",
      "1500/1500 [==============================] - 2s 1ms/step - loss: 0.3975 - accuracy: 0.8066 - val_loss: 0.3441 - val_accuracy: 0.8487\n",
      "Epoch 68/100\n",
      "1481/1500 [============================>.] - ETA: 0s - loss: 0.3921 - accuracy: 0.8044\n",
      "Epoch 68: val_loss did not improve from 0.33896\n",
      "1500/1500 [==============================] - 2s 1ms/step - loss: 0.3918 - accuracy: 0.8046 - val_loss: 0.3501 - val_accuracy: 0.8429\n",
      "Epoch 69/100\n",
      "1494/1500 [============================>.] - ETA: 0s - loss: 0.3977 - accuracy: 0.8042\n",
      "Epoch 69: val_loss did not improve from 0.33896\n",
      "1500/1500 [==============================] - 2s 2ms/step - loss: 0.3979 - accuracy: 0.8041 - val_loss: 0.3460 - val_accuracy: 0.8378\n",
      "Epoch 70/100\n",
      "1476/1500 [============================>.] - ETA: 0s - loss: 0.3954 - accuracy: 0.8061\n",
      "Epoch 70: val_loss did not improve from 0.33896\n",
      "1500/1500 [==============================] - 2s 2ms/step - loss: 0.3953 - accuracy: 0.8062 - val_loss: 0.3516 - val_accuracy: 0.8462\n",
      "Epoch 71/100\n",
      "1481/1500 [============================>.] - ETA: 0s - loss: 0.3945 - accuracy: 0.8058\n",
      "Epoch 71: val_loss did not improve from 0.33896\n",
      "1500/1500 [==============================] - 2s 1ms/step - loss: 0.3946 - accuracy: 0.8059 - val_loss: 0.3472 - val_accuracy: 0.8447\n",
      "Epoch 72/100\n",
      "1485/1500 [============================>.] - ETA: 0s - loss: 0.3904 - accuracy: 0.8054\n",
      "Epoch 72: val_loss did not improve from 0.33896\n",
      "1500/1500 [==============================] - 2s 2ms/step - loss: 0.3906 - accuracy: 0.8052 - val_loss: 0.3525 - val_accuracy: 0.8460\n",
      "Epoch 73/100\n",
      "1479/1500 [============================>.] - ETA: 0s - loss: 0.3973 - accuracy: 0.8031\n",
      "Epoch 73: val_loss did not improve from 0.33896\n",
      "1500/1500 [==============================] - 2s 1ms/step - loss: 0.3972 - accuracy: 0.8032 - val_loss: 0.3543 - val_accuracy: 0.8414\n",
      "Epoch 74/100\n",
      "1498/1500 [============================>.] - ETA: 0s - loss: 0.3953 - accuracy: 0.8055\n",
      "Epoch 74: val_loss did not improve from 0.33896\n",
      "1500/1500 [==============================] - 2s 2ms/step - loss: 0.3953 - accuracy: 0.8055 - val_loss: 0.3430 - val_accuracy: 0.8425\n",
      "Epoch 75/100\n",
      "1463/1500 [============================>.] - ETA: 0s - loss: 0.3960 - accuracy: 0.8054\n",
      "Epoch 75: val_loss did not improve from 0.33896\n",
      "1500/1500 [==============================] - 2s 1ms/step - loss: 0.3967 - accuracy: 0.8052 - val_loss: 0.3482 - val_accuracy: 0.8478\n",
      "Epoch 76/100\n",
      "1488/1500 [============================>.] - ETA: 0s - loss: 0.3896 - accuracy: 0.8095\n",
      "Epoch 76: val_loss did not improve from 0.33896\n",
      "1500/1500 [==============================] - 2s 2ms/step - loss: 0.3897 - accuracy: 0.8095 - val_loss: 0.3427 - val_accuracy: 0.8449\n",
      "Epoch 77/100\n",
      "1471/1500 [============================>.] - ETA: 0s - loss: 0.3927 - accuracy: 0.8073\n",
      "Epoch 77: val_loss did not improve from 0.33896\n",
      "1500/1500 [==============================] - 2s 1ms/step - loss: 0.3929 - accuracy: 0.8072 - val_loss: 0.3500 - val_accuracy: 0.8379\n",
      "Epoch 78/100\n",
      "1484/1500 [============================>.] - ETA: 0s - loss: 0.3992 - accuracy: 0.8070\n",
      "Epoch 78: val_loss improved from 0.33896 to 0.33848, saving model to saved_models/audio_classification.hdf5\n",
      "1500/1500 [==============================] - 2s 2ms/step - loss: 0.3989 - accuracy: 0.8071 - val_loss: 0.3385 - val_accuracy: 0.8412\n",
      "Epoch 79/100\n",
      "1489/1500 [============================>.] - ETA: 0s - loss: 0.3910 - accuracy: 0.8071\n",
      "Epoch 79: val_loss did not improve from 0.33848\n",
      "1500/1500 [==============================] - 2s 2ms/step - loss: 0.3909 - accuracy: 0.8071 - val_loss: 0.3532 - val_accuracy: 0.8434\n",
      "Epoch 80/100\n",
      "1495/1500 [============================>.] - ETA: 0s - loss: 0.3951 - accuracy: 0.8041\n",
      "Epoch 80: val_loss did not improve from 0.33848\n",
      "1500/1500 [==============================] - 2s 2ms/step - loss: 0.3953 - accuracy: 0.8041 - val_loss: 0.3500 - val_accuracy: 0.8457\n",
      "Epoch 81/100\n",
      "1471/1500 [============================>.] - ETA: 0s - loss: 0.3938 - accuracy: 0.8020\n",
      "Epoch 81: val_loss did not improve from 0.33848\n",
      "1500/1500 [==============================] - 2s 1ms/step - loss: 0.3937 - accuracy: 0.8019 - val_loss: 0.3482 - val_accuracy: 0.8423\n",
      "Epoch 82/100\n",
      "1486/1500 [============================>.] - ETA: 0s - loss: 0.3958 - accuracy: 0.8072\n",
      "Epoch 82: val_loss did not improve from 0.33848\n",
      "1500/1500 [==============================] - 2s 1ms/step - loss: 0.3952 - accuracy: 0.8074 - val_loss: 0.3461 - val_accuracy: 0.8469\n",
      "Epoch 83/100\n",
      "1477/1500 [============================>.] - ETA: 0s - loss: 0.3877 - accuracy: 0.8078\n",
      "Epoch 83: val_loss did not improve from 0.33848\n",
      "1500/1500 [==============================] - 2s 2ms/step - loss: 0.3871 - accuracy: 0.8080 - val_loss: 0.3454 - val_accuracy: 0.8450\n",
      "Epoch 84/100\n",
      "1472/1500 [============================>.] - ETA: 0s - loss: 0.3886 - accuracy: 0.8079\n",
      "Epoch 84: val_loss did not improve from 0.33848\n",
      "1500/1500 [==============================] - 2s 1ms/step - loss: 0.3892 - accuracy: 0.8076 - val_loss: 0.3549 - val_accuracy: 0.8488\n",
      "Epoch 85/100\n",
      "1472/1500 [============================>.] - ETA: 0s - loss: 0.3928 - accuracy: 0.8093\n",
      "Epoch 85: val_loss did not improve from 0.33848\n",
      "1500/1500 [==============================] - 2s 2ms/step - loss: 0.3925 - accuracy: 0.8094 - val_loss: 0.3441 - val_accuracy: 0.8445\n",
      "Epoch 86/100\n",
      "1482/1500 [============================>.] - ETA: 0s - loss: 0.3864 - accuracy: 0.8096\n",
      "Epoch 86: val_loss did not improve from 0.33848\n",
      "1500/1500 [==============================] - 2s 1ms/step - loss: 0.3865 - accuracy: 0.8095 - val_loss: 0.3487 - val_accuracy: 0.8432\n",
      "Epoch 87/100\n",
      "1463/1500 [============================>.] - ETA: 0s - loss: 0.3943 - accuracy: 0.8074\n",
      "Epoch 87: val_loss did not improve from 0.33848\n",
      "1500/1500 [==============================] - 2s 1ms/step - loss: 0.3947 - accuracy: 0.8070 - val_loss: 0.3540 - val_accuracy: 0.8457\n",
      "Epoch 88/100\n",
      "1493/1500 [============================>.] - ETA: 0s - loss: 0.3946 - accuracy: 0.8060\n",
      "Epoch 88: val_loss did not improve from 0.33848\n",
      "1500/1500 [==============================] - 2s 2ms/step - loss: 0.3950 - accuracy: 0.8060 - val_loss: 0.3509 - val_accuracy: 0.8485\n",
      "Epoch 89/100\n",
      "1493/1500 [============================>.] - ETA: 0s - loss: 0.3916 - accuracy: 0.8041\n",
      "Epoch 89: val_loss did not improve from 0.33848\n",
      "1500/1500 [==============================] - 2s 2ms/step - loss: 0.3916 - accuracy: 0.8042 - val_loss: 0.3422 - val_accuracy: 0.8504\n",
      "Epoch 90/100\n",
      "1480/1500 [============================>.] - ETA: 0s - loss: 0.3918 - accuracy: 0.8057\n",
      "Epoch 90: val_loss did not improve from 0.33848\n",
      "1500/1500 [==============================] - 2s 1ms/step - loss: 0.3923 - accuracy: 0.8055 - val_loss: 0.3448 - val_accuracy: 0.8498\n",
      "Epoch 91/100\n",
      "1489/1500 [============================>.] - ETA: 0s - loss: 0.3922 - accuracy: 0.8062\n",
      "Epoch 91: val_loss did not improve from 0.33848\n",
      "1500/1500 [==============================] - 2s 1ms/step - loss: 0.3917 - accuracy: 0.8064 - val_loss: 0.3523 - val_accuracy: 0.8419\n",
      "Epoch 92/100\n",
      "1474/1500 [============================>.] - ETA: 0s - loss: 0.4040 - accuracy: 0.8029\n",
      "Epoch 92: val_loss did not improve from 0.33848\n",
      "1500/1500 [==============================] - 2s 2ms/step - loss: 0.4037 - accuracy: 0.8030 - val_loss: 0.3550 - val_accuracy: 0.8457\n",
      "Epoch 93/100\n",
      "1478/1500 [============================>.] - ETA: 0s - loss: 0.3933 - accuracy: 0.8050\n",
      "Epoch 93: val_loss did not improve from 0.33848\n",
      "1500/1500 [==============================] - 2s 1ms/step - loss: 0.3932 - accuracy: 0.8048 - val_loss: 0.3435 - val_accuracy: 0.8464\n",
      "Epoch 94/100\n",
      "1483/1500 [============================>.] - ETA: 0s - loss: 0.3878 - accuracy: 0.8099\n",
      "Epoch 94: val_loss improved from 0.33848 to 0.33444, saving model to saved_models/audio_classification.hdf5\n",
      "1500/1500 [==============================] - 2s 2ms/step - loss: 0.3875 - accuracy: 0.8101 - val_loss: 0.3344 - val_accuracy: 0.8482\n",
      "Epoch 95/100\n",
      "1475/1500 [============================>.] - ETA: 0s - loss: 0.3913 - accuracy: 0.8099\n",
      "Epoch 95: val_loss did not improve from 0.33444\n",
      "1500/1500 [==============================] - 2s 1ms/step - loss: 0.3909 - accuracy: 0.8101 - val_loss: 0.3455 - val_accuracy: 0.8444\n",
      "Epoch 96/100\n",
      "1488/1500 [============================>.] - ETA: 0s - loss: 0.3927 - accuracy: 0.8024\n",
      "Epoch 96: val_loss did not improve from 0.33444\n",
      "1500/1500 [==============================] - 2s 2ms/step - loss: 0.3929 - accuracy: 0.8021 - val_loss: 0.3510 - val_accuracy: 0.8418\n",
      "Epoch 97/100\n",
      "1486/1500 [============================>.] - ETA: 0s - loss: 0.3872 - accuracy: 0.8085\n",
      "Epoch 97: val_loss did not improve from 0.33444\n",
      "1500/1500 [==============================] - 2s 1ms/step - loss: 0.3877 - accuracy: 0.8084 - val_loss: 0.3462 - val_accuracy: 0.8457\n",
      "Epoch 98/100\n",
      "1471/1500 [============================>.] - ETA: 0s - loss: 0.3957 - accuracy: 0.8026\n",
      "Epoch 98: val_loss did not improve from 0.33444\n",
      "1500/1500 [==============================] - 2s 1ms/step - loss: 0.3958 - accuracy: 0.8027 - val_loss: 0.3468 - val_accuracy: 0.8397\n",
      "Epoch 99/100\n",
      "1465/1500 [============================>.] - ETA: 0s - loss: 0.3959 - accuracy: 0.8037\n",
      "Epoch 99: val_loss did not improve from 0.33444\n",
      "1500/1500 [==============================] - 2s 1ms/step - loss: 0.3957 - accuracy: 0.8038 - val_loss: 0.3468 - val_accuracy: 0.8436\n",
      "Epoch 100/100\n",
      "1472/1500 [============================>.] - ETA: 0s - loss: 0.3922 - accuracy: 0.8082\n",
      "Epoch 100: val_loss did not improve from 0.33444\n",
      "1500/1500 [==============================] - 2s 1ms/step - loss: 0.3919 - accuracy: 0.8085 - val_loss: 0.3428 - val_accuracy: 0.8439\n",
      "Training completed in time:  0:03:50.074435\n"
     ]
    }
   ],
   "source": [
    "## Training model\n",
    "from tensorflow.keras.callbacks import ModelCheckpoint\n",
    "from datetime import datetime\n",
    "\n",
    "num_epochs = 100\n",
    "num_batch_size = 32\n",
    "\n",
    "checkpointer = ModelCheckpoint(filepath='saved_models/audio_classification.hdf5',\n",
    "                               verbose=1, save_best_only=True)\n",
    "start = datetime.now()\n",
    "\n",
    "history = model.fit(X_train, y_train, batch_size=num_batch_size, epochs=num_epochs, validation_data=(X_test, y_test), callbacks=[checkpointer], verbose=1)\n",
    "\n",
    "\n",
    "duration = datetime.now() - start\n",
    "print(\"Training completed in time: \", duration)"
   ]
  },
  {
   "cell_type": "code",
   "execution_count": 75,
   "id": "f59e33c1-4aa7-43d0-a5c5-0e5b49e4987b",
   "metadata": {
    "tags": []
   },
   "outputs": [
    {
     "data": {
      "image/png": "[encoded data removed]",
      "text/plain": [
       "<PIL.Image.Image image mode=RGBA size=347x63 at 0x7F3DDBFD9CF0>"
      ]
     },
     "execution_count": 75,
     "metadata": {},
     "output_type": "execute_result"
    }
   ],
   "source": [
    "visualkeras.layered_view(model,legend=True, draw_volume=True)"
   ]
  },
  {
   "cell_type": "code",
   "execution_count": 76,
   "id": "a6e09e02-3601-4b69-9810-ffece74b74af",
   "metadata": {
    "tags": []
   },
   "outputs": [
    {
     "data": {
      "image/png": "[encoded data removed]",
      "text/plain": [
       "<Figure size 432x288 with 1 Axes>"
      ]
     },
     "metadata": {
      "needs_background": "light"
     },
     "output_type": "display_data"
    }
   ],
   "source": [
    "import matplotlib.pyplot as plt\n",
    "plt.plot(history.history['accuracy'])\n",
    "plt.plot(history.history['val_accuracy'])\n",
    "plt.title('Model accuracy')\n",
    "plt.ylabel('Accuracy')\n",
    "plt.xlabel('Epoch')\n",
    "plt.legend(['Train', 'Test'], loc='upper left')\n",
    "plt.show()"
   ]
  },
  {
   "cell_type": "code",
   "execution_count": 77,
   "id": "48410f8a-e2f0-41d6-b964-33a4ea994b7c",
   "metadata": {
    "tags": []
   },
   "outputs": [
    {
     "data": {
      "image/png": "[encoded data removed]",
      "text/plain": [
       "<Figure size 432x288 with 1 Axes>"
      ]
     },
     "metadata": {
      "needs_background": "light"
     },
     "output_type": "display_data"
    }
   ],
   "source": [
    "plt.plot(history.history['loss']) \n",
    "plt.plot(history.history['val_loss']) \n",
    "plt.title('Model loss') \n",
    "plt.ylabel('Loss') \n",
    "plt.xlabel('Epoch') \n",
    "plt.legend(['Train', 'Test'], loc='upper left') \n",
    "plt.show()"
   ]
  },
  {
   "cell_type": "code",
   "execution_count": 78,
   "id": "56665242",
   "metadata": {
    "collapsed": false,
    "jupyter": {
     "outputs_hidden": false
    },
    "tags": []
   },
   "outputs": [
    {
     "name": "stdout",
     "output_type": "stream",
     "text": [
      "0.843916654586792\n"
     ]
    }
   ],
   "source": [
    "test_accuracy=model.evaluate(X_test,y_test,verbose=0)\n",
    "print(test_accuracy[1])"
   ]
  },
  {
   "cell_type": "code",
   "execution_count": 79,
   "id": "035f1bfd-315b-4fd5-9fb8-4c1870301712",
   "metadata": {
    "tags": []
   },
   "outputs": [
    {
     "name": "stdout",
     "output_type": "stream",
     "text": [
      "375/375 [==============================] - 0s 729us/step\n"
     ]
    }
   ],
   "source": [
    "y_pred = model.predict(X_test)\n",
    "y_pred=np.argmax(y_pred, axis=1)\n",
    "y_test=np.argmax(y_test, axis=1)"
   ]
  },
  {
   "cell_type": "code",
   "execution_count": 80,
   "id": "3ed8192f-4e4b-41f6-bf5f-17d35cee95f5",
   "metadata": {
    "tags": []
   },
   "outputs": [
    {
     "name": "stdout",
     "output_type": "stream",
     "text": [
      "              precision    recall  f1-score   support\n",
      "\n",
      "      French       0.71      0.80      0.75      3079\n",
      "     Italian       0.76      0.66      0.70      2982\n",
      "  Portuguese       0.96      0.96      0.96      2931\n",
      "     Spanish       0.97      0.96      0.96      3008\n",
      "\n",
      "    accuracy                           0.84     12000\n",
      "   macro avg       0.85      0.84      0.84     12000\n",
      "weighted avg       0.85      0.84      0.84     12000\n",
      "\n"
     ]
    }
   ],
   "source": [
    "from sklearn.metrics import classification_report\n",
    "target_names = sorted(df.language.unique())\n",
    "print(classification_report(y_test, y_pred, target_names=target_names))"
   ]
  },
  {
   "cell_type": "code",
   "execution_count": 81,
   "id": "cd333bce-efa1-4227-9f8e-2317f3f66942",
   "metadata": {
    "tags": []
   },
   "outputs": [
    {
     "data": {
      "image/png": "[encoded data removed]",
      "text/plain": [
       "<Figure size 648x648 with 2 Axes>"
      ]
     },
     "metadata": {
      "needs_background": "light"
     },
     "output_type": "display_data"
    }
   ],
   "source": [
    "from sklearn.metrics import classification_report, confusion_matrix\n",
    "import seaborn as sns\n",
    "\n",
    "# Plotting the results:\n",
    "plt.figure(figsize=(9,9))\n",
    "sns.heatmap(metrics.confusion_matrix(y_test, y_pred), annot=True, fmt=\"d\", linewidths=.5, square = True, cmap = 'Blues_r', xticklabels=target_names, yticklabels=target_names);\n",
    "plt.ylabel('Actual label');\n",
    "plt.xlabel('Predicted label');\n",
    "all_sample_title = 'Accuracy Score: {0}'.format(test_accuracy[1])\n",
    "plt.title(all_sample_title, size = 15);"
   ]
  }
 ],
 "metadata": {
  "kernelspec": {
   "display_name": "Python 3 (ipykernel)",
   "language": "python",
   "name": "python3"
  },
  "language_info": {
   "codemirror_mode": {
    "name": "ipython",
    "version": 3
   },
   "file_extension": ".py",
   "mimetype": "text/x-python",
   "name": "python",
   "nbconvert_exporter": "python",
   "pygments_lexer": "ipython3",
   "version": "3.10.6"
  }
 },
 "nbformat": 4,
 "nbformat_minor": 5
}
