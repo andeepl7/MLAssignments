{
 "cells": [
  {
   "cell_type": "markdown",
   "id": "b8be734c",
   "metadata": {},
   "source": [
    "# STEP 3 Audio Preparation and Model\n"
   ]
  },
  {
   "cell_type": "code",
   "execution_count": 1,
   "id": "a611495d",
   "metadata": {
    "scrolled": true,
    "tags": []
   },
   "outputs": [],
   "source": [
    "import os\n",
    "import pandas as pd\n",
    "import numpy as np\n",
    "import librosa\n",
    "import soundfile as sf\n",
    "from tqdm.notebook import tqdm"
   ]
  },
  {
   "cell_type": "code",
   "execution_count": 2,
   "id": "4c61050a-108b-41af-9fee-98105fee0a64",
   "metadata": {
    "collapsed": false,
    "jupyter": {
     "outputs_hidden": false
    },
    "tags": []
   },
   "outputs": [],
   "source": [
    "#Global parameters\n",
    "language_dic = {\"es\" : \"Spanish\" , \"pt\": \"Portuguese\"}\n",
    "analysis_window_length = 0.01  # 10 ms in seconds\n",
    "language_mp3_path = \"/language_detector/languages\""
   ]
  },
  {
   "cell_type": "code",
   "execution_count": 3,
   "id": "e1221022",
   "metadata": {
    "collapsed": false,
    "jupyter": {
     "outputs_hidden": false
    },
    "tags": []
   },
   "outputs": [],
   "source": [
    "# number of repeats defined by minimum duration: ceil(10 seconds / min duration)\n",
    "min_clip = 0.10115625\n",
    "x_seconds = 5\n",
    "num_reps = int(np.ceil(x_seconds / min_clip))\n",
    "def repeat_audio_x_seconds(track, dur, num_repeats=10, fs=16000):\n",
    "    num_samples_xs = int(fs * dur)\n",
    "    track = np.concatenate([track]*num_repeats, axis=0)\n",
    "    track = track[0:num_samples_xs]\n",
    "    return track"
   ]
  },
  {
   "cell_type": "code",
   "execution_count": 4,
   "id": "0920bf4c-4d7b-4232-9663-1238da89b35d",
   "metadata": {
    "tags": []
   },
   "outputs": [],
   "source": [
    "def processing_audio(language_mp3_path, analysis_window_length, language_dic):\n",
    "    \"\"\"\n",
    "    This function samples mp3 files, analyzes the dataset content, and builds a dictionary of features.\n",
    "    \"\"\"\n",
    "    data = {\"filename\": [], \"language\": [], \"mfccs\": []}  # Initialize data dictionary here\n",
    "   \n",
    "    language_list = os.listdir(language_mp3_path)\n",
    "\n",
    "    for language in language_list:\n",
    "        language_path = os.path.join(language_mp3_path, language)\n",
    "\n",
    "        if language not in language_dic:\n",
    "            print(f\"Skipping language {language} because it is not in language_dic\")\n",
    "            continue\n",
    "\n",
    "        language_name = language_dic.get(language, \"Unknown language!\")\n",
    "\n",
    "        clips_path = os.path.join(language_path, \"clips\")\n",
    "        # Check if the clips directory exists\n",
    "        if not os.path.isdir(clips_path):\n",
    "            print(f\"No 'clips' directory found in {language_path}\")\n",
    "            continue\n",
    "\n",
    "        # get a list of all files in the folder\n",
    "        mp3_list = os.listdir(clips_path)\n",
    "        mp3_list = mp3_list[:15000]\n",
    "\n",
    "        # looping through all mp3s in one language\n",
    "        for mp3 in tqdm(mp3_list):\n",
    "            # adding the filename as key\n",
    "            data[\"filename\"].append(mp3)\n",
    "            # adding the label/language\n",
    "            data[\"language\"].append(language_name)\n",
    "            # adding the clip\n",
    "            audio_path = os.path.join(clips_path, mp3)\n",
    "            audio_samples, fs = sf.read(audio_path)\n",
    "            audio_samples = repeat_audio_x_seconds(audio_samples, x_seconds, num_repeats=num_reps, fs=fs)\n",
    "            y = audio_samples\n",
    "            sr = fs\n",
    "            hop_length = int(analysis_window_length * sr)\n",
    "            mfcc = librosa.feature.mfcc(y=y, sr=sr, n_mfcc=128, hop_length=hop_length)\n",
    "            mfccs_scaled_features = np.mean(mfcc.T,axis=0)\n",
    "            data[\"mfccs\"].append(mfccs_scaled_features)\n",
    "\n",
    "    return data\n"
   ]
  },
  {
   "cell_type": "code",
   "execution_count": 5,
   "id": "3dde3f61-f962-4f14-89b9-dd17dd5339aa",
   "metadata": {
    "tags": []
   },
   "outputs": [
    {
     "name": "stdout",
     "output_type": "stream",
     "text": [
      "Skipping language it because it is not in language_dic\n",
      "Skipping language ja because it is not in language_dic\n"
     ]
    },
    {
     "data": {
      "application/vnd.jupyter.widget-view+json": {
       "model_id": "9a83947aea734089a0f9820fdea8bd78",
       "version_major": 2,
       "version_minor": 0
      },
      "text/plain": [
       "  0%|          | 0/15000 [00:00<?, ?it/s]"
      ]
     },
     "metadata": {},
     "output_type": "display_data"
    },
    {
     "name": "stdout",
     "output_type": "stream",
     "text": [
      "Skipping language ro because it is not in language_dic\n",
      "Skipping language fr because it is not in language_dic\n",
      "Skipping language de because it is not in language_dic\n"
     ]
    },
    {
     "data": {
      "application/vnd.jupyter.widget-view+json": {
       "model_id": "21a1fba044e6410780138566d3c76cda",
       "version_major": 2,
       "version_minor": 0
      },
      "text/plain": [
       "  0%|          | 0/15000 [00:00<?, ?it/s]"
      ]
     },
     "metadata": {},
     "output_type": "display_data"
    },
    {
     "name": "stdout",
     "output_type": "stream",
     "text": [
      "Skipping language ca because it is not in language_dic\n"
     ]
    }
   ],
   "source": [
    "data = processing_audio(language_mp3_path, analysis_window_length, language_dic)"
   ]
  },
  {
   "cell_type": "code",
   "execution_count": 25,
   "id": "1803434b",
   "metadata": {
    "collapsed": false,
    "jupyter": {
     "outputs_hidden": false
    },
    "tags": []
   },
   "outputs": [
    {
     "name": "stdout",
     "output_type": "stream",
     "text": [
      "                       filename    language  \\\n",
      "0  common_voice_pt_37043332.mp3  Portuguese   \n",
      "1  common_voice_pt_36633365.mp3  Portuguese   \n",
      "2  common_voice_pt_36729579.mp3  Portuguese   \n",
      "3  common_voice_pt_37247144.mp3  Portuguese   \n",
      "4  common_voice_pt_36968505.mp3  Portuguese   \n",
      "\n",
      "                                               mfccs  \n",
      "0  [-539.5114839579494, 114.6822012595508, 22.181...  \n",
      "1  [-405.3097416482386, 98.18068976512295, 2.9863...  \n",
      "2  [-440.3899018615477, 118.3226215678037, 28.304...  \n",
      "3  [-586.7340736369752, 109.71068537734304, 9.510...  \n",
      "4  [-555.2675637959123, 178.62233650724764, 6.843...  \n"
     ]
    },
    {
     "data": {
      "text/plain": [
       "(128,)"
      ]
     },
     "execution_count": 25,
     "metadata": {},
     "output_type": "execute_result"
    }
   ],
   "source": [
    "# Printing shape to confirm the input to the model \n",
    "df = pd.DataFrame(data)\n",
    "print(df.head())\n",
    "df.mfccs[50].shape"
   ]
  },
  {
   "cell_type": "code",
   "execution_count": 26,
   "id": "bf358dcb",
   "metadata": {
    "collapsed": false,
    "jupyter": {
     "outputs_hidden": false
    },
    "tags": []
   },
   "outputs": [
    {
     "name": "stdout",
     "output_type": "stream",
     "text": [
      "The number of files loaded is: 30000, in 2 languages\n"
     ]
    }
   ],
   "source": [
    "#Check-point to see if all data was correctly loaded\n",
    "print(f'The number of files loaded is: {len(df[\"filename\"])}, in {df[\"language\"].nunique()} languages')"
   ]
  },
  {
   "cell_type": "code",
   "execution_count": 27,
   "id": "8fde0fb2",
   "metadata": {
    "collapsed": false,
    "jupyter": {
     "outputs_hidden": false
    },
    "tags": []
   },
   "outputs": [],
   "source": [
    "X=np.array(df['mfccs'].tolist())\n",
    "y=np.array(df['language'].tolist())"
   ]
  },
  {
   "cell_type": "code",
   "execution_count": 28,
   "id": "6e1e8864",
   "metadata": {
    "collapsed": false,
    "jupyter": {
     "outputs_hidden": false
    },
    "tags": []
   },
   "outputs": [],
   "source": [
    "from sklearn.model_selection import train_test_split\n",
    "from sklearn.preprocessing import LabelEncoder\n",
    "from tensorflow.keras.utils import to_categorical\n",
    "labelencoder=LabelEncoder()\n",
    "y=to_categorical(labelencoder.fit_transform(y))"
   ]
  },
  {
   "cell_type": "code",
   "execution_count": 29,
   "id": "f5d2c195",
   "metadata": {
    "collapsed": false,
    "jupyter": {
     "outputs_hidden": false
    },
    "tags": []
   },
   "outputs": [],
   "source": [
    "# using the train test split function\n",
    "X_train, X_test, y_train, y_test = train_test_split(X,y ,\n",
    "                                                    random_state=42,\n",
    "                                                    train_size=0.8)"
   ]
  },
  {
   "cell_type": "code",
   "execution_count": 30,
   "id": "f5c35258-141a-432c-8dc8-73fe90f04825",
   "metadata": {
    "tags": []
   },
   "outputs": [
    {
     "name": "stdout",
     "output_type": "stream",
     "text": [
      "(24000, 128) (6000, 128) (24000, 2) (6000, 2)\n"
     ]
    }
   ],
   "source": [
    "#Checking point\n",
    "print(X_train.shape, X_test.shape, y_train.shape, y_test.shape)"
   ]
  },
  {
   "cell_type": "markdown",
   "id": "df8e46fa",
   "metadata": {},
   "source": [
    "Model Creation"
   ]
  },
  {
   "cell_type": "code",
   "execution_count": 31,
   "id": "c67c1da1",
   "metadata": {
    "collapsed": false,
    "jupyter": {
     "outputs_hidden": false
    },
    "tags": []
   },
   "outputs": [],
   "source": [
    "import tensorflow as tf\n",
    "import visualkeras \n",
    "from tensorflow.keras.models import Sequential\n",
    "from tensorflow.keras.layers import Dense,Dropout,Activation,Flatten\n",
    "from tensorflow.keras.optimizers import Adam\n",
    "from sklearn import metrics"
   ]
  },
  {
   "cell_type": "code",
   "execution_count": 32,
   "id": "bdfea655",
   "metadata": {
    "collapsed": false,
    "jupyter": {
     "outputs_hidden": false
    },
    "tags": []
   },
   "outputs": [],
   "source": [
    "### No of classes\n",
    "num_labels=y.shape[1]"
   ]
  },
  {
   "cell_type": "code",
   "execution_count": 33,
   "id": "387e4a30",
   "metadata": {
    "collapsed": false,
    "jupyter": {
     "outputs_hidden": false
    },
    "tags": []
   },
   "outputs": [],
   "source": [
    "model=Sequential()\n",
    "###first layer\n",
    "model.add(Dense(100,input_shape=(128,)))\n",
    "model.add(Activation('relu'))\n",
    "model.add(Dropout(0.5))\n",
    "###second layer\n",
    "model.add(Dense(200))\n",
    "model.add(Activation('relu'))\n",
    "model.add(Dropout(0.5))\n",
    "###third layer\n",
    "model.add(Dense(100))\n",
    "model.add(Activation('relu'))\n",
    "model.add(Dropout(0.5))\n",
    "\n",
    "###final layer\n",
    "model.add(Dense(num_labels))\n",
    "model.add(Activation('softmax'))"
   ]
  },
  {
   "cell_type": "code",
   "execution_count": 34,
   "id": "74e84396",
   "metadata": {
    "collapsed": false,
    "jupyter": {
     "outputs_hidden": false
    },
    "tags": []
   },
   "outputs": [
    {
     "name": "stdout",
     "output_type": "stream",
     "text": [
      "Model: \"sequential_1\"\n",
      "_________________________________________________________________\n",
      " Layer (type)                Output Shape              Param #   \n",
      "=================================================================\n",
      " dense_4 (Dense)             (None, 100)               12900     \n",
      "                                                                 \n",
      " activation_4 (Activation)   (None, 100)               0         \n",
      "                                                                 \n",
      " dropout_3 (Dropout)         (None, 100)               0         \n",
      "                                                                 \n",
      " dense_5 (Dense)             (None, 200)               20200     \n",
      "                                                                 \n",
      " activation_5 (Activation)   (None, 200)               0         \n",
      "                                                                 \n",
      " dropout_4 (Dropout)         (None, 200)               0         \n",
      "                                                                 \n",
      " dense_6 (Dense)             (None, 100)               20100     \n",
      "                                                                 \n",
      " activation_6 (Activation)   (None, 100)               0         \n",
      "                                                                 \n",
      " dropout_5 (Dropout)         (None, 100)               0         \n",
      "                                                                 \n",
      " dense_7 (Dense)             (None, 2)                 202       \n",
      "                                                                 \n",
      " activation_7 (Activation)   (None, 2)                 0         \n",
      "                                                                 \n",
      "=================================================================\n",
      "Total params: 53,402\n",
      "Trainable params: 53,402\n",
      "Non-trainable params: 0\n",
      "_________________________________________________________________\n"
     ]
    }
   ],
   "source": [
    "model.summary()"
   ]
  },
  {
   "cell_type": "code",
   "execution_count": 35,
   "id": "7fcc9fb0",
   "metadata": {
    "collapsed": false,
    "jupyter": {
     "outputs_hidden": false
    },
    "tags": []
   },
   "outputs": [],
   "source": [
    "model.compile(loss='categorical_crossentropy',metrics=['accuracy'],optimizer='adam')"
   ]
  },
  {
   "cell_type": "code",
   "execution_count": 36,
   "id": "593b37d1",
   "metadata": {
    "collapsed": false,
    "jupyter": {
     "outputs_hidden": false
    },
    "tags": []
   },
   "outputs": [
    {
     "name": "stdout",
     "output_type": "stream",
     "text": [
      "Epoch 1/100\n",
      "721/750 [===========================>..] - ETA: 0s - loss: 2.2893 - accuracy: 0.6961\n",
      "Epoch 1: val_loss improved from inf to 0.37199, saving model to saved_models/audio_classification.hdf5\n",
      "750/750 [==============================] - 2s 2ms/step - loss: 2.2171 - accuracy: 0.7005 - val_loss: 0.3720 - val_accuracy: 0.8732\n",
      "Epoch 2/100\n",
      "718/750 [===========================>..] - ETA: 0s - loss: 0.3344 - accuracy: 0.8572\n",
      "Epoch 2: val_loss improved from 0.37199 to 0.26456, saving model to saved_models/audio_classification.hdf5\n",
      "750/750 [==============================] - 1s 1ms/step - loss: 0.3329 - accuracy: 0.8577 - val_loss: 0.2646 - val_accuracy: 0.8935\n",
      "Epoch 3/100\n",
      "718/750 [===========================>..] - ETA: 0s - loss: 0.2665 - accuracy: 0.8864\n",
      "Epoch 3: val_loss improved from 0.26456 to 0.22746, saving model to saved_models/audio_classification.hdf5\n",
      "750/750 [==============================] - 1s 1ms/step - loss: 0.2658 - accuracy: 0.8870 - val_loss: 0.2275 - val_accuracy: 0.9083\n",
      "Epoch 4/100\n",
      "726/750 [============================>.] - ETA: 0s - loss: 0.2313 - accuracy: 0.8999\n",
      "Epoch 4: val_loss improved from 0.22746 to 0.19116, saving model to saved_models/audio_classification.hdf5\n",
      "750/750 [==============================] - 1s 1ms/step - loss: 0.2309 - accuracy: 0.9003 - val_loss: 0.1912 - val_accuracy: 0.9215\n",
      "Epoch 5/100\n",
      "729/750 [============================>.] - ETA: 0s - loss: 0.2129 - accuracy: 0.9117\n",
      "Epoch 5: val_loss improved from 0.19116 to 0.17363, saving model to saved_models/audio_classification.hdf5\n",
      "750/750 [==============================] - 1s 1ms/step - loss: 0.2126 - accuracy: 0.9118 - val_loss: 0.1736 - val_accuracy: 0.9342\n",
      "Epoch 6/100\n",
      "712/750 [===========================>..] - ETA: 0s - loss: 0.1932 - accuracy: 0.9189\n",
      "Epoch 6: val_loss did not improve from 0.17363\n",
      "750/750 [==============================] - 1s 1ms/step - loss: 0.1942 - accuracy: 0.9188 - val_loss: 0.1840 - val_accuracy: 0.9417\n",
      "Epoch 7/100\n",
      "722/750 [===========================>..] - ETA: 0s - loss: 0.1787 - accuracy: 0.9265\n",
      "Epoch 7: val_loss improved from 0.17363 to 0.14154, saving model to saved_models/audio_classification.hdf5\n",
      "750/750 [==============================] - 1s 1ms/step - loss: 0.1783 - accuracy: 0.9262 - val_loss: 0.1415 - val_accuracy: 0.9493\n",
      "Epoch 8/100\n",
      "734/750 [============================>.] - ETA: 0s - loss: 0.1673 - accuracy: 0.9312\n",
      "Epoch 8: val_loss improved from 0.14154 to 0.13862, saving model to saved_models/audio_classification.hdf5\n",
      "750/750 [==============================] - 1s 1ms/step - loss: 0.1670 - accuracy: 0.9315 - val_loss: 0.1386 - val_accuracy: 0.9488\n",
      "Epoch 9/100\n",
      "728/750 [============================>.] - ETA: 0s - loss: 0.1612 - accuracy: 0.9349\n",
      "Epoch 9: val_loss improved from 0.13862 to 0.13027, saving model to saved_models/audio_classification.hdf5\n",
      "750/750 [==============================] - 1s 1ms/step - loss: 0.1616 - accuracy: 0.9347 - val_loss: 0.1303 - val_accuracy: 0.9538\n",
      "Epoch 10/100\n",
      "741/750 [============================>.] - ETA: 0s - loss: 0.1505 - accuracy: 0.9394\n",
      "Epoch 10: val_loss improved from 0.13027 to 0.12246, saving model to saved_models/audio_classification.hdf5\n",
      "750/750 [==============================] - 1s 1ms/step - loss: 0.1501 - accuracy: 0.9395 - val_loss: 0.1225 - val_accuracy: 0.9573\n",
      "Epoch 11/100\n",
      "711/750 [===========================>..] - ETA: 0s - loss: 0.1411 - accuracy: 0.9418\n",
      "Epoch 11: val_loss improved from 0.12246 to 0.11081, saving model to saved_models/audio_classification.hdf5\n",
      "750/750 [==============================] - 1s 1ms/step - loss: 0.1410 - accuracy: 0.9420 - val_loss: 0.1108 - val_accuracy: 0.9638\n",
      "Epoch 12/100\n",
      "727/750 [============================>.] - ETA: 0s - loss: 0.1406 - accuracy: 0.9437\n",
      "Epoch 12: val_loss did not improve from 0.11081\n",
      "750/750 [==============================] - 1s 1ms/step - loss: 0.1405 - accuracy: 0.9437 - val_loss: 0.1141 - val_accuracy: 0.9620\n",
      "Epoch 13/100\n",
      "719/750 [===========================>..] - ETA: 0s - loss: 0.1393 - accuracy: 0.9442\n",
      "Epoch 13: val_loss improved from 0.11081 to 0.11077, saving model to saved_models/audio_classification.hdf5\n",
      "750/750 [==============================] - 1s 1ms/step - loss: 0.1381 - accuracy: 0.9447 - val_loss: 0.1108 - val_accuracy: 0.9613\n",
      "Epoch 14/100\n",
      "737/750 [============================>.] - ETA: 0s - loss: 0.1335 - accuracy: 0.9470\n",
      "Epoch 14: val_loss did not improve from 0.11077\n",
      "750/750 [==============================] - 1s 1ms/step - loss: 0.1341 - accuracy: 0.9468 - val_loss: 0.1246 - val_accuracy: 0.9650\n",
      "Epoch 15/100\n",
      "725/750 [============================>.] - ETA: 0s - loss: 0.1326 - accuracy: 0.9479\n",
      "Epoch 15: val_loss improved from 0.11077 to 0.09747, saving model to saved_models/audio_classification.hdf5\n",
      "750/750 [==============================] - 1s 1ms/step - loss: 0.1331 - accuracy: 0.9477 - val_loss: 0.0975 - val_accuracy: 0.9677\n",
      "Epoch 16/100\n",
      "717/750 [===========================>..] - ETA: 0s - loss: 0.1306 - accuracy: 0.9479\n",
      "Epoch 16: val_loss improved from 0.09747 to 0.09718, saving model to saved_models/audio_classification.hdf5\n",
      "750/750 [==============================] - 1s 1ms/step - loss: 0.1304 - accuracy: 0.9482 - val_loss: 0.0972 - val_accuracy: 0.9695\n",
      "Epoch 17/100\n",
      "721/750 [===========================>..] - ETA: 0s - loss: 0.1303 - accuracy: 0.9479\n",
      "Epoch 17: val_loss improved from 0.09718 to 0.09023, saving model to saved_models/audio_classification.hdf5\n",
      "750/750 [==============================] - 1s 1ms/step - loss: 0.1298 - accuracy: 0.9480 - val_loss: 0.0902 - val_accuracy: 0.9687\n",
      "Epoch 18/100\n",
      "716/750 [===========================>..] - ETA: 0s - loss: 0.1225 - accuracy: 0.9529\n",
      "Epoch 18: val_loss did not improve from 0.09023\n",
      "750/750 [==============================] - 1s 1ms/step - loss: 0.1233 - accuracy: 0.9526 - val_loss: 0.1174 - val_accuracy: 0.9695\n",
      "Epoch 19/100\n",
      "715/750 [===========================>..] - ETA: 0s - loss: 0.1191 - accuracy: 0.9546\n",
      "Epoch 19: val_loss did not improve from 0.09023\n",
      "750/750 [==============================] - 1s 1ms/step - loss: 0.1190 - accuracy: 0.9548 - val_loss: 0.0933 - val_accuracy: 0.9712\n",
      "Epoch 20/100\n",
      "713/750 [===========================>..] - ETA: 0s - loss: 0.1175 - accuracy: 0.9538\n",
      "Epoch 20: val_loss did not improve from 0.09023\n",
      "750/750 [==============================] - 1s 1ms/step - loss: 0.1182 - accuracy: 0.9537 - val_loss: 0.0981 - val_accuracy: 0.9743\n",
      "Epoch 21/100\n",
      "713/750 [===========================>..] - ETA: 0s - loss: 0.1172 - accuracy: 0.9536\n",
      "Epoch 21: val_loss improved from 0.09023 to 0.08293, saving model to saved_models/audio_classification.hdf5\n",
      "750/750 [==============================] - 1s 1ms/step - loss: 0.1165 - accuracy: 0.9538 - val_loss: 0.0829 - val_accuracy: 0.9693\n",
      "Epoch 22/100\n",
      "746/750 [============================>.] - ETA: 0s - loss: 0.1132 - accuracy: 0.9567\n",
      "Epoch 22: val_loss did not improve from 0.08293\n",
      "750/750 [==============================] - 1s 1ms/step - loss: 0.1133 - accuracy: 0.9565 - val_loss: 0.0902 - val_accuracy: 0.9732\n",
      "Epoch 23/100\n",
      "739/750 [============================>.] - ETA: 0s - loss: 0.1113 - accuracy: 0.9592\n",
      "Epoch 23: val_loss did not improve from 0.08293\n",
      "750/750 [==============================] - 1s 1ms/step - loss: 0.1112 - accuracy: 0.9593 - val_loss: 0.0978 - val_accuracy: 0.9740\n",
      "Epoch 24/100\n",
      "730/750 [============================>.] - ETA: 0s - loss: 0.1107 - accuracy: 0.9575\n",
      "Epoch 24: val_loss improved from 0.08293 to 0.08136, saving model to saved_models/audio_classification.hdf5\n",
      "750/750 [==============================] - 1s 1ms/step - loss: 0.1103 - accuracy: 0.9577 - val_loss: 0.0814 - val_accuracy: 0.9723\n",
      "Epoch 25/100\n",
      "710/750 [===========================>..] - ETA: 0s - loss: 0.1118 - accuracy: 0.9569\n",
      "Epoch 25: val_loss did not improve from 0.08136\n",
      "750/750 [==============================] - 1s 1ms/step - loss: 0.1122 - accuracy: 0.9567 - val_loss: 0.0895 - val_accuracy: 0.9765\n",
      "Epoch 26/100\n",
      "725/750 [============================>.] - ETA: 0s - loss: 0.1079 - accuracy: 0.9595\n",
      "Epoch 26: val_loss improved from 0.08136 to 0.07617, saving model to saved_models/audio_classification.hdf5\n",
      "750/750 [==============================] - 1s 1ms/step - loss: 0.1077 - accuracy: 0.9598 - val_loss: 0.0762 - val_accuracy: 0.9717\n",
      "Epoch 27/100\n",
      "716/750 [===========================>..] - ETA: 0s - loss: 0.1035 - accuracy: 0.9616\n",
      "Epoch 27: val_loss did not improve from 0.07617\n",
      "750/750 [==============================] - 1s 1ms/step - loss: 0.1034 - accuracy: 0.9615 - val_loss: 0.0777 - val_accuracy: 0.9748\n",
      "Epoch 28/100\n",
      "711/750 [===========================>..] - ETA: 0s - loss: 0.1048 - accuracy: 0.9611\n",
      "Epoch 28: val_loss did not improve from 0.07617\n",
      "750/750 [==============================] - 1s 1ms/step - loss: 0.1049 - accuracy: 0.9607 - val_loss: 0.0822 - val_accuracy: 0.9747\n",
      "Epoch 29/100\n",
      "747/750 [============================>.] - ETA: 0s - loss: 0.1049 - accuracy: 0.9598\n",
      "Epoch 29: val_loss improved from 0.07617 to 0.06654, saving model to saved_models/audio_classification.hdf5\n",
      "750/750 [==============================] - 1s 1ms/step - loss: 0.1047 - accuracy: 0.9599 - val_loss: 0.0665 - val_accuracy: 0.9748\n",
      "Epoch 30/100\n",
      "734/750 [============================>.] - ETA: 0s - loss: 0.1024 - accuracy: 0.9640\n",
      "Epoch 30: val_loss did not improve from 0.06654\n",
      "750/750 [==============================] - 1s 1ms/step - loss: 0.1029 - accuracy: 0.9637 - val_loss: 0.0762 - val_accuracy: 0.9762\n",
      "Epoch 31/100\n",
      "712/750 [===========================>..] - ETA: 0s - loss: 0.1022 - accuracy: 0.9609\n",
      "Epoch 31: val_loss did not improve from 0.06654\n",
      "750/750 [==============================] - 1s 1ms/step - loss: 0.1009 - accuracy: 0.9615 - val_loss: 0.0726 - val_accuracy: 0.9752\n",
      "Epoch 32/100\n",
      "728/750 [============================>.] - ETA: 0s - loss: 0.0995 - accuracy: 0.9621\n",
      "Epoch 32: val_loss did not improve from 0.06654\n",
      "750/750 [==============================] - 1s 1ms/step - loss: 0.0993 - accuracy: 0.9619 - val_loss: 0.0671 - val_accuracy: 0.9752\n",
      "Epoch 33/100\n",
      "726/750 [============================>.] - ETA: 0s - loss: 0.1008 - accuracy: 0.9606\n",
      "Epoch 33: val_loss did not improve from 0.06654\n",
      "750/750 [==============================] - 1s 1ms/step - loss: 0.1005 - accuracy: 0.9607 - val_loss: 0.0679 - val_accuracy: 0.9778\n",
      "Epoch 34/100\n",
      "710/750 [===========================>..] - ETA: 0s - loss: 0.1011 - accuracy: 0.9618\n",
      "Epoch 34: val_loss did not improve from 0.06654\n",
      "750/750 [==============================] - 1s 1ms/step - loss: 0.1007 - accuracy: 0.9617 - val_loss: 0.0787 - val_accuracy: 0.9727\n",
      "Epoch 35/100\n",
      "728/750 [============================>.] - ETA: 0s - loss: 0.1012 - accuracy: 0.9629\n",
      "Epoch 35: val_loss did not improve from 0.06654\n",
      "750/750 [==============================] - 1s 1ms/step - loss: 0.1010 - accuracy: 0.9632 - val_loss: 0.0704 - val_accuracy: 0.9782\n",
      "Epoch 36/100\n",
      "734/750 [============================>.] - ETA: 0s - loss: 0.0926 - accuracy: 0.9643\n",
      "Epoch 36: val_loss did not improve from 0.06654\n",
      "750/750 [==============================] - 1s 1ms/step - loss: 0.0936 - accuracy: 0.9641 - val_loss: 0.0776 - val_accuracy: 0.9768\n",
      "Epoch 37/100\n",
      "732/750 [============================>.] - ETA: 0s - loss: 0.0963 - accuracy: 0.9635\n",
      "Epoch 37: val_loss did not improve from 0.06654\n",
      "750/750 [==============================] - 1s 1ms/step - loss: 0.0962 - accuracy: 0.9636 - val_loss: 0.0728 - val_accuracy: 0.9762\n",
      "Epoch 38/100\n",
      "740/750 [============================>.] - ETA: 0s - loss: 0.0948 - accuracy: 0.9634\n",
      "Epoch 38: val_loss did not improve from 0.06654\n",
      "750/750 [==============================] - 1s 1ms/step - loss: 0.0948 - accuracy: 0.9633 - val_loss: 0.0811 - val_accuracy: 0.9745\n",
      "Epoch 39/100\n",
      "742/750 [============================>.] - ETA: 0s - loss: 0.0929 - accuracy: 0.9656\n",
      "Epoch 39: val_loss did not improve from 0.06654\n",
      "750/750 [==============================] - 1s 1ms/step - loss: 0.0925 - accuracy: 0.9657 - val_loss: 0.0678 - val_accuracy: 0.9787\n",
      "Epoch 40/100\n",
      "744/750 [============================>.] - ETA: 0s - loss: 0.0914 - accuracy: 0.9655\n",
      "Epoch 40: val_loss improved from 0.06654 to 0.06375, saving model to saved_models/audio_classification.hdf5\n",
      "750/750 [==============================] - 1s 1ms/step - loss: 0.0913 - accuracy: 0.9655 - val_loss: 0.0638 - val_accuracy: 0.9782\n",
      "Epoch 41/100\n",
      "732/750 [============================>.] - ETA: 0s - loss: 0.0914 - accuracy: 0.9650\n",
      "Epoch 41: val_loss did not improve from 0.06375\n",
      "750/750 [==============================] - 1s 1ms/step - loss: 0.0914 - accuracy: 0.9649 - val_loss: 0.0735 - val_accuracy: 0.9770\n",
      "Epoch 42/100\n",
      "730/750 [============================>.] - ETA: 0s - loss: 0.0965 - accuracy: 0.9646\n",
      "Epoch 42: val_loss did not improve from 0.06375\n",
      "750/750 [==============================] - 1s 1ms/step - loss: 0.0961 - accuracy: 0.9650 - val_loss: 0.0645 - val_accuracy: 0.9753\n",
      "Epoch 43/100\n",
      "723/750 [===========================>..] - ETA: 0s - loss: 0.0849 - accuracy: 0.9671\n",
      "Epoch 43: val_loss did not improve from 0.06375\n",
      "750/750 [==============================] - 1s 1ms/step - loss: 0.0854 - accuracy: 0.9669 - val_loss: 0.0676 - val_accuracy: 0.9762\n",
      "Epoch 44/100\n",
      "726/750 [============================>.] - ETA: 0s - loss: 0.0899 - accuracy: 0.9676\n",
      "Epoch 44: val_loss improved from 0.06375 to 0.06361, saving model to saved_models/audio_classification.hdf5\n",
      "750/750 [==============================] - 1s 1ms/step - loss: 0.0897 - accuracy: 0.9677 - val_loss: 0.0636 - val_accuracy: 0.9785\n",
      "Epoch 45/100\n",
      "710/750 [===========================>..] - ETA: 0s - loss: 0.0958 - accuracy: 0.9635\n",
      "Epoch 45: val_loss did not improve from 0.06361\n",
      "750/750 [==============================] - 1s 1ms/step - loss: 0.0954 - accuracy: 0.9635 - val_loss: 0.0640 - val_accuracy: 0.9777\n",
      "Epoch 46/100\n",
      "729/750 [============================>.] - ETA: 0s - loss: 0.0914 - accuracy: 0.9656\n",
      "Epoch 46: val_loss did not improve from 0.06361\n",
      "750/750 [==============================] - 1s 1ms/step - loss: 0.0918 - accuracy: 0.9655 - val_loss: 0.0706 - val_accuracy: 0.9775\n",
      "Epoch 47/100\n",
      "731/750 [============================>.] - ETA: 0s - loss: 0.0936 - accuracy: 0.9667\n",
      "Epoch 47: val_loss did not improve from 0.06361\n",
      "750/750 [==============================] - 1s 1ms/step - loss: 0.0930 - accuracy: 0.9668 - val_loss: 0.0649 - val_accuracy: 0.9783\n",
      "Epoch 48/100\n",
      "735/750 [============================>.] - ETA: 0s - loss: 0.0910 - accuracy: 0.9666\n",
      "Epoch 48: val_loss improved from 0.06361 to 0.06263, saving model to saved_models/audio_classification.hdf5\n",
      "750/750 [==============================] - 1s 1ms/step - loss: 0.0918 - accuracy: 0.9663 - val_loss: 0.0626 - val_accuracy: 0.9772\n",
      "Epoch 49/100\n",
      "735/750 [============================>.] - ETA: 0s - loss: 0.0920 - accuracy: 0.9662\n",
      "Epoch 49: val_loss did not improve from 0.06263\n",
      "750/750 [==============================] - 1s 1ms/step - loss: 0.0918 - accuracy: 0.9662 - val_loss: 0.0678 - val_accuracy: 0.9760\n",
      "Epoch 50/100\n",
      "722/750 [===========================>..] - ETA: 0s - loss: 0.0872 - accuracy: 0.9665\n",
      "Epoch 50: val_loss did not improve from 0.06263\n",
      "750/750 [==============================] - 1s 1ms/step - loss: 0.0871 - accuracy: 0.9664 - val_loss: 0.0680 - val_accuracy: 0.9795\n",
      "Epoch 51/100\n",
      "741/750 [============================>.] - ETA: 0s - loss: 0.0854 - accuracy: 0.9680\n",
      "Epoch 51: val_loss did not improve from 0.06263\n",
      "750/750 [==============================] - 1s 1ms/step - loss: 0.0851 - accuracy: 0.9681 - val_loss: 0.0691 - val_accuracy: 0.9757\n",
      "Epoch 52/100\n",
      "729/750 [============================>.] - ETA: 0s - loss: 0.0854 - accuracy: 0.9684\n",
      "Epoch 52: val_loss improved from 0.06263 to 0.06028, saving model to saved_models/audio_classification.hdf5\n",
      "750/750 [==============================] - 1s 1ms/step - loss: 0.0851 - accuracy: 0.9685 - val_loss: 0.0603 - val_accuracy: 0.9777\n",
      "Epoch 53/100\n",
      "742/750 [============================>.] - ETA: 0s - loss: 0.0820 - accuracy: 0.9696\n",
      "Epoch 53: val_loss did not improve from 0.06028\n",
      "750/750 [==============================] - 1s 1ms/step - loss: 0.0831 - accuracy: 0.9693 - val_loss: 0.0669 - val_accuracy: 0.9760\n",
      "Epoch 54/100\n",
      "737/750 [============================>.] - ETA: 0s - loss: 0.0835 - accuracy: 0.9685\n",
      "Epoch 54: val_loss did not improve from 0.06028\n",
      "750/750 [==============================] - 1s 1ms/step - loss: 0.0836 - accuracy: 0.9686 - val_loss: 0.0830 - val_accuracy: 0.9783\n",
      "Epoch 55/100\n",
      "721/750 [===========================>..] - ETA: 0s - loss: 0.0884 - accuracy: 0.9672\n",
      "Epoch 55: val_loss did not improve from 0.06028\n",
      "750/750 [==============================] - 1s 1ms/step - loss: 0.0883 - accuracy: 0.9671 - val_loss: 0.0703 - val_accuracy: 0.9763\n",
      "Epoch 56/100\n",
      "737/750 [============================>.] - ETA: 0s - loss: 0.0835 - accuracy: 0.9701\n",
      "Epoch 56: val_loss did not improve from 0.06028\n",
      "750/750 [==============================] - 1s 1ms/step - loss: 0.0829 - accuracy: 0.9705 - val_loss: 0.0645 - val_accuracy: 0.9800\n",
      "Epoch 57/100\n",
      "725/750 [============================>.] - ETA: 0s - loss: 0.0850 - accuracy: 0.9682\n",
      "Epoch 57: val_loss did not improve from 0.06028\n",
      "750/750 [==============================] - 1s 1ms/step - loss: 0.0853 - accuracy: 0.9682 - val_loss: 0.0705 - val_accuracy: 0.9803\n",
      "Epoch 58/100\n",
      "736/750 [============================>.] - ETA: 0s - loss: 0.0860 - accuracy: 0.9689\n",
      "Epoch 58: val_loss improved from 0.06028 to 0.05976, saving model to saved_models/audio_classification.hdf5\n",
      "750/750 [==============================] - 1s 1ms/step - loss: 0.0865 - accuracy: 0.9689 - val_loss: 0.0598 - val_accuracy: 0.9793\n",
      "Epoch 59/100\n",
      "749/750 [============================>.] - ETA: 0s - loss: 0.0864 - accuracy: 0.9696\n",
      "Epoch 59: val_loss improved from 0.05976 to 0.05663, saving model to saved_models/audio_classification.hdf5\n",
      "750/750 [==============================] - 1s 1ms/step - loss: 0.0864 - accuracy: 0.9696 - val_loss: 0.0566 - val_accuracy: 0.9810\n",
      "Epoch 60/100\n",
      "746/750 [============================>.] - ETA: 0s - loss: 0.0803 - accuracy: 0.9709\n",
      "Epoch 60: val_loss did not improve from 0.05663\n",
      "750/750 [==============================] - 1s 1ms/step - loss: 0.0803 - accuracy: 0.9708 - val_loss: 0.0696 - val_accuracy: 0.9830\n",
      "Epoch 61/100\n",
      "723/750 [===========================>..] - ETA: 0s - loss: 0.0846 - accuracy: 0.9697\n",
      "Epoch 61: val_loss did not improve from 0.05663\n",
      "750/750 [==============================] - 1s 1ms/step - loss: 0.0851 - accuracy: 0.9695 - val_loss: 0.0632 - val_accuracy: 0.9807\n",
      "Epoch 62/100\n",
      "721/750 [===========================>..] - ETA: 0s - loss: 0.0867 - accuracy: 0.9683\n",
      "Epoch 62: val_loss did not improve from 0.05663\n",
      "750/750 [==============================] - 1s 1ms/step - loss: 0.0861 - accuracy: 0.9685 - val_loss: 0.0687 - val_accuracy: 0.9797\n",
      "Epoch 63/100\n",
      "706/750 [===========================>..] - ETA: 0s - loss: 0.0811 - accuracy: 0.9715\n",
      "Epoch 63: val_loss did not improve from 0.05663\n",
      "750/750 [==============================] - 1s 1ms/step - loss: 0.0812 - accuracy: 0.9715 - val_loss: 0.0614 - val_accuracy: 0.9792\n",
      "Epoch 64/100\n",
      "733/750 [============================>.] - ETA: 0s - loss: 0.0856 - accuracy: 0.9694\n",
      "Epoch 64: val_loss improved from 0.05663 to 0.05201, saving model to saved_models/audio_classification.hdf5\n",
      "750/750 [==============================] - 1s 1ms/step - loss: 0.0852 - accuracy: 0.9694 - val_loss: 0.0520 - val_accuracy: 0.9820\n",
      "Epoch 65/100\n",
      "726/750 [============================>.] - ETA: 0s - loss: 0.0853 - accuracy: 0.9687\n",
      "Epoch 65: val_loss did not improve from 0.05201\n",
      "750/750 [==============================] - 1s 1ms/step - loss: 0.0851 - accuracy: 0.9687 - val_loss: 0.0610 - val_accuracy: 0.9803\n",
      "Epoch 66/100\n",
      "736/750 [============================>.] - ETA: 0s - loss: 0.0830 - accuracy: 0.9696\n",
      "Epoch 66: val_loss did not improve from 0.05201\n",
      "750/750 [==============================] - 1s 1ms/step - loss: 0.0827 - accuracy: 0.9696 - val_loss: 0.0639 - val_accuracy: 0.9798\n",
      "Epoch 67/100\n",
      "726/750 [============================>.] - ETA: 0s - loss: 0.0814 - accuracy: 0.9709\n",
      "Epoch 67: val_loss did not improve from 0.05201\n",
      "750/750 [==============================] - 1s 1ms/step - loss: 0.0813 - accuracy: 0.9708 - val_loss: 0.0670 - val_accuracy: 0.9792\n",
      "Epoch 68/100\n",
      "736/750 [============================>.] - ETA: 0s - loss: 0.0831 - accuracy: 0.9691\n",
      "Epoch 68: val_loss did not improve from 0.05201\n",
      "750/750 [==============================] - 1s 1ms/step - loss: 0.0839 - accuracy: 0.9688 - val_loss: 0.0630 - val_accuracy: 0.9803\n",
      "Epoch 69/100\n",
      "738/750 [============================>.] - ETA: 0s - loss: 0.0822 - accuracy: 0.9700\n",
      "Epoch 69: val_loss did not improve from 0.05201\n",
      "750/750 [==============================] - 1s 1ms/step - loss: 0.0816 - accuracy: 0.9702 - val_loss: 0.0743 - val_accuracy: 0.9698\n",
      "Epoch 70/100\n",
      "729/750 [============================>.] - ETA: 0s - loss: 0.0772 - accuracy: 0.9712\n",
      "Epoch 70: val_loss did not improve from 0.05201\n",
      "750/750 [==============================] - 1s 1ms/step - loss: 0.0776 - accuracy: 0.9711 - val_loss: 0.0583 - val_accuracy: 0.9823\n",
      "Epoch 71/100\n",
      "729/750 [============================>.] - ETA: 0s - loss: 0.0803 - accuracy: 0.9708\n",
      "Epoch 71: val_loss did not improve from 0.05201\n",
      "750/750 [==============================] - 1s 1ms/step - loss: 0.0810 - accuracy: 0.9704 - val_loss: 0.0603 - val_accuracy: 0.9820\n",
      "Epoch 72/100\n",
      "724/750 [===========================>..] - ETA: 0s - loss: 0.0774 - accuracy: 0.9734\n",
      "Epoch 72: val_loss did not improve from 0.05201\n",
      "750/750 [==============================] - 1s 1ms/step - loss: 0.0777 - accuracy: 0.9735 - val_loss: 0.0605 - val_accuracy: 0.9813\n",
      "Epoch 73/100\n",
      "722/750 [===========================>..] - ETA: 0s - loss: 0.0838 - accuracy: 0.9708\n",
      "Epoch 73: val_loss did not improve from 0.05201\n",
      "750/750 [==============================] - 1s 1ms/step - loss: 0.0834 - accuracy: 0.9710 - val_loss: 0.0554 - val_accuracy: 0.9822\n",
      "Epoch 74/100\n",
      "737/750 [============================>.] - ETA: 0s - loss: 0.0787 - accuracy: 0.9718\n",
      "Epoch 74: val_loss did not improve from 0.05201\n",
      "750/750 [==============================] - 1s 1ms/step - loss: 0.0793 - accuracy: 0.9717 - val_loss: 0.0651 - val_accuracy: 0.9798\n",
      "Epoch 75/100\n",
      "724/750 [===========================>..] - ETA: 0s - loss: 0.0807 - accuracy: 0.9691\n",
      "Epoch 75: val_loss did not improve from 0.05201\n",
      "750/750 [==============================] - 1s 1ms/step - loss: 0.0799 - accuracy: 0.9695 - val_loss: 0.0548 - val_accuracy: 0.9837\n",
      "Epoch 76/100\n",
      "721/750 [===========================>..] - ETA: 0s - loss: 0.0734 - accuracy: 0.9733\n",
      "Epoch 76: val_loss did not improve from 0.05201\n",
      "750/750 [==============================] - 1s 1ms/step - loss: 0.0731 - accuracy: 0.9732 - val_loss: 0.0592 - val_accuracy: 0.9793\n",
      "Epoch 77/100\n",
      "724/750 [===========================>..] - ETA: 0s - loss: 0.0804 - accuracy: 0.9723\n",
      "Epoch 77: val_loss did not improve from 0.05201\n",
      "750/750 [==============================] - 1s 1ms/step - loss: 0.0803 - accuracy: 0.9721 - val_loss: 0.0583 - val_accuracy: 0.9827\n",
      "Epoch 78/100\n",
      "719/750 [===========================>..] - ETA: 0s - loss: 0.0747 - accuracy: 0.9721\n",
      "Epoch 78: val_loss did not improve from 0.05201\n",
      "750/750 [==============================] - 1s 1ms/step - loss: 0.0744 - accuracy: 0.9721 - val_loss: 0.0577 - val_accuracy: 0.9815\n",
      "Epoch 79/100\n",
      "733/750 [============================>.] - ETA: 0s - loss: 0.0795 - accuracy: 0.9723\n",
      "Epoch 79: val_loss did not improve from 0.05201\n",
      "750/750 [==============================] - 1s 1ms/step - loss: 0.0798 - accuracy: 0.9722 - val_loss: 0.0648 - val_accuracy: 0.9802\n",
      "Epoch 80/100\n",
      "728/750 [============================>.] - ETA: 0s - loss: 0.0792 - accuracy: 0.9707\n",
      "Epoch 80: val_loss did not improve from 0.05201\n",
      "750/750 [==============================] - 1s 1ms/step - loss: 0.0794 - accuracy: 0.9705 - val_loss: 0.0653 - val_accuracy: 0.9802\n",
      "Epoch 81/100\n",
      "710/750 [===========================>..] - ETA: 0s - loss: 0.0808 - accuracy: 0.9713\n",
      "Epoch 81: val_loss did not improve from 0.05201\n",
      "750/750 [==============================] - 1s 1ms/step - loss: 0.0816 - accuracy: 0.9714 - val_loss: 0.0559 - val_accuracy: 0.9817\n",
      "Epoch 82/100\n",
      "727/750 [============================>.] - ETA: 0s - loss: 0.0772 - accuracy: 0.9712\n",
      "Epoch 82: val_loss did not improve from 0.05201\n",
      "750/750 [==============================] - 1s 1ms/step - loss: 0.0778 - accuracy: 0.9711 - val_loss: 0.0562 - val_accuracy: 0.9830\n",
      "Epoch 83/100\n",
      "737/750 [============================>.] - ETA: 0s - loss: 0.0785 - accuracy: 0.9707\n",
      "Epoch 83: val_loss did not improve from 0.05201\n",
      "750/750 [==============================] - 1s 1ms/step - loss: 0.0783 - accuracy: 0.9708 - val_loss: 0.0561 - val_accuracy: 0.9823\n",
      "Epoch 84/100\n",
      "713/750 [===========================>..] - ETA: 0s - loss: 0.0782 - accuracy: 0.9726\n",
      "Epoch 84: val_loss did not improve from 0.05201\n",
      "750/750 [==============================] - 1s 1ms/step - loss: 0.0792 - accuracy: 0.9721 - val_loss: 0.0577 - val_accuracy: 0.9810\n",
      "Epoch 85/100\n",
      "738/750 [============================>.] - ETA: 0s - loss: 0.0763 - accuracy: 0.9726\n",
      "Epoch 85: val_loss did not improve from 0.05201\n",
      "750/750 [==============================] - 1s 1ms/step - loss: 0.0764 - accuracy: 0.9727 - val_loss: 0.0559 - val_accuracy: 0.9828\n",
      "Epoch 86/100\n",
      "718/750 [===========================>..] - ETA: 0s - loss: 0.0744 - accuracy: 0.9730\n",
      "Epoch 86: val_loss did not improve from 0.05201\n",
      "750/750 [==============================] - 1s 1ms/step - loss: 0.0748 - accuracy: 0.9729 - val_loss: 0.0597 - val_accuracy: 0.9787\n",
      "Epoch 87/100\n",
      "726/750 [============================>.] - ETA: 0s - loss: 0.0767 - accuracy: 0.9718\n",
      "Epoch 87: val_loss did not improve from 0.05201\n",
      "750/750 [==============================] - 1s 1ms/step - loss: 0.0766 - accuracy: 0.9717 - val_loss: 0.0569 - val_accuracy: 0.9810\n",
      "Epoch 88/100\n",
      "734/750 [============================>.] - ETA: 0s - loss: 0.0795 - accuracy: 0.9723\n",
      "Epoch 88: val_loss did not improve from 0.05201\n",
      "750/750 [==============================] - 1s 1ms/step - loss: 0.0801 - accuracy: 0.9721 - val_loss: 0.0626 - val_accuracy: 0.9812\n",
      "Epoch 89/100\n",
      "740/750 [============================>.] - ETA: 0s - loss: 0.0778 - accuracy: 0.9722\n",
      "Epoch 89: val_loss did not improve from 0.05201\n",
      "750/750 [==============================] - 1s 1ms/step - loss: 0.0779 - accuracy: 0.9721 - val_loss: 0.0706 - val_accuracy: 0.9827\n",
      "Epoch 90/100\n",
      "739/750 [============================>.] - ETA: 0s - loss: 0.0751 - accuracy: 0.9729\n",
      "Epoch 90: val_loss did not improve from 0.05201\n",
      "750/750 [==============================] - 1s 1ms/step - loss: 0.0749 - accuracy: 0.9729 - val_loss: 0.0538 - val_accuracy: 0.9827\n",
      "Epoch 91/100\n",
      "749/750 [============================>.] - ETA: 0s - loss: 0.0729 - accuracy: 0.9723\n",
      "Epoch 91: val_loss did not improve from 0.05201\n",
      "750/750 [==============================] - 1s 1ms/step - loss: 0.0728 - accuracy: 0.9723 - val_loss: 0.0530 - val_accuracy: 0.9832\n",
      "Epoch 92/100\n",
      "722/750 [===========================>..] - ETA: 0s - loss: 0.0794 - accuracy: 0.9721\n",
      "Epoch 92: val_loss did not improve from 0.05201\n",
      "750/750 [==============================] - 1s 1ms/step - loss: 0.0795 - accuracy: 0.9721 - val_loss: 0.0563 - val_accuracy: 0.9828\n",
      "Epoch 93/100\n",
      "731/750 [============================>.] - ETA: 0s - loss: 0.0755 - accuracy: 0.9716\n",
      "Epoch 93: val_loss did not improve from 0.05201\n",
      "750/750 [==============================] - 1s 1ms/step - loss: 0.0755 - accuracy: 0.9716 - val_loss: 0.0564 - val_accuracy: 0.9833\n",
      "Epoch 94/100\n",
      "713/750 [===========================>..] - ETA: 0s - loss: 0.0716 - accuracy: 0.9741\n",
      "Epoch 94: val_loss did not improve from 0.05201\n",
      "750/750 [==============================] - 1s 1ms/step - loss: 0.0722 - accuracy: 0.9738 - val_loss: 0.0618 - val_accuracy: 0.9828\n",
      "Epoch 95/100\n",
      "709/750 [===========================>..] - ETA: 0s - loss: 0.0759 - accuracy: 0.9723\n",
      "Epoch 95: val_loss did not improve from 0.05201\n",
      "750/750 [==============================] - 1s 1ms/step - loss: 0.0757 - accuracy: 0.9724 - val_loss: 0.0554 - val_accuracy: 0.9813\n",
      "Epoch 96/100\n",
      "722/750 [===========================>..] - ETA: 0s - loss: 0.0787 - accuracy: 0.9725\n",
      "Epoch 96: val_loss did not improve from 0.05201\n",
      "750/750 [==============================] - 1s 1ms/step - loss: 0.0787 - accuracy: 0.9722 - val_loss: 0.0636 - val_accuracy: 0.9788\n",
      "Epoch 97/100\n",
      "724/750 [===========================>..] - ETA: 0s - loss: 0.0778 - accuracy: 0.9709\n",
      "Epoch 97: val_loss did not improve from 0.05201\n",
      "750/750 [==============================] - 1s 1ms/step - loss: 0.0783 - accuracy: 0.9708 - val_loss: 0.0613 - val_accuracy: 0.9838\n",
      "Epoch 98/100\n",
      "735/750 [============================>.] - ETA: 0s - loss: 0.0740 - accuracy: 0.9727\n",
      "Epoch 98: val_loss did not improve from 0.05201\n",
      "750/750 [==============================] - 1s 1ms/step - loss: 0.0739 - accuracy: 0.9728 - val_loss: 0.0603 - val_accuracy: 0.9800\n",
      "Epoch 99/100\n",
      "734/750 [============================>.] - ETA: 0s - loss: 0.0794 - accuracy: 0.9725\n",
      "Epoch 99: val_loss did not improve from 0.05201\n",
      "750/750 [==============================] - 1s 1ms/step - loss: 0.0793 - accuracy: 0.9725 - val_loss: 0.0616 - val_accuracy: 0.9808\n",
      "Epoch 100/100\n",
      "734/750 [============================>.] - ETA: 0s - loss: 0.0771 - accuracy: 0.9733\n",
      "Epoch 100: val_loss did not improve from 0.05201\n",
      "750/750 [==============================] - 1s 1ms/step - loss: 0.0771 - accuracy: 0.9734 - val_loss: 0.0584 - val_accuracy: 0.9828\n",
      "Training completed in time:  0:01:40.438342\n"
     ]
    }
   ],
   "source": [
    "## Training model\n",
    "from tensorflow.keras.callbacks import ModelCheckpoint\n",
    "from datetime import datetime\n",
    "\n",
    "num_epochs = 100\n",
    "num_batch_size = 32\n",
    "\n",
    "checkpointer = ModelCheckpoint(filepath='saved_models/audio_classification.hdf5',\n",
    "                               verbose=1, save_best_only=True)\n",
    "start = datetime.now()\n",
    "\n",
    "history = model.fit(X_train, y_train, batch_size=num_batch_size, epochs=num_epochs, validation_data=(X_test, y_test), callbacks=[checkpointer], verbose=1)\n",
    "\n",
    "\n",
    "duration = datetime.now() - start\n",
    "print(\"Training completed in time: \", duration)"
   ]
  },
  {
   "cell_type": "code",
   "execution_count": 37,
   "id": "f59e33c1-4aa7-43d0-a5c5-0e5b49e4987b",
   "metadata": {
    "tags": []
   },
   "outputs": [
    {
     "data": {
      "image/png": "[encoded data removed]",
      "text/plain": [
       "<PIL.Image.Image image mode=RGBA size=347x63 at 0x7FD13C54B5B0>"
      ]
     },
     "execution_count": 37,
     "metadata": {},
     "output_type": "execute_result"
    }
   ],
   "source": [
    "visualkeras.layered_view(model,legend=True, draw_volume=True)"
   ]
  },
  {
   "cell_type": "code",
   "execution_count": 38,
   "id": "a6e09e02-3601-4b69-9810-ffece74b74af",
   "metadata": {
    "tags": []
   },
   "outputs": [
    {
     "data": {
      "image/png": "[encoded data removed]",
      "text/plain": [
       "<Figure size 432x288 with 1 Axes>"
      ]
     },
     "metadata": {
      "needs_background": "light"
     },
     "output_type": "display_data"
    }
   ],
   "source": [
    "import matplotlib.pyplot as plt\n",
    "plt.plot(history.history['accuracy'])\n",
    "plt.plot(history.history['val_accuracy'])\n",
    "plt.title('Model accuracy')\n",
    "plt.ylabel('Accuracy')\n",
    "plt.xlabel('Epoch')\n",
    "plt.legend(['Train', 'Test'], loc='upper left')\n",
    "plt.show()"
   ]
  },
  {
   "cell_type": "code",
   "execution_count": 39,
   "id": "48410f8a-e2f0-41d6-b964-33a4ea994b7c",
   "metadata": {
    "tags": []
   },
   "outputs": [
    {
     "data": {
      "image/png": "[encoded data removed]",
      "text/plain": [
       "<Figure size 432x288 with 1 Axes>"
      ]
     },
     "metadata": {
      "needs_background": "light"
     },
     "output_type": "display_data"
    }
   ],
   "source": [
    "plt.plot(history.history['loss']) \n",
    "plt.plot(history.history['val_loss']) \n",
    "plt.title('Model loss') \n",
    "plt.ylabel('Loss') \n",
    "plt.xlabel('Epoch') \n",
    "plt.legend(['Train', 'Test'], loc='upper left') \n",
    "plt.show()"
   ]
  },
  {
   "cell_type": "code",
   "execution_count": 40,
   "id": "56665242",
   "metadata": {
    "collapsed": false,
    "jupyter": {
     "outputs_hidden": false
    },
    "tags": []
   },
   "outputs": [
    {
     "name": "stdout",
     "output_type": "stream",
     "text": [
      "0.9828333258628845\n"
     ]
    }
   ],
   "source": [
    "test_accuracy=model.evaluate(X_test,y_test,verbose=0)\n",
    "print(test_accuracy[1])"
   ]
  },
  {
   "cell_type": "code",
   "execution_count": 41,
   "id": "035f1bfd-315b-4fd5-9fb8-4c1870301712",
   "metadata": {
    "tags": []
   },
   "outputs": [
    {
     "name": "stdout",
     "output_type": "stream",
     "text": [
      "188/188 [==============================] - 0s 796us/step\n"
     ]
    }
   ],
   "source": [
    "y_pred = model.predict(X_test)\n",
    "y_pred=np.argmax(y_pred, axis=1)\n",
    "y_test=np.argmax(y_test, axis=1)"
   ]
  },
  {
   "cell_type": "code",
   "execution_count": 42,
   "id": "3ed8192f-4e4b-41f6-bf5f-17d35cee95f5",
   "metadata": {
    "tags": []
   },
   "outputs": [
    {
     "name": "stdout",
     "output_type": "stream",
     "text": [
      "              precision    recall  f1-score   support\n",
      "\n",
      "  Portuguese       0.98      0.99      0.98      3048\n",
      "     Spanish       0.99      0.98      0.98      2952\n",
      "\n",
      "    accuracy                           0.98      6000\n",
      "   macro avg       0.98      0.98      0.98      6000\n",
      "weighted avg       0.98      0.98      0.98      6000\n",
      "\n"
     ]
    }
   ],
   "source": [
    "from sklearn.metrics import classification_report\n",
    "target_names = sorted(df.language.unique())\n",
    "print(classification_report(y_test, y_pred, target_names=target_names))"
   ]
  },
  {
   "cell_type": "code",
   "execution_count": 43,
   "id": "cd333bce-efa1-4227-9f8e-2317f3f66942",
   "metadata": {
    "tags": []
   },
   "outputs": [
    {
     "data": {
      "image/png": "[encoded data removed]",
      "text/plain": [
       "<Figure size 648x648 with 2 Axes>"
      ]
     },
     "metadata": {
      "needs_background": "light"
     },
     "output_type": "display_data"
    }
   ],
   "source": [
    "from sklearn.metrics import classification_report, confusion_matrix\n",
    "import seaborn as sns\n",
    "\n",
    "# Plotting the results:\n",
    "plt.figure(figsize=(9,9))\n",
    "sns.heatmap(metrics.confusion_matrix(y_test, y_pred), annot=True, fmt=\"d\", linewidths=.5, square = True, cmap = 'Blues_r', xticklabels=target_names, yticklabels=target_names);\n",
    "plt.ylabel('Actual label');\n",
    "plt.xlabel('Predicted label');\n",
    "all_sample_title = 'Accuracy Score: {0}'.format(test_accuracy[1])\n",
    "plt.title(all_sample_title, size = 15);"
   ]
  }
 ],
 "metadata": {
  "kernelspec": {
   "display_name": "Python 3 (ipykernel)",
   "language": "python",
   "name": "python3"
  },
  "language_info": {
   "codemirror_mode": {
    "name": "ipython",
    "version": 3
   },
   "file_extension": ".py",
   "mimetype": "text/x-python",
   "name": "python",
   "nbconvert_exporter": "python",
   "pygments_lexer": "ipython3",
   "version": "3.10.6"
  }
 },
 "nbformat": 4,
 "nbformat_minor": 5
}
