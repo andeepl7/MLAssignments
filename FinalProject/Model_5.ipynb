{
 "cells": [
  {
   "cell_type": "markdown",
   "id": "b8be734c",
   "metadata": {},
   "source": [
    "# STEP 3 Audio Preparation and Model\n"
   ]
  },
  {
   "cell_type": "code",
   "execution_count": 1,
   "id": "a611495d",
   "metadata": {
    "scrolled": true,
    "tags": []
   },
   "outputs": [],
   "source": [
    "import os\n",
    "import pandas as pd\n",
    "import numpy as np\n",
    "import librosa\n",
    "import soundfile as sf\n",
    "from tqdm.notebook import tqdm"
   ]
  },
  {
   "cell_type": "code",
   "execution_count": 2,
   "id": "4c61050a-108b-41af-9fee-98105fee0a64",
   "metadata": {
    "collapsed": false,
    "jupyter": {
     "outputs_hidden": false
    },
    "tags": []
   },
   "outputs": [],
   "source": [
    "#Global parameters\n",
    "language_dic = { \"es\": \"Spanish\", \"de\": \"German\", \"ja\": \"Japanese\" }\n",
    "analysis_window_length = 0.01  # 10 ms in seconds\n",
    "language_mp3_path = \"/language_detector/languages\""
   ]
  },
  {
   "cell_type": "code",
   "execution_count": 3,
   "id": "e1221022",
   "metadata": {
    "collapsed": false,
    "jupyter": {
     "outputs_hidden": false
    },
    "tags": []
   },
   "outputs": [],
   "source": [
    "# number of repeats defined by minimum duration: ceil(10 seconds / min duration)\n",
    "min_clip = 0.10115625\n",
    "x_seconds = 5\n",
    "num_reps = int(np.ceil(x_seconds / min_clip))\n",
    "def repeat_audio_x_seconds(track, dur, num_repeats=10, fs=16000):\n",
    "    num_samples_xs = int(fs * dur)\n",
    "    track = np.concatenate([track]*num_repeats, axis=0)\n",
    "    track = track[0:num_samples_xs]\n",
    "    return track"
   ]
  },
  {
   "cell_type": "code",
   "execution_count": 4,
   "id": "0920bf4c-4d7b-4232-9663-1238da89b35d",
   "metadata": {
    "tags": []
   },
   "outputs": [],
   "source": [
    "def processing_audio(language_mp3_path, analysis_window_length, language_dic):\n",
    "    \"\"\"\n",
    "    This function samples mp3 files, analyzes the dataset content, and builds a dictionary of features.\n",
    "    \"\"\"\n",
    "    data = {\"filename\": [], \"language\": [], \"mfccs\": []}  # Initialize data dictionary here\n",
    "   \n",
    "    language_list = os.listdir(language_mp3_path)\n",
    "\n",
    "    for language in language_list:\n",
    "        language_path = os.path.join(language_mp3_path, language)\n",
    "\n",
    "        if language not in language_dic:\n",
    "            print(f\"Skipping language {language} because it is not in language_dic\")\n",
    "            continue\n",
    "\n",
    "        language_name = language_dic.get(language, \"Unknown language!\")\n",
    "\n",
    "        clips_path = os.path.join(language_path, \"clips\")\n",
    "        # Check if the clips directory exists\n",
    "        if not os.path.isdir(clips_path):\n",
    "            print(f\"No 'clips' directory found in {language_path}\")\n",
    "            continue\n",
    "\n",
    "        # get a list of all files in the folder\n",
    "        mp3_list = os.listdir(clips_path)\n",
    "        mp3_list = mp3_list[:15000]\n",
    "\n",
    "        # looping through all mp3s in one language\n",
    "        for mp3 in tqdm(mp3_list):\n",
    "            # adding the filename as key\n",
    "            data[\"filename\"].append(mp3)\n",
    "            # adding the label/language\n",
    "            data[\"language\"].append(language_name)\n",
    "            # adding the clip\n",
    "            audio_path = os.path.join(clips_path, mp3)\n",
    "            audio_samples, fs = sf.read(audio_path)\n",
    "            audio_samples = repeat_audio_x_seconds(audio_samples, x_seconds, num_repeats=num_reps, fs=fs)\n",
    "            y = audio_samples\n",
    "            sr = fs\n",
    "            hop_length = int(analysis_window_length * sr)\n",
    "            mfcc = librosa.feature.mfcc(y=y, sr=sr, n_mfcc=128, hop_length=hop_length)\n",
    "            mfccs_scaled_features = np.mean(mfcc.T,axis=0)\n",
    "            data[\"mfccs\"].append(mfccs_scaled_features)\n",
    "\n",
    "    return data\n"
   ]
  },
  {
   "cell_type": "code",
   "execution_count": 5,
   "id": "3dde3f61-f962-4f14-89b9-dd17dd5339aa",
   "metadata": {
    "tags": []
   },
   "outputs": [
    {
     "name": "stdout",
     "output_type": "stream",
     "text": [
      "Skipping language it because it is not in language_dic\n"
     ]
    },
    {
     "data": {
      "application/vnd.jupyter.widget-view+json": {
       "model_id": "faef53cf0aef47a0b11acf09f19e40c0",
       "version_major": 2,
       "version_minor": 0
      },
      "text/plain": [
       "  0%|          | 0/15000 [00:00<?, ?it/s]"
      ]
     },
     "metadata": {},
     "output_type": "display_data"
    },
    {
     "name": "stdout",
     "output_type": "stream",
     "text": [
      "Skipping language pt because it is not in language_dic\n",
      "Skipping language ro because it is not in language_dic\n",
      "Skipping language fr because it is not in language_dic\n"
     ]
    },
    {
     "data": {
      "application/vnd.jupyter.widget-view+json": {
       "model_id": "0e1ac4c0add74ec2bfe06c0bf21c0aff",
       "version_major": 2,
       "version_minor": 0
      },
      "text/plain": [
       "  0%|          | 0/15000 [00:00<?, ?it/s]"
      ]
     },
     "metadata": {},
     "output_type": "display_data"
    },
    {
     "data": {
      "application/vnd.jupyter.widget-view+json": {
       "model_id": "17102b93d4a94a2f94eaae0d348e22ca",
       "version_major": 2,
       "version_minor": 0
      },
      "text/plain": [
       "  0%|          | 0/15000 [00:00<?, ?it/s]"
      ]
     },
     "metadata": {},
     "output_type": "display_data"
    },
    {
     "name": "stdout",
     "output_type": "stream",
     "text": [
      "Skipping language ca because it is not in language_dic\n"
     ]
    }
   ],
   "source": [
    "data = processing_audio(language_mp3_path, analysis_window_length, language_dic)"
   ]
  },
  {
   "cell_type": "code",
   "execution_count": 6,
   "id": "1803434b",
   "metadata": {
    "collapsed": false,
    "jupyter": {
     "outputs_hidden": false
    },
    "tags": []
   },
   "outputs": [
    {
     "name": "stdout",
     "output_type": "stream",
     "text": [
      "                       filename  language  \\\n",
      "0  common_voice_ja_23633576.mp3  Japanese   \n",
      "1  common_voice_ja_36319944.mp3  Japanese   \n",
      "2  common_voice_ja_36367691.mp3  Japanese   \n",
      "3  common_voice_ja_26228650.mp3  Japanese   \n",
      "4  common_voice_ja_36324453.mp3  Japanese   \n",
      "\n",
      "                                               mfccs  \n",
      "0  [-359.3370984663912, 112.36279320384682, -19.5...  \n",
      "1  [-375.14664042887944, 127.43022176176325, 9.31...  \n",
      "2  [-488.0111136146303, 121.29800887049352, 15.61...  \n",
      "3  [-379.4527397827284, 97.8891775580903, 20.0281...  \n",
      "4  [-474.9737340345487, 98.9264255983621, 20.1558...  \n"
     ]
    },
    {
     "data": {
      "text/plain": [
       "(128,)"
      ]
     },
     "execution_count": 6,
     "metadata": {},
     "output_type": "execute_result"
    }
   ],
   "source": [
    "# Printing shape to confirm the input to the model \n",
    "df = pd.DataFrame(data)\n",
    "print(df.head())\n",
    "df.mfccs[50].shape"
   ]
  },
  {
   "cell_type": "code",
   "execution_count": 7,
   "id": "bf358dcb",
   "metadata": {
    "collapsed": false,
    "jupyter": {
     "outputs_hidden": false
    },
    "tags": []
   },
   "outputs": [
    {
     "name": "stdout",
     "output_type": "stream",
     "text": [
      "The number of files loaded is: 45000, in 3 languages\n"
     ]
    }
   ],
   "source": [
    "#Check-point to see if all data was correctly loaded\n",
    "print(f'The number of files loaded is: {len(df[\"filename\"])}, in {df[\"language\"].nunique()} languages')"
   ]
  },
  {
   "cell_type": "code",
   "execution_count": 8,
   "id": "8fde0fb2",
   "metadata": {
    "collapsed": false,
    "jupyter": {
     "outputs_hidden": false
    },
    "tags": []
   },
   "outputs": [],
   "source": [
    "X=np.array(df['mfccs'].tolist())\n",
    "y=np.array(df['language'].tolist())"
   ]
  },
  {
   "cell_type": "code",
   "execution_count": 9,
   "id": "6e1e8864",
   "metadata": {
    "collapsed": false,
    "jupyter": {
     "outputs_hidden": false
    },
    "tags": []
   },
   "outputs": [
    {
     "name": "stderr",
     "output_type": "stream",
     "text": [
      "2023-05-18 14:09:36.777165: I tensorflow/tsl/cuda/cudart_stub.cc:28] Could not find cuda drivers on your machine, GPU will not be used.\n",
      "2023-05-18 14:09:36.947280: I tensorflow/tsl/cuda/cudart_stub.cc:28] Could not find cuda drivers on your machine, GPU will not be used.\n",
      "2023-05-18 14:09:36.948635: I tensorflow/core/platform/cpu_feature_guard.cc:182] This TensorFlow binary is optimized to use available CPU instructions in performance-critical operations.\n",
      "To enable the following instructions: AVX2 FMA, in other operations, rebuild TensorFlow with the appropriate compiler flags.\n",
      "2023-05-18 14:09:38.297034: W tensorflow/compiler/tf2tensorrt/utils/py_utils.cc:38] TF-TRT Warning: Could not find TensorRT\n"
     ]
    }
   ],
   "source": [
    "from sklearn.model_selection import train_test_split\n",
    "from sklearn.preprocessing import LabelEncoder\n",
    "from tensorflow.keras.utils import to_categorical\n",
    "labelencoder=LabelEncoder()\n",
    "y=to_categorical(labelencoder.fit_transform(y))"
   ]
  },
  {
   "cell_type": "code",
   "execution_count": 11,
   "id": "f5d2c195",
   "metadata": {
    "collapsed": false,
    "jupyter": {
     "outputs_hidden": false
    },
    "tags": []
   },
   "outputs": [],
   "source": [
    "# using the train test split function\n",
    "X_train, X_test, y_train, y_test = train_test_split(X,y ,\n",
    "                                                    random_state=42,\n",
    "                                                    train_size=0.8)"
   ]
  },
  {
   "cell_type": "code",
   "execution_count": 14,
   "id": "f5c35258-141a-432c-8dc8-73fe90f04825",
   "metadata": {
    "tags": []
   },
   "outputs": [
    {
     "name": "stdout",
     "output_type": "stream",
     "text": [
      "(36000, 128) (9000, 128) (36000, 3) (9000, 3)\n"
     ]
    }
   ],
   "source": [
    "#Checking point\n",
    "print(X_train.shape, X_test.shape, y_train.shape, y_test.shape)"
   ]
  },
  {
   "cell_type": "markdown",
   "id": "df8e46fa",
   "metadata": {},
   "source": [
    "Model Creation"
   ]
  },
  {
   "cell_type": "code",
   "execution_count": 16,
   "id": "c67c1da1",
   "metadata": {
    "collapsed": false,
    "jupyter": {
     "outputs_hidden": false
    },
    "tags": []
   },
   "outputs": [],
   "source": [
    "import tensorflow as tf\n",
    "import visualkeras \n",
    "from tensorflow.keras.models import Sequential\n",
    "from tensorflow.keras.layers import Dense,Dropout,Activation,Flatten\n",
    "from tensorflow.keras.optimizers import Adam\n",
    "from sklearn import metrics"
   ]
  },
  {
   "cell_type": "code",
   "execution_count": 17,
   "id": "bdfea655",
   "metadata": {
    "collapsed": false,
    "jupyter": {
     "outputs_hidden": false
    },
    "tags": []
   },
   "outputs": [],
   "source": [
    "### No of classes\n",
    "num_labels=y.shape[1]"
   ]
  },
  {
   "cell_type": "code",
   "execution_count": 18,
   "id": "387e4a30",
   "metadata": {
    "collapsed": false,
    "jupyter": {
     "outputs_hidden": false
    },
    "tags": []
   },
   "outputs": [
    {
     "name": "stderr",
     "output_type": "stream",
     "text": [
      "2023-05-18 14:10:36.845900: I tensorflow/compiler/xla/stream_executor/cuda/cuda_gpu_executor.cc:982] could not open file to read NUMA node: /sys/bus/pci/devices/0000:0a:00.0/numa_node\n",
      "Your kernel may have been built without NUMA support.\n",
      "2023-05-18 14:10:36.846490: W tensorflow/core/common_runtime/gpu/gpu_device.cc:1956] Cannot dlopen some GPU libraries. Please make sure the missing libraries mentioned above are installed properly if you would like to use GPU. Follow the guide at https://www.tensorflow.org/install/gpu for how to download and setup the required libraries for your platform.\n",
      "Skipping registering GPU devices...\n"
     ]
    }
   ],
   "source": [
    "model=Sequential()\n",
    "###first layer\n",
    "model.add(Dense(100,input_shape=(128,)))\n",
    "model.add(Activation('relu'))\n",
    "model.add(Dropout(0.5))\n",
    "###second layer\n",
    "model.add(Dense(200))\n",
    "model.add(Activation('relu'))\n",
    "model.add(Dropout(0.5))\n",
    "###third layer\n",
    "model.add(Dense(100))\n",
    "model.add(Activation('relu'))\n",
    "model.add(Dropout(0.5))\n",
    "\n",
    "###final layer\n",
    "model.add(Dense(num_labels))\n",
    "model.add(Activation('softmax'))"
   ]
  },
  {
   "cell_type": "code",
   "execution_count": 19,
   "id": "74e84396",
   "metadata": {
    "collapsed": false,
    "jupyter": {
     "outputs_hidden": false
    },
    "tags": []
   },
   "outputs": [
    {
     "name": "stdout",
     "output_type": "stream",
     "text": [
      "Model: \"sequential\"\n",
      "_________________________________________________________________\n",
      " Layer (type)                Output Shape              Param #   \n",
      "=================================================================\n",
      " dense (Dense)               (None, 100)               12900     \n",
      "                                                                 \n",
      " activation (Activation)     (None, 100)               0         \n",
      "                                                                 \n",
      " dropout (Dropout)           (None, 100)               0         \n",
      "                                                                 \n",
      " dense_1 (Dense)             (None, 200)               20200     \n",
      "                                                                 \n",
      " activation_1 (Activation)   (None, 200)               0         \n",
      "                                                                 \n",
      " dropout_1 (Dropout)         (None, 200)               0         \n",
      "                                                                 \n",
      " dense_2 (Dense)             (None, 100)               20100     \n",
      "                                                                 \n",
      " activation_2 (Activation)   (None, 100)               0         \n",
      "                                                                 \n",
      " dropout_2 (Dropout)         (None, 100)               0         \n",
      "                                                                 \n",
      " dense_3 (Dense)             (None, 3)                 303       \n",
      "                                                                 \n",
      " activation_3 (Activation)   (None, 3)                 0         \n",
      "                                                                 \n",
      "=================================================================\n",
      "Total params: 53,503\n",
      "Trainable params: 53,503\n",
      "Non-trainable params: 0\n",
      "_________________________________________________________________\n"
     ]
    }
   ],
   "source": [
    "model.summary()"
   ]
  },
  {
   "cell_type": "code",
   "execution_count": 20,
   "id": "7fcc9fb0",
   "metadata": {
    "collapsed": false,
    "jupyter": {
     "outputs_hidden": false
    },
    "tags": []
   },
   "outputs": [],
   "source": [
    "model.compile(loss='categorical_crossentropy',metrics=['accuracy'],optimizer='adam')"
   ]
  },
  {
   "cell_type": "code",
   "execution_count": 21,
   "id": "593b37d1",
   "metadata": {
    "collapsed": false,
    "jupyter": {
     "outputs_hidden": false
    },
    "tags": []
   },
   "outputs": [
    {
     "name": "stdout",
     "output_type": "stream",
     "text": [
      "Epoch 1/100\n",
      "1099/1125 [============================>.] - ETA: 0s - loss: 2.2996 - accuracy: 0.4736\n",
      "Epoch 1: val_loss improved from inf to 0.46629, saving model to saved_models/audio_classification.hdf5\n",
      "1125/1125 [==============================] - 2s 2ms/step - loss: 2.2621 - accuracy: 0.4798 - val_loss: 0.4663 - val_accuracy: 0.8458\n",
      "Epoch 2/100\n",
      "1089/1125 [============================>.] - ETA: 0s - loss: 0.4720 - accuracy: 0.8229\n",
      "Epoch 2: val_loss improved from 0.46629 to 0.28715, saving model to saved_models/audio_classification.hdf5\n",
      "1125/1125 [==============================] - 1s 1ms/step - loss: 0.4692 - accuracy: 0.8239 - val_loss: 0.2872 - val_accuracy: 0.8856\n",
      "Epoch 3/100\n",
      "1121/1125 [============================>.] - ETA: 0s - loss: 0.3477 - accuracy: 0.8710\n",
      "Epoch 3: val_loss improved from 0.28715 to 0.26100, saving model to saved_models/audio_classification.hdf5\n",
      "1125/1125 [==============================] - 1s 1ms/step - loss: 0.3475 - accuracy: 0.8711 - val_loss: 0.2610 - val_accuracy: 0.8971\n",
      "Epoch 4/100\n",
      "1081/1125 [===========================>..] - ETA: 0s - loss: 0.3088 - accuracy: 0.8856\n",
      "Epoch 4: val_loss improved from 0.26100 to 0.25594, saving model to saved_models/audio_classification.hdf5\n",
      "1125/1125 [==============================] - 1s 1ms/step - loss: 0.3091 - accuracy: 0.8854 - val_loss: 0.2559 - val_accuracy: 0.9043\n",
      "Epoch 5/100\n",
      "1110/1125 [============================>.] - ETA: 0s - loss: 0.2926 - accuracy: 0.8910\n",
      "Epoch 5: val_loss improved from 0.25594 to 0.24123, saving model to saved_models/audio_classification.hdf5\n",
      "1125/1125 [==============================] - 2s 1ms/step - loss: 0.2919 - accuracy: 0.8912 - val_loss: 0.2412 - val_accuracy: 0.9128\n",
      "Epoch 6/100\n",
      "1124/1125 [============================>.] - ETA: 0s - loss: 0.2756 - accuracy: 0.8960\n",
      "Epoch 6: val_loss did not improve from 0.24123\n",
      "1125/1125 [==============================] - 1s 1ms/step - loss: 0.2755 - accuracy: 0.8960 - val_loss: 0.2413 - val_accuracy: 0.9094\n",
      "Epoch 7/100\n",
      "1087/1125 [===========================>..] - ETA: 0s - loss: 0.2708 - accuracy: 0.8950\n",
      "Epoch 7: val_loss improved from 0.24123 to 0.23830, saving model to saved_models/audio_classification.hdf5\n",
      "1125/1125 [==============================] - 1s 1ms/step - loss: 0.2707 - accuracy: 0.8954 - val_loss: 0.2383 - val_accuracy: 0.9102\n",
      "Epoch 8/100\n",
      "1112/1125 [============================>.] - ETA: 0s - loss: 0.2601 - accuracy: 0.8972\n",
      "Epoch 8: val_loss improved from 0.23830 to 0.21993, saving model to saved_models/audio_classification.hdf5\n",
      "1125/1125 [==============================] - 1s 1ms/step - loss: 0.2599 - accuracy: 0.8972 - val_loss: 0.2199 - val_accuracy: 0.9158\n",
      "Epoch 9/100\n",
      "1081/1125 [===========================>..] - ETA: 0s - loss: 0.2608 - accuracy: 0.8974\n",
      "Epoch 9: val_loss did not improve from 0.21993\n",
      "1125/1125 [==============================] - 1s 1ms/step - loss: 0.2611 - accuracy: 0.8974 - val_loss: 0.2356 - val_accuracy: 0.9116\n",
      "Epoch 10/100\n",
      "1124/1125 [============================>.] - ETA: 0s - loss: 0.2534 - accuracy: 0.9001\n",
      "Epoch 10: val_loss improved from 0.21993 to 0.20958, saving model to saved_models/audio_classification.hdf5\n",
      "1125/1125 [==============================] - 1s 1ms/step - loss: 0.2532 - accuracy: 0.9001 - val_loss: 0.2096 - val_accuracy: 0.9228\n",
      "Epoch 11/100\n",
      "1107/1125 [============================>.] - ETA: 0s - loss: 0.2442 - accuracy: 0.9039\n",
      "Epoch 11: val_loss did not improve from 0.20958\n",
      "1125/1125 [==============================] - 2s 1ms/step - loss: 0.2443 - accuracy: 0.9038 - val_loss: 0.2145 - val_accuracy: 0.9186\n",
      "Epoch 12/100\n",
      "1119/1125 [============================>.] - ETA: 0s - loss: 0.2441 - accuracy: 0.9020\n",
      "Epoch 12: val_loss improved from 0.20958 to 0.20593, saving model to saved_models/audio_classification.hdf5\n",
      "1125/1125 [==============================] - 1s 1ms/step - loss: 0.2440 - accuracy: 0.9021 - val_loss: 0.2059 - val_accuracy: 0.9280\n",
      "Epoch 13/100\n",
      "1083/1125 [===========================>..] - ETA: 0s - loss: 0.2437 - accuracy: 0.9043\n",
      "Epoch 13: val_loss improved from 0.20593 to 0.20336, saving model to saved_models/audio_classification.hdf5\n",
      "1125/1125 [==============================] - 1s 1ms/step - loss: 0.2429 - accuracy: 0.9045 - val_loss: 0.2034 - val_accuracy: 0.9250\n",
      "Epoch 14/100\n",
      "1113/1125 [============================>.] - ETA: 0s - loss: 0.2351 - accuracy: 0.9058\n",
      "Epoch 14: val_loss did not improve from 0.20336\n",
      "1125/1125 [==============================] - 1s 1ms/step - loss: 0.2354 - accuracy: 0.9056 - val_loss: 0.2084 - val_accuracy: 0.9227\n",
      "Epoch 15/100\n",
      "1113/1125 [============================>.] - ETA: 0s - loss: 0.2302 - accuracy: 0.9087\n",
      "Epoch 15: val_loss did not improve from 0.20336\n",
      "1125/1125 [==============================] - 1s 1ms/step - loss: 0.2314 - accuracy: 0.9086 - val_loss: 0.2130 - val_accuracy: 0.9272\n",
      "Epoch 16/100\n",
      "1082/1125 [===========================>..] - ETA: 0s - loss: 0.2327 - accuracy: 0.9063\n",
      "Epoch 16: val_loss did not improve from 0.20336\n",
      "1125/1125 [==============================] - 1s 1ms/step - loss: 0.2336 - accuracy: 0.9059 - val_loss: 0.2125 - val_accuracy: 0.9234\n",
      "Epoch 17/100\n",
      "1098/1125 [============================>.] - ETA: 0s - loss: 0.2275 - accuracy: 0.9104\n",
      "Epoch 17: val_loss improved from 0.20336 to 0.19780, saving model to saved_models/audio_classification.hdf5\n",
      "1125/1125 [==============================] - 1s 1ms/step - loss: 0.2274 - accuracy: 0.9104 - val_loss: 0.1978 - val_accuracy: 0.9306\n",
      "Epoch 18/100\n",
      "1113/1125 [============================>.] - ETA: 0s - loss: 0.2272 - accuracy: 0.9101\n",
      "Epoch 18: val_loss improved from 0.19780 to 0.19749, saving model to saved_models/audio_classification.hdf5\n",
      "1125/1125 [==============================] - 1s 1ms/step - loss: 0.2270 - accuracy: 0.9102 - val_loss: 0.1975 - val_accuracy: 0.9297\n",
      "Epoch 19/100\n",
      "1115/1125 [============================>.] - ETA: 0s - loss: 0.2218 - accuracy: 0.9124\n",
      "Epoch 19: val_loss did not improve from 0.19749\n",
      "1125/1125 [==============================] - 1s 1ms/step - loss: 0.2216 - accuracy: 0.9126 - val_loss: 0.1982 - val_accuracy: 0.9220\n",
      "Epoch 20/100\n",
      "1088/1125 [============================>.] - ETA: 0s - loss: 0.2234 - accuracy: 0.9097\n",
      "Epoch 20: val_loss improved from 0.19749 to 0.19451, saving model to saved_models/audio_classification.hdf5\n",
      "1125/1125 [==============================] - 1s 1ms/step - loss: 0.2233 - accuracy: 0.9097 - val_loss: 0.1945 - val_accuracy: 0.9341\n",
      "Epoch 21/100\n",
      "1086/1125 [===========================>..] - ETA: 0s - loss: 0.2195 - accuracy: 0.9124\n",
      "Epoch 21: val_loss improved from 0.19451 to 0.19116, saving model to saved_models/audio_classification.hdf5\n",
      "1125/1125 [==============================] - 2s 1ms/step - loss: 0.2199 - accuracy: 0.9122 - val_loss: 0.1912 - val_accuracy: 0.9289\n",
      "Epoch 22/100\n",
      "1122/1125 [============================>.] - ETA: 0s - loss: 0.2173 - accuracy: 0.9123\n",
      "Epoch 22: val_loss did not improve from 0.19116\n",
      "1125/1125 [==============================] - 1s 1ms/step - loss: 0.2173 - accuracy: 0.9123 - val_loss: 0.2010 - val_accuracy: 0.9296\n",
      "Epoch 23/100\n",
      "1088/1125 [============================>.] - ETA: 0s - loss: 0.2206 - accuracy: 0.9127\n",
      "Epoch 23: val_loss did not improve from 0.19116\n",
      "1125/1125 [==============================] - 1s 1ms/step - loss: 0.2211 - accuracy: 0.9125 - val_loss: 0.1928 - val_accuracy: 0.9267\n",
      "Epoch 24/100\n",
      "1092/1125 [============================>.] - ETA: 0s - loss: 0.2173 - accuracy: 0.9145\n",
      "Epoch 24: val_loss did not improve from 0.19116\n",
      "1125/1125 [==============================] - 1s 1ms/step - loss: 0.2178 - accuracy: 0.9145 - val_loss: 0.1967 - val_accuracy: 0.9293\n",
      "Epoch 25/100\n",
      "1115/1125 [============================>.] - ETA: 0s - loss: 0.2142 - accuracy: 0.9142\n",
      "Epoch 25: val_loss did not improve from 0.19116\n",
      "1125/1125 [==============================] - 1s 1ms/step - loss: 0.2141 - accuracy: 0.9141 - val_loss: 0.1917 - val_accuracy: 0.9252\n",
      "Epoch 26/100\n",
      "1125/1125 [==============================] - ETA: 0s - loss: 0.2173 - accuracy: 0.9111\n",
      "Epoch 26: val_loss improved from 0.19116 to 0.18540, saving model to saved_models/audio_classification.hdf5\n",
      "1125/1125 [==============================] - 1s 1ms/step - loss: 0.2173 - accuracy: 0.9111 - val_loss: 0.1854 - val_accuracy: 0.9316\n",
      "Epoch 27/100\n",
      "1091/1125 [============================>.] - ETA: 0s - loss: 0.2134 - accuracy: 0.9132\n",
      "Epoch 27: val_loss did not improve from 0.18540\n",
      "1125/1125 [==============================] - 1s 1ms/step - loss: 0.2138 - accuracy: 0.9133 - val_loss: 0.1901 - val_accuracy: 0.9329\n",
      "Epoch 28/100\n",
      "1090/1125 [============================>.] - ETA: 0s - loss: 0.2148 - accuracy: 0.9137\n",
      "Epoch 28: val_loss did not improve from 0.18540\n",
      "1125/1125 [==============================] - 2s 1ms/step - loss: 0.2153 - accuracy: 0.9135 - val_loss: 0.1984 - val_accuracy: 0.9342\n",
      "Epoch 29/100\n",
      "1107/1125 [============================>.] - ETA: 0s - loss: 0.2114 - accuracy: 0.9156\n",
      "Epoch 29: val_loss improved from 0.18540 to 0.18536, saving model to saved_models/audio_classification.hdf5\n",
      "1125/1125 [==============================] - 1s 1ms/step - loss: 0.2113 - accuracy: 0.9156 - val_loss: 0.1854 - val_accuracy: 0.9327\n",
      "Epoch 30/100\n",
      "1121/1125 [============================>.] - ETA: 0s - loss: 0.2150 - accuracy: 0.9131\n",
      "Epoch 30: val_loss did not improve from 0.18536\n",
      "1125/1125 [==============================] - 1s 1ms/step - loss: 0.2149 - accuracy: 0.9131 - val_loss: 0.1866 - val_accuracy: 0.9359\n",
      "Epoch 31/100\n",
      "1083/1125 [===========================>..] - ETA: 0s - loss: 0.2056 - accuracy: 0.9162\n",
      "Epoch 31: val_loss improved from 0.18536 to 0.18265, saving model to saved_models/audio_classification.hdf5\n",
      "1125/1125 [==============================] - 1s 1ms/step - loss: 0.2061 - accuracy: 0.9161 - val_loss: 0.1827 - val_accuracy: 0.9326\n",
      "Epoch 32/100\n",
      "1083/1125 [===========================>..] - ETA: 0s - loss: 0.2107 - accuracy: 0.9157\n",
      "Epoch 32: val_loss improved from 0.18265 to 0.17831, saving model to saved_models/audio_classification.hdf5\n",
      "1125/1125 [==============================] - 1s 1ms/step - loss: 0.2106 - accuracy: 0.9155 - val_loss: 0.1783 - val_accuracy: 0.9351\n",
      "Epoch 33/100\n",
      "1086/1125 [===========================>..] - ETA: 0s - loss: 0.2027 - accuracy: 0.9184\n",
      "Epoch 33: val_loss did not improve from 0.17831\n",
      "1125/1125 [==============================] - 1s 1ms/step - loss: 0.2036 - accuracy: 0.9181 - val_loss: 0.1952 - val_accuracy: 0.9328\n",
      "Epoch 34/100\n",
      "1097/1125 [============================>.] - ETA: 0s - loss: 0.2087 - accuracy: 0.9164\n",
      "Epoch 34: val_loss did not improve from 0.17831\n",
      "1125/1125 [==============================] - 1s 1ms/step - loss: 0.2094 - accuracy: 0.9164 - val_loss: 0.1831 - val_accuracy: 0.9339\n",
      "Epoch 35/100\n",
      "1114/1125 [============================>.] - ETA: 0s - loss: 0.2131 - accuracy: 0.9128\n",
      "Epoch 35: val_loss improved from 0.17831 to 0.17810, saving model to saved_models/audio_classification.hdf5\n",
      "1125/1125 [==============================] - 2s 1ms/step - loss: 0.2125 - accuracy: 0.9130 - val_loss: 0.1781 - val_accuracy: 0.9360\n",
      "Epoch 36/100\n",
      "1086/1125 [===========================>..] - ETA: 0s - loss: 0.2097 - accuracy: 0.9146\n",
      "Epoch 36: val_loss did not improve from 0.17810\n",
      "1125/1125 [==============================] - 1s 1ms/step - loss: 0.2104 - accuracy: 0.9147 - val_loss: 0.1936 - val_accuracy: 0.9289\n",
      "Epoch 37/100\n",
      "1124/1125 [============================>.] - ETA: 0s - loss: 0.2072 - accuracy: 0.9185\n",
      "Epoch 37: val_loss did not improve from 0.17810\n",
      "1125/1125 [==============================] - 1s 1ms/step - loss: 0.2072 - accuracy: 0.9184 - val_loss: 0.1873 - val_accuracy: 0.9332\n",
      "Epoch 38/100\n",
      "1114/1125 [============================>.] - ETA: 0s - loss: 0.2048 - accuracy: 0.9154\n",
      "Epoch 38: val_loss improved from 0.17810 to 0.17048, saving model to saved_models/audio_classification.hdf5\n",
      "1125/1125 [==============================] - 1s 1ms/step - loss: 0.2043 - accuracy: 0.9155 - val_loss: 0.1705 - val_accuracy: 0.9381\n",
      "Epoch 39/100\n",
      "1083/1125 [===========================>..] - ETA: 0s - loss: 0.2070 - accuracy: 0.9160\n",
      "Epoch 39: val_loss did not improve from 0.17048\n",
      "1125/1125 [==============================] - 1s 1ms/step - loss: 0.2072 - accuracy: 0.9160 - val_loss: 0.1930 - val_accuracy: 0.9277\n",
      "Epoch 40/100\n",
      "1089/1125 [============================>.] - ETA: 0s - loss: 0.2034 - accuracy: 0.9172\n",
      "Epoch 40: val_loss did not improve from 0.17048\n",
      "1125/1125 [==============================] - 1s 1ms/step - loss: 0.2041 - accuracy: 0.9167 - val_loss: 0.1848 - val_accuracy: 0.9324\n",
      "Epoch 41/100\n",
      "1090/1125 [============================>.] - ETA: 0s - loss: 0.2044 - accuracy: 0.9175\n",
      "Epoch 41: val_loss did not improve from 0.17048\n",
      "1125/1125 [==============================] - 1s 1ms/step - loss: 0.2041 - accuracy: 0.9175 - val_loss: 0.1722 - val_accuracy: 0.9370\n",
      "Epoch 42/100\n",
      "1110/1125 [============================>.] - ETA: 0s - loss: 0.2027 - accuracy: 0.9164\n",
      "Epoch 42: val_loss did not improve from 0.17048\n",
      "1125/1125 [==============================] - 1s 1ms/step - loss: 0.2035 - accuracy: 0.9163 - val_loss: 0.1933 - val_accuracy: 0.9373\n",
      "Epoch 43/100\n",
      "1094/1125 [============================>.] - ETA: 0s - loss: 0.2012 - accuracy: 0.9177\n",
      "Epoch 43: val_loss did not improve from 0.17048\n",
      "1125/1125 [==============================] - 1s 1ms/step - loss: 0.2014 - accuracy: 0.9176 - val_loss: 0.1837 - val_accuracy: 0.9327\n",
      "Epoch 44/100\n",
      "1093/1125 [============================>.] - ETA: 0s - loss: 0.2000 - accuracy: 0.9183\n",
      "Epoch 44: val_loss did not improve from 0.17048\n",
      "1125/1125 [==============================] - 1s 1ms/step - loss: 0.2007 - accuracy: 0.9179 - val_loss: 0.1728 - val_accuracy: 0.9350\n",
      "Epoch 45/100\n",
      "1115/1125 [============================>.] - ETA: 0s - loss: 0.2038 - accuracy: 0.9171\n",
      "Epoch 45: val_loss improved from 0.17048 to 0.16830, saving model to saved_models/audio_classification.hdf5\n",
      "1125/1125 [==============================] - 1s 1ms/step - loss: 0.2035 - accuracy: 0.9172 - val_loss: 0.1683 - val_accuracy: 0.9356\n",
      "Epoch 46/100\n",
      "1114/1125 [============================>.] - ETA: 0s - loss: 0.2048 - accuracy: 0.9165\n",
      "Epoch 46: val_loss improved from 0.16830 to 0.16802, saving model to saved_models/audio_classification.hdf5\n",
      "1125/1125 [==============================] - 1s 1ms/step - loss: 0.2045 - accuracy: 0.9165 - val_loss: 0.1680 - val_accuracy: 0.9369\n",
      "Epoch 47/100\n",
      "1124/1125 [============================>.] - ETA: 0s - loss: 0.2045 - accuracy: 0.9181\n",
      "Epoch 47: val_loss did not improve from 0.16802\n",
      "1125/1125 [==============================] - 1s 1ms/step - loss: 0.2044 - accuracy: 0.9181 - val_loss: 0.1725 - val_accuracy: 0.9359\n",
      "Epoch 48/100\n",
      "1114/1125 [============================>.] - ETA: 0s - loss: 0.2027 - accuracy: 0.9149\n",
      "Epoch 48: val_loss did not improve from 0.16802\n",
      "1125/1125 [==============================] - 1s 1ms/step - loss: 0.2028 - accuracy: 0.9148 - val_loss: 0.1801 - val_accuracy: 0.9293\n",
      "Epoch 49/100\n",
      "1125/1125 [==============================] - ETA: 0s - loss: 0.1962 - accuracy: 0.9205\n",
      "Epoch 49: val_loss did not improve from 0.16802\n",
      "1125/1125 [==============================] - 1s 1ms/step - loss: 0.1962 - accuracy: 0.9205 - val_loss: 0.1700 - val_accuracy: 0.9387\n",
      "Epoch 50/100\n",
      "1091/1125 [============================>.] - ETA: 0s - loss: 0.2010 - accuracy: 0.9176\n",
      "Epoch 50: val_loss did not improve from 0.16802\n",
      "1125/1125 [==============================] - 1s 1ms/step - loss: 0.2019 - accuracy: 0.9174 - val_loss: 0.1769 - val_accuracy: 0.9377\n",
      "Epoch 51/100\n",
      "1094/1125 [============================>.] - ETA: 0s - loss: 0.1969 - accuracy: 0.9189\n",
      "Epoch 51: val_loss did not improve from 0.16802\n",
      "1125/1125 [==============================] - 2s 1ms/step - loss: 0.1973 - accuracy: 0.9188 - val_loss: 0.1757 - val_accuracy: 0.9396\n",
      "Epoch 52/100\n",
      "1096/1125 [============================>.] - ETA: 0s - loss: 0.1955 - accuracy: 0.9211\n",
      "Epoch 52: val_loss did not improve from 0.16802\n",
      "1125/1125 [==============================] - 2s 1ms/step - loss: 0.1967 - accuracy: 0.9208 - val_loss: 0.1858 - val_accuracy: 0.9348\n",
      "Epoch 53/100\n",
      "1090/1125 [============================>.] - ETA: 0s - loss: 0.1967 - accuracy: 0.9190\n",
      "Epoch 53: val_loss did not improve from 0.16802\n",
      "1125/1125 [==============================] - 1s 1ms/step - loss: 0.1971 - accuracy: 0.9189 - val_loss: 0.1755 - val_accuracy: 0.9377\n",
      "Epoch 54/100\n",
      "1083/1125 [===========================>..] - ETA: 0s - loss: 0.1948 - accuracy: 0.9198\n",
      "Epoch 54: val_loss did not improve from 0.16802\n",
      "1125/1125 [==============================] - 1s 1ms/step - loss: 0.1952 - accuracy: 0.9199 - val_loss: 0.1710 - val_accuracy: 0.9393\n",
      "Epoch 55/100\n",
      "1089/1125 [============================>.] - ETA: 0s - loss: 0.1997 - accuracy: 0.9216\n",
      "Epoch 55: val_loss did not improve from 0.16802\n",
      "1125/1125 [==============================] - 2s 1ms/step - loss: 0.2000 - accuracy: 0.9209 - val_loss: 0.1765 - val_accuracy: 0.9367\n",
      "Epoch 56/100\n",
      "1122/1125 [============================>.] - ETA: 0s - loss: 0.2010 - accuracy: 0.9191\n",
      "Epoch 56: val_loss did not improve from 0.16802\n",
      "1125/1125 [==============================] - 1s 1ms/step - loss: 0.2008 - accuracy: 0.9192 - val_loss: 0.1722 - val_accuracy: 0.9399\n",
      "Epoch 57/100\n",
      "1085/1125 [===========================>..] - ETA: 0s - loss: 0.2030 - accuracy: 0.9183\n",
      "Epoch 57: val_loss did not improve from 0.16802\n",
      "1125/1125 [==============================] - 1s 1ms/step - loss: 0.2029 - accuracy: 0.9184 - val_loss: 0.1758 - val_accuracy: 0.9394\n",
      "Epoch 58/100\n",
      "1088/1125 [============================>.] - ETA: 0s - loss: 0.1949 - accuracy: 0.9206\n",
      "Epoch 58: val_loss did not improve from 0.16802\n",
      "1125/1125 [==============================] - 1s 1ms/step - loss: 0.1947 - accuracy: 0.9206 - val_loss: 0.1727 - val_accuracy: 0.9353\n",
      "Epoch 59/100\n",
      "1084/1125 [===========================>..] - ETA: 0s - loss: 0.1988 - accuracy: 0.9205\n",
      "Epoch 59: val_loss did not improve from 0.16802\n",
      "1125/1125 [==============================] - 1s 1ms/step - loss: 0.2002 - accuracy: 0.9201 - val_loss: 0.1821 - val_accuracy: 0.9352\n",
      "Epoch 60/100\n",
      "1094/1125 [============================>.] - ETA: 0s - loss: 0.1947 - accuracy: 0.9210\n",
      "Epoch 60: val_loss did not improve from 0.16802\n",
      "1125/1125 [==============================] - 1s 1ms/step - loss: 0.1949 - accuracy: 0.9211 - val_loss: 0.1684 - val_accuracy: 0.9390\n",
      "Epoch 61/100\n",
      "1119/1125 [============================>.] - ETA: 0s - loss: 0.1961 - accuracy: 0.9205\n",
      "Epoch 61: val_loss improved from 0.16802 to 0.16655, saving model to saved_models/audio_classification.hdf5\n",
      "1125/1125 [==============================] - 1s 1ms/step - loss: 0.1959 - accuracy: 0.9205 - val_loss: 0.1665 - val_accuracy: 0.9374\n",
      "Epoch 62/100\n",
      "1095/1125 [============================>.] - ETA: 0s - loss: 0.1937 - accuracy: 0.9208\n",
      "Epoch 62: val_loss did not improve from 0.16655\n",
      "1125/1125 [==============================] - 1s 1ms/step - loss: 0.1938 - accuracy: 0.9210 - val_loss: 0.1766 - val_accuracy: 0.9394\n",
      "Epoch 63/100\n",
      "1119/1125 [============================>.] - ETA: 0s - loss: 0.1942 - accuracy: 0.9197\n",
      "Epoch 63: val_loss did not improve from 0.16655\n",
      "1125/1125 [==============================] - 1s 1ms/step - loss: 0.1944 - accuracy: 0.9195 - val_loss: 0.1691 - val_accuracy: 0.9382\n",
      "Epoch 64/100\n",
      "1116/1125 [============================>.] - ETA: 0s - loss: 0.1960 - accuracy: 0.9205\n",
      "Epoch 64: val_loss did not improve from 0.16655\n",
      "1125/1125 [==============================] - 1s 1ms/step - loss: 0.1960 - accuracy: 0.9205 - val_loss: 0.1707 - val_accuracy: 0.9356\n",
      "Epoch 65/100\n",
      "1104/1125 [============================>.] - ETA: 0s - loss: 0.1948 - accuracy: 0.9201\n",
      "Epoch 65: val_loss did not improve from 0.16655\n",
      "1125/1125 [==============================] - 2s 1ms/step - loss: 0.1950 - accuracy: 0.9199 - val_loss: 0.1701 - val_accuracy: 0.9413\n",
      "Epoch 66/100\n",
      "1121/1125 [============================>.] - ETA: 0s - loss: 0.1954 - accuracy: 0.9220\n",
      "Epoch 66: val_loss improved from 0.16655 to 0.16604, saving model to saved_models/audio_classification.hdf5\n",
      "1125/1125 [==============================] - 1s 1ms/step - loss: 0.1957 - accuracy: 0.9219 - val_loss: 0.1660 - val_accuracy: 0.9388\n",
      "Epoch 67/100\n",
      "1097/1125 [============================>.] - ETA: 0s - loss: 0.1992 - accuracy: 0.9182\n",
      "Epoch 67: val_loss did not improve from 0.16604\n",
      "1125/1125 [==============================] - 1s 1ms/step - loss: 0.1991 - accuracy: 0.9183 - val_loss: 0.1722 - val_accuracy: 0.9368\n",
      "Epoch 68/100\n",
      "1095/1125 [============================>.] - ETA: 0s - loss: 0.1947 - accuracy: 0.9215\n",
      "Epoch 68: val_loss did not improve from 0.16604\n",
      "1125/1125 [==============================] - 1s 1ms/step - loss: 0.1943 - accuracy: 0.9215 - val_loss: 0.1678 - val_accuracy: 0.9406\n",
      "Epoch 69/100\n",
      "1086/1125 [===========================>..] - ETA: 0s - loss: 0.1925 - accuracy: 0.9207\n",
      "Epoch 69: val_loss did not improve from 0.16604\n",
      "1125/1125 [==============================] - 2s 1ms/step - loss: 0.1932 - accuracy: 0.9204 - val_loss: 0.1743 - val_accuracy: 0.9399\n",
      "Epoch 70/100\n",
      "1085/1125 [===========================>..] - ETA: 0s - loss: 0.1939 - accuracy: 0.9200\n",
      "Epoch 70: val_loss improved from 0.16604 to 0.15978, saving model to saved_models/audio_classification.hdf5\n",
      "1125/1125 [==============================] - 1s 1ms/step - loss: 0.1931 - accuracy: 0.9204 - val_loss: 0.1598 - val_accuracy: 0.9408\n",
      "Epoch 71/100\n",
      "1094/1125 [============================>.] - ETA: 0s - loss: 0.1975 - accuracy: 0.9201\n",
      "Epoch 71: val_loss did not improve from 0.15978\n",
      "1125/1125 [==============================] - 1s 1ms/step - loss: 0.1971 - accuracy: 0.9203 - val_loss: 0.1635 - val_accuracy: 0.9387\n",
      "Epoch 72/100\n",
      "1121/1125 [============================>.] - ETA: 0s - loss: 0.1957 - accuracy: 0.9184\n",
      "Epoch 72: val_loss did not improve from 0.15978\n",
      "1125/1125 [==============================] - 1s 1ms/step - loss: 0.1955 - accuracy: 0.9184 - val_loss: 0.1680 - val_accuracy: 0.9369\n",
      "Epoch 73/100\n",
      "1123/1125 [============================>.] - ETA: 0s - loss: 0.1894 - accuracy: 0.9234\n",
      "Epoch 73: val_loss did not improve from 0.15978\n",
      "1125/1125 [==============================] - 1s 1ms/step - loss: 0.1895 - accuracy: 0.9233 - val_loss: 0.1694 - val_accuracy: 0.9390\n",
      "Epoch 74/100\n",
      "1087/1125 [===========================>..] - ETA: 0s - loss: 0.1927 - accuracy: 0.9200\n",
      "Epoch 74: val_loss did not improve from 0.15978\n",
      "1125/1125 [==============================] - 1s 1ms/step - loss: 0.1922 - accuracy: 0.9202 - val_loss: 0.1654 - val_accuracy: 0.9371\n",
      "Epoch 75/100\n",
      "1125/1125 [==============================] - ETA: 0s - loss: 0.1884 - accuracy: 0.9214\n",
      "Epoch 75: val_loss did not improve from 0.15978\n",
      "1125/1125 [==============================] - 1s 1ms/step - loss: 0.1884 - accuracy: 0.9214 - val_loss: 0.1733 - val_accuracy: 0.9377\n",
      "Epoch 76/100\n",
      "1099/1125 [============================>.] - ETA: 0s - loss: 0.1944 - accuracy: 0.9191\n",
      "Epoch 76: val_loss did not improve from 0.15978\n",
      "1125/1125 [==============================] - 1s 1ms/step - loss: 0.1946 - accuracy: 0.9191 - val_loss: 0.1619 - val_accuracy: 0.9401\n",
      "Epoch 77/100\n",
      "1085/1125 [===========================>..] - ETA: 0s - loss: 0.1908 - accuracy: 0.9218\n",
      "Epoch 77: val_loss did not improve from 0.15978\n",
      "1125/1125 [==============================] - 1s 1ms/step - loss: 0.1915 - accuracy: 0.9217 - val_loss: 0.1738 - val_accuracy: 0.9396\n",
      "Epoch 78/100\n",
      "1088/1125 [============================>.] - ETA: 0s - loss: 0.1925 - accuracy: 0.9224\n",
      "Epoch 78: val_loss did not improve from 0.15978\n",
      "1125/1125 [==============================] - 1s 1ms/step - loss: 0.1934 - accuracy: 0.9224 - val_loss: 0.1765 - val_accuracy: 0.9373\n",
      "Epoch 79/100\n",
      "1125/1125 [==============================] - ETA: 0s - loss: 0.1901 - accuracy: 0.9209\n",
      "Epoch 79: val_loss did not improve from 0.15978\n",
      "1125/1125 [==============================] - 1s 1ms/step - loss: 0.1901 - accuracy: 0.9209 - val_loss: 0.1622 - val_accuracy: 0.9400\n",
      "Epoch 80/100\n",
      "1094/1125 [============================>.] - ETA: 0s - loss: 0.1979 - accuracy: 0.9207\n",
      "Epoch 80: val_loss did not improve from 0.15978\n",
      "1125/1125 [==============================] - 1s 1ms/step - loss: 0.1982 - accuracy: 0.9204 - val_loss: 0.1665 - val_accuracy: 0.9402\n",
      "Epoch 81/100\n",
      "1093/1125 [============================>.] - ETA: 0s - loss: 0.1874 - accuracy: 0.9223\n",
      "Epoch 81: val_loss did not improve from 0.15978\n",
      "1125/1125 [==============================] - 1s 1ms/step - loss: 0.1863 - accuracy: 0.9227 - val_loss: 0.1669 - val_accuracy: 0.9420\n",
      "Epoch 82/100\n",
      "1114/1125 [============================>.] - ETA: 0s - loss: 0.1906 - accuracy: 0.9223\n",
      "Epoch 82: val_loss did not improve from 0.15978\n",
      "1125/1125 [==============================] - 1s 1ms/step - loss: 0.1905 - accuracy: 0.9223 - val_loss: 0.1729 - val_accuracy: 0.9351\n",
      "Epoch 83/100\n",
      "1117/1125 [============================>.] - ETA: 0s - loss: 0.1916 - accuracy: 0.9231\n",
      "Epoch 83: val_loss did not improve from 0.15978\n",
      "1125/1125 [==============================] - 1s 1ms/step - loss: 0.1919 - accuracy: 0.9230 - val_loss: 0.1729 - val_accuracy: 0.9391\n",
      "Epoch 84/100\n",
      "1084/1125 [===========================>..] - ETA: 0s - loss: 0.1948 - accuracy: 0.9210\n",
      "Epoch 84: val_loss did not improve from 0.15978\n",
      "1125/1125 [==============================] - 1s 1ms/step - loss: 0.1939 - accuracy: 0.9212 - val_loss: 0.1658 - val_accuracy: 0.9397\n",
      "Epoch 85/100\n",
      "1087/1125 [===========================>..] - ETA: 0s - loss: 0.1924 - accuracy: 0.9195\n",
      "Epoch 85: val_loss did not improve from 0.15978\n",
      "1125/1125 [==============================] - 1s 1ms/step - loss: 0.1918 - accuracy: 0.9195 - val_loss: 0.1679 - val_accuracy: 0.9372\n",
      "Epoch 86/100\n",
      "1113/1125 [============================>.] - ETA: 0s - loss: 0.1864 - accuracy: 0.9233\n",
      "Epoch 86: val_loss did not improve from 0.15978\n",
      "1125/1125 [==============================] - 1s 1ms/step - loss: 0.1863 - accuracy: 0.9237 - val_loss: 0.1686 - val_accuracy: 0.9370\n",
      "Epoch 87/100\n",
      "1094/1125 [============================>.] - ETA: 0s - loss: 0.1907 - accuracy: 0.9217\n",
      "Epoch 87: val_loss did not improve from 0.15978\n",
      "1125/1125 [==============================] - 1s 1ms/step - loss: 0.1904 - accuracy: 0.9218 - val_loss: 0.1722 - val_accuracy: 0.9400\n",
      "Epoch 88/100\n",
      "1122/1125 [============================>.] - ETA: 0s - loss: 0.1914 - accuracy: 0.9184\n",
      "Epoch 88: val_loss did not improve from 0.15978\n",
      "1125/1125 [==============================] - 1s 1ms/step - loss: 0.1913 - accuracy: 0.9183 - val_loss: 0.1729 - val_accuracy: 0.9372\n",
      "Epoch 89/100\n",
      "1105/1125 [============================>.] - ETA: 0s - loss: 0.1894 - accuracy: 0.9223\n",
      "Epoch 89: val_loss did not improve from 0.15978\n",
      "1125/1125 [==============================] - 1s 1ms/step - loss: 0.1898 - accuracy: 0.9222 - val_loss: 0.1713 - val_accuracy: 0.9381\n",
      "Epoch 90/100\n",
      "1125/1125 [==============================] - ETA: 0s - loss: 0.1940 - accuracy: 0.9204\n",
      "Epoch 90: val_loss did not improve from 0.15978\n",
      "1125/1125 [==============================] - 1s 1ms/step - loss: 0.1940 - accuracy: 0.9204 - val_loss: 0.1723 - val_accuracy: 0.9379\n",
      "Epoch 91/100\n",
      "1121/1125 [============================>.] - ETA: 0s - loss: 0.1894 - accuracy: 0.9231\n",
      "Epoch 91: val_loss did not improve from 0.15978\n",
      "1125/1125 [==============================] - 1s 1ms/step - loss: 0.1895 - accuracy: 0.9231 - val_loss: 0.1756 - val_accuracy: 0.9341\n",
      "Epoch 92/100\n",
      "1104/1125 [============================>.] - ETA: 0s - loss: 0.1826 - accuracy: 0.9248\n",
      "Epoch 92: val_loss did not improve from 0.15978\n",
      "1125/1125 [==============================] - 2s 1ms/step - loss: 0.1843 - accuracy: 0.9243 - val_loss: 0.1744 - val_accuracy: 0.9378\n",
      "Epoch 93/100\n",
      "1122/1125 [============================>.] - ETA: 0s - loss: 0.1925 - accuracy: 0.9190\n",
      "Epoch 93: val_loss did not improve from 0.15978\n",
      "1125/1125 [==============================] - 1s 1ms/step - loss: 0.1925 - accuracy: 0.9190 - val_loss: 0.1715 - val_accuracy: 0.9393\n",
      "Epoch 94/100\n",
      "1094/1125 [============================>.] - ETA: 0s - loss: 0.1960 - accuracy: 0.9210\n",
      "Epoch 94: val_loss did not improve from 0.15978\n",
      "1125/1125 [==============================] - 1s 1ms/step - loss: 0.1962 - accuracy: 0.9212 - val_loss: 0.1766 - val_accuracy: 0.9380\n",
      "Epoch 95/100\n",
      "1108/1125 [============================>.] - ETA: 0s - loss: 0.1949 - accuracy: 0.9193\n",
      "Epoch 95: val_loss did not improve from 0.15978\n",
      "1125/1125 [==============================] - 2s 1ms/step - loss: 0.1948 - accuracy: 0.9193 - val_loss: 0.1701 - val_accuracy: 0.9359\n",
      "Epoch 96/100\n",
      "1094/1125 [============================>.] - ETA: 0s - loss: 0.1988 - accuracy: 0.9178\n",
      "Epoch 96: val_loss did not improve from 0.15978\n",
      "1125/1125 [==============================] - 2s 1ms/step - loss: 0.1982 - accuracy: 0.9179 - val_loss: 0.1604 - val_accuracy: 0.9429\n",
      "Epoch 97/100\n",
      "1088/1125 [============================>.] - ETA: 0s - loss: 0.1904 - accuracy: 0.9213\n",
      "Epoch 97: val_loss did not improve from 0.15978\n",
      "1125/1125 [==============================] - 1s 1ms/step - loss: 0.1906 - accuracy: 0.9214 - val_loss: 0.1822 - val_accuracy: 0.9366\n",
      "Epoch 98/100\n",
      "1086/1125 [===========================>..] - ETA: 0s - loss: 0.1826 - accuracy: 0.9230\n",
      "Epoch 98: val_loss did not improve from 0.15978\n",
      "1125/1125 [==============================] - 1s 1ms/step - loss: 0.1825 - accuracy: 0.9231 - val_loss: 0.1639 - val_accuracy: 0.9421\n",
      "Epoch 99/100\n",
      "1103/1125 [============================>.] - ETA: 0s - loss: 0.1875 - accuracy: 0.9220\n",
      "Epoch 99: val_loss improved from 0.15978 to 0.15823, saving model to saved_models/audio_classification.hdf5\n",
      "1125/1125 [==============================] - 2s 1ms/step - loss: 0.1875 - accuracy: 0.9221 - val_loss: 0.1582 - val_accuracy: 0.9440\n",
      "Epoch 100/100\n",
      "1124/1125 [============================>.] - ETA: 0s - loss: 0.1903 - accuracy: 0.9230\n",
      "Epoch 100: val_loss did not improve from 0.15823\n",
      "1125/1125 [==============================] - 1s 1ms/step - loss: 0.1905 - accuracy: 0.9229 - val_loss: 0.1757 - val_accuracy: 0.9406\n",
      "Training completed in time:  0:02:28.927262\n"
     ]
    }
   ],
   "source": [
    "## Training model\n",
    "from tensorflow.keras.callbacks import ModelCheckpoint\n",
    "from datetime import datetime\n",
    "\n",
    "num_epochs = 100\n",
    "num_batch_size = 32\n",
    "\n",
    "checkpointer = ModelCheckpoint(filepath='saved_models/audio_classification.hdf5',\n",
    "                               verbose=1, save_best_only=True)\n",
    "start = datetime.now()\n",
    "\n",
    "history = model.fit(X_train, y_train, batch_size=num_batch_size, epochs=num_epochs, validation_data=(X_test, y_test), callbacks=[checkpointer], verbose=1)\n",
    "\n",
    "\n",
    "duration = datetime.now() - start\n",
    "print(\"Training completed in time: \", duration)"
   ]
  },
  {
   "cell_type": "code",
   "execution_count": 22,
   "id": "f59e33c1-4aa7-43d0-a5c5-0e5b49e4987b",
   "metadata": {
    "tags": []
   },
   "outputs": [
    {
     "data": {
      "image/png": "[encoded data removed]",
      "text/plain": [
       "<PIL.Image.Image image mode=RGBA size=347x63 at 0x7F92541D5810>"
      ]
     },
     "execution_count": 22,
     "metadata": {},
     "output_type": "execute_result"
    }
   ],
   "source": [
    "visualkeras.layered_view(model,legend=True, draw_volume=True)"
   ]
  },
  {
   "cell_type": "code",
   "execution_count": 23,
   "id": "a6e09e02-3601-4b69-9810-ffece74b74af",
   "metadata": {
    "tags": []
   },
   "outputs": [
    {
     "data": {
      "image/png": "[encoded data removed]",
      "text/plain": [
       "<Figure size 432x288 with 1 Axes>"
      ]
     },
     "metadata": {
      "needs_background": "light"
     },
     "output_type": "display_data"
    }
   ],
   "source": [
    "import matplotlib.pyplot as plt\n",
    "plt.plot(history.history['accuracy'])\n",
    "plt.plot(history.history['val_accuracy'])\n",
    "plt.title('Model accuracy')\n",
    "plt.ylabel('Accuracy')\n",
    "plt.xlabel('Epoch')\n",
    "plt.legend(['Train', 'Test'], loc='upper left')\n",
    "plt.show()"
   ]
  },
  {
   "cell_type": "code",
   "execution_count": 24,
   "id": "48410f8a-e2f0-41d6-b964-33a4ea994b7c",
   "metadata": {
    "tags": []
   },
   "outputs": [
    {
     "data": {
      "image/png": "[encoded data removed]",
      "text/plain": [
       "<Figure size 432x288 with 1 Axes>"
      ]
     },
     "metadata": {
      "needs_background": "light"
     },
     "output_type": "display_data"
    }
   ],
   "source": [
    "plt.plot(history.history['loss']) \n",
    "plt.plot(history.history['val_loss']) \n",
    "plt.title('Model loss') \n",
    "plt.ylabel('Loss') \n",
    "plt.xlabel('Epoch') \n",
    "plt.legend(['Train', 'Test'], loc='upper left') \n",
    "plt.show()"
   ]
  },
  {
   "cell_type": "code",
   "execution_count": 25,
   "id": "56665242",
   "metadata": {
    "collapsed": false,
    "jupyter": {
     "outputs_hidden": false
    },
    "tags": []
   },
   "outputs": [
    {
     "name": "stdout",
     "output_type": "stream",
     "text": [
      "0.9405555725097656\n"
     ]
    }
   ],
   "source": [
    "test_accuracy=model.evaluate(X_test,y_test,verbose=0)\n",
    "print(test_accuracy[1])"
   ]
  },
  {
   "cell_type": "code",
   "execution_count": 26,
   "id": "035f1bfd-315b-4fd5-9fb8-4c1870301712",
   "metadata": {
    "tags": []
   },
   "outputs": [
    {
     "name": "stdout",
     "output_type": "stream",
     "text": [
      "282/282 [==============================] - 0s 646us/step\n"
     ]
    }
   ],
   "source": [
    "y_pred = model.predict(X_test)\n",
    "y_pred=np.argmax(y_pred, axis=1)\n",
    "y_test=np.argmax(y_test, axis=1)"
   ]
  },
  {
   "cell_type": "code",
   "execution_count": 27,
   "id": "3ed8192f-4e4b-41f6-bf5f-17d35cee95f5",
   "metadata": {
    "tags": []
   },
   "outputs": [
    {
     "name": "stdout",
     "output_type": "stream",
     "text": [
      "              precision    recall  f1-score   support\n",
      "\n",
      "      German       0.97      1.00      0.99      2988\n",
      "    Japanese       0.93      0.89      0.91      3006\n",
      "     Spanish       0.92      0.93      0.93      3006\n",
      "\n",
      "    accuracy                           0.94      9000\n",
      "   macro avg       0.94      0.94      0.94      9000\n",
      "weighted avg       0.94      0.94      0.94      9000\n",
      "\n"
     ]
    }
   ],
   "source": [
    "from sklearn.metrics import classification_report\n",
    "target_names = sorted(df.language.unique())\n",
    "print(classification_report(y_test, y_pred, target_names=target_names))"
   ]
  },
  {
   "cell_type": "code",
   "execution_count": 28,
   "id": "cd333bce-efa1-4227-9f8e-2317f3f66942",
   "metadata": {
    "tags": []
   },
   "outputs": [
    {
     "data": {
      "image/png": "[encoded data removed]",
      "text/plain": [
       "<Figure size 648x648 with 2 Axes>"
      ]
     },
     "metadata": {
      "needs_background": "light"
     },
     "output_type": "display_data"
    }
   ],
   "source": [
    "from sklearn.metrics import classification_report, confusion_matrix\n",
    "import seaborn as sns\n",
    "\n",
    "# Plotting the results:\n",
    "plt.figure(figsize=(9,9))\n",
    "sns.heatmap(metrics.confusion_matrix(y_test, y_pred), annot=True, fmt=\"d\", linewidths=.5, square = True, cmap = 'Blues_r', xticklabels=target_names, yticklabels=target_names);\n",
    "plt.ylabel('Actual label');\n",
    "plt.xlabel('Predicted label');\n",
    "all_sample_title = 'Accuracy Score: {0}'.format(test_accuracy[1])\n",
    "plt.title(all_sample_title, size = 15);"
   ]
  },
  {
   "cell_type": "code",
   "execution_count": null,
   "id": "6027d9a3-63bd-4c5e-a269-aa72917503ce",
   "metadata": {},
   "outputs": [],
   "source": []
  }
 ],
 "metadata": {
  "kernelspec": {
   "display_name": "Python 3 (ipykernel)",
   "language": "python",
   "name": "python3"
  },
  "language_info": {
   "codemirror_mode": {
    "name": "ipython",
    "version": 3
   },
   "file_extension": ".py",
   "mimetype": "text/x-python",
   "name": "python",
   "nbconvert_exporter": "python",
   "pygments_lexer": "ipython3",
   "version": "3.10.6"
  }
 },
 "nbformat": 4,
 "nbformat_minor": 5
}
