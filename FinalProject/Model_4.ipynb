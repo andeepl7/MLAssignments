{
 "cells": [
  {
   "cell_type": "markdown",
   "id": "b8be734c",
   "metadata": {},
   "source": [
    "# STEP 3 Audio Preparation and Model\n"
   ]
  },
  {
   "cell_type": "code",
   "execution_count": 1,
   "id": "a611495d",
   "metadata": {
    "scrolled": true,
    "tags": []
   },
   "outputs": [],
   "source": [
    "import os\n",
    "import pandas as pd\n",
    "import numpy as np\n",
    "import librosa\n",
    "import soundfile as sf\n",
    "from tqdm.notebook import tqdm"
   ]
  },
  {
   "cell_type": "code",
   "execution_count": 2,
   "id": "4c61050a-108b-41af-9fee-98105fee0a64",
   "metadata": {
    "collapsed": false,
    "jupyter": {
     "outputs_hidden": false
    },
    "tags": []
   },
   "outputs": [],
   "source": [
    "#Global parameters\n",
    "language_dic = { \"ro\": \"Romanian\", \"de\": \"German\", \"ja\": \"Japanese\" }\n",
    "analysis_window_length = 0.01  # 10 ms in seconds\n",
    "language_mp3_path = \"/language_detector/languages\""
   ]
  },
  {
   "cell_type": "code",
   "execution_count": 3,
   "id": "e1221022",
   "metadata": {
    "collapsed": false,
    "jupyter": {
     "outputs_hidden": false
    },
    "tags": []
   },
   "outputs": [],
   "source": [
    "# number of repeats defined by minimum duration: ceil(10 seconds / min duration)\n",
    "min_clip = 0.10115625\n",
    "x_seconds = 5\n",
    "num_reps = int(np.ceil(x_seconds / min_clip))\n",
    "def repeat_audio_x_seconds(track, dur, num_repeats=10, fs=16000):\n",
    "    num_samples_xs = int(fs * dur)\n",
    "    track = np.concatenate([track]*num_repeats, axis=0)\n",
    "    track = track[0:num_samples_xs]\n",
    "    return track"
   ]
  },
  {
   "cell_type": "code",
   "execution_count": 4,
   "id": "0920bf4c-4d7b-4232-9663-1238da89b35d",
   "metadata": {
    "tags": []
   },
   "outputs": [],
   "source": [
    "def processing_audio(language_mp3_path, analysis_window_length, language_dic):\n",
    "    \"\"\"\n",
    "    This function samples mp3 files, analyzes the dataset content, and builds a dictionary of features.\n",
    "    \"\"\"\n",
    "    data = {\"filename\": [], \"language\": [], \"mfccs\": []}  # Initialize data dictionary here\n",
    "   \n",
    "    language_list = os.listdir(language_mp3_path)\n",
    "\n",
    "    for language in language_list:\n",
    "        language_path = os.path.join(language_mp3_path, language)\n",
    "\n",
    "        if language not in language_dic:\n",
    "            print(f\"Skipping language {language} because it is not in language_dic\")\n",
    "            continue\n",
    "\n",
    "        language_name = language_dic.get(language, \"Unknown language!\")\n",
    "\n",
    "        clips_path = os.path.join(language_path, \"clips\")\n",
    "        # Check if the clips directory exists\n",
    "        if not os.path.isdir(clips_path):\n",
    "            print(f\"No 'clips' directory found in {language_path}\")\n",
    "            continue\n",
    "\n",
    "        # get a list of all files in the folder\n",
    "        mp3_list = os.listdir(clips_path)\n",
    "        mp3_list = mp3_list[:15000]\n",
    "\n",
    "        # looping through all mp3s in one language\n",
    "        for mp3 in tqdm(mp3_list):\n",
    "            # adding the filename as key\n",
    "            data[\"filename\"].append(mp3)\n",
    "            # adding the label/language\n",
    "            data[\"language\"].append(language_name)\n",
    "            # adding the clip\n",
    "            audio_path = os.path.join(clips_path, mp3)\n",
    "            audio_samples, fs = sf.read(audio_path)\n",
    "            audio_samples = repeat_audio_x_seconds(audio_samples, x_seconds, num_repeats=num_reps, fs=fs)\n",
    "            y = audio_samples\n",
    "            sr = fs\n",
    "            hop_length = int(analysis_window_length * sr)\n",
    "            mfcc = librosa.feature.mfcc(y=y, sr=sr, n_mfcc=128, hop_length=hop_length)\n",
    "            mfccs_scaled_features = np.mean(mfcc.T,axis=0)\n",
    "            data[\"mfccs\"].append(mfccs_scaled_features)\n",
    "\n",
    "    return data\n"
   ]
  },
  {
   "cell_type": "code",
   "execution_count": 5,
   "id": "3dde3f61-f962-4f14-89b9-dd17dd5339aa",
   "metadata": {
    "tags": []
   },
   "outputs": [
    {
     "name": "stdout",
     "output_type": "stream",
     "text": [
      "Skipping language it because it is not in language_dic\n"
     ]
    },
    {
     "data": {
      "application/vnd.jupyter.widget-view+json": {
       "model_id": "a4b74e7fefb640d5b7f060e5b53aa718",
       "version_major": 2,
       "version_minor": 0
      },
      "text/plain": [
       "  0%|          | 0/15000 [00:00<?, ?it/s]"
      ]
     },
     "metadata": {},
     "output_type": "display_data"
    },
    {
     "name": "stdout",
     "output_type": "stream",
     "text": [
      "Skipping language pt because it is not in language_dic\n"
     ]
    },
    {
     "data": {
      "application/vnd.jupyter.widget-view+json": {
       "model_id": "46a67f4422084584966f9d68aa7923b2",
       "version_major": 2,
       "version_minor": 0
      },
      "text/plain": [
       "  0%|          | 0/15000 [00:00<?, ?it/s]"
      ]
     },
     "metadata": {},
     "output_type": "display_data"
    },
    {
     "name": "stdout",
     "output_type": "stream",
     "text": [
      "Skipping language fr because it is not in language_dic\n"
     ]
    },
    {
     "data": {
      "application/vnd.jupyter.widget-view+json": {
       "model_id": "4b5200b38b96465bbafcd033a787aeb2",
       "version_major": 2,
       "version_minor": 0
      },
      "text/plain": [
       "  0%|          | 0/15000 [00:00<?, ?it/s]"
      ]
     },
     "metadata": {},
     "output_type": "display_data"
    },
    {
     "name": "stdout",
     "output_type": "stream",
     "text": [
      "Skipping language es because it is not in language_dic\n",
      "Skipping language ca because it is not in language_dic\n"
     ]
    }
   ],
   "source": [
    "data = processing_audio(language_mp3_path, analysis_window_length, language_dic)"
   ]
  },
  {
   "cell_type": "code",
   "execution_count": 6,
   "id": "1803434b",
   "metadata": {
    "collapsed": false,
    "jupyter": {
     "outputs_hidden": false
    },
    "tags": []
   },
   "outputs": [
    {
     "name": "stdout",
     "output_type": "stream",
     "text": [
      "                       filename  language  \\\n",
      "0  common_voice_ja_23633576.mp3  Japanese   \n",
      "1  common_voice_ja_36319944.mp3  Japanese   \n",
      "2  common_voice_ja_36367691.mp3  Japanese   \n",
      "3  common_voice_ja_26228650.mp3  Japanese   \n",
      "4  common_voice_ja_36324453.mp3  Japanese   \n",
      "\n",
      "                                               mfccs  \n",
      "0  [-359.39250529921264, 112.3464349334296, -19.5...  \n",
      "1  [-374.94429461758443, 127.2694992337015, 9.399...  \n",
      "2  [-488.05052815101726, 121.31653350417685, 15.6...  \n",
      "3  [-379.4681238782548, 97.87031990537271, 20.015...  \n",
      "4  [-474.70958889745776, 98.729632935106, 20.1021...  \n"
     ]
    },
    {
     "data": {
      "text/plain": [
       "(128,)"
      ]
     },
     "execution_count": 6,
     "metadata": {},
     "output_type": "execute_result"
    }
   ],
   "source": [
    "# Printing shape to confirm the input to the model \n",
    "df = pd.DataFrame(data)\n",
    "print(df.head())\n",
    "df.mfccs[50].shape"
   ]
  },
  {
   "cell_type": "code",
   "execution_count": 7,
   "id": "bf358dcb",
   "metadata": {
    "collapsed": false,
    "jupyter": {
     "outputs_hidden": false
    },
    "tags": []
   },
   "outputs": [
    {
     "name": "stdout",
     "output_type": "stream",
     "text": [
      "The number of files loaded is: 45000, in 3 languages\n"
     ]
    }
   ],
   "source": [
    "#Check-point to see if all data was correctly loaded\n",
    "print(f'The number of files loaded is: {len(df[\"filename\"])}, in {df[\"language\"].nunique()} languages')"
   ]
  },
  {
   "cell_type": "code",
   "execution_count": 8,
   "id": "8fde0fb2",
   "metadata": {
    "collapsed": false,
    "jupyter": {
     "outputs_hidden": false
    },
    "tags": []
   },
   "outputs": [],
   "source": [
    "X=np.array(df['mfccs'].tolist())\n",
    "y=np.array(df['language'].tolist())"
   ]
  },
  {
   "cell_type": "code",
   "execution_count": 9,
   "id": "6e1e8864",
   "metadata": {
    "collapsed": false,
    "jupyter": {
     "outputs_hidden": false
    },
    "tags": []
   },
   "outputs": [
    {
     "name": "stderr",
     "output_type": "stream",
     "text": [
      "2023-05-18 01:23:21.854471: I tensorflow/tsl/cuda/cudart_stub.cc:28] Could not find cuda drivers on your machine, GPU will not be used.\n",
      "2023-05-18 01:23:21.910117: I tensorflow/tsl/cuda/cudart_stub.cc:28] Could not find cuda drivers on your machine, GPU will not be used.\n",
      "2023-05-18 01:23:21.911612: I tensorflow/core/platform/cpu_feature_guard.cc:182] This TensorFlow binary is optimized to use available CPU instructions in performance-critical operations.\n",
      "To enable the following instructions: AVX2 FMA, in other operations, rebuild TensorFlow with the appropriate compiler flags.\n",
      "2023-05-18 01:23:22.636442: W tensorflow/compiler/tf2tensorrt/utils/py_utils.cc:38] TF-TRT Warning: Could not find TensorRT\n"
     ]
    }
   ],
   "source": [
    "from sklearn.model_selection import train_test_split\n",
    "from sklearn.preprocessing import LabelEncoder\n",
    "from tensorflow.keras.utils import to_categorical\n",
    "labelencoder=LabelEncoder()\n",
    "y=to_categorical(labelencoder.fit_transform(y))"
   ]
  },
  {
   "cell_type": "code",
   "execution_count": 10,
   "id": "f5d2c195",
   "metadata": {
    "collapsed": false,
    "jupyter": {
     "outputs_hidden": false
    },
    "tags": []
   },
   "outputs": [],
   "source": [
    "# using the train test split function\n",
    "X_train, X_test, y_train, y_test = train_test_split(X,y ,\n",
    "                                                    random_state=42,\n",
    "                                                    train_size=0.8)"
   ]
  },
  {
   "cell_type": "code",
   "execution_count": 11,
   "id": "f5c35258-141a-432c-8dc8-73fe90f04825",
   "metadata": {
    "tags": []
   },
   "outputs": [
    {
     "name": "stdout",
     "output_type": "stream",
     "text": [
      "(36000, 128) (9000, 128) (36000, 3) (9000, 3)\n"
     ]
    }
   ],
   "source": [
    "#Checking point\n",
    "print(X_train.shape, X_test.shape, y_train.shape, y_test.shape)"
   ]
  },
  {
   "cell_type": "markdown",
   "id": "df8e46fa",
   "metadata": {},
   "source": [
    "Model Creation"
   ]
  },
  {
   "cell_type": "code",
   "execution_count": 12,
   "id": "c67c1da1",
   "metadata": {
    "collapsed": false,
    "jupyter": {
     "outputs_hidden": false
    },
    "tags": []
   },
   "outputs": [],
   "source": [
    "import tensorflow as tf\n",
    "import visualkeras \n",
    "from tensorflow.keras.models import Sequential\n",
    "from tensorflow.keras.layers import Dense,Dropout,Activation,Flatten\n",
    "from tensorflow.keras.optimizers import Adam\n",
    "from sklearn import metrics"
   ]
  },
  {
   "cell_type": "code",
   "execution_count": 13,
   "id": "bdfea655",
   "metadata": {
    "collapsed": false,
    "jupyter": {
     "outputs_hidden": false
    },
    "tags": []
   },
   "outputs": [],
   "source": [
    "### No of classes\n",
    "num_labels=y.shape[1]"
   ]
  },
  {
   "cell_type": "code",
   "execution_count": 14,
   "id": "387e4a30",
   "metadata": {
    "collapsed": false,
    "jupyter": {
     "outputs_hidden": false
    },
    "tags": []
   },
   "outputs": [
    {
     "name": "stderr",
     "output_type": "stream",
     "text": [
      "2023-05-18 01:23:36.135615: I tensorflow/compiler/xla/stream_executor/cuda/cuda_gpu_executor.cc:982] could not open file to read NUMA node: /sys/bus/pci/devices/0000:0a:00.0/numa_node\n",
      "Your kernel may have been built without NUMA support.\n",
      "2023-05-18 01:23:36.136042: W tensorflow/core/common_runtime/gpu/gpu_device.cc:1956] Cannot dlopen some GPU libraries. Please make sure the missing libraries mentioned above are installed properly if you would like to use GPU. Follow the guide at https://www.tensorflow.org/install/gpu for how to download and setup the required libraries for your platform.\n",
      "Skipping registering GPU devices...\n"
     ]
    }
   ],
   "source": [
    "model=Sequential()\n",
    "###first layer\n",
    "model.add(Dense(100,input_shape=(128,)))\n",
    "model.add(Activation('relu'))\n",
    "model.add(Dropout(0.5))\n",
    "###second layer\n",
    "model.add(Dense(200))\n",
    "model.add(Activation('relu'))\n",
    "model.add(Dropout(0.5))\n",
    "###third layer\n",
    "model.add(Dense(100))\n",
    "model.add(Activation('relu'))\n",
    "model.add(Dropout(0.5))\n",
    "\n",
    "###final layer\n",
    "model.add(Dense(num_labels))\n",
    "model.add(Activation('softmax'))"
   ]
  },
  {
   "cell_type": "code",
   "execution_count": 15,
   "id": "74e84396",
   "metadata": {
    "collapsed": false,
    "jupyter": {
     "outputs_hidden": false
    },
    "tags": []
   },
   "outputs": [
    {
     "name": "stdout",
     "output_type": "stream",
     "text": [
      "Model: \"sequential\"\n",
      "_________________________________________________________________\n",
      " Layer (type)                Output Shape              Param #   \n",
      "=================================================================\n",
      " dense (Dense)               (None, 100)               12900     \n",
      "                                                                 \n",
      " activation (Activation)     (None, 100)               0         \n",
      "                                                                 \n",
      " dropout (Dropout)           (None, 100)               0         \n",
      "                                                                 \n",
      " dense_1 (Dense)             (None, 200)               20200     \n",
      "                                                                 \n",
      " activation_1 (Activation)   (None, 200)               0         \n",
      "                                                                 \n",
      " dropout_1 (Dropout)         (None, 200)               0         \n",
      "                                                                 \n",
      " dense_2 (Dense)             (None, 100)               20100     \n",
      "                                                                 \n",
      " activation_2 (Activation)   (None, 100)               0         \n",
      "                                                                 \n",
      " dropout_2 (Dropout)         (None, 100)               0         \n",
      "                                                                 \n",
      " dense_3 (Dense)             (None, 3)                 303       \n",
      "                                                                 \n",
      " activation_3 (Activation)   (None, 3)                 0         \n",
      "                                                                 \n",
      "=================================================================\n",
      "Total params: 53,503\n",
      "Trainable params: 53,503\n",
      "Non-trainable params: 0\n",
      "_________________________________________________________________\n"
     ]
    }
   ],
   "source": [
    "model.summary()"
   ]
  },
  {
   "cell_type": "code",
   "execution_count": 16,
   "id": "7fcc9fb0",
   "metadata": {
    "collapsed": false,
    "jupyter": {
     "outputs_hidden": false
    },
    "tags": []
   },
   "outputs": [],
   "source": [
    "model.compile(loss='categorical_crossentropy',metrics=['accuracy'],optimizer='adam')"
   ]
  },
  {
   "cell_type": "code",
   "execution_count": 17,
   "id": "593b37d1",
   "metadata": {
    "collapsed": false,
    "jupyter": {
     "outputs_hidden": false
    },
    "tags": []
   },
   "outputs": [
    {
     "name": "stdout",
     "output_type": "stream",
     "text": [
      "Epoch 1/100\n",
      "1099/1125 [============================>.] - ETA: 0s - loss: 2.2627 - accuracy: 0.4204\n",
      "Epoch 1: val_loss improved from inf to 0.77083, saving model to saved_models/audio_classification.hdf5\n",
      "1125/1125 [==============================] - 2s 1ms/step - loss: 2.2298 - accuracy: 0.4253 - val_loss: 0.7708 - val_accuracy: 0.7227\n",
      "Epoch 2/100\n",
      "1080/1125 [===========================>..] - ETA: 0s - loss: 0.6953 - accuracy: 0.6992\n",
      "Epoch 2: val_loss improved from 0.77083 to 0.56620, saving model to saved_models/audio_classification.hdf5\n",
      "1125/1125 [==============================] - 1s 1ms/step - loss: 0.6932 - accuracy: 0.7005 - val_loss: 0.5662 - val_accuracy: 0.7780\n",
      "Epoch 3/100\n",
      "1094/1125 [============================>.] - ETA: 0s - loss: 0.5803 - accuracy: 0.7543\n",
      "Epoch 3: val_loss improved from 0.56620 to 0.48886, saving model to saved_models/audio_classification.hdf5\n",
      "1125/1125 [==============================] - 1s 1ms/step - loss: 0.5795 - accuracy: 0.7548 - val_loss: 0.4889 - val_accuracy: 0.8102\n",
      "Epoch 4/100\n",
      "1094/1125 [============================>.] - ETA: 0s - loss: 0.5349 - accuracy: 0.7769\n",
      "Epoch 4: val_loss improved from 0.48886 to 0.44866, saving model to saved_models/audio_classification.hdf5\n",
      "1125/1125 [==============================] - 1s 1ms/step - loss: 0.5340 - accuracy: 0.7771 - val_loss: 0.4487 - val_accuracy: 0.8211\n",
      "Epoch 5/100\n",
      "1119/1125 [============================>.] - ETA: 0s - loss: 0.5010 - accuracy: 0.7929\n",
      "Epoch 5: val_loss improved from 0.44866 to 0.42091, saving model to saved_models/audio_classification.hdf5\n",
      "1125/1125 [==============================] - 1s 1ms/step - loss: 0.5013 - accuracy: 0.7928 - val_loss: 0.4209 - val_accuracy: 0.8307\n",
      "Epoch 6/100\n",
      "1085/1125 [===========================>..] - ETA: 0s - loss: 0.4840 - accuracy: 0.8000\n",
      "Epoch 6: val_loss improved from 0.42091 to 0.41453, saving model to saved_models/audio_classification.hdf5\n",
      "1125/1125 [==============================] - 1s 1ms/step - loss: 0.4844 - accuracy: 0.7996 - val_loss: 0.4145 - val_accuracy: 0.8448\n",
      "Epoch 7/100\n",
      "1079/1125 [===========================>..] - ETA: 0s - loss: 0.4637 - accuracy: 0.8117\n",
      "Epoch 7: val_loss did not improve from 0.41453\n",
      "1125/1125 [==============================] - 1s 1ms/step - loss: 0.4635 - accuracy: 0.8121 - val_loss: 0.4243 - val_accuracy: 0.8512\n",
      "Epoch 8/100\n",
      "1085/1125 [===========================>..] - ETA: 0s - loss: 0.4524 - accuracy: 0.8175\n",
      "Epoch 8: val_loss improved from 0.41453 to 0.38953, saving model to saved_models/audio_classification.hdf5\n",
      "1125/1125 [==============================] - 1s 1ms/step - loss: 0.4520 - accuracy: 0.8176 - val_loss: 0.3895 - val_accuracy: 0.8638\n",
      "Epoch 9/100\n",
      "1119/1125 [============================>.] - ETA: 0s - loss: 0.4489 - accuracy: 0.8209\n",
      "Epoch 9: val_loss improved from 0.38953 to 0.37419, saving model to saved_models/audio_classification.hdf5\n",
      "1125/1125 [==============================] - 1s 1ms/step - loss: 0.4486 - accuracy: 0.8210 - val_loss: 0.3742 - val_accuracy: 0.8677\n",
      "Epoch 10/100\n",
      "1083/1125 [===========================>..] - ETA: 0s - loss: 0.4401 - accuracy: 0.8199\n",
      "Epoch 10: val_loss did not improve from 0.37419\n",
      "1125/1125 [==============================] - 1s 1ms/step - loss: 0.4395 - accuracy: 0.8202 - val_loss: 0.4175 - val_accuracy: 0.8463\n",
      "Epoch 11/100\n",
      "1119/1125 [============================>.] - ETA: 0s - loss: 0.4313 - accuracy: 0.8276\n",
      "Epoch 11: val_loss improved from 0.37419 to 0.37072, saving model to saved_models/audio_classification.hdf5\n",
      "1125/1125 [==============================] - 1s 1ms/step - loss: 0.4316 - accuracy: 0.8274 - val_loss: 0.3707 - val_accuracy: 0.8676\n",
      "Epoch 12/100\n",
      "1096/1125 [============================>.] - ETA: 0s - loss: 0.4245 - accuracy: 0.8298\n",
      "Epoch 12: val_loss improved from 0.37072 to 0.36793, saving model to saved_models/audio_classification.hdf5\n",
      "1125/1125 [==============================] - 1s 1ms/step - loss: 0.4244 - accuracy: 0.8294 - val_loss: 0.3679 - val_accuracy: 0.8717\n",
      "Epoch 13/100\n",
      "1082/1125 [===========================>..] - ETA: 0s - loss: 0.4218 - accuracy: 0.8316\n",
      "Epoch 13: val_loss did not improve from 0.36793\n",
      "1125/1125 [==============================] - 1s 1ms/step - loss: 0.4218 - accuracy: 0.8315 - val_loss: 0.3784 - val_accuracy: 0.8699\n",
      "Epoch 14/100\n",
      "1087/1125 [===========================>..] - ETA: 0s - loss: 0.4147 - accuracy: 0.8344\n",
      "Epoch 14: val_loss improved from 0.36793 to 0.35830, saving model to saved_models/audio_classification.hdf5\n",
      "1125/1125 [==============================] - 1s 1ms/step - loss: 0.4143 - accuracy: 0.8346 - val_loss: 0.3583 - val_accuracy: 0.8757\n",
      "Epoch 15/100\n",
      "1099/1125 [============================>.] - ETA: 0s - loss: 0.4055 - accuracy: 0.8407\n",
      "Epoch 15: val_loss did not improve from 0.35830\n",
      "1125/1125 [==============================] - 1s 1ms/step - loss: 0.4061 - accuracy: 0.8404 - val_loss: 0.3657 - val_accuracy: 0.8771\n",
      "Epoch 16/100\n",
      "1119/1125 [============================>.] - ETA: 0s - loss: 0.4045 - accuracy: 0.8383\n",
      "Epoch 16: val_loss improved from 0.35830 to 0.34711, saving model to saved_models/audio_classification.hdf5\n",
      "1125/1125 [==============================] - 1s 1ms/step - loss: 0.4048 - accuracy: 0.8382 - val_loss: 0.3471 - val_accuracy: 0.8838\n",
      "Epoch 17/100\n",
      "1082/1125 [===========================>..] - ETA: 0s - loss: 0.4024 - accuracy: 0.8391\n",
      "Epoch 17: val_loss did not improve from 0.34711\n",
      "1125/1125 [==============================] - 1s 1ms/step - loss: 0.4030 - accuracy: 0.8393 - val_loss: 0.3562 - val_accuracy: 0.8828\n",
      "Epoch 18/100\n",
      "1094/1125 [============================>.] - ETA: 0s - loss: 0.4026 - accuracy: 0.8414\n",
      "Epoch 18: val_loss did not improve from 0.34711\n",
      "1125/1125 [==============================] - 1s 1ms/step - loss: 0.4022 - accuracy: 0.8417 - val_loss: 0.3483 - val_accuracy: 0.8817\n",
      "Epoch 19/100\n",
      "1124/1125 [============================>.] - ETA: 0s - loss: 0.3970 - accuracy: 0.8424\n",
      "Epoch 19: val_loss did not improve from 0.34711\n",
      "1125/1125 [==============================] - 1s 1ms/step - loss: 0.3972 - accuracy: 0.8423 - val_loss: 0.3644 - val_accuracy: 0.8874\n",
      "Epoch 20/100\n",
      "1085/1125 [===========================>..] - ETA: 0s - loss: 0.3993 - accuracy: 0.8401\n",
      "Epoch 20: val_loss improved from 0.34711 to 0.34197, saving model to saved_models/audio_classification.hdf5\n",
      "1125/1125 [==============================] - 1s 1ms/step - loss: 0.3985 - accuracy: 0.8406 - val_loss: 0.3420 - val_accuracy: 0.8788\n",
      "Epoch 21/100\n",
      "1087/1125 [===========================>..] - ETA: 0s - loss: 0.4017 - accuracy: 0.8404\n",
      "Epoch 21: val_loss improved from 0.34197 to 0.33641, saving model to saved_models/audio_classification.hdf5\n",
      "1125/1125 [==============================] - 1s 1ms/step - loss: 0.4008 - accuracy: 0.8407 - val_loss: 0.3364 - val_accuracy: 0.8794\n",
      "Epoch 22/100\n",
      "1097/1125 [============================>.] - ETA: 0s - loss: 0.3939 - accuracy: 0.8427\n",
      "Epoch 22: val_loss did not improve from 0.33641\n",
      "1125/1125 [==============================] - 1s 1ms/step - loss: 0.3932 - accuracy: 0.8431 - val_loss: 0.3491 - val_accuracy: 0.8859\n",
      "Epoch 23/100\n",
      "1116/1125 [============================>.] - ETA: 0s - loss: 0.3941 - accuracy: 0.8435\n",
      "Epoch 23: val_loss did not improve from 0.33641\n",
      "1125/1125 [==============================] - 1s 1ms/step - loss: 0.3938 - accuracy: 0.8437 - val_loss: 0.3580 - val_accuracy: 0.8804\n",
      "Epoch 24/100\n",
      "1124/1125 [============================>.] - ETA: 0s - loss: 0.3880 - accuracy: 0.8459\n",
      "Epoch 24: val_loss did not improve from 0.33641\n",
      "1125/1125 [==============================] - 1s 1ms/step - loss: 0.3879 - accuracy: 0.8459 - val_loss: 0.3457 - val_accuracy: 0.8830\n",
      "Epoch 25/100\n",
      "1090/1125 [============================>.] - ETA: 0s - loss: 0.3889 - accuracy: 0.8471\n",
      "Epoch 25: val_loss improved from 0.33641 to 0.33178, saving model to saved_models/audio_classification.hdf5\n",
      "1125/1125 [==============================] - 1s 1ms/step - loss: 0.3896 - accuracy: 0.8463 - val_loss: 0.3318 - val_accuracy: 0.8767\n",
      "Epoch 26/100\n",
      "1095/1125 [============================>.] - ETA: 0s - loss: 0.3874 - accuracy: 0.8465\n",
      "Epoch 26: val_loss improved from 0.33178 to 0.32447, saving model to saved_models/audio_classification.hdf5\n",
      "1125/1125 [==============================] - 1s 1ms/step - loss: 0.3869 - accuracy: 0.8469 - val_loss: 0.3245 - val_accuracy: 0.8827\n",
      "Epoch 27/100\n",
      "1083/1125 [===========================>..] - ETA: 0s - loss: 0.3844 - accuracy: 0.8493\n",
      "Epoch 27: val_loss did not improve from 0.32447\n",
      "1125/1125 [==============================] - 1s 1ms/step - loss: 0.3854 - accuracy: 0.8491 - val_loss: 0.3374 - val_accuracy: 0.8848\n",
      "Epoch 28/100\n",
      "1087/1125 [===========================>..] - ETA: 0s - loss: 0.3800 - accuracy: 0.8484\n",
      "Epoch 28: val_loss did not improve from 0.32447\n",
      "1125/1125 [==============================] - 1s 1ms/step - loss: 0.3805 - accuracy: 0.8483 - val_loss: 0.3328 - val_accuracy: 0.8932\n",
      "Epoch 29/100\n",
      "1091/1125 [============================>.] - ETA: 0s - loss: 0.3852 - accuracy: 0.8459\n",
      "Epoch 29: val_loss did not improve from 0.32447\n",
      "1125/1125 [==============================] - 1s 1ms/step - loss: 0.3848 - accuracy: 0.8461 - val_loss: 0.3308 - val_accuracy: 0.8863\n",
      "Epoch 30/100\n",
      "1119/1125 [============================>.] - ETA: 0s - loss: 0.3818 - accuracy: 0.8501\n",
      "Epoch 30: val_loss did not improve from 0.32447\n",
      "1125/1125 [==============================] - 1s 1ms/step - loss: 0.3821 - accuracy: 0.8501 - val_loss: 0.3565 - val_accuracy: 0.8746\n",
      "Epoch 31/100\n",
      "1083/1125 [===========================>..] - ETA: 0s - loss: 0.3778 - accuracy: 0.8521\n",
      "Epoch 31: val_loss did not improve from 0.32447\n",
      "1125/1125 [==============================] - 1s 1ms/step - loss: 0.3778 - accuracy: 0.8522 - val_loss: 0.3427 - val_accuracy: 0.8714\n",
      "Epoch 32/100\n",
      "1089/1125 [============================>.] - ETA: 0s - loss: 0.3852 - accuracy: 0.8474\n",
      "Epoch 32: val_loss did not improve from 0.32447\n",
      "1125/1125 [==============================] - 1s 1ms/step - loss: 0.3859 - accuracy: 0.8477 - val_loss: 0.3327 - val_accuracy: 0.8818\n",
      "Epoch 33/100\n",
      "1093/1125 [============================>.] - ETA: 0s - loss: 0.3739 - accuracy: 0.8536\n",
      "Epoch 33: val_loss did not improve from 0.32447\n",
      "1125/1125 [==============================] - 1s 1ms/step - loss: 0.3743 - accuracy: 0.8533 - val_loss: 0.3295 - val_accuracy: 0.8854\n",
      "Epoch 34/100\n",
      "1081/1125 [===========================>..] - ETA: 0s - loss: 0.3763 - accuracy: 0.8492\n",
      "Epoch 34: val_loss improved from 0.32447 to 0.31689, saving model to saved_models/audio_classification.hdf5\n",
      "1125/1125 [==============================] - 1s 1ms/step - loss: 0.3757 - accuracy: 0.8494 - val_loss: 0.3169 - val_accuracy: 0.8829\n",
      "Epoch 35/100\n",
      "1083/1125 [===========================>..] - ETA: 0s - loss: 0.3778 - accuracy: 0.8495\n",
      "Epoch 35: val_loss did not improve from 0.31689\n",
      "1125/1125 [==============================] - 1s 1ms/step - loss: 0.3782 - accuracy: 0.8499 - val_loss: 0.3314 - val_accuracy: 0.8877\n",
      "Epoch 36/100\n",
      "1091/1125 [============================>.] - ETA: 0s - loss: 0.3763 - accuracy: 0.8504\n",
      "Epoch 36: val_loss did not improve from 0.31689\n",
      "1125/1125 [==============================] - 1s 1ms/step - loss: 0.3760 - accuracy: 0.8504 - val_loss: 0.3263 - val_accuracy: 0.8872\n",
      "Epoch 37/100\n",
      "1119/1125 [============================>.] - ETA: 0s - loss: 0.3722 - accuracy: 0.8536\n",
      "Epoch 37: val_loss improved from 0.31689 to 0.31268, saving model to saved_models/audio_classification.hdf5\n",
      "1125/1125 [==============================] - 1s 1ms/step - loss: 0.3720 - accuracy: 0.8535 - val_loss: 0.3127 - val_accuracy: 0.8921\n",
      "Epoch 38/100\n",
      "1117/1125 [============================>.] - ETA: 0s - loss: 0.3754 - accuracy: 0.8508\n",
      "Epoch 38: val_loss did not improve from 0.31268\n",
      "1125/1125 [==============================] - 1s 1ms/step - loss: 0.3751 - accuracy: 0.8509 - val_loss: 0.3349 - val_accuracy: 0.8903\n",
      "Epoch 39/100\n",
      "1122/1125 [============================>.] - ETA: 0s - loss: 0.3789 - accuracy: 0.8499\n",
      "Epoch 39: val_loss did not improve from 0.31268\n",
      "1125/1125 [==============================] - 1s 1ms/step - loss: 0.3790 - accuracy: 0.8499 - val_loss: 0.3343 - val_accuracy: 0.8898\n",
      "Epoch 40/100\n",
      "1100/1125 [============================>.] - ETA: 0s - loss: 0.3727 - accuracy: 0.8543\n",
      "Epoch 40: val_loss did not improve from 0.31268\n",
      "1125/1125 [==============================] - 1s 1ms/step - loss: 0.3722 - accuracy: 0.8542 - val_loss: 0.3261 - val_accuracy: 0.8879\n",
      "Epoch 41/100\n",
      "1115/1125 [============================>.] - ETA: 0s - loss: 0.3755 - accuracy: 0.8521\n",
      "Epoch 41: val_loss did not improve from 0.31268\n",
      "1125/1125 [==============================] - 1s 1ms/step - loss: 0.3750 - accuracy: 0.8523 - val_loss: 0.3134 - val_accuracy: 0.8897\n",
      "Epoch 42/100\n",
      "1118/1125 [============================>.] - ETA: 0s - loss: 0.3758 - accuracy: 0.8522\n",
      "Epoch 42: val_loss did not improve from 0.31268\n",
      "1125/1125 [==============================] - 1s 1ms/step - loss: 0.3757 - accuracy: 0.8522 - val_loss: 0.3237 - val_accuracy: 0.8951\n",
      "Epoch 43/100\n",
      "1085/1125 [===========================>..] - ETA: 0s - loss: 0.3747 - accuracy: 0.8506\n",
      "Epoch 43: val_loss did not improve from 0.31268\n",
      "1125/1125 [==============================] - 1s 1ms/step - loss: 0.3748 - accuracy: 0.8506 - val_loss: 0.3179 - val_accuracy: 0.8913\n",
      "Epoch 44/100\n",
      "1121/1125 [============================>.] - ETA: 0s - loss: 0.3723 - accuracy: 0.8520\n",
      "Epoch 44: val_loss improved from 0.31268 to 0.30843, saving model to saved_models/audio_classification.hdf5\n",
      "1125/1125 [==============================] - 1s 1ms/step - loss: 0.3724 - accuracy: 0.8519 - val_loss: 0.3084 - val_accuracy: 0.8921\n",
      "Epoch 45/100\n",
      "1082/1125 [===========================>..] - ETA: 0s - loss: 0.3655 - accuracy: 0.8552\n",
      "Epoch 45: val_loss did not improve from 0.30843\n",
      "1125/1125 [==============================] - 1s 1ms/step - loss: 0.3654 - accuracy: 0.8551 - val_loss: 0.3134 - val_accuracy: 0.8910\n",
      "Epoch 46/100\n",
      "1092/1125 [============================>.] - ETA: 0s - loss: 0.3724 - accuracy: 0.8560\n",
      "Epoch 46: val_loss did not improve from 0.30843\n",
      "1125/1125 [==============================] - 1s 1ms/step - loss: 0.3735 - accuracy: 0.8551 - val_loss: 0.3366 - val_accuracy: 0.8862\n",
      "Epoch 47/100\n",
      "1089/1125 [============================>.] - ETA: 0s - loss: 0.3739 - accuracy: 0.8497\n",
      "Epoch 47: val_loss did not improve from 0.30843\n",
      "1125/1125 [==============================] - 1s 1ms/step - loss: 0.3734 - accuracy: 0.8499 - val_loss: 0.3096 - val_accuracy: 0.8874\n",
      "Epoch 48/100\n",
      "1116/1125 [============================>.] - ETA: 0s - loss: 0.3679 - accuracy: 0.8545\n",
      "Epoch 48: val_loss did not improve from 0.30843\n",
      "1125/1125 [==============================] - 1s 1ms/step - loss: 0.3684 - accuracy: 0.8543 - val_loss: 0.3479 - val_accuracy: 0.8860\n",
      "Epoch 49/100\n",
      "1080/1125 [===========================>..] - ETA: 0s - loss: 0.3712 - accuracy: 0.8544\n",
      "Epoch 49: val_loss did not improve from 0.30843\n",
      "1125/1125 [==============================] - 1s 1ms/step - loss: 0.3707 - accuracy: 0.8545 - val_loss: 0.3223 - val_accuracy: 0.8814\n",
      "Epoch 50/100\n",
      "1081/1125 [===========================>..] - ETA: 0s - loss: 0.3694 - accuracy: 0.8531\n",
      "Epoch 50: val_loss did not improve from 0.30843\n",
      "1125/1125 [==============================] - 1s 1ms/step - loss: 0.3700 - accuracy: 0.8529 - val_loss: 0.3415 - val_accuracy: 0.8782\n",
      "Epoch 51/100\n",
      "1120/1125 [============================>.] - ETA: 0s - loss: 0.3680 - accuracy: 0.8521\n",
      "Epoch 51: val_loss did not improve from 0.30843\n",
      "1125/1125 [==============================] - 1s 1ms/step - loss: 0.3680 - accuracy: 0.8521 - val_loss: 0.3205 - val_accuracy: 0.8912\n",
      "Epoch 52/100\n",
      "1079/1125 [===========================>..] - ETA: 0s - loss: 0.3645 - accuracy: 0.8539\n",
      "Epoch 52: val_loss improved from 0.30843 to 0.30651, saving model to saved_models/audio_classification.hdf5\n",
      "1125/1125 [==============================] - 1s 1ms/step - loss: 0.3645 - accuracy: 0.8540 - val_loss: 0.3065 - val_accuracy: 0.8906\n",
      "Epoch 53/100\n",
      "1092/1125 [============================>.] - ETA: 0s - loss: 0.3682 - accuracy: 0.8513\n",
      "Epoch 53: val_loss did not improve from 0.30651\n",
      "1125/1125 [==============================] - 1s 1ms/step - loss: 0.3692 - accuracy: 0.8511 - val_loss: 0.3189 - val_accuracy: 0.8946\n",
      "Epoch 54/100\n",
      "1095/1125 [============================>.] - ETA: 0s - loss: 0.3651 - accuracy: 0.8543\n",
      "Epoch 54: val_loss did not improve from 0.30651\n",
      "1125/1125 [==============================] - 1s 1ms/step - loss: 0.3655 - accuracy: 0.8542 - val_loss: 0.3227 - val_accuracy: 0.8890\n",
      "Epoch 55/100\n",
      "1114/1125 [============================>.] - ETA: 0s - loss: 0.3620 - accuracy: 0.8535\n",
      "Epoch 55: val_loss improved from 0.30651 to 0.30099, saving model to saved_models/audio_classification.hdf5\n",
      "1125/1125 [==============================] - 1s 1ms/step - loss: 0.3621 - accuracy: 0.8536 - val_loss: 0.3010 - val_accuracy: 0.8911\n",
      "Epoch 56/100\n",
      "1080/1125 [===========================>..] - ETA: 0s - loss: 0.3630 - accuracy: 0.8560\n",
      "Epoch 56: val_loss did not improve from 0.30099\n",
      "1125/1125 [==============================] - 1s 1ms/step - loss: 0.3626 - accuracy: 0.8561 - val_loss: 0.3052 - val_accuracy: 0.8878\n",
      "Epoch 57/100\n",
      "1125/1125 [==============================] - ETA: 0s - loss: 0.3561 - accuracy: 0.8573\n",
      "Epoch 57: val_loss did not improve from 0.30099\n",
      "1125/1125 [==============================] - 1s 1ms/step - loss: 0.3561 - accuracy: 0.8573 - val_loss: 0.3147 - val_accuracy: 0.8944\n",
      "Epoch 58/100\n",
      "1093/1125 [============================>.] - ETA: 0s - loss: 0.3631 - accuracy: 0.8545\n",
      "Epoch 58: val_loss improved from 0.30099 to 0.29773, saving model to saved_models/audio_classification.hdf5\n",
      "1125/1125 [==============================] - 1s 1ms/step - loss: 0.3633 - accuracy: 0.8544 - val_loss: 0.2977 - val_accuracy: 0.8940\n",
      "Epoch 59/100\n",
      "1087/1125 [===========================>..] - ETA: 0s - loss: 0.3643 - accuracy: 0.8552\n",
      "Epoch 59: val_loss did not improve from 0.29773\n",
      "1125/1125 [==============================] - 1s 1ms/step - loss: 0.3659 - accuracy: 0.8548 - val_loss: 0.3386 - val_accuracy: 0.8872\n",
      "Epoch 60/100\n",
      "1094/1125 [============================>.] - ETA: 0s - loss: 0.3586 - accuracy: 0.8572\n",
      "Epoch 60: val_loss did not improve from 0.29773\n",
      "1125/1125 [==============================] - 1s 1ms/step - loss: 0.3590 - accuracy: 0.8573 - val_loss: 0.3222 - val_accuracy: 0.8911\n",
      "Epoch 61/100\n",
      "1091/1125 [============================>.] - ETA: 0s - loss: 0.3672 - accuracy: 0.8544\n",
      "Epoch 61: val_loss did not improve from 0.29773\n",
      "1125/1125 [==============================] - 1s 1ms/step - loss: 0.3671 - accuracy: 0.8544 - val_loss: 0.3022 - val_accuracy: 0.8917\n",
      "Epoch 62/100\n",
      "1115/1125 [============================>.] - ETA: 0s - loss: 0.3585 - accuracy: 0.8564\n",
      "Epoch 62: val_loss did not improve from 0.29773\n",
      "1125/1125 [==============================] - 1s 1ms/step - loss: 0.3585 - accuracy: 0.8564 - val_loss: 0.3182 - val_accuracy: 0.8939\n",
      "Epoch 63/100\n",
      "1117/1125 [============================>.] - ETA: 0s - loss: 0.3661 - accuracy: 0.8553\n",
      "Epoch 63: val_loss did not improve from 0.29773\n",
      "1125/1125 [==============================] - 1s 1ms/step - loss: 0.3655 - accuracy: 0.8556 - val_loss: 0.3159 - val_accuracy: 0.8914\n",
      "Epoch 64/100\n",
      "1080/1125 [===========================>..] - ETA: 0s - loss: 0.3602 - accuracy: 0.8569\n",
      "Epoch 64: val_loss did not improve from 0.29773\n",
      "1125/1125 [==============================] - 1s 1ms/step - loss: 0.3609 - accuracy: 0.8565 - val_loss: 0.3137 - val_accuracy: 0.8931\n",
      "Epoch 65/100\n",
      "1096/1125 [============================>.] - ETA: 0s - loss: 0.3627 - accuracy: 0.8578\n",
      "Epoch 65: val_loss did not improve from 0.29773\n",
      "1125/1125 [==============================] - 1s 1ms/step - loss: 0.3628 - accuracy: 0.8577 - val_loss: 0.3161 - val_accuracy: 0.8946\n",
      "Epoch 66/100\n",
      "1108/1125 [============================>.] - ETA: 0s - loss: 0.3676 - accuracy: 0.8565\n",
      "Epoch 66: val_loss improved from 0.29773 to 0.29666, saving model to saved_models/audio_classification.hdf5\n",
      "1125/1125 [==============================] - 1s 1ms/step - loss: 0.3670 - accuracy: 0.8568 - val_loss: 0.2967 - val_accuracy: 0.8974\n",
      "Epoch 67/100\n",
      "1095/1125 [============================>.] - ETA: 0s - loss: 0.3596 - accuracy: 0.8575\n",
      "Epoch 67: val_loss did not improve from 0.29666\n",
      "1125/1125 [==============================] - 1s 1ms/step - loss: 0.3593 - accuracy: 0.8578 - val_loss: 0.3011 - val_accuracy: 0.8971\n",
      "Epoch 68/100\n",
      "1095/1125 [============================>.] - ETA: 0s - loss: 0.3568 - accuracy: 0.8602\n",
      "Epoch 68: val_loss did not improve from 0.29666\n",
      "1125/1125 [==============================] - 1s 1ms/step - loss: 0.3568 - accuracy: 0.8600 - val_loss: 0.3121 - val_accuracy: 0.8984\n",
      "Epoch 69/100\n",
      "1115/1125 [============================>.] - ETA: 0s - loss: 0.3583 - accuracy: 0.8579\n",
      "Epoch 69: val_loss improved from 0.29666 to 0.28947, saving model to saved_models/audio_classification.hdf5\n",
      "1125/1125 [==============================] - 1s 1ms/step - loss: 0.3587 - accuracy: 0.8580 - val_loss: 0.2895 - val_accuracy: 0.8950\n",
      "Epoch 70/100\n",
      "1125/1125 [==============================] - ETA: 0s - loss: 0.3640 - accuracy: 0.8537\n",
      "Epoch 70: val_loss did not improve from 0.28947\n",
      "1125/1125 [==============================] - 1s 1ms/step - loss: 0.3640 - accuracy: 0.8537 - val_loss: 0.3112 - val_accuracy: 0.8959\n",
      "Epoch 71/100\n",
      "1079/1125 [===========================>..] - ETA: 0s - loss: 0.3546 - accuracy: 0.8605\n",
      "Epoch 71: val_loss did not improve from 0.28947\n",
      "1125/1125 [==============================] - 1s 1ms/step - loss: 0.3550 - accuracy: 0.8601 - val_loss: 0.3002 - val_accuracy: 0.8933\n",
      "Epoch 72/100\n",
      "1091/1125 [============================>.] - ETA: 0s - loss: 0.3505 - accuracy: 0.8613\n",
      "Epoch 72: val_loss did not improve from 0.28947\n",
      "1125/1125 [==============================] - 1s 1ms/step - loss: 0.3511 - accuracy: 0.8610 - val_loss: 0.3074 - val_accuracy: 0.8964\n",
      "Epoch 73/100\n",
      "1122/1125 [============================>.] - ETA: 0s - loss: 0.3578 - accuracy: 0.8575\n",
      "Epoch 73: val_loss did not improve from 0.28947\n",
      "1125/1125 [==============================] - 1s 1ms/step - loss: 0.3575 - accuracy: 0.8577 - val_loss: 0.2990 - val_accuracy: 0.8992\n",
      "Epoch 74/100\n",
      "1086/1125 [===========================>..] - ETA: 0s - loss: 0.3618 - accuracy: 0.8527\n",
      "Epoch 74: val_loss did not improve from 0.28947\n",
      "1125/1125 [==============================] - 1s 1ms/step - loss: 0.3617 - accuracy: 0.8529 - val_loss: 0.3040 - val_accuracy: 0.8910\n",
      "Epoch 75/100\n",
      "1087/1125 [===========================>..] - ETA: 0s - loss: 0.3644 - accuracy: 0.8519\n",
      "Epoch 75: val_loss did not improve from 0.28947\n",
      "1125/1125 [==============================] - 1s 1ms/step - loss: 0.3646 - accuracy: 0.8516 - val_loss: 0.3103 - val_accuracy: 0.8849\n",
      "Epoch 76/100\n",
      "1122/1125 [============================>.] - ETA: 0s - loss: 0.3544 - accuracy: 0.8591\n",
      "Epoch 76: val_loss did not improve from 0.28947\n",
      "1125/1125 [==============================] - 1s 1ms/step - loss: 0.3542 - accuracy: 0.8591 - val_loss: 0.3195 - val_accuracy: 0.8904\n",
      "Epoch 77/100\n",
      "1118/1125 [============================>.] - ETA: 0s - loss: 0.3611 - accuracy: 0.8531\n",
      "Epoch 77: val_loss did not improve from 0.28947\n",
      "1125/1125 [==============================] - 1s 1ms/step - loss: 0.3612 - accuracy: 0.8532 - val_loss: 0.2933 - val_accuracy: 0.8957\n",
      "Epoch 78/100\n",
      "1084/1125 [===========================>..] - ETA: 0s - loss: 0.3528 - accuracy: 0.8594\n",
      "Epoch 78: val_loss did not improve from 0.28947\n",
      "1125/1125 [==============================] - 1s 1ms/step - loss: 0.3532 - accuracy: 0.8593 - val_loss: 0.3166 - val_accuracy: 0.8907\n",
      "Epoch 79/100\n",
      "1089/1125 [============================>.] - ETA: 0s - loss: 0.3573 - accuracy: 0.8578\n",
      "Epoch 79: val_loss did not improve from 0.28947\n",
      "1125/1125 [==============================] - 1s 1ms/step - loss: 0.3568 - accuracy: 0.8583 - val_loss: 0.3118 - val_accuracy: 0.8952\n",
      "Epoch 80/100\n",
      "1119/1125 [============================>.] - ETA: 0s - loss: 0.3574 - accuracy: 0.8586\n",
      "Epoch 80: val_loss did not improve from 0.28947\n",
      "1125/1125 [==============================] - 1s 1ms/step - loss: 0.3574 - accuracy: 0.8584 - val_loss: 0.2972 - val_accuracy: 0.8921\n",
      "Epoch 81/100\n",
      "1079/1125 [===========================>..] - ETA: 0s - loss: 0.3557 - accuracy: 0.8572\n",
      "Epoch 81: val_loss did not improve from 0.28947\n",
      "1125/1125 [==============================] - 1s 1ms/step - loss: 0.3560 - accuracy: 0.8571 - val_loss: 0.3072 - val_accuracy: 0.8954\n",
      "Epoch 82/100\n",
      "1084/1125 [===========================>..] - ETA: 0s - loss: 0.3515 - accuracy: 0.8592\n",
      "Epoch 82: val_loss did not improve from 0.28947\n",
      "1125/1125 [==============================] - 1s 1ms/step - loss: 0.3506 - accuracy: 0.8597 - val_loss: 0.3032 - val_accuracy: 0.8919\n",
      "Epoch 83/100\n",
      "1124/1125 [============================>.] - ETA: 0s - loss: 0.3576 - accuracy: 0.8576\n",
      "Epoch 83: val_loss did not improve from 0.28947\n",
      "1125/1125 [==============================] - 1s 1ms/step - loss: 0.3575 - accuracy: 0.8576 - val_loss: 0.3095 - val_accuracy: 0.8949\n",
      "Epoch 84/100\n",
      "1082/1125 [===========================>..] - ETA: 0s - loss: 0.3500 - accuracy: 0.8608\n",
      "Epoch 84: val_loss did not improve from 0.28947\n",
      "1125/1125 [==============================] - 1s 1ms/step - loss: 0.3512 - accuracy: 0.8605 - val_loss: 0.3123 - val_accuracy: 0.8998\n",
      "Epoch 85/100\n",
      "1087/1125 [===========================>..] - ETA: 0s - loss: 0.3566 - accuracy: 0.8590\n",
      "Epoch 85: val_loss did not improve from 0.28947\n",
      "1125/1125 [==============================] - 1s 1ms/step - loss: 0.3566 - accuracy: 0.8590 - val_loss: 0.2931 - val_accuracy: 0.8998\n",
      "Epoch 86/100\n",
      "1090/1125 [============================>.] - ETA: 0s - loss: 0.3587 - accuracy: 0.8584\n",
      "Epoch 86: val_loss did not improve from 0.28947\n",
      "1125/1125 [==============================] - 1s 1ms/step - loss: 0.3602 - accuracy: 0.8579 - val_loss: 0.3196 - val_accuracy: 0.8861\n",
      "Epoch 87/100\n",
      "1081/1125 [===========================>..] - ETA: 0s - loss: 0.3558 - accuracy: 0.8598\n",
      "Epoch 87: val_loss did not improve from 0.28947\n",
      "1125/1125 [==============================] - 1s 1ms/step - loss: 0.3551 - accuracy: 0.8599 - val_loss: 0.3104 - val_accuracy: 0.8968\n",
      "Epoch 88/100\n",
      "1083/1125 [===========================>..] - ETA: 0s - loss: 0.3549 - accuracy: 0.8577\n",
      "Epoch 88: val_loss did not improve from 0.28947\n",
      "1125/1125 [==============================] - 1s 1ms/step - loss: 0.3562 - accuracy: 0.8573 - val_loss: 0.3036 - val_accuracy: 0.8997\n",
      "Epoch 89/100\n",
      "1096/1125 [============================>.] - ETA: 0s - loss: 0.3569 - accuracy: 0.8600\n",
      "Epoch 89: val_loss did not improve from 0.28947\n",
      "1125/1125 [==============================] - 1s 1ms/step - loss: 0.3569 - accuracy: 0.8599 - val_loss: 0.2917 - val_accuracy: 0.8983\n",
      "Epoch 90/100\n",
      "1095/1125 [============================>.] - ETA: 0s - loss: 0.3521 - accuracy: 0.8604\n",
      "Epoch 90: val_loss did not improve from 0.28947\n",
      "1125/1125 [==============================] - 1s 1ms/step - loss: 0.3516 - accuracy: 0.8603 - val_loss: 0.2963 - val_accuracy: 0.8971\n",
      "Epoch 91/100\n",
      "1121/1125 [============================>.] - ETA: 0s - loss: 0.3537 - accuracy: 0.8592\n",
      "Epoch 91: val_loss improved from 0.28947 to 0.28200, saving model to saved_models/audio_classification.hdf5\n",
      "1125/1125 [==============================] - 1s 1ms/step - loss: 0.3535 - accuracy: 0.8592 - val_loss: 0.2820 - val_accuracy: 0.8992\n",
      "Epoch 92/100\n",
      "1093/1125 [============================>.] - ETA: 0s - loss: 0.3510 - accuracy: 0.8615\n",
      "Epoch 92: val_loss did not improve from 0.28200\n",
      "1125/1125 [==============================] - 1s 1ms/step - loss: 0.3508 - accuracy: 0.8615 - val_loss: 0.2884 - val_accuracy: 0.8981\n",
      "Epoch 93/100\n",
      "1082/1125 [===========================>..] - ETA: 0s - loss: 0.3502 - accuracy: 0.8612\n",
      "Epoch 93: val_loss did not improve from 0.28200\n",
      "1125/1125 [==============================] - 1s 1ms/step - loss: 0.3504 - accuracy: 0.8612 - val_loss: 0.3005 - val_accuracy: 0.9002\n",
      "Epoch 94/100\n",
      "1079/1125 [===========================>..] - ETA: 0s - loss: 0.3498 - accuracy: 0.8592\n",
      "Epoch 94: val_loss did not improve from 0.28200\n",
      "1125/1125 [==============================] - 1s 1ms/step - loss: 0.3500 - accuracy: 0.8589 - val_loss: 0.2859 - val_accuracy: 0.8993\n",
      "Epoch 95/100\n",
      "1083/1125 [===========================>..] - ETA: 0s - loss: 0.3499 - accuracy: 0.8610\n",
      "Epoch 95: val_loss did not improve from 0.28200\n",
      "1125/1125 [==============================] - 1s 1ms/step - loss: 0.3490 - accuracy: 0.8611 - val_loss: 0.2851 - val_accuracy: 0.9010\n",
      "Epoch 96/100\n",
      "1096/1125 [============================>.] - ETA: 0s - loss: 0.3527 - accuracy: 0.8602\n",
      "Epoch 96: val_loss did not improve from 0.28200\n",
      "1125/1125 [==============================] - 1s 1ms/step - loss: 0.3529 - accuracy: 0.8601 - val_loss: 0.3020 - val_accuracy: 0.9012\n",
      "Epoch 97/100\n",
      "1109/1125 [============================>.] - ETA: 0s - loss: 0.3543 - accuracy: 0.8589\n",
      "Epoch 97: val_loss did not improve from 0.28200\n",
      "1125/1125 [==============================] - 1s 1ms/step - loss: 0.3543 - accuracy: 0.8587 - val_loss: 0.2891 - val_accuracy: 0.9006\n",
      "Epoch 98/100\n",
      "1113/1125 [============================>.] - ETA: 0s - loss: 0.3580 - accuracy: 0.8580\n",
      "Epoch 98: val_loss did not improve from 0.28200\n",
      "1125/1125 [==============================] - 1s 1ms/step - loss: 0.3576 - accuracy: 0.8582 - val_loss: 0.2902 - val_accuracy: 0.8980\n",
      "Epoch 99/100\n",
      "1111/1125 [============================>.] - ETA: 0s - loss: 0.3492 - accuracy: 0.8573\n",
      "Epoch 99: val_loss did not improve from 0.28200\n",
      "1125/1125 [==============================] - 1s 1ms/step - loss: 0.3488 - accuracy: 0.8576 - val_loss: 0.3058 - val_accuracy: 0.8966\n",
      "Epoch 100/100\n",
      "1082/1125 [===========================>..] - ETA: 0s - loss: 0.3576 - accuracy: 0.8588\n",
      "Epoch 100: val_loss did not improve from 0.28200\n",
      "1125/1125 [==============================] - 1s 1ms/step - loss: 0.3581 - accuracy: 0.8587 - val_loss: 0.3056 - val_accuracy: 0.8978\n",
      "Training completed in time:  0:02:21.203551\n"
     ]
    }
   ],
   "source": [
    "## Training model\n",
    "from tensorflow.keras.callbacks import ModelCheckpoint\n",
    "from datetime import datetime\n",
    "\n",
    "num_epochs = 100\n",
    "num_batch_size = 32\n",
    "\n",
    "checkpointer = ModelCheckpoint(filepath='saved_models/audio_classification.hdf5',\n",
    "                               verbose=1, save_best_only=True)\n",
    "start = datetime.now()\n",
    "\n",
    "history = model.fit(X_train, y_train, batch_size=num_batch_size, epochs=num_epochs, validation_data=(X_test, y_test), callbacks=[checkpointer], verbose=1)\n",
    "\n",
    "\n",
    "duration = datetime.now() - start\n",
    "print(\"Training completed in time: \", duration)"
   ]
  },
  {
   "cell_type": "code",
   "execution_count": 18,
   "id": "f59e33c1-4aa7-43d0-a5c5-0e5b49e4987b",
   "metadata": {
    "tags": []
   },
   "outputs": [
    {
     "data": {
      "image/png": "[encoded data removed]",
      "text/plain": [
       "<PIL.Image.Image image mode=RGBA size=347x63 at 0x7F7A20752CB0>"
      ]
     },
     "execution_count": 18,
     "metadata": {},
     "output_type": "execute_result"
    }
   ],
   "source": [
    "visualkeras.layered_view(model,legend=True, draw_volume=True)"
   ]
  },
  {
   "cell_type": "code",
   "execution_count": 19,
   "id": "a6e09e02-3601-4b69-9810-ffece74b74af",
   "metadata": {
    "tags": []
   },
   "outputs": [
    {
     "data": {
      "image/png": "[encoded data removed]",
      "text/plain": [
       "<Figure size 432x288 with 1 Axes>"
      ]
     },
     "metadata": {
      "needs_background": "light"
     },
     "output_type": "display_data"
    }
   ],
   "source": [
    "import matplotlib.pyplot as plt\n",
    "plt.plot(history.history['accuracy'])\n",
    "plt.plot(history.history['val_accuracy'])\n",
    "plt.title('Model accuracy')\n",
    "plt.ylabel('Accuracy')\n",
    "plt.xlabel('Epoch')\n",
    "plt.legend(['Train', 'Test'], loc='upper left')\n",
    "plt.show()"
   ]
  },
  {
   "cell_type": "code",
   "execution_count": 20,
   "id": "48410f8a-e2f0-41d6-b964-33a4ea994b7c",
   "metadata": {
    "tags": []
   },
   "outputs": [
    {
     "data": {
      "image/png": "[encoded data removed]",
      "text/plain": [
       "<Figure size 432x288 with 1 Axes>"
      ]
     },
     "metadata": {
      "needs_background": "light"
     },
     "output_type": "display_data"
    }
   ],
   "source": [
    "plt.plot(history.history['loss']) \n",
    "plt.plot(history.history['val_loss']) \n",
    "plt.title('Model loss') \n",
    "plt.ylabel('Loss') \n",
    "plt.xlabel('Epoch') \n",
    "plt.legend(['Train', 'Test'], loc='upper left') \n",
    "plt.show()"
   ]
  },
  {
   "cell_type": "code",
   "execution_count": 21,
   "id": "56665242",
   "metadata": {
    "collapsed": false,
    "jupyter": {
     "outputs_hidden": false
    },
    "tags": []
   },
   "outputs": [
    {
     "name": "stdout",
     "output_type": "stream",
     "text": [
      "0.897777795791626\n"
     ]
    }
   ],
   "source": [
    "test_accuracy=model.evaluate(X_test,y_test,verbose=0)\n",
    "print(test_accuracy[1])"
   ]
  },
  {
   "cell_type": "code",
   "execution_count": 22,
   "id": "035f1bfd-315b-4fd5-9fb8-4c1870301712",
   "metadata": {
    "tags": []
   },
   "outputs": [
    {
     "name": "stdout",
     "output_type": "stream",
     "text": [
      "282/282 [==============================] - 0s 601us/step\n"
     ]
    }
   ],
   "source": [
    "y_pred = model.predict(X_test)\n",
    "y_pred=np.argmax(y_pred, axis=1)\n",
    "y_test=np.argmax(y_test, axis=1)"
   ]
  },
  {
   "cell_type": "code",
   "execution_count": 23,
   "id": "3ed8192f-4e4b-41f6-bf5f-17d35cee95f5",
   "metadata": {
    "tags": []
   },
   "outputs": [
    {
     "name": "stdout",
     "output_type": "stream",
     "text": [
      "              precision    recall  f1-score   support\n",
      "\n",
      "      German       0.91      0.99      0.95      3006\n",
      "    Japanese       0.94      0.83      0.88      3006\n",
      "    Romanian       0.85      0.87      0.86      2988\n",
      "\n",
      "    accuracy                           0.90      9000\n",
      "   macro avg       0.90      0.90      0.90      9000\n",
      "weighted avg       0.90      0.90      0.90      9000\n",
      "\n"
     ]
    }
   ],
   "source": [
    "from sklearn.metrics import classification_report\n",
    "target_names = sorted(df.language.unique())\n",
    "print(classification_report(y_test, y_pred, target_names=target_names))"
   ]
  },
  {
   "cell_type": "code",
   "execution_count": 43,
   "id": "cd333bce-efa1-4227-9f8e-2317f3f66942",
   "metadata": {
    "tags": []
   },
   "outputs": [
    {
     "data": {
      "image/png": "[encoded data removed]",
      "text/plain": [
       "<Figure size 648x648 with 2 Axes>"
      ]
     },
     "metadata": {
      "needs_background": "light"
     },
     "output_type": "display_data"
    }
   ],
   "source": [
    "from sklearn.metrics import classification_report, confusion_matrix\n",
    "import seaborn as sns\n",
    "\n",
    "# Plotting the results:\n",
    "plt.figure(figsize=(9,9))\n",
    "sns.heatmap(metrics.confusion_matrix(y_test, y_pred), annot=True, fmt=\"d\", linewidths=.5, square = True, cmap = 'Blues_r', xticklabels=target_names, yticklabels=target_names);\n",
    "plt.ylabel('Actual label');\n",
    "plt.xlabel('Predicted label');\n",
    "all_sample_title = 'Accuracy Score: {0}'.format(test_accuracy[1])\n",
    "plt.title(all_sample_title, size = 15);"
   ]
  }
 ],
 "metadata": {
  "kernelspec": {
   "display_name": "Python 3 (ipykernel)",
   "language": "python",
   "name": "python3"
  },
  "language_info": {
   "codemirror_mode": {
    "name": "ipython",
    "version": 3
   },
   "file_extension": ".py",
   "mimetype": "text/x-python",
   "name": "python",
   "nbconvert_exporter": "python",
   "pygments_lexer": "ipython3",
   "version": "3.10.6"
  }
 },
 "nbformat": 4,
 "nbformat_minor": 5
}
