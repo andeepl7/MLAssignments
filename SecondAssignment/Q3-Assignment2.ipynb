{
 "cells": [
  {
   "cell_type": "markdown",
   "source": [
    "#### Question 3"
   ],
   "metadata": {
    "collapsed": false
   }
  },
  {
   "cell_type": "code",
   "execution_count": 17,
   "outputs": [],
   "source": [
    "import pandas as pd\n",
    "import numpy as np\n",
    "from sklearn.model_selection import train_test_split, cross_val_score\n",
    "from sklearn.linear_model import LinearRegression\n",
    "from sklearn.ensemble import RandomForestClassifier\n",
    "from sklearn.svm import SVC\n",
    "from sklearn.metrics import confusion_matrix, precision_score, recall_score, f1_score, accuracy_score\n",
    "import matplotlib.pyplot as plt\n",
    "import seaborn as sns"
   ],
   "metadata": {
    "collapsed": false
   }
  },
  {
   "cell_type": "code",
   "execution_count": 18,
   "outputs": [
    {
     "data": {
      "text/plain": "     Unnamed: 0  Addthis  Bebo  Blogcatalog  Blogger  Buddymedia  Cnet  \\\n0  dmp923122274        0     0            2        0           0     3   \n1  dmp458034174        0     3            0        0           0     0   \n2  dmp364043571        0     2            0        0           0     0   \n3  dmp461339655        0     0            0        0           0     0   \n4  dmp549691332        0     0            0        0           0     5   \n\n   Conduit  Customerlobby  Delicious  ...  Vimeo Vocus  Wetpaint  Wordpress  \\\n0        6              0          0  ...      0     0         0          4   \n1        1              0          0  ...      0     0         0         12   \n2        0              0          2  ...      0     0         0         11   \n3        0              0          0  ...      0     0         0          6   \n4        7              0          0  ...      0     0         1          0   \n\n   Xanga  Yelp  Yfrog  Youtube  Yuku  Click  \n0      0     0      1        0     1      0  \n1      0     2      2       12     0      0  \n2      0     0      0        0     0      0  \n3      0     0      0       22     0      0  \n4      0     0      1        0     0      0  \n\n[5 rows x 83 columns]",
      "text/html": "<div>\n<style scoped>\n    .dataframe tbody tr th:only-of-type {\n        vertical-align: middle;\n    }\n\n    .dataframe tbody tr th {\n        vertical-align: top;\n    }\n\n    .dataframe thead th {\n        text-align: right;\n    }\n</style>\n<table border=\"1\" class=\"dataframe\">\n  <thead>\n    <tr style=\"text-align: right;\">\n      <th></th>\n      <th>Unnamed: 0</th>\n      <th>Addthis</th>\n      <th>Bebo</th>\n      <th>Blogcatalog</th>\n      <th>Blogger</th>\n      <th>Buddymedia</th>\n      <th>Cnet</th>\n      <th>Conduit</th>\n      <th>Customerlobby</th>\n      <th>Delicious</th>\n      <th>...</th>\n      <th>Vimeo</th>\n      <th>Vocus</th>\n      <th>Wetpaint</th>\n      <th>Wordpress</th>\n      <th>Xanga</th>\n      <th>Yelp</th>\n      <th>Yfrog</th>\n      <th>Youtube</th>\n      <th>Yuku</th>\n      <th>Click</th>\n    </tr>\n  </thead>\n  <tbody>\n    <tr>\n      <th>0</th>\n      <td>dmp923122274</td>\n      <td>0</td>\n      <td>0</td>\n      <td>2</td>\n      <td>0</td>\n      <td>0</td>\n      <td>3</td>\n      <td>6</td>\n      <td>0</td>\n      <td>0</td>\n      <td>...</td>\n      <td>0</td>\n      <td>0</td>\n      <td>0</td>\n      <td>4</td>\n      <td>0</td>\n      <td>0</td>\n      <td>1</td>\n      <td>0</td>\n      <td>1</td>\n      <td>0</td>\n    </tr>\n    <tr>\n      <th>1</th>\n      <td>dmp458034174</td>\n      <td>0</td>\n      <td>3</td>\n      <td>0</td>\n      <td>0</td>\n      <td>0</td>\n      <td>0</td>\n      <td>1</td>\n      <td>0</td>\n      <td>0</td>\n      <td>...</td>\n      <td>0</td>\n      <td>0</td>\n      <td>0</td>\n      <td>12</td>\n      <td>0</td>\n      <td>2</td>\n      <td>2</td>\n      <td>12</td>\n      <td>0</td>\n      <td>0</td>\n    </tr>\n    <tr>\n      <th>2</th>\n      <td>dmp364043571</td>\n      <td>0</td>\n      <td>2</td>\n      <td>0</td>\n      <td>0</td>\n      <td>0</td>\n      <td>0</td>\n      <td>0</td>\n      <td>0</td>\n      <td>2</td>\n      <td>...</td>\n      <td>0</td>\n      <td>0</td>\n      <td>0</td>\n      <td>11</td>\n      <td>0</td>\n      <td>0</td>\n      <td>0</td>\n      <td>0</td>\n      <td>0</td>\n      <td>0</td>\n    </tr>\n    <tr>\n      <th>3</th>\n      <td>dmp461339655</td>\n      <td>0</td>\n      <td>0</td>\n      <td>0</td>\n      <td>0</td>\n      <td>0</td>\n      <td>0</td>\n      <td>0</td>\n      <td>0</td>\n      <td>0</td>\n      <td>...</td>\n      <td>0</td>\n      <td>0</td>\n      <td>0</td>\n      <td>6</td>\n      <td>0</td>\n      <td>0</td>\n      <td>0</td>\n      <td>22</td>\n      <td>0</td>\n      <td>0</td>\n    </tr>\n    <tr>\n      <th>4</th>\n      <td>dmp549691332</td>\n      <td>0</td>\n      <td>0</td>\n      <td>0</td>\n      <td>0</td>\n      <td>0</td>\n      <td>5</td>\n      <td>7</td>\n      <td>0</td>\n      <td>0</td>\n      <td>...</td>\n      <td>0</td>\n      <td>0</td>\n      <td>1</td>\n      <td>0</td>\n      <td>0</td>\n      <td>0</td>\n      <td>1</td>\n      <td>0</td>\n      <td>0</td>\n      <td>0</td>\n    </tr>\n  </tbody>\n</table>\n<p>5 rows × 83 columns</p>\n</div>"
     },
     "execution_count": 18,
     "metadata": {},
     "output_type": "execute_result"
    }
   ],
   "source": [
    "#Importing the database\n",
    "ABC_limited = pd.read_csv(\"data.csv\")\n",
    "ABC_limited.head(5)"
   ],
   "metadata": {
    "collapsed": false
   }
  },
  {
   "cell_type": "code",
   "execution_count": 19,
   "outputs": [
    {
     "data": {
      "text/plain": "           Addthis         Bebo   Blogcatalog       Blogger  Buddymedia  \\\ncount  10000.00000  10000.00000  10000.000000  10000.000000     10000.0   \nmean       0.42250      0.78130      0.568100      2.823700         0.0   \nstd        1.01405      1.48899      1.197709      5.571438         0.0   \nmin        0.00000      0.00000      0.000000      0.000000         0.0   \n25%        0.00000      0.00000      0.000000      0.000000         0.0   \n50%        0.00000      0.00000      0.000000      0.000000         0.0   \n75%        0.00000      1.00000      0.000000      0.000000         0.0   \nmax        6.00000      8.00000      7.000000     28.000000         0.0   \n\n               Cnet       Conduit  Customerlobby     Delicious          Digg  \\\ncount  10000.000000  10000.000000   10000.000000  10000.000000  10000.000000   \nmean       1.950400      2.142100       0.000200      0.393100      1.012700   \nstd        2.937619      3.293993       0.014141      0.811319      2.266021   \nmin        0.000000      0.000000       0.000000      0.000000      0.000000   \n25%        0.000000      0.000000       0.000000      0.000000      0.000000   \n50%        0.000000      0.000000       0.000000      0.000000      0.000000   \n75%        4.000000      4.000000       0.000000      0.000000      0.000000   \nmax       15.000000     16.000000       1.000000      4.000000     13.000000   \n\n       ...        Vimeo         Vocus      Wetpaint     Wordpress  \\\ncount  ...  10000.00000  10000.000000  10000.000000  10000.000000   \nmean   ...      0.41190      0.040200      0.293600      2.176900   \nstd    ...      1.00436      0.196438      0.612402      3.691879   \nmin    ...      0.00000      0.000000      0.000000      0.000000   \n25%    ...      0.00000      0.000000      0.000000      0.000000   \n50%    ...      0.00000      0.000000      0.000000      0.000000   \n75%    ...      0.00000      0.000000      0.000000      4.000000   \nmax    ...      7.00000      1.000000      3.000000     19.000000   \n\n              Xanga          Yelp         Yfrog       Youtube          Yuku  \\\ncount  10000.000000  10000.000000  10000.000000  10000.000000  10000.000000   \nmean       0.459500      0.602200      0.380800      6.040600      0.206600   \nstd        0.982169      1.194696      0.755413      7.892679      0.588856   \nmin        0.000000      0.000000      0.000000      0.000000      0.000000   \n25%        0.000000      0.000000      0.000000      0.000000      0.000000   \n50%        0.000000      0.000000      0.000000      0.000000      0.000000   \n75%        0.000000      0.000000      0.000000     12.000000      0.000000   \nmax        5.000000      7.000000      4.000000     36.000000      4.000000   \n\n              Click  \ncount  10000.000000  \nmean       0.123400  \nstd        0.328912  \nmin        0.000000  \n25%        0.000000  \n50%        0.000000  \n75%        0.000000  \nmax        1.000000  \n\n[8 rows x 81 columns]",
      "text/html": "<div>\n<style scoped>\n    .dataframe tbody tr th:only-of-type {\n        vertical-align: middle;\n    }\n\n    .dataframe tbody tr th {\n        vertical-align: top;\n    }\n\n    .dataframe thead th {\n        text-align: right;\n    }\n</style>\n<table border=\"1\" class=\"dataframe\">\n  <thead>\n    <tr style=\"text-align: right;\">\n      <th></th>\n      <th>Addthis</th>\n      <th>Bebo</th>\n      <th>Blogcatalog</th>\n      <th>Blogger</th>\n      <th>Buddymedia</th>\n      <th>Cnet</th>\n      <th>Conduit</th>\n      <th>Customerlobby</th>\n      <th>Delicious</th>\n      <th>Digg</th>\n      <th>...</th>\n      <th>Vimeo</th>\n      <th>Vocus</th>\n      <th>Wetpaint</th>\n      <th>Wordpress</th>\n      <th>Xanga</th>\n      <th>Yelp</th>\n      <th>Yfrog</th>\n      <th>Youtube</th>\n      <th>Yuku</th>\n      <th>Click</th>\n    </tr>\n  </thead>\n  <tbody>\n    <tr>\n      <th>count</th>\n      <td>10000.00000</td>\n      <td>10000.00000</td>\n      <td>10000.000000</td>\n      <td>10000.000000</td>\n      <td>10000.0</td>\n      <td>10000.000000</td>\n      <td>10000.000000</td>\n      <td>10000.000000</td>\n      <td>10000.000000</td>\n      <td>10000.000000</td>\n      <td>...</td>\n      <td>10000.00000</td>\n      <td>10000.000000</td>\n      <td>10000.000000</td>\n      <td>10000.000000</td>\n      <td>10000.000000</td>\n      <td>10000.000000</td>\n      <td>10000.000000</td>\n      <td>10000.000000</td>\n      <td>10000.000000</td>\n      <td>10000.000000</td>\n    </tr>\n    <tr>\n      <th>mean</th>\n      <td>0.42250</td>\n      <td>0.78130</td>\n      <td>0.568100</td>\n      <td>2.823700</td>\n      <td>0.0</td>\n      <td>1.950400</td>\n      <td>2.142100</td>\n      <td>0.000200</td>\n      <td>0.393100</td>\n      <td>1.012700</td>\n      <td>...</td>\n      <td>0.41190</td>\n      <td>0.040200</td>\n      <td>0.293600</td>\n      <td>2.176900</td>\n      <td>0.459500</td>\n      <td>0.602200</td>\n      <td>0.380800</td>\n      <td>6.040600</td>\n      <td>0.206600</td>\n      <td>0.123400</td>\n    </tr>\n    <tr>\n      <th>std</th>\n      <td>1.01405</td>\n      <td>1.48899</td>\n      <td>1.197709</td>\n      <td>5.571438</td>\n      <td>0.0</td>\n      <td>2.937619</td>\n      <td>3.293993</td>\n      <td>0.014141</td>\n      <td>0.811319</td>\n      <td>2.266021</td>\n      <td>...</td>\n      <td>1.00436</td>\n      <td>0.196438</td>\n      <td>0.612402</td>\n      <td>3.691879</td>\n      <td>0.982169</td>\n      <td>1.194696</td>\n      <td>0.755413</td>\n      <td>7.892679</td>\n      <td>0.588856</td>\n      <td>0.328912</td>\n    </tr>\n    <tr>\n      <th>min</th>\n      <td>0.00000</td>\n      <td>0.00000</td>\n      <td>0.000000</td>\n      <td>0.000000</td>\n      <td>0.0</td>\n      <td>0.000000</td>\n      <td>0.000000</td>\n      <td>0.000000</td>\n      <td>0.000000</td>\n      <td>0.000000</td>\n      <td>...</td>\n      <td>0.00000</td>\n      <td>0.000000</td>\n      <td>0.000000</td>\n      <td>0.000000</td>\n      <td>0.000000</td>\n      <td>0.000000</td>\n      <td>0.000000</td>\n      <td>0.000000</td>\n      <td>0.000000</td>\n      <td>0.000000</td>\n    </tr>\n    <tr>\n      <th>25%</th>\n      <td>0.00000</td>\n      <td>0.00000</td>\n      <td>0.000000</td>\n      <td>0.000000</td>\n      <td>0.0</td>\n      <td>0.000000</td>\n      <td>0.000000</td>\n      <td>0.000000</td>\n      <td>0.000000</td>\n      <td>0.000000</td>\n      <td>...</td>\n      <td>0.00000</td>\n      <td>0.000000</td>\n      <td>0.000000</td>\n      <td>0.000000</td>\n      <td>0.000000</td>\n      <td>0.000000</td>\n      <td>0.000000</td>\n      <td>0.000000</td>\n      <td>0.000000</td>\n      <td>0.000000</td>\n    </tr>\n    <tr>\n      <th>50%</th>\n      <td>0.00000</td>\n      <td>0.00000</td>\n      <td>0.000000</td>\n      <td>0.000000</td>\n      <td>0.0</td>\n      <td>0.000000</td>\n      <td>0.000000</td>\n      <td>0.000000</td>\n      <td>0.000000</td>\n      <td>0.000000</td>\n      <td>...</td>\n      <td>0.00000</td>\n      <td>0.000000</td>\n      <td>0.000000</td>\n      <td>0.000000</td>\n      <td>0.000000</td>\n      <td>0.000000</td>\n      <td>0.000000</td>\n      <td>0.000000</td>\n      <td>0.000000</td>\n      <td>0.000000</td>\n    </tr>\n    <tr>\n      <th>75%</th>\n      <td>0.00000</td>\n      <td>1.00000</td>\n      <td>0.000000</td>\n      <td>0.000000</td>\n      <td>0.0</td>\n      <td>4.000000</td>\n      <td>4.000000</td>\n      <td>0.000000</td>\n      <td>0.000000</td>\n      <td>0.000000</td>\n      <td>...</td>\n      <td>0.00000</td>\n      <td>0.000000</td>\n      <td>0.000000</td>\n      <td>4.000000</td>\n      <td>0.000000</td>\n      <td>0.000000</td>\n      <td>0.000000</td>\n      <td>12.000000</td>\n      <td>0.000000</td>\n      <td>0.000000</td>\n    </tr>\n    <tr>\n      <th>max</th>\n      <td>6.00000</td>\n      <td>8.00000</td>\n      <td>7.000000</td>\n      <td>28.000000</td>\n      <td>0.0</td>\n      <td>15.000000</td>\n      <td>16.000000</td>\n      <td>1.000000</td>\n      <td>4.000000</td>\n      <td>13.000000</td>\n      <td>...</td>\n      <td>7.00000</td>\n      <td>1.000000</td>\n      <td>3.000000</td>\n      <td>19.000000</td>\n      <td>5.000000</td>\n      <td>7.000000</td>\n      <td>4.000000</td>\n      <td>36.000000</td>\n      <td>4.000000</td>\n      <td>1.000000</td>\n    </tr>\n  </tbody>\n</table>\n<p>8 rows × 81 columns</p>\n</div>"
     },
     "execution_count": 19,
     "metadata": {},
     "output_type": "execute_result"
    }
   ],
   "source": [
    "#Exploring the data. According to this, there aren't outliers.\n",
    "ABC_limited.describe()"
   ],
   "metadata": {
    "collapsed": false
   }
  },
  {
   "cell_type": "code",
   "execution_count": 20,
   "outputs": [
    {
     "data": {
      "text/plain": "Unnamed: 0     0\nAddthis        0\nBebo           0\nBlogcatalog    0\nBlogger        0\n              ..\nYelp           0\nYfrog          0\nYoutube        0\nYuku           0\nClick          0\nLength: 83, dtype: int64"
     },
     "execution_count": 20,
     "metadata": {},
     "output_type": "execute_result"
    }
   ],
   "source": [
    "#Looking for null values\n",
    "ABC_limited.isnull().sum()"
   ],
   "metadata": {
    "collapsed": false
   }
  },
  {
   "cell_type": "code",
   "execution_count": 21,
   "outputs": [
    {
     "data": {
      "text/plain": "   Unnamed: 0  Addthis  Bebo  Blogcatalog  Blogger  Buddymedia  Cnet  Conduit  \\\n0       False     True  True         True     True        True  True     True   \n1       False     True  True         True     True        True  True     True   \n2       False     True  True         True     True        True  True     True   \n3       False     True  True         True     True        True  True     True   \n4       False     True  True         True     True        True  True     True   \n5       False     True  True         True     True        True  True     True   \n6       False     True  True         True     True        True  True     True   \n7       False     True  True         True     True        True  True     True   \n8       False     True  True         True     True        True  True     True   \n9       False     True  True         True     True        True  True     True   \n\n   Customerlobby  Delicious  ...  Vimeo  Vocus  Wetpaint  Wordpress  Xanga  \\\n0           True       True  ...   True   True      True       True   True   \n1           True       True  ...   True   True      True       True   True   \n2           True       True  ...   True   True      True       True   True   \n3           True       True  ...   True   True      True       True   True   \n4           True       True  ...   True   True      True       True   True   \n5           True       True  ...   True   True      True       True   True   \n6           True       True  ...   True   True      True       True   True   \n7           True       True  ...   True   True      True       True   True   \n8           True       True  ...   True   True      True       True   True   \n9           True       True  ...   True   True      True       True   True   \n\n   Yelp  Yfrog  Youtube  Yuku  Click  \n0  True   True     True  True   True  \n1  True   True     True  True   True  \n2  True   True     True  True   True  \n3  True   True     True  True   True  \n4  True   True     True  True   True  \n5  True   True     True  True   True  \n6  True   True     True  True   True  \n7  True   True     True  True   True  \n8  True   True     True  True   True  \n9  True   True     True  True   True  \n\n[10 rows x 83 columns]",
      "text/html": "<div>\n<style scoped>\n    .dataframe tbody tr th:only-of-type {\n        vertical-align: middle;\n    }\n\n    .dataframe tbody tr th {\n        vertical-align: top;\n    }\n\n    .dataframe thead th {\n        text-align: right;\n    }\n</style>\n<table border=\"1\" class=\"dataframe\">\n  <thead>\n    <tr style=\"text-align: right;\">\n      <th></th>\n      <th>Unnamed: 0</th>\n      <th>Addthis</th>\n      <th>Bebo</th>\n      <th>Blogcatalog</th>\n      <th>Blogger</th>\n      <th>Buddymedia</th>\n      <th>Cnet</th>\n      <th>Conduit</th>\n      <th>Customerlobby</th>\n      <th>Delicious</th>\n      <th>...</th>\n      <th>Vimeo</th>\n      <th>Vocus</th>\n      <th>Wetpaint</th>\n      <th>Wordpress</th>\n      <th>Xanga</th>\n      <th>Yelp</th>\n      <th>Yfrog</th>\n      <th>Youtube</th>\n      <th>Yuku</th>\n      <th>Click</th>\n    </tr>\n  </thead>\n  <tbody>\n    <tr>\n      <th>0</th>\n      <td>False</td>\n      <td>True</td>\n      <td>True</td>\n      <td>True</td>\n      <td>True</td>\n      <td>True</td>\n      <td>True</td>\n      <td>True</td>\n      <td>True</td>\n      <td>True</td>\n      <td>...</td>\n      <td>True</td>\n      <td>True</td>\n      <td>True</td>\n      <td>True</td>\n      <td>True</td>\n      <td>True</td>\n      <td>True</td>\n      <td>True</td>\n      <td>True</td>\n      <td>True</td>\n    </tr>\n    <tr>\n      <th>1</th>\n      <td>False</td>\n      <td>True</td>\n      <td>True</td>\n      <td>True</td>\n      <td>True</td>\n      <td>True</td>\n      <td>True</td>\n      <td>True</td>\n      <td>True</td>\n      <td>True</td>\n      <td>...</td>\n      <td>True</td>\n      <td>True</td>\n      <td>True</td>\n      <td>True</td>\n      <td>True</td>\n      <td>True</td>\n      <td>True</td>\n      <td>True</td>\n      <td>True</td>\n      <td>True</td>\n    </tr>\n    <tr>\n      <th>2</th>\n      <td>False</td>\n      <td>True</td>\n      <td>True</td>\n      <td>True</td>\n      <td>True</td>\n      <td>True</td>\n      <td>True</td>\n      <td>True</td>\n      <td>True</td>\n      <td>True</td>\n      <td>...</td>\n      <td>True</td>\n      <td>True</td>\n      <td>True</td>\n      <td>True</td>\n      <td>True</td>\n      <td>True</td>\n      <td>True</td>\n      <td>True</td>\n      <td>True</td>\n      <td>True</td>\n    </tr>\n    <tr>\n      <th>3</th>\n      <td>False</td>\n      <td>True</td>\n      <td>True</td>\n      <td>True</td>\n      <td>True</td>\n      <td>True</td>\n      <td>True</td>\n      <td>True</td>\n      <td>True</td>\n      <td>True</td>\n      <td>...</td>\n      <td>True</td>\n      <td>True</td>\n      <td>True</td>\n      <td>True</td>\n      <td>True</td>\n      <td>True</td>\n      <td>True</td>\n      <td>True</td>\n      <td>True</td>\n      <td>True</td>\n    </tr>\n    <tr>\n      <th>4</th>\n      <td>False</td>\n      <td>True</td>\n      <td>True</td>\n      <td>True</td>\n      <td>True</td>\n      <td>True</td>\n      <td>True</td>\n      <td>True</td>\n      <td>True</td>\n      <td>True</td>\n      <td>...</td>\n      <td>True</td>\n      <td>True</td>\n      <td>True</td>\n      <td>True</td>\n      <td>True</td>\n      <td>True</td>\n      <td>True</td>\n      <td>True</td>\n      <td>True</td>\n      <td>True</td>\n    </tr>\n    <tr>\n      <th>5</th>\n      <td>False</td>\n      <td>True</td>\n      <td>True</td>\n      <td>True</td>\n      <td>True</td>\n      <td>True</td>\n      <td>True</td>\n      <td>True</td>\n      <td>True</td>\n      <td>True</td>\n      <td>...</td>\n      <td>True</td>\n      <td>True</td>\n      <td>True</td>\n      <td>True</td>\n      <td>True</td>\n      <td>True</td>\n      <td>True</td>\n      <td>True</td>\n      <td>True</td>\n      <td>True</td>\n    </tr>\n    <tr>\n      <th>6</th>\n      <td>False</td>\n      <td>True</td>\n      <td>True</td>\n      <td>True</td>\n      <td>True</td>\n      <td>True</td>\n      <td>True</td>\n      <td>True</td>\n      <td>True</td>\n      <td>True</td>\n      <td>...</td>\n      <td>True</td>\n      <td>True</td>\n      <td>True</td>\n      <td>True</td>\n      <td>True</td>\n      <td>True</td>\n      <td>True</td>\n      <td>True</td>\n      <td>True</td>\n      <td>True</td>\n    </tr>\n    <tr>\n      <th>7</th>\n      <td>False</td>\n      <td>True</td>\n      <td>True</td>\n      <td>True</td>\n      <td>True</td>\n      <td>True</td>\n      <td>True</td>\n      <td>True</td>\n      <td>True</td>\n      <td>True</td>\n      <td>...</td>\n      <td>True</td>\n      <td>True</td>\n      <td>True</td>\n      <td>True</td>\n      <td>True</td>\n      <td>True</td>\n      <td>True</td>\n      <td>True</td>\n      <td>True</td>\n      <td>True</td>\n    </tr>\n    <tr>\n      <th>8</th>\n      <td>False</td>\n      <td>True</td>\n      <td>True</td>\n      <td>True</td>\n      <td>True</td>\n      <td>True</td>\n      <td>True</td>\n      <td>True</td>\n      <td>True</td>\n      <td>True</td>\n      <td>...</td>\n      <td>True</td>\n      <td>True</td>\n      <td>True</td>\n      <td>True</td>\n      <td>True</td>\n      <td>True</td>\n      <td>True</td>\n      <td>True</td>\n      <td>True</td>\n      <td>True</td>\n    </tr>\n    <tr>\n      <th>9</th>\n      <td>False</td>\n      <td>True</td>\n      <td>True</td>\n      <td>True</td>\n      <td>True</td>\n      <td>True</td>\n      <td>True</td>\n      <td>True</td>\n      <td>True</td>\n      <td>True</td>\n      <td>...</td>\n      <td>True</td>\n      <td>True</td>\n      <td>True</td>\n      <td>True</td>\n      <td>True</td>\n      <td>True</td>\n      <td>True</td>\n      <td>True</td>\n      <td>True</td>\n      <td>True</td>\n    </tr>\n  </tbody>\n</table>\n<p>10 rows × 83 columns</p>\n</div>"
     },
     "execution_count": 21,
     "metadata": {},
     "output_type": "execute_result"
    }
   ],
   "source": [
    "#Exploring if another value is different to numbers in the Data. Diggo column has strings\n",
    "result = ABC_limited.applymap(np.isreal)\n",
    "result.head(10)"
   ],
   "metadata": {
    "collapsed": false
   }
  },
  {
   "cell_type": "code",
   "execution_count": 22,
   "outputs": [
    {
     "data": {
      "text/plain": "Unnamed: 0     object\nAddthis         int64\nBebo            int64\nBlogcatalog     int64\nBlogger         int64\n                ...  \nYelp            int64\nYfrog           int64\nYoutube         int64\nYuku            int64\nClick           int64\nLength: 83, dtype: object"
     },
     "execution_count": 22,
     "metadata": {},
     "output_type": "execute_result"
    }
   ],
   "source": [
    "#Checking the datatypes\n",
    "ABC_limited.dtypes"
   ],
   "metadata": {
    "collapsed": false
   }
  },
  {
   "cell_type": "code",
   "execution_count": 23,
   "outputs": [],
   "source": [
    "#Handling errors in the Dataset\n",
    "ABC_limited[\"Diigo\"]= ABC_limited[\"Diigo\"].str.replace(\"Error: value not found\", \"\")\n",
    "ABC_limited = ABC_limited.mask(ABC_limited == '')\n",
    "ABC_limited[\"Diigo\"]= ABC_limited[\"Diigo\"].fillna(0)\n",
    "ABC_limited[\"Diigo\"]= ABC_limited[\"Diigo\"].astype(int)"
   ],
   "metadata": {
    "collapsed": false
   }
  },
  {
   "cell_type": "code",
   "execution_count": 24,
   "outputs": [
    {
     "data": {
      "text/plain": "     Unnamed: 0  Addthis  Bebo  Blogcatalog  Blogger  Buddymedia  Cnet  \\\n0  dmp923122274        0     0            2        0           0     3   \n1  dmp458034174        0     3            0        0           0     0   \n2  dmp364043571        0     2            0        0           0     0   \n3  dmp461339655        0     0            0        0           0     0   \n4  dmp549691332        0     0            0        0           0     5   \n\n   Conduit  Customerlobby  Delicious  ...  Vimeo  Vocus  Wetpaint  Wordpress  \\\n0        6              0          0  ...      0      0         0          4   \n1        1              0          0  ...      0      0         0         12   \n2        0              0          2  ...      0      0         0         11   \n3        0              0          0  ...      0      0         0          6   \n4        7              0          0  ...      0      0         1          0   \n\n   Xanga  Yelp  Yfrog  Youtube  Yuku  Click  \n0      0     0      1        0     1      0  \n1      0     2      2       12     0      0  \n2      0     0      0        0     0      0  \n3      0     0      0       22     0      0  \n4      0     0      1        0     0      0  \n\n[5 rows x 83 columns]",
      "text/html": "<div>\n<style scoped>\n    .dataframe tbody tr th:only-of-type {\n        vertical-align: middle;\n    }\n\n    .dataframe tbody tr th {\n        vertical-align: top;\n    }\n\n    .dataframe thead th {\n        text-align: right;\n    }\n</style>\n<table border=\"1\" class=\"dataframe\">\n  <thead>\n    <tr style=\"text-align: right;\">\n      <th></th>\n      <th>Unnamed: 0</th>\n      <th>Addthis</th>\n      <th>Bebo</th>\n      <th>Blogcatalog</th>\n      <th>Blogger</th>\n      <th>Buddymedia</th>\n      <th>Cnet</th>\n      <th>Conduit</th>\n      <th>Customerlobby</th>\n      <th>Delicious</th>\n      <th>...</th>\n      <th>Vimeo</th>\n      <th>Vocus</th>\n      <th>Wetpaint</th>\n      <th>Wordpress</th>\n      <th>Xanga</th>\n      <th>Yelp</th>\n      <th>Yfrog</th>\n      <th>Youtube</th>\n      <th>Yuku</th>\n      <th>Click</th>\n    </tr>\n  </thead>\n  <tbody>\n    <tr>\n      <th>0</th>\n      <td>dmp923122274</td>\n      <td>0</td>\n      <td>0</td>\n      <td>2</td>\n      <td>0</td>\n      <td>0</td>\n      <td>3</td>\n      <td>6</td>\n      <td>0</td>\n      <td>0</td>\n      <td>...</td>\n      <td>0</td>\n      <td>0</td>\n      <td>0</td>\n      <td>4</td>\n      <td>0</td>\n      <td>0</td>\n      <td>1</td>\n      <td>0</td>\n      <td>1</td>\n      <td>0</td>\n    </tr>\n    <tr>\n      <th>1</th>\n      <td>dmp458034174</td>\n      <td>0</td>\n      <td>3</td>\n      <td>0</td>\n      <td>0</td>\n      <td>0</td>\n      <td>0</td>\n      <td>1</td>\n      <td>0</td>\n      <td>0</td>\n      <td>...</td>\n      <td>0</td>\n      <td>0</td>\n      <td>0</td>\n      <td>12</td>\n      <td>0</td>\n      <td>2</td>\n      <td>2</td>\n      <td>12</td>\n      <td>0</td>\n      <td>0</td>\n    </tr>\n    <tr>\n      <th>2</th>\n      <td>dmp364043571</td>\n      <td>0</td>\n      <td>2</td>\n      <td>0</td>\n      <td>0</td>\n      <td>0</td>\n      <td>0</td>\n      <td>0</td>\n      <td>0</td>\n      <td>2</td>\n      <td>...</td>\n      <td>0</td>\n      <td>0</td>\n      <td>0</td>\n      <td>11</td>\n      <td>0</td>\n      <td>0</td>\n      <td>0</td>\n      <td>0</td>\n      <td>0</td>\n      <td>0</td>\n    </tr>\n    <tr>\n      <th>3</th>\n      <td>dmp461339655</td>\n      <td>0</td>\n      <td>0</td>\n      <td>0</td>\n      <td>0</td>\n      <td>0</td>\n      <td>0</td>\n      <td>0</td>\n      <td>0</td>\n      <td>0</td>\n      <td>...</td>\n      <td>0</td>\n      <td>0</td>\n      <td>0</td>\n      <td>6</td>\n      <td>0</td>\n      <td>0</td>\n      <td>0</td>\n      <td>22</td>\n      <td>0</td>\n      <td>0</td>\n    </tr>\n    <tr>\n      <th>4</th>\n      <td>dmp549691332</td>\n      <td>0</td>\n      <td>0</td>\n      <td>0</td>\n      <td>0</td>\n      <td>0</td>\n      <td>5</td>\n      <td>7</td>\n      <td>0</td>\n      <td>0</td>\n      <td>...</td>\n      <td>0</td>\n      <td>0</td>\n      <td>1</td>\n      <td>0</td>\n      <td>0</td>\n      <td>0</td>\n      <td>1</td>\n      <td>0</td>\n      <td>0</td>\n      <td>0</td>\n    </tr>\n  </tbody>\n</table>\n<p>5 rows × 83 columns</p>\n</div>"
     },
     "execution_count": 24,
     "metadata": {},
     "output_type": "execute_result"
    }
   ],
   "source": [
    "#Checking point. Now the Diigo Values are numbers.\n",
    "ABC_limited.head()"
   ],
   "metadata": {
    "collapsed": false
   }
  },
  {
   "cell_type": "code",
   "execution_count": 25,
   "outputs": [
    {
     "data": {
      "text/plain": "[Text(0, 0, '8766'), Text(0, 0, '1234')]"
     },
     "execution_count": 25,
     "metadata": {},
     "output_type": "execute_result"
    },
    {
     "data": {
      "text/plain": "<Figure size 640x480 with 1 Axes>",
      "image/png": "[encoded data removed]"
     },
     "metadata": {},
     "output_type": "display_data"
    }
   ],
   "source": [
    "#Insights of the data.\n",
    "#Of 10,000 users only 1234 of them click the ads.\n",
    "ax = sns.countplot(x ='Click', data = ABC_limited)\n",
    "abs_values = ABC_limited['Click'].value_counts(ascending=False).values\n",
    "ax.bar_label(container=ax.containers[0], labels=abs_values)"
   ],
   "metadata": {
    "collapsed": false
   }
  },
  {
   "cell_type": "code",
   "execution_count": 26,
   "outputs": [],
   "source": [
    "#Selecting the columns for features X and target Y\n",
    "Y = ABC_limited['Click']\n",
    "X = ABC_limited.iloc[:, 1:82]"
   ],
   "metadata": {
    "collapsed": false
   }
  },
  {
   "cell_type": "code",
   "execution_count": 27,
   "outputs": [],
   "source": [
    "#Creating a Train set (80%) and Test set (20%)\n",
    "X_train, X_test , Y_train, Y_test = train_test_split(X,Y, test_size=0.20, random_state=42)"
   ],
   "metadata": {
    "collapsed": false
   }
  },
  {
   "cell_type": "code",
   "execution_count": 28,
   "outputs": [
    {
     "name": "stdout",
     "output_type": "stream",
     "text": [
      "\n",
      "Random Forest Model Performance:\n",
      "Confusion Matrix:\n",
      "[[1761    0]\n",
      " [ 234    5]]\n",
      "Precision: 1.0\n",
      "Recall: 0.02092050209205021\n",
      "F1 Score: 0.040983606557377046\n",
      "Accuracy: 0.883\n"
     ]
    }
   ],
   "source": [
    "#Random Forest Model\n",
    "rf_model = RandomForestClassifier()\n",
    "rf_model.fit(X_train, Y_train)\n",
    "y_pred_rf = rf_model.predict(X_test)\n",
    "print(\"\\nRandom Forest Model Performance:\")\n",
    "print(\"Confusion Matrix:\")\n",
    "print(confusion_matrix(Y_test, y_pred_rf))\n",
    "print(\"Precision:\", precision_score(Y_test, y_pred_rf))\n",
    "print(\"Recall:\", recall_score(Y_test, y_pred_rf))\n",
    "print(\"F1 Score:\", f1_score(Y_test, y_pred_rf))\n",
    "print(\"Accuracy:\", accuracy_score(Y_test, y_pred_rf))"
   ],
   "metadata": {
    "collapsed": false
   }
  },
  {
   "cell_type": "code",
   "execution_count": 29,
   "outputs": [
    {
     "name": "stdout",
     "output_type": "stream",
     "text": [
      "\n",
      "SVM Model Performance:\n",
      "Confusion Matrix:\n",
      "[[1733   28]\n",
      " [  36  203]]\n",
      "Precision: 0.9675965534371413\n",
      "Recall: 0.8493723849372385\n",
      "F1 Score: 0.8638297872340427\n",
      "Accuracy: 0.968\n"
     ]
    }
   ],
   "source": [
    "#SVM model classification\n",
    "svm_model = SVC(kernel='linear')\n",
    "svm_model.fit(X_train, Y_train)\n",
    "y_pred_svm = svm_model.predict(X_test)\n",
    "print(\"\\nSVM Model Performance:\")\n",
    "print(\"Confusion Matrix:\")\n",
    "print(confusion_matrix(Y_test, y_pred_svm))\n",
    "print(\"Precision:\", precision_score(Y_test, y_pred_svm, average='weighted',zero_division=0))\n",
    "print(\"Recall:\", recall_score(Y_test, y_pred_svm))\n",
    "print(\"F1 Score:\", f1_score(Y_test, y_pred_svm))\n",
    "print(\"Accuracy:\", accuracy_score(Y_test, y_pred_svm))"
   ],
   "metadata": {
    "collapsed": false
   }
  },
  {
   "cell_type": "code",
   "execution_count": 30,
   "outputs": [
    {
     "name": "stdout",
     "output_type": "stream",
     "text": [
      "\n",
      "Random Forest Model Cross-Validation Scores: [0.8785 0.879  0.879  0.8775 0.8795]\n",
      "Mean Cross-Validation Score: 0.8786999999999999\n",
      "\n",
      "Support Vector Machine Model Cross-Validation Scores: [0.9745 0.9715 0.973  0.975  0.9685]\n",
      "Mean Cross-Validation Score: 0.9724999999999999\n"
     ]
    }
   ],
   "source": [
    "# Cross-validation\n",
    "\n",
    "#Scores for Random Forest model\n",
    "rf_cv_scores = cross_val_score(rf_model, X, Y, cv=5)\n",
    "print(\"\\nRandom Forest Model Cross-Validation Scores:\", rf_cv_scores)\n",
    "print(\"Mean Cross-Validation Score:\", rf_cv_scores.mean())\n",
    "\n",
    "sv_cv_scores = cross_val_score(svm_model, X, Y, cv=5)\n",
    "print(\"\\nSupport Vector Machine Model Cross-Validation Scores:\", sv_cv_scores)\n",
    "print(\"Mean Cross-Validation Score:\", sv_cv_scores.mean())"
   ],
   "metadata": {
    "collapsed": false
   }
  },
  {
   "cell_type": "code",
   "execution_count": 54,
   "outputs": [],
   "source": [
    "def plot_top_predictors(X, y, n=5):\n",
    "\n",
    "    # Fit linear regression model\n",
    "    model = LinearRegression().fit(X, y)\n",
    "\n",
    "    # Get coefficients and feature names\n",
    "    coef = model.coef_\n",
    "    feature_names = X.columns.tolist()\n",
    "\n",
    "    # Sort features by coefficient size\n",
    "    coef, feature_names = zip(*sorted(zip(coef, feature_names), key=lambda x: abs(x[0]), reverse=True))\n",
    "\n",
    "    # Get top n features and coefficients\n",
    "    top_features = feature_names[:n]\n",
    "    top_coef = coef[:n]\n",
    "\n",
    "    # Plot bar chart of top n features and coefficients\n",
    "    fig, ax = plt.subplots(figsize=(7, 4))\n",
    "    ax.bar(top_features, top_coef)\n",
    "    ax.set_title(f'Top {n} Predictors')\n",
    "    ax.set_xlabel('Channels')\n",
    "    ax.set_ylabel('Coefficient')\n",
    "    plt.show()"
   ],
   "metadata": {
    "collapsed": false
   }
  },
  {
   "cell_type": "code",
   "execution_count": 55,
   "outputs": [
    {
     "data": {
      "text/plain": "<Figure size 700x400 with 1 Axes>",
      "image/png": "[encoded data removed]"
     },
     "metadata": {},
     "output_type": "display_data"
    }
   ],
   "source": [
    "plot_top_predictors(X,Y, n=5)"
   ],
   "metadata": {
    "collapsed": false
   }
  }
 ],
 "metadata": {
  "kernelspec": {
   "display_name": "Python 3",
   "language": "python",
   "name": "python3"
  },
  "language_info": {
   "codemirror_mode": {
    "name": "ipython",
    "version": 2
   },
   "file_extension": ".py",
   "mimetype": "text/x-python",
   "name": "python",
   "nbconvert_exporter": "python",
   "pygments_lexer": "ipython2",
   "version": "2.7.6"
  }
 },
 "nbformat": 4,
 "nbformat_minor": 0
}
